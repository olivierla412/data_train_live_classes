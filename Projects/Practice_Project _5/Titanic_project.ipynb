{
 "cells": [
  {
   "cell_type": "markdown",
   "id": "36aa0355-1700-4435-b81a-d4bc5233ceb5",
   "metadata": {},
   "source": [
    "![](photo.jpg)"
   ]
  },
  {
   "cell_type": "markdown",
   "id": "669a96bd-32cb-4e8e-8166-cd403acf80b7",
   "metadata": {},
   "source": [
    "## From the above problem statement we have to buld a model to predict whether an arbirary passenger on the Titanic survive or not.\n",
    "## So we can say that we have classification problem since we have two classes survive (Yes ) and not survive (No) and it is Binary classifaction"
   ]
  },
  {
   "cell_type": "code",
   "execution_count": 86,
   "id": "faed2ffa-2efe-4c08-b56d-417b2fbf12c5",
   "metadata": {},
   "outputs": [],
   "source": [
    "## importing the libraries\n",
    "import numpy as np\n",
    "import pandas as pd\n",
    "import matplotlib.pyplot as plt\n",
    "%matplotlib inline\n",
    "import warnings\n",
    "import seaborn as sns\n",
    "from sklearn.metrics import accuracy_score\n",
    "from sklearn.metrics import classification_report,confusion_matrix\n",
    "from sklearn.model_selection import train_test_split\n",
    "from scipy.stats import zscore\n",
    "warnings.filterwarnings('ignore')"
   ]
  },
  {
   "cell_type": "code",
   "execution_count": 87,
   "id": "20c8bee7-716d-4732-b17c-b63df1a52e9f",
   "metadata": {},
   "outputs": [],
   "source": [
    "### importing the dataset\n",
    "\n",
    "link = 'https://raw.githubusercontent.com/dsrscientist/dataset1/master/titanic_train.csv'"
   ]
  },
  {
   "cell_type": "code",
   "execution_count": 88,
   "id": "746affa1-cabd-4879-be97-be61cd25c61e",
   "metadata": {},
   "outputs": [],
   "source": [
    "data = pd.read_csv(link)"
   ]
  },
  {
   "cell_type": "code",
   "execution_count": 89,
   "id": "81a571b6-056e-4e7b-bd02-03f186e306ad",
   "metadata": {},
   "outputs": [
    {
     "data": {
      "text/html": [
       "<div>\n",
       "<style scoped>\n",
       "    .dataframe tbody tr th:only-of-type {\n",
       "        vertical-align: middle;\n",
       "    }\n",
       "\n",
       "    .dataframe tbody tr th {\n",
       "        vertical-align: top;\n",
       "    }\n",
       "\n",
       "    .dataframe thead th {\n",
       "        text-align: right;\n",
       "    }\n",
       "</style>\n",
       "<table border=\"1\" class=\"dataframe\">\n",
       "  <thead>\n",
       "    <tr style=\"text-align: right;\">\n",
       "      <th></th>\n",
       "      <th>PassengerId</th>\n",
       "      <th>Survived</th>\n",
       "      <th>Pclass</th>\n",
       "      <th>Name</th>\n",
       "      <th>Sex</th>\n",
       "      <th>Age</th>\n",
       "      <th>SibSp</th>\n",
       "      <th>Parch</th>\n",
       "      <th>Ticket</th>\n",
       "      <th>Fare</th>\n",
       "      <th>Cabin</th>\n",
       "      <th>Embarked</th>\n",
       "    </tr>\n",
       "  </thead>\n",
       "  <tbody>\n",
       "    <tr>\n",
       "      <th>0</th>\n",
       "      <td>1</td>\n",
       "      <td>0</td>\n",
       "      <td>3</td>\n",
       "      <td>Braund, Mr. Owen Harris</td>\n",
       "      <td>male</td>\n",
       "      <td>22.0</td>\n",
       "      <td>1</td>\n",
       "      <td>0</td>\n",
       "      <td>A/5 21171</td>\n",
       "      <td>7.2500</td>\n",
       "      <td>NaN</td>\n",
       "      <td>S</td>\n",
       "    </tr>\n",
       "    <tr>\n",
       "      <th>1</th>\n",
       "      <td>2</td>\n",
       "      <td>1</td>\n",
       "      <td>1</td>\n",
       "      <td>Cumings, Mrs. John Bradley (Florence Briggs Th...</td>\n",
       "      <td>female</td>\n",
       "      <td>38.0</td>\n",
       "      <td>1</td>\n",
       "      <td>0</td>\n",
       "      <td>PC 17599</td>\n",
       "      <td>71.2833</td>\n",
       "      <td>C85</td>\n",
       "      <td>C</td>\n",
       "    </tr>\n",
       "    <tr>\n",
       "      <th>2</th>\n",
       "      <td>3</td>\n",
       "      <td>1</td>\n",
       "      <td>3</td>\n",
       "      <td>Heikkinen, Miss. Laina</td>\n",
       "      <td>female</td>\n",
       "      <td>26.0</td>\n",
       "      <td>0</td>\n",
       "      <td>0</td>\n",
       "      <td>STON/O2. 3101282</td>\n",
       "      <td>7.9250</td>\n",
       "      <td>NaN</td>\n",
       "      <td>S</td>\n",
       "    </tr>\n",
       "    <tr>\n",
       "      <th>3</th>\n",
       "      <td>4</td>\n",
       "      <td>1</td>\n",
       "      <td>1</td>\n",
       "      <td>Futrelle, Mrs. Jacques Heath (Lily May Peel)</td>\n",
       "      <td>female</td>\n",
       "      <td>35.0</td>\n",
       "      <td>1</td>\n",
       "      <td>0</td>\n",
       "      <td>113803</td>\n",
       "      <td>53.1000</td>\n",
       "      <td>C123</td>\n",
       "      <td>S</td>\n",
       "    </tr>\n",
       "    <tr>\n",
       "      <th>4</th>\n",
       "      <td>5</td>\n",
       "      <td>0</td>\n",
       "      <td>3</td>\n",
       "      <td>Allen, Mr. William Henry</td>\n",
       "      <td>male</td>\n",
       "      <td>35.0</td>\n",
       "      <td>0</td>\n",
       "      <td>0</td>\n",
       "      <td>373450</td>\n",
       "      <td>8.0500</td>\n",
       "      <td>NaN</td>\n",
       "      <td>S</td>\n",
       "    </tr>\n",
       "  </tbody>\n",
       "</table>\n",
       "</div>"
      ],
      "text/plain": [
       "   PassengerId  Survived  Pclass  \\\n",
       "0            1         0       3   \n",
       "1            2         1       1   \n",
       "2            3         1       3   \n",
       "3            4         1       1   \n",
       "4            5         0       3   \n",
       "\n",
       "                                                Name     Sex   Age  SibSp  \\\n",
       "0                            Braund, Mr. Owen Harris    male  22.0      1   \n",
       "1  Cumings, Mrs. John Bradley (Florence Briggs Th...  female  38.0      1   \n",
       "2                             Heikkinen, Miss. Laina  female  26.0      0   \n",
       "3       Futrelle, Mrs. Jacques Heath (Lily May Peel)  female  35.0      1   \n",
       "4                           Allen, Mr. William Henry    male  35.0      0   \n",
       "\n",
       "   Parch            Ticket     Fare Cabin Embarked  \n",
       "0      0         A/5 21171   7.2500   NaN        S  \n",
       "1      0          PC 17599  71.2833   C85        C  \n",
       "2      0  STON/O2. 3101282   7.9250   NaN        S  \n",
       "3      0            113803  53.1000  C123        S  \n",
       "4      0            373450   8.0500   NaN        S  "
      ]
     },
     "execution_count": 89,
     "metadata": {},
     "output_type": "execute_result"
    }
   ],
   "source": [
    "## let's display the header of our dataset\n",
    "data.head()"
   ]
  },
  {
   "cell_type": "code",
   "execution_count": 90,
   "id": "aff68f31-b3ae-4623-ba20-3628a0d178f8",
   "metadata": {},
   "outputs": [
    {
     "data": {
      "text/plain": [
       "(891, 12)"
      ]
     },
     "execution_count": 90,
     "metadata": {},
     "output_type": "execute_result"
    }
   ],
   "source": [
    "data.shape"
   ]
  },
  {
   "cell_type": "markdown",
   "id": "0df93589-a955-40bb-add3-03b6e3862bf7",
   "metadata": {},
   "source": [
    "### from the above code we can see that our dataseet have shape 891 rows(records) and 12 columns(attributes)"
   ]
  },
  {
   "cell_type": "code",
   "execution_count": null,
   "id": "40a22c4e-6f88-4e6e-8b1e-7b8e1d569f59",
   "metadata": {},
   "outputs": [],
   "source": []
  },
  {
   "cell_type": "code",
   "execution_count": 91,
   "id": "f95e71b3-b86c-4173-8abb-c8475796fa38",
   "metadata": {},
   "outputs": [
    {
     "name": "stdout",
     "output_type": "stream",
     "text": [
      "<class 'pandas.core.frame.DataFrame'>\n",
      "RangeIndex: 891 entries, 0 to 890\n",
      "Data columns (total 12 columns):\n",
      " #   Column       Non-Null Count  Dtype  \n",
      "---  ------       --------------  -----  \n",
      " 0   PassengerId  891 non-null    int64  \n",
      " 1   Survived     891 non-null    int64  \n",
      " 2   Pclass       891 non-null    int64  \n",
      " 3   Name         891 non-null    object \n",
      " 4   Sex          891 non-null    object \n",
      " 5   Age          714 non-null    float64\n",
      " 6   SibSp        891 non-null    int64  \n",
      " 7   Parch        891 non-null    int64  \n",
      " 8   Ticket       891 non-null    object \n",
      " 9   Fare         891 non-null    float64\n",
      " 10  Cabin        204 non-null    object \n",
      " 11  Embarked     889 non-null    object \n",
      "dtypes: float64(2), int64(5), object(5)\n",
      "memory usage: 83.7+ KB\n"
     ]
    }
   ],
   "source": [
    "data.info()"
   ]
  },
  {
   "cell_type": "markdown",
   "id": "87007600-1465-4df4-ad65-d7d313821fc8",
   "metadata": {},
   "source": [
    "## From data.info() we got some import information about each column like \"Dtype\", \"Non-Null Count\" and the columns indexes too."
   ]
  },
  {
   "cell_type": "code",
   "execution_count": 92,
   "id": "36d197b0-e447-4c25-a920-27cac6cb0f98",
   "metadata": {},
   "outputs": [],
   "source": [
    "##  I am going to drop some columns: PassengerId, Name,Ticket\n",
    "\n",
    "data.drop(['PassengerId','Name','Ticket'],axis=1,inplace=True)\n"
   ]
  },
  {
   "cell_type": "markdown",
   "id": "8c11971c-b7c7-49d3-8f99-d619f52c2200",
   "metadata": {},
   "source": [
    "### I  dropped these columns: __PassengerId, Name,Ticket__ because they are nominal data and they cannot give any improvement to prediction."
   ]
  },
  {
   "cell_type": "code",
   "execution_count": 93,
   "id": "87f387e1-c74b-463f-a6a7-c00f3f710968",
   "metadata": {},
   "outputs": [],
   "source": [
    "## I am droping also the Cabin column\n",
    "data.drop('Cabin',axis=1,inplace=True)"
   ]
  },
  {
   "cell_type": "markdown",
   "id": "1c9a350d-806f-4b85-ae35-8a0d71a435e1",
   "metadata": {},
   "source": [
    "### I dropped also __Cabin__ column because more than 50% data are missing values since there is 204 non-null."
   ]
  },
  {
   "cell_type": "code",
   "execution_count": 94,
   "id": "f0b83269-a292-47e2-b004-f7c35a71d51e",
   "metadata": {},
   "outputs": [
    {
     "data": {
      "text/html": [
       "<div>\n",
       "<style scoped>\n",
       "    .dataframe tbody tr th:only-of-type {\n",
       "        vertical-align: middle;\n",
       "    }\n",
       "\n",
       "    .dataframe tbody tr th {\n",
       "        vertical-align: top;\n",
       "    }\n",
       "\n",
       "    .dataframe thead th {\n",
       "        text-align: right;\n",
       "    }\n",
       "</style>\n",
       "<table border=\"1\" class=\"dataframe\">\n",
       "  <thead>\n",
       "    <tr style=\"text-align: right;\">\n",
       "      <th></th>\n",
       "      <th>Survived</th>\n",
       "      <th>Pclass</th>\n",
       "      <th>Sex</th>\n",
       "      <th>Age</th>\n",
       "      <th>SibSp</th>\n",
       "      <th>Parch</th>\n",
       "      <th>Fare</th>\n",
       "      <th>Embarked</th>\n",
       "    </tr>\n",
       "  </thead>\n",
       "  <tbody>\n",
       "    <tr>\n",
       "      <th>0</th>\n",
       "      <td>0</td>\n",
       "      <td>3</td>\n",
       "      <td>male</td>\n",
       "      <td>22.0</td>\n",
       "      <td>1</td>\n",
       "      <td>0</td>\n",
       "      <td>7.2500</td>\n",
       "      <td>S</td>\n",
       "    </tr>\n",
       "    <tr>\n",
       "      <th>1</th>\n",
       "      <td>1</td>\n",
       "      <td>1</td>\n",
       "      <td>female</td>\n",
       "      <td>38.0</td>\n",
       "      <td>1</td>\n",
       "      <td>0</td>\n",
       "      <td>71.2833</td>\n",
       "      <td>C</td>\n",
       "    </tr>\n",
       "    <tr>\n",
       "      <th>2</th>\n",
       "      <td>1</td>\n",
       "      <td>3</td>\n",
       "      <td>female</td>\n",
       "      <td>26.0</td>\n",
       "      <td>0</td>\n",
       "      <td>0</td>\n",
       "      <td>7.9250</td>\n",
       "      <td>S</td>\n",
       "    </tr>\n",
       "    <tr>\n",
       "      <th>3</th>\n",
       "      <td>1</td>\n",
       "      <td>1</td>\n",
       "      <td>female</td>\n",
       "      <td>35.0</td>\n",
       "      <td>1</td>\n",
       "      <td>0</td>\n",
       "      <td>53.1000</td>\n",
       "      <td>S</td>\n",
       "    </tr>\n",
       "    <tr>\n",
       "      <th>4</th>\n",
       "      <td>0</td>\n",
       "      <td>3</td>\n",
       "      <td>male</td>\n",
       "      <td>35.0</td>\n",
       "      <td>0</td>\n",
       "      <td>0</td>\n",
       "      <td>8.0500</td>\n",
       "      <td>S</td>\n",
       "    </tr>\n",
       "    <tr>\n",
       "      <th>...</th>\n",
       "      <td>...</td>\n",
       "      <td>...</td>\n",
       "      <td>...</td>\n",
       "      <td>...</td>\n",
       "      <td>...</td>\n",
       "      <td>...</td>\n",
       "      <td>...</td>\n",
       "      <td>...</td>\n",
       "    </tr>\n",
       "    <tr>\n",
       "      <th>886</th>\n",
       "      <td>0</td>\n",
       "      <td>2</td>\n",
       "      <td>male</td>\n",
       "      <td>27.0</td>\n",
       "      <td>0</td>\n",
       "      <td>0</td>\n",
       "      <td>13.0000</td>\n",
       "      <td>S</td>\n",
       "    </tr>\n",
       "    <tr>\n",
       "      <th>887</th>\n",
       "      <td>1</td>\n",
       "      <td>1</td>\n",
       "      <td>female</td>\n",
       "      <td>19.0</td>\n",
       "      <td>0</td>\n",
       "      <td>0</td>\n",
       "      <td>30.0000</td>\n",
       "      <td>S</td>\n",
       "    </tr>\n",
       "    <tr>\n",
       "      <th>888</th>\n",
       "      <td>0</td>\n",
       "      <td>3</td>\n",
       "      <td>female</td>\n",
       "      <td>NaN</td>\n",
       "      <td>1</td>\n",
       "      <td>2</td>\n",
       "      <td>23.4500</td>\n",
       "      <td>S</td>\n",
       "    </tr>\n",
       "    <tr>\n",
       "      <th>889</th>\n",
       "      <td>1</td>\n",
       "      <td>1</td>\n",
       "      <td>male</td>\n",
       "      <td>26.0</td>\n",
       "      <td>0</td>\n",
       "      <td>0</td>\n",
       "      <td>30.0000</td>\n",
       "      <td>C</td>\n",
       "    </tr>\n",
       "    <tr>\n",
       "      <th>890</th>\n",
       "      <td>0</td>\n",
       "      <td>3</td>\n",
       "      <td>male</td>\n",
       "      <td>32.0</td>\n",
       "      <td>0</td>\n",
       "      <td>0</td>\n",
       "      <td>7.7500</td>\n",
       "      <td>Q</td>\n",
       "    </tr>\n",
       "  </tbody>\n",
       "</table>\n",
       "<p>891 rows × 8 columns</p>\n",
       "</div>"
      ],
      "text/plain": [
       "     Survived  Pclass     Sex   Age  SibSp  Parch     Fare Embarked\n",
       "0           0       3    male  22.0      1      0   7.2500        S\n",
       "1           1       1  female  38.0      1      0  71.2833        C\n",
       "2           1       3  female  26.0      0      0   7.9250        S\n",
       "3           1       1  female  35.0      1      0  53.1000        S\n",
       "4           0       3    male  35.0      0      0   8.0500        S\n",
       "..        ...     ...     ...   ...    ...    ...      ...      ...\n",
       "886         0       2    male  27.0      0      0  13.0000        S\n",
       "887         1       1  female  19.0      0      0  30.0000        S\n",
       "888         0       3  female   NaN      1      2  23.4500        S\n",
       "889         1       1    male  26.0      0      0  30.0000        C\n",
       "890         0       3    male  32.0      0      0   7.7500        Q\n",
       "\n",
       "[891 rows x 8 columns]"
      ]
     },
     "execution_count": 94,
     "metadata": {},
     "output_type": "execute_result"
    }
   ],
   "source": [
    "data"
   ]
  },
  {
   "cell_type": "code",
   "execution_count": 95,
   "id": "89c988b4-8a37-4aeb-b633-c515069b7e24",
   "metadata": {},
   "outputs": [
    {
     "data": {
      "text/plain": [
       "(891, 8)"
      ]
     },
     "execution_count": 95,
     "metadata": {},
     "output_type": "execute_result"
    }
   ],
   "source": [
    "data.shape"
   ]
  },
  {
   "cell_type": "markdown",
   "id": "c3dcdc63-314c-4ac5-bd9a-a22ce5d49776",
   "metadata": {},
   "source": [
    "### Now we have 891 rows and 8 clumns left whcih can help us to make a better prediction\n"
   ]
  },
  {
   "cell_type": "markdown",
   "id": "cabe5652-b313-4173-8605-402818f093c4",
   "metadata": {},
   "source": [
    "### ************************************************************"
   ]
  },
  {
   "cell_type": "code",
   "execution_count": 96,
   "id": "cf83b23d-6281-4d85-a51d-418426490471",
   "metadata": {},
   "outputs": [
    {
     "data": {
      "text/plain": [
       "Survived      0\n",
       "Pclass        0\n",
       "Sex           0\n",
       "Age         177\n",
       "SibSp         0\n",
       "Parch         0\n",
       "Fare          0\n",
       "Embarked      2\n",
       "dtype: int64"
      ]
     },
     "execution_count": 96,
     "metadata": {},
     "output_type": "execute_result"
    }
   ],
   "source": [
    "## let's check for NAN in the dataset\n",
    "\n",
    "data.isna().sum()"
   ]
  },
  {
   "cell_type": "markdown",
   "id": "79a7a550-a923-4597-9cc1-d386cbc0d4a4",
   "metadata": {},
   "source": [
    "### I can see that only the __Age__ column and __Embarked__  have missing values"
   ]
  },
  {
   "cell_type": "code",
   "execution_count": null,
   "id": "bf3e1f70-aebe-446d-a81f-6ff7864f3bae",
   "metadata": {},
   "outputs": [],
   "source": []
  },
  {
   "cell_type": "markdown",
   "id": "25dc5766-b571-406d-a7ec-1e35dad60855",
   "metadata": {},
   "source": [
    "## Let's fill the missing values in __Embarked__ cloumn."
   ]
  },
  {
   "cell_type": "code",
   "execution_count": 97,
   "id": "219fea80-b362-40f8-bebc-533f8413c0d6",
   "metadata": {},
   "outputs": [
    {
     "data": {
      "text/plain": [
       "S    644\n",
       "C    168\n",
       "Q     77\n",
       "Name: Embarked, dtype: int64"
      ]
     },
     "execution_count": 97,
     "metadata": {},
     "output_type": "execute_result"
    }
   ],
   "source": [
    "data['Embarked'].value_counts()"
   ]
  },
  {
   "cell_type": "code",
   "execution_count": 98,
   "id": "6a11ef37-def7-4793-b1f6-63b9d0734609",
   "metadata": {},
   "outputs": [],
   "source": [
    "## let's fill the missing values by the mode which is S in Embarked cloumn.\n",
    "\n",
    "data = data.fillna({'Embarked':'S'})"
   ]
  },
  {
   "cell_type": "code",
   "execution_count": 99,
   "id": "472069ae-abc9-4ac4-8184-e554bfc19840",
   "metadata": {},
   "outputs": [
    {
     "data": {
      "text/plain": [
       "[0]"
      ]
     },
     "execution_count": 99,
     "metadata": {},
     "output_type": "execute_result"
    }
   ],
   "source": [
    "## let's verify\n",
    "\n",
    "[data['Embarked'].isna().sum()]"
   ]
  },
  {
   "cell_type": "markdown",
   "id": "224fac09-2933-482b-8a21-645b654dfdeb",
   "metadata": {},
   "source": [
    "### I filt the NAN by __S__ because by data['Embarked'].value_counts() found the __mod__ of column is __S__"
   ]
  },
  {
   "cell_type": "code",
   "execution_count": null,
   "id": "f844facf-48eb-48e6-9a49-c51d8d0d5ebb",
   "metadata": {},
   "outputs": [],
   "source": []
  },
  {
   "cell_type": "markdown",
   "id": "0a87ee3d-ec82-4774-915d-b938a9476b21",
   "metadata": {},
   "source": [
    "## Now we I will do some encoder. \n",
    "\n",
    "## Encoder means: (convert text data into numbers)."
   ]
  },
  {
   "cell_type": "code",
   "execution_count": 100,
   "id": "43ca6826-c880-4999-a3b7-cca515ad1e03",
   "metadata": {},
   "outputs": [],
   "source": [
    "## let's import the libraries\n",
    "from sklearn.preprocessing import LabelEncoder"
   ]
  },
  {
   "cell_type": "code",
   "execution_count": 101,
   "id": "b626e067-b001-4870-a59d-a969e00815ee",
   "metadata": {},
   "outputs": [],
   "source": [
    "le = LabelEncoder()\n",
    "for i in data.columns:\n",
    "    if data[i].dtype =='object':\n",
    "        data[i] = le.fit_transform(data[i])"
   ]
  },
  {
   "cell_type": "code",
   "execution_count": 102,
   "id": "473c418f-eb02-4729-a3f0-048129653eb6",
   "metadata": {},
   "outputs": [
    {
     "data": {
      "text/html": [
       "<div>\n",
       "<style scoped>\n",
       "    .dataframe tbody tr th:only-of-type {\n",
       "        vertical-align: middle;\n",
       "    }\n",
       "\n",
       "    .dataframe tbody tr th {\n",
       "        vertical-align: top;\n",
       "    }\n",
       "\n",
       "    .dataframe thead th {\n",
       "        text-align: right;\n",
       "    }\n",
       "</style>\n",
       "<table border=\"1\" class=\"dataframe\">\n",
       "  <thead>\n",
       "    <tr style=\"text-align: right;\">\n",
       "      <th></th>\n",
       "      <th>Survived</th>\n",
       "      <th>Pclass</th>\n",
       "      <th>Sex</th>\n",
       "      <th>Age</th>\n",
       "      <th>SibSp</th>\n",
       "      <th>Parch</th>\n",
       "      <th>Fare</th>\n",
       "      <th>Embarked</th>\n",
       "    </tr>\n",
       "  </thead>\n",
       "  <tbody>\n",
       "    <tr>\n",
       "      <th>0</th>\n",
       "      <td>0</td>\n",
       "      <td>3</td>\n",
       "      <td>1</td>\n",
       "      <td>22.0</td>\n",
       "      <td>1</td>\n",
       "      <td>0</td>\n",
       "      <td>7.2500</td>\n",
       "      <td>2</td>\n",
       "    </tr>\n",
       "    <tr>\n",
       "      <th>1</th>\n",
       "      <td>1</td>\n",
       "      <td>1</td>\n",
       "      <td>0</td>\n",
       "      <td>38.0</td>\n",
       "      <td>1</td>\n",
       "      <td>0</td>\n",
       "      <td>71.2833</td>\n",
       "      <td>0</td>\n",
       "    </tr>\n",
       "    <tr>\n",
       "      <th>2</th>\n",
       "      <td>1</td>\n",
       "      <td>3</td>\n",
       "      <td>0</td>\n",
       "      <td>26.0</td>\n",
       "      <td>0</td>\n",
       "      <td>0</td>\n",
       "      <td>7.9250</td>\n",
       "      <td>2</td>\n",
       "    </tr>\n",
       "    <tr>\n",
       "      <th>3</th>\n",
       "      <td>1</td>\n",
       "      <td>1</td>\n",
       "      <td>0</td>\n",
       "      <td>35.0</td>\n",
       "      <td>1</td>\n",
       "      <td>0</td>\n",
       "      <td>53.1000</td>\n",
       "      <td>2</td>\n",
       "    </tr>\n",
       "    <tr>\n",
       "      <th>4</th>\n",
       "      <td>0</td>\n",
       "      <td>3</td>\n",
       "      <td>1</td>\n",
       "      <td>35.0</td>\n",
       "      <td>0</td>\n",
       "      <td>0</td>\n",
       "      <td>8.0500</td>\n",
       "      <td>2</td>\n",
       "    </tr>\n",
       "    <tr>\n",
       "      <th>...</th>\n",
       "      <td>...</td>\n",
       "      <td>...</td>\n",
       "      <td>...</td>\n",
       "      <td>...</td>\n",
       "      <td>...</td>\n",
       "      <td>...</td>\n",
       "      <td>...</td>\n",
       "      <td>...</td>\n",
       "    </tr>\n",
       "    <tr>\n",
       "      <th>886</th>\n",
       "      <td>0</td>\n",
       "      <td>2</td>\n",
       "      <td>1</td>\n",
       "      <td>27.0</td>\n",
       "      <td>0</td>\n",
       "      <td>0</td>\n",
       "      <td>13.0000</td>\n",
       "      <td>2</td>\n",
       "    </tr>\n",
       "    <tr>\n",
       "      <th>887</th>\n",
       "      <td>1</td>\n",
       "      <td>1</td>\n",
       "      <td>0</td>\n",
       "      <td>19.0</td>\n",
       "      <td>0</td>\n",
       "      <td>0</td>\n",
       "      <td>30.0000</td>\n",
       "      <td>2</td>\n",
       "    </tr>\n",
       "    <tr>\n",
       "      <th>888</th>\n",
       "      <td>0</td>\n",
       "      <td>3</td>\n",
       "      <td>0</td>\n",
       "      <td>NaN</td>\n",
       "      <td>1</td>\n",
       "      <td>2</td>\n",
       "      <td>23.4500</td>\n",
       "      <td>2</td>\n",
       "    </tr>\n",
       "    <tr>\n",
       "      <th>889</th>\n",
       "      <td>1</td>\n",
       "      <td>1</td>\n",
       "      <td>1</td>\n",
       "      <td>26.0</td>\n",
       "      <td>0</td>\n",
       "      <td>0</td>\n",
       "      <td>30.0000</td>\n",
       "      <td>0</td>\n",
       "    </tr>\n",
       "    <tr>\n",
       "      <th>890</th>\n",
       "      <td>0</td>\n",
       "      <td>3</td>\n",
       "      <td>1</td>\n",
       "      <td>32.0</td>\n",
       "      <td>0</td>\n",
       "      <td>0</td>\n",
       "      <td>7.7500</td>\n",
       "      <td>1</td>\n",
       "    </tr>\n",
       "  </tbody>\n",
       "</table>\n",
       "<p>891 rows × 8 columns</p>\n",
       "</div>"
      ],
      "text/plain": [
       "     Survived  Pclass  Sex   Age  SibSp  Parch     Fare  Embarked\n",
       "0           0       3    1  22.0      1      0   7.2500         2\n",
       "1           1       1    0  38.0      1      0  71.2833         0\n",
       "2           1       3    0  26.0      0      0   7.9250         2\n",
       "3           1       1    0  35.0      1      0  53.1000         2\n",
       "4           0       3    1  35.0      0      0   8.0500         2\n",
       "..        ...     ...  ...   ...    ...    ...      ...       ...\n",
       "886         0       2    1  27.0      0      0  13.0000         2\n",
       "887         1       1    0  19.0      0      0  30.0000         2\n",
       "888         0       3    0   NaN      1      2  23.4500         2\n",
       "889         1       1    1  26.0      0      0  30.0000         0\n",
       "890         0       3    1  32.0      0      0   7.7500         1\n",
       "\n",
       "[891 rows x 8 columns]"
      ]
     },
     "execution_count": 102,
     "metadata": {},
     "output_type": "execute_result"
    }
   ],
   "source": [
    "data"
   ]
  },
  {
   "cell_type": "markdown",
   "id": "0588c69a-b140-4629-af0d-996c3c31ea9b",
   "metadata": {},
   "source": [
    "### Now our dataset have numerical value now."
   ]
  },
  {
   "cell_type": "markdown",
   "id": "bcb61ec0-d5b3-4b05-b83e-689ffbdb02c7",
   "metadata": {},
   "source": [
    "#### *********************************************"
   ]
  },
  {
   "cell_type": "markdown",
   "id": "05610493-8df3-4d94-a714-8b89b5b8886e",
   "metadata": {},
   "source": [
    "## Let's fill the missing values in __Age__ cloumn."
   ]
  },
  {
   "cell_type": "code",
   "execution_count": 103,
   "id": "2e8756e4-a5db-46d1-a5df-e6d2b9a9df99",
   "metadata": {},
   "outputs": [],
   "source": [
    "## The age column has numerical values son will fill the NAN values unsing KNNImputer.\n",
    "# importing the libraries..\n",
    "from sklearn.impute import KNNImputer\n",
    "knn_ipm = KNNImputer(n_neighbors=5)"
   ]
  },
  {
   "cell_type": "code",
   "execution_count": 104,
   "id": "b7814164-2399-43d9-8f8e-b63a3cdd6cca",
   "metadata": {},
   "outputs": [],
   "source": [
    "df_1 = knn_ipm.fit_transform(data[['Fare','Age']])"
   ]
  },
  {
   "cell_type": "code",
   "execution_count": 105,
   "id": "7fb72641-c315-450a-9431-884f0671fa5b",
   "metadata": {},
   "outputs": [
    {
     "data": {
      "text/plain": [
       "array([22.   , 38.   , 26.   , 35.   , 35.   , 22.684, 54.   ,  2.   ,\n",
       "       27.   , 14.   ,  4.   , 58.   , 20.   , 39.   , 14.   , 55.   ,\n",
       "        2.   , 31.6  , 31.   , 32.5  , 35.   , 34.   , 15.   , 28.   ,\n",
       "        8.   , 38.   , 32.5  , 19.   , 29.2  , 24.4  , 40.   , 21.584,\n",
       "       26.1  , 66.   , 28.   , 42.   , 22.1  , 21.   , 18.   , 14.   ,\n",
       "       40.   , 27.   , 24.4  ,  3.   , 19.   , 24.6  , 25.8  , 26.1  ,\n",
       "        9.2  , 18.   ,  7.   , 21.   , 49.   , 29.   , 65.   , 49.6  ,\n",
       "       21.   , 28.5  ,  5.   , 11.   , 22.   , 38.   , 45.   ,  4.   ,\n",
       "       30.8  , 28.   , 29.   , 19.   , 17.   , 26.   , 32.   , 16.   ,\n",
       "       21.   , 26.   , 32.   , 25.   , 24.4  , 24.6  ,  0.83 , 30.   ,\n",
       "       22.   , 29.   , 23.2  , 28.   , 17.   , 33.   , 16.   , 24.6  ,\n",
       "       23.   , 24.   , 29.   , 20.   , 46.   , 26.   , 59.   , 24.6  ,\n",
       "       71.   , 23.   , 34.   , 34.   , 28.   , 24.4  , 21.   , 33.   ,\n",
       "       37.   , 28.   , 21.   , 20.4  , 38.   , 27.8  , 47.   , 14.5  ,\n",
       "       22.   , 20.   , 17.   , 21.   , 70.5  , 29.   , 24.   ,  2.   ,\n",
       "       21.   , 24.6  , 32.5  , 32.5  , 54.   , 12.   , 26.1  , 24.   ,\n",
       "       17.6  , 45.   , 33.   , 20.   , 47.   , 29.   , 25.   , 23.   ,\n",
       "       19.   , 37.   , 16.   , 24.   , 28.   , 22.   , 24.   , 19.   ,\n",
       "       18.   , 19.   , 27.   ,  9.   , 36.5  , 42.   , 51.   , 22.   ,\n",
       "       55.5  , 40.5  , 34.8  , 51.   , 16.   , 30.   , 26.   , 38.4  ,\n",
       "       44.   , 40.   , 26.   , 17.   ,  1.   ,  9.   , 33.6  , 45.   ,\n",
       "       44.   , 28.   , 61.   ,  4.   ,  1.   , 21.   , 56.   , 18.   ,\n",
       "       34.4  , 50.   , 30.   , 36.   , 38.4  , 29.6  ,  9.   ,  1.   ,\n",
       "        4.   , 40.2  , 25.8  , 45.   , 40.   , 36.   , 32.   , 19.   ,\n",
       "       19.   ,  3.   , 44.   , 58.   , 26.1  , 42.   , 26.1  , 24.   ,\n",
       "       28.   , 38.4  , 34.   , 45.5  , 18.   ,  2.   , 32.   , 26.   ,\n",
       "       16.   , 40.   , 24.   , 35.   , 22.   , 30.   , 26.1  , 31.   ,\n",
       "       27.   , 42.   , 32.   , 30.   , 16.   , 27.   , 51.   , 24.4  ,\n",
       "       38.   , 22.   , 19.   , 20.5  , 18.   , 34.4  , 35.   , 29.   ,\n",
       "       59.   ,  5.   , 24.   , 29.4  , 44.   ,  8.   , 19.   , 33.   ,\n",
       "       20.1  , 25.8  , 29.   , 22.   , 30.   , 44.   , 25.   , 24.   ,\n",
       "       37.   , 54.   , 33.9  , 29.   , 62.   , 30.   , 41.   , 29.   ,\n",
       "       38.4  , 30.   , 35.   , 50.   , 26.1  ,  3.   , 52.   , 40.   ,\n",
       "       26.1  , 36.   , 16.   , 25.   , 58.   , 35.   , 30.   , 25.   ,\n",
       "       41.   , 37.   , 26.1  , 63.   , 45.   , 36.4  ,  7.   , 35.   ,\n",
       "       65.   , 28.   , 16.   , 19.   , 29.1  , 33.   , 30.   , 22.   ,\n",
       "       42.   , 22.   , 26.   , 19.   , 36.   , 24.   , 24.   , 30.8  ,\n",
       "       23.5  ,  2.   , 44.4  , 50.   , 26.1  , 27.6  , 19.   , 30.4  ,\n",
       "       24.6  ,  0.92 , 28.   , 17.   , 30.   , 30.   , 24.   , 18.   ,\n",
       "       26.   , 28.   , 43.   , 26.   , 24.   , 54.   , 31.   , 40.   ,\n",
       "       22.   , 27.   , 30.   , 22.   , 38.4  , 36.   , 61.   , 36.   ,\n",
       "       31.   , 16.   , 27.6  , 45.5  , 38.   , 16.   , 37.8  , 24.4  ,\n",
       "       29.   , 41.   , 45.   , 45.   ,  2.   , 24.   , 28.   , 25.   ,\n",
       "       36.   , 24.   , 40.   , 29.   ,  3.   , 42.   , 23.   , 41.8  ,\n",
       "       15.   , 25.   , 32.5  , 28.   , 22.   , 38.   , 29.2  , 29.2  ,\n",
       "       40.   , 29.   , 45.   , 35.   , 25.8  , 30.   , 60.   , 22.1  ,\n",
       "       26.1  , 24.   , 25.   , 18.   , 19.   , 22.   ,  3.   , 30.2  ,\n",
       "       22.   , 27.   , 20.   , 19.   , 42.   ,  1.   , 32.   , 35.   ,\n",
       "       24.4  , 18.   ,  1.   , 36.   , 28.4  , 17.   , 36.   , 21.   ,\n",
       "       28.   , 23.   , 24.   , 22.   , 31.   , 46.   , 23.   , 28.   ,\n",
       "       39.   , 26.   , 21.   , 28.   , 20.   , 34.   , 51.   ,  3.   ,\n",
       "       21.   , 34.4  , 24.4  , 27.6  , 33.   , 36.4  , 44.   , 24.6  ,\n",
       "       34.   , 18.   , 30.   , 10.   , 24.4  , 21.   , 29.   , 28.   ,\n",
       "       18.   , 33.9  , 28.   , 19.   , 26.1  , 32.   , 28.   , 29.   ,\n",
       "       42.   , 17.   , 50.   , 14.   , 21.   , 24.   , 64.   , 31.   ,\n",
       "       45.   , 20.   , 25.   , 28.   , 24.   ,  4.   , 13.   , 34.   ,\n",
       "        5.   , 52.   , 36.   , 30.2  , 30.   , 49.   , 24.6  , 29.   ,\n",
       "       65.   , 45.2  , 50.   , 26.1  , 48.   , 34.   , 47.   , 48.   ,\n",
       "       24.6  , 38.   , 36.4  , 56.   , 39.5  ,  0.75 , 33.9  , 38.   ,\n",
       "       33.   , 23.   , 22.   , 40.6  , 34.   , 29.   , 22.   ,  2.   ,\n",
       "        9.   , 36.4  , 50.   , 63.   , 25.   , 34.4  , 35.   , 58.   ,\n",
       "       30.   ,  9.   , 30.2  , 21.   , 55.   , 71.   , 21.   , 20.6  ,\n",
       "       54.   , 29.6  , 25.   , 24.   , 17.   , 21.   , 26.   , 37.   ,\n",
       "       16.   , 18.   , 33.   , 55.2  , 28.   , 26.   , 29.   , 24.6  ,\n",
       "       36.   , 54.   , 24.   , 47.   , 34.   , 27.8  , 36.   , 32.   ,\n",
       "       30.   , 22.   , 32.5  , 44.   , 22.1  , 40.5  , 50.   , 33.6  ,\n",
       "       39.   , 23.   ,  2.   , 22.1  , 17.   , 17.6  , 30.   ,  7.   ,\n",
       "       45.   , 30.   , 26.234, 22.   , 36.   ,  9.   , 11.   , 32.   ,\n",
       "       50.   , 64.   , 19.   , 40.8  , 33.   ,  8.   , 17.   , 27.   ,\n",
       "       28.2  , 22.   , 22.   , 62.   , 48.   , 33.6  , 39.   , 36.   ,\n",
       "       26.1  , 40.   , 28.   , 24.6  , 24.6  , 24.   , 19.   , 29.   ,\n",
       "       22.1  , 32.   , 62.   , 53.   , 36.   , 26.1  , 16.   , 19.   ,\n",
       "       34.   , 39.   , 20.6  , 32.   , 25.   , 39.   , 54.   , 36.   ,\n",
       "       21.2  , 18.   , 47.   , 60.   , 22.   , 24.6  , 35.   , 52.   ,\n",
       "       47.   , 26.1  , 37.   , 36.   , 38.   , 49.   , 32.5  , 49.   ,\n",
       "       24.   , 24.4  , 25.4  , 44.   , 35.   , 36.   , 30.   , 27.   ,\n",
       "       22.   , 40.   , 39.   , 28.6  , 25.8  , 26.1  , 35.   , 24.   ,\n",
       "       34.   , 26.   ,  4.   , 26.   , 27.   , 42.   , 20.   , 21.   ,\n",
       "       21.   , 61.   , 57.   , 21.   , 26.   , 29.5  , 80.   , 51.   ,\n",
       "       32.   , 36.4  ,  9.   , 28.   , 32.   , 31.   , 41.   , 29.   ,\n",
       "       20.   , 24.   ,  2.   , 29.6  ,  0.75 , 48.   , 19.   , 56.   ,\n",
       "       29.4  , 23.   , 24.4  , 18.   , 21.   , 28.2  , 18.   , 24.   ,\n",
       "       24.4  , 32.   , 23.   , 58.   , 50.   , 40.   , 47.   , 36.   ,\n",
       "       20.   , 32.   , 25.   , 20.4  , 43.   , 40.6  , 40.   , 31.   ,\n",
       "       70.   , 31.   , 36.4  , 18.   , 24.5  , 18.   , 43.   , 36.   ,\n",
       "       44.1  , 27.   , 20.   , 14.   , 60.   , 25.   , 14.   , 19.   ,\n",
       "       18.   , 15.   , 31.   ,  4.   , 29.6  , 25.   , 60.   , 52.   ,\n",
       "       44.   , 29.5  , 49.   , 42.   , 18.   , 35.   , 18.   , 25.   ,\n",
       "       26.   , 39.   , 45.   , 42.   , 22.   , 28.   , 24.   , 55.2  ,\n",
       "       48.   , 29.   , 52.   , 19.   , 38.   , 27.   , 25.8  , 33.   ,\n",
       "        6.   , 17.   , 34.   , 50.   , 27.   , 20.   , 30.   , 27.8  ,\n",
       "       25.   , 25.   , 29.   , 11.   , 36.4  , 23.   , 23.   , 28.5  ,\n",
       "       48.   , 35.   , 24.4  , 24.4  , 35.8  , 36.   , 21.   , 24.   ,\n",
       "       31.   , 70.   , 16.   , 30.   , 19.   , 31.   ,  4.   ,  6.   ,\n",
       "       33.   , 23.   , 48.   ,  0.67 , 28.   , 18.   , 34.   , 33.   ,\n",
       "       26.234, 41.   , 20.   , 36.   , 16.   , 51.   , 14.8  , 30.5  ,\n",
       "       27.8  , 32.   , 24.   , 48.   , 57.   , 32.5  , 54.   , 18.   ,\n",
       "       26.1  ,  5.   , 27.8  , 43.   , 13.   , 17.   , 29.   , 28.   ,\n",
       "       25.   , 25.   , 18.   ,  8.   ,  1.   , 46.   , 26.1  , 16.   ,\n",
       "       38.4  , 44.4  , 25.   , 39.   , 49.   , 31.   , 30.   , 30.   ,\n",
       "       34.   , 31.   , 11.   ,  0.42 , 27.   , 31.   , 39.   , 18.   ,\n",
       "       39.   , 33.   , 26.   , 39.   , 35.   ,  6.   , 30.5  , 36.4  ,\n",
       "       23.   , 31.   , 43.   , 10.   , 52.   , 27.   , 38.   , 27.   ,\n",
       "        2.   , 34.8  , 29.6  ,  1.   , 26.1  , 62.   , 15.   ,  0.83 ,\n",
       "       22.1  , 23.   , 18.   , 39.   , 21.   , 24.6  , 32.   , 33.6  ,\n",
       "       20.   , 16.   , 30.   , 34.5  , 17.   , 42.   , 38.4  , 35.   ,\n",
       "       28.   , 39.8  ,  4.   , 74.   ,  9.   , 16.   , 44.   , 18.   ,\n",
       "       45.   , 51.   , 24.   , 22.1  , 41.   , 21.   , 48.   , 38.4  ,\n",
       "       24.   , 42.   , 27.   , 31.   , 26.2  ,  4.   , 26.   , 47.   ,\n",
       "       33.   , 47.   , 28.   , 15.   , 20.   , 19.   , 24.4  , 56.   ,\n",
       "       25.   , 33.   , 22.   , 28.   , 25.   , 39.   , 27.   , 19.   ,\n",
       "       28.   , 26.   , 32.   ])"
      ]
     },
     "execution_count": 105,
     "metadata": {},
     "output_type": "execute_result"
    }
   ],
   "source": [
    "df_1[:,1]"
   ]
  },
  {
   "cell_type": "code",
   "execution_count": 106,
   "id": "15618dca-0f39-4b6a-8177-f65474a8eccd",
   "metadata": {},
   "outputs": [],
   "source": [
    "## Now let's update the Age column with new values after inputing.\n",
    "\n",
    "data['Age'] = df_1[:,1]"
   ]
  },
  {
   "cell_type": "code",
   "execution_count": 107,
   "id": "62fb4f29-038c-4b3c-82f1-4e28492d4bc6",
   "metadata": {},
   "outputs": [
    {
     "data": {
      "text/plain": [
       "0"
      ]
     },
     "execution_count": 107,
     "metadata": {},
     "output_type": "execute_result"
    }
   ],
   "source": [
    "## Now let verify it.\n",
    "\n",
    "data.Age.isna().sum()"
   ]
  },
  {
   "cell_type": "markdown",
   "id": "93c12c6f-364b-42ac-88a2-b65501ed3dec",
   "metadata": {},
   "source": [
    "### Knn imputer will try to find the relation with other column and impute the data\n",
    "### according the relaton with other columns.\n",
    "###  In this __case Age NaN__ is depending on the similarity with __Faire__ columns"
   ]
  },
  {
   "cell_type": "markdown",
   "id": "9477ce43-c24b-4837-a084-564b8bd697c8",
   "metadata": {},
   "source": [
    "#### ************************************************************************"
   ]
  },
  {
   "cell_type": "code",
   "execution_count": 108,
   "id": "e8c9d69d-cd51-4c8a-a6f0-c1deaceaa079",
   "metadata": {},
   "outputs": [
    {
     "data": {
      "text/html": [
       "<div>\n",
       "<style scoped>\n",
       "    .dataframe tbody tr th:only-of-type {\n",
       "        vertical-align: middle;\n",
       "    }\n",
       "\n",
       "    .dataframe tbody tr th {\n",
       "        vertical-align: top;\n",
       "    }\n",
       "\n",
       "    .dataframe thead th {\n",
       "        text-align: right;\n",
       "    }\n",
       "</style>\n",
       "<table border=\"1\" class=\"dataframe\">\n",
       "  <thead>\n",
       "    <tr style=\"text-align: right;\">\n",
       "      <th></th>\n",
       "      <th>Survived</th>\n",
       "      <th>Pclass</th>\n",
       "      <th>Sex</th>\n",
       "      <th>Age</th>\n",
       "      <th>SibSp</th>\n",
       "      <th>Parch</th>\n",
       "      <th>Fare</th>\n",
       "      <th>Embarked</th>\n",
       "    </tr>\n",
       "  </thead>\n",
       "  <tbody>\n",
       "    <tr>\n",
       "      <th>count</th>\n",
       "      <td>891.000000</td>\n",
       "      <td>891.000000</td>\n",
       "      <td>891.000000</td>\n",
       "      <td>891.000000</td>\n",
       "      <td>891.000000</td>\n",
       "      <td>891.000000</td>\n",
       "      <td>891.000000</td>\n",
       "      <td>891.000000</td>\n",
       "    </tr>\n",
       "    <tr>\n",
       "      <th>mean</th>\n",
       "      <td>0.383838</td>\n",
       "      <td>2.308642</td>\n",
       "      <td>0.647587</td>\n",
       "      <td>29.638278</td>\n",
       "      <td>0.523008</td>\n",
       "      <td>0.381594</td>\n",
       "      <td>32.204208</td>\n",
       "      <td>1.536476</td>\n",
       "    </tr>\n",
       "    <tr>\n",
       "      <th>std</th>\n",
       "      <td>0.486592</td>\n",
       "      <td>0.836071</td>\n",
       "      <td>0.477990</td>\n",
       "      <td>13.357812</td>\n",
       "      <td>1.102743</td>\n",
       "      <td>0.806057</td>\n",
       "      <td>49.693429</td>\n",
       "      <td>0.791503</td>\n",
       "    </tr>\n",
       "    <tr>\n",
       "      <th>min</th>\n",
       "      <td>0.000000</td>\n",
       "      <td>1.000000</td>\n",
       "      <td>0.000000</td>\n",
       "      <td>0.420000</td>\n",
       "      <td>0.000000</td>\n",
       "      <td>0.000000</td>\n",
       "      <td>0.000000</td>\n",
       "      <td>0.000000</td>\n",
       "    </tr>\n",
       "    <tr>\n",
       "      <th>25%</th>\n",
       "      <td>0.000000</td>\n",
       "      <td>2.000000</td>\n",
       "      <td>0.000000</td>\n",
       "      <td>22.000000</td>\n",
       "      <td>0.000000</td>\n",
       "      <td>0.000000</td>\n",
       "      <td>7.910400</td>\n",
       "      <td>1.000000</td>\n",
       "    </tr>\n",
       "    <tr>\n",
       "      <th>50%</th>\n",
       "      <td>0.000000</td>\n",
       "      <td>3.000000</td>\n",
       "      <td>1.000000</td>\n",
       "      <td>28.000000</td>\n",
       "      <td>0.000000</td>\n",
       "      <td>0.000000</td>\n",
       "      <td>14.454200</td>\n",
       "      <td>2.000000</td>\n",
       "    </tr>\n",
       "    <tr>\n",
       "      <th>75%</th>\n",
       "      <td>1.000000</td>\n",
       "      <td>3.000000</td>\n",
       "      <td>1.000000</td>\n",
       "      <td>36.400000</td>\n",
       "      <td>1.000000</td>\n",
       "      <td>0.000000</td>\n",
       "      <td>31.000000</td>\n",
       "      <td>2.000000</td>\n",
       "    </tr>\n",
       "    <tr>\n",
       "      <th>max</th>\n",
       "      <td>1.000000</td>\n",
       "      <td>3.000000</td>\n",
       "      <td>1.000000</td>\n",
       "      <td>80.000000</td>\n",
       "      <td>8.000000</td>\n",
       "      <td>6.000000</td>\n",
       "      <td>512.329200</td>\n",
       "      <td>2.000000</td>\n",
       "    </tr>\n",
       "  </tbody>\n",
       "</table>\n",
       "</div>"
      ],
      "text/plain": [
       "         Survived      Pclass         Sex         Age       SibSp       Parch  \\\n",
       "count  891.000000  891.000000  891.000000  891.000000  891.000000  891.000000   \n",
       "mean     0.383838    2.308642    0.647587   29.638278    0.523008    0.381594   \n",
       "std      0.486592    0.836071    0.477990   13.357812    1.102743    0.806057   \n",
       "min      0.000000    1.000000    0.000000    0.420000    0.000000    0.000000   \n",
       "25%      0.000000    2.000000    0.000000   22.000000    0.000000    0.000000   \n",
       "50%      0.000000    3.000000    1.000000   28.000000    0.000000    0.000000   \n",
       "75%      1.000000    3.000000    1.000000   36.400000    1.000000    0.000000   \n",
       "max      1.000000    3.000000    1.000000   80.000000    8.000000    6.000000   \n",
       "\n",
       "             Fare    Embarked  \n",
       "count  891.000000  891.000000  \n",
       "mean    32.204208    1.536476  \n",
       "std     49.693429    0.791503  \n",
       "min      0.000000    0.000000  \n",
       "25%      7.910400    1.000000  \n",
       "50%     14.454200    2.000000  \n",
       "75%     31.000000    2.000000  \n",
       "max    512.329200    2.000000  "
      ]
     },
     "execution_count": 108,
     "metadata": {},
     "output_type": "execute_result"
    }
   ],
   "source": [
    "## let's describe our data see the statistics distribution\n",
    "data.describe()"
   ]
  },
  {
   "cell_type": "markdown",
   "id": "6d547ec3-42f6-4319-a282-59f118b0cf7e",
   "metadata": {},
   "source": [
    "### This describe our data and show the  statistics distribution."
   ]
  },
  {
   "cell_type": "code",
   "execution_count": 109,
   "id": "01ff3b35-2c84-418d-bda0-06b4e4bf67ff",
   "metadata": {},
   "outputs": [
    {
     "data": {
      "text/plain": [
       "(891, 8)"
      ]
     },
     "execution_count": 109,
     "metadata": {},
     "output_type": "execute_result"
    }
   ],
   "source": [
    "data.shape"
   ]
  },
  {
   "cell_type": "code",
   "execution_count": 113,
   "id": "9ffbac38-37b3-47ad-a3a3-40572a908f01",
   "metadata": {},
   "outputs": [
    {
     "data": {
      "image/png": "[encoded data removed]",
      "text/plain": [
       "<Figure size 720x1800 with 8 Axes>"
      ]
     },
     "metadata": {
      "needs_background": "light"
     },
     "output_type": "display_data"
    }
   ],
   "source": [
    "## let's plot the box and check if there any outliers in our dataset\n",
    "\n",
    "plt.figure(figsize=(10, 25))\n",
    "\n",
    "graph = 1\n",
    "\n",
    "for column in data:\n",
    "    if graph <= 8:\n",
    "        ax = plt.subplot(4,2,graph)\n",
    "        sns.boxplot(data[column],color='purple',orient='v')\n",
    "        plt.xlabel(column,color ='r',fontsize = 10)\n",
    "    graph+=1\n",
    "plt.show()\n"
   ]
  },
  {
   "cell_type": "markdown",
   "id": "204de152-826f-417a-b3d2-a40e6abcf35e",
   "metadata": {},
   "source": [
    "## From this boxplot we can see that some columns have outliers higher side. like  __'Fare' , 'Age','SibSp'__"
   ]
  },
  {
   "cell_type": "code",
   "execution_count": null,
   "id": "8089f83a-d4cd-4211-854b-3e47c04fe1b8",
   "metadata": {},
   "outputs": [],
   "source": []
  },
  {
   "cell_type": "markdown",
   "id": "229e901f-ab16-4d33-9bbb-bc831ed5c548",
   "metadata": {},
   "source": [
    "## let's remove the ourliers from 'Fare' columns since it have __continuous data__.\n",
    "\n",
    "### Age have continuous data but some people maybe more old on Titanic so this can cause ouliers."
   ]
  },
  {
   "cell_type": "markdown",
   "id": "c8d4be04-e5df-43cb-a5c1-dbf8f229c43a",
   "metadata": {},
   "source": [
    "#### Outliers Dectection Formula\n",
    "### Higher side ===> Q3 + (1.5 * IQR)\n",
    "### lower side ===> Q1 - (1.5 * IQR)\n",
    "### IQR = Inter Quantile Rate = Q3 - Q1"
   ]
  },
  {
   "cell_type": "code",
   "execution_count": 114,
   "id": "d91eeadc-464b-4136-92c8-53c7c43bdf83",
   "metadata": {},
   "outputs": [],
   "source": [
    "# Finding the IQR (Inter Quantile Range) to identify Outliers\n",
    "\n",
    "# 1st Quantile\n",
    "q1 = data.quantile(0.25)\n",
    "\n",
    "# 3rd Quantile\n",
    "q3 = data.quantile(0.75)\n",
    "\n",
    "# IQR \n",
    "iqr = q3 -q1"
   ]
  },
  {
   "cell_type": "code",
   "execution_count": 117,
   "id": "7bf118b2-79a4-415b-bc7b-e498843d016a",
   "metadata": {},
   "outputs": [
    {
     "data": {
      "text/plain": [
       "65.6344"
      ]
     },
     "execution_count": 117,
     "metadata": {},
     "output_type": "execute_result"
    }
   ],
   "source": [
    "# Validation one outlier\n",
    "\n",
    "fare_high = (q3.Fare + (1.5 *iqr.Fare))\n",
    "fare_high "
   ]
  },
  {
   "cell_type": "markdown",
   "id": "4f3d53aa-ef67-4f32-9ca2-2e8f44e70b5c",
   "metadata": {},
   "source": [
    "### This means from the column Fare all the record values greather than 65.6344 (Fare > 65.6344) are Outlier higher side."
   ]
  },
  {
   "cell_type": "code",
   "execution_count": 119,
   "id": "9e249edc-bc8b-4f66-96f7-ec8a8c40a051",
   "metadata": {},
   "outputs": [
    {
     "data": {
      "text/plain": [
       "(array([  1,  27,  31,  34,  52,  61,  62,  72,  88, 102, 118, 120, 124,\n",
       "        139, 151, 159, 180, 195, 201, 215, 218, 224, 230, 245, 256, 257,\n",
       "        258, 262, 268, 269, 275, 290, 291, 297, 299, 305, 306, 307, 310,\n",
       "        311, 318, 319, 324, 325, 332, 334, 336, 337, 341, 366, 369, 373,\n",
       "        375, 377, 380, 385, 390, 393, 412, 435, 438, 445, 453, 484, 486,\n",
       "        496, 498, 504, 505, 520, 527, 537, 540, 544, 550, 557, 558, 581,\n",
       "        585, 587, 591, 609, 627, 641, 645, 655, 659, 660, 665, 679, 681,\n",
       "        689, 698, 700, 708, 716, 730, 737, 741, 742, 745, 759, 763, 765,\n",
       "        779, 789, 792, 802, 820, 829, 835, 846, 849, 856, 863, 879]),)"
      ]
     },
     "execution_count": 119,
     "metadata": {},
     "output_type": "execute_result"
    }
   ],
   "source": [
    "## let's get the indexes of all those column\n",
    "\n",
    "indexes = np.where(data['Fare'] > fare_high)\n",
    "indexes"
   ]
  },
  {
   "cell_type": "markdown",
   "id": "f311b6e7-7e38-472e-aa0c-186381094435",
   "metadata": {},
   "source": [
    "## more than 10% of our data have fare greater than __fare_high  = 65.6344__.  So we will not remove the outliers."
   ]
  },
  {
   "cell_type": "code",
   "execution_count": null,
   "id": "06de3c48-fa04-461a-9159-75f9b82333c7",
   "metadata": {},
   "outputs": [],
   "source": []
  },
  {
   "cell_type": "code",
   "execution_count": null,
   "id": "e748f2e1-7b98-473a-abe9-57d4e8882a3f",
   "metadata": {},
   "outputs": [],
   "source": []
  },
  {
   "cell_type": "markdown",
   "id": "3cd89ae5-8334-461d-a2cc-a4d37bff1ac3",
   "metadata": {},
   "source": [
    "## Before build the model ,let's check our label data classes and see whether the both classes are balanced or not."
   ]
  },
  {
   "cell_type": "markdown",
   "id": "abf57fc1-0c0a-4558-b152-713cafae2d7d",
   "metadata": {},
   "source": [
    "## we have class Yes = 1 \n",
    "## we class No = 0"
   ]
  },
  {
   "cell_type": "code",
   "execution_count": 120,
   "id": "e6e7751c-a681-458b-800a-1b67f91d5f3f",
   "metadata": {},
   "outputs": [
    {
     "data": {
      "image/png": "[encoded data removed]",
      "text/plain": [
       "<Figure size 432x288 with 1 Axes>"
      ]
     },
     "metadata": {
      "needs_background": "light"
     },
     "output_type": "display_data"
    }
   ],
   "source": [
    "data['Survived'].hist(grid=True)\n",
    "plt.title('survived(Yes ) VS survived (No)')\n",
    "plt.show()\n"
   ]
  },
  {
   "cell_type": "markdown",
   "id": "8399e924-1a3f-40a3-9b2c-5dc3773a3026",
   "metadata": {},
   "source": [
    "### From this histogram we can see that the classes are imbalance and  survived (No ) is majority and survived (Yes ) is the minority."
   ]
  },
  {
   "cell_type": "code",
   "execution_count": null,
   "id": "0874bb52-c559-4a56-b39f-5e626f2493c9",
   "metadata": {},
   "outputs": [],
   "source": []
  },
  {
   "cell_type": "markdown",
   "id": "82cf5fb7-2743-432b-b5c0-40fb6c33e386",
   "metadata": {},
   "source": [
    "### Handling class imbalance using oversampling the minority class."
   ]
  },
  {
   "cell_type": "code",
   "execution_count": null,
   "id": "ac47e403-edf0-4900-b9d2-4c3c97c0c902",
   "metadata": {},
   "outputs": [],
   "source": [
    "#!pip install imblearn"
   ]
  },
  {
   "cell_type": "code",
   "execution_count": 121,
   "id": "8436e517-a971-4f85-8982-f98afaba863d",
   "metadata": {},
   "outputs": [],
   "source": [
    "## importang the libraries\n",
    "from imblearn.over_sampling import SMOTE\n",
    "\n",
    "SM = SMOTE()"
   ]
  },
  {
   "cell_type": "code",
   "execution_count": 122,
   "id": "39f909be-b5bf-40c5-aba2-949c2e6beee9",
   "metadata": {},
   "outputs": [],
   "source": [
    "## let's first split our dataset into label and features\n",
    "x = data.drop('Survived',axis=1)\n",
    "y = data.Survived"
   ]
  },
  {
   "cell_type": "code",
   "execution_count": 123,
   "id": "21d4735c-0693-4c1f-9f5a-c5e49995504e",
   "metadata": {},
   "outputs": [],
   "source": [
    "x_over , y_over = SM.fit_resample(x, y)"
   ]
  },
  {
   "cell_type": "code",
   "execution_count": 124,
   "id": "3f2866a1-c219-4946-9903-4097266cae8f",
   "metadata": {},
   "outputs": [
    {
     "data": {
      "text/plain": [
       "0    549\n",
       "1    549\n",
       "Name: Survived, dtype: int64"
      ]
     },
     "execution_count": 124,
     "metadata": {},
     "output_type": "execute_result"
    }
   ],
   "source": [
    "## let's verify\n",
    "y_over.value_counts()\n"
   ]
  },
  {
   "cell_type": "code",
   "execution_count": 125,
   "id": "a2ee6d6b-dee7-45f5-b7a6-bfab8a7d2b56",
   "metadata": {},
   "outputs": [
    {
     "data": {
      "image/png": "[encoded data removed]",
      "text/plain": [
       "<Figure size 432x288 with 1 Axes>"
      ]
     },
     "metadata": {
      "needs_background": "light"
     },
     "output_type": "display_data"
    }
   ],
   "source": [
    "## let's plot again the histgram\n",
    "y_over.hist(grid=True)\n",
    "plt.title('survived(Yes ) VS survived (No)')\n",
    "plt.show()\n"
   ]
  },
  {
   "cell_type": "markdown",
   "id": "7278e9bc-76c3-4c15-aee4-ec97bc3147dc",
   "metadata": {},
   "source": [
    "### Now we can see that our both classes of the label are balanced\n"
   ]
  },
  {
   "cell_type": "markdown",
   "id": "9e021c63-0938-4223-b7b8-e140c4629911",
   "metadata": {},
   "source": [
    "#### ******************************************************"
   ]
  },
  {
   "cell_type": "markdown",
   "id": "4985b41a-819f-4efa-a16e-8aa810e11374",
   "metadata": {},
   "source": [
    "## Now let's build the models."
   ]
  },
  {
   "cell_type": "code",
   "execution_count": 127,
   "id": "81b0370b-8768-42ac-8e4b-005f0aeae818",
   "metadata": {},
   "outputs": [],
   "source": [
    "## first with LogisticRegression\n",
    "\n",
    "from sklearn.linear_model import LogisticRegression"
   ]
  },
  {
   "cell_type": "code",
   "execution_count": null,
   "id": "7f5181f3-ce37-4fec-a692-35871f691537",
   "metadata": {},
   "outputs": [],
   "source": []
  },
  {
   "cell_type": "code",
   "execution_count": 128,
   "id": "ba4c99e4-228e-4ef5-a254-1c1fdc54d6d5",
   "metadata": {},
   "outputs": [
    {
     "name": "stdout",
     "output_type": "stream",
     "text": [
      "Best accuracy is : 1.0 on Random_state 190\n"
     ]
    }
   ],
   "source": [
    "\n",
    "max_accu = 0\n",
    "max_RS = 0\n",
    "for i in range(1,200):\n",
    "    x_train, x_test, y_train,y_test = train_test_split(x_over,y_over,\n",
    "                                                    test_size=30,\n",
    "                                                    random_state=i)\n",
    "    LR = LogisticRegression()\n",
    "    LR.fit(x_train, y_train)\n",
    "    predrf = LR.predict(x_test)\n",
    "    acc = accuracy_score(y_test, predrf)\n",
    "    if acc > max_accu:\n",
    "        max_accu = acc\n",
    "        max_RS = i\n",
    "print('Best accuracy is :',max_accu, 'on Random_state',max_RS)"
   ]
  },
  {
   "cell_type": "markdown",
   "id": "3231d6ef-5f93-4b70-ab45-1064b860f868",
   "metadata": {},
   "source": [
    "## this code above help us to find the best random_state = 190"
   ]
  },
  {
   "cell_type": "code",
   "execution_count": 129,
   "id": "cdc5e86c-9b71-49de-949b-8dba561eca30",
   "metadata": {},
   "outputs": [
    {
     "name": "stdout",
     "output_type": "stream",
     "text": [
      "1.0\n",
      "[[13  0]\n",
      " [ 0 17]]\n",
      "              precision    recall  f1-score   support\n",
      "\n",
      "           0       1.00      1.00      1.00        13\n",
      "           1       1.00      1.00      1.00        17\n",
      "\n",
      "    accuracy                           1.00        30\n",
      "   macro avg       1.00      1.00      1.00        30\n",
      "weighted avg       1.00      1.00      1.00        30\n",
      "\n"
     ]
    }
   ],
   "source": [
    "## let's build gain the model using it\n",
    "\n",
    "x_train, x_test, y_train,y_test = train_test_split(x_over,y_over,\n",
    "                                                    test_size=30,\n",
    "                                                    random_state=190)\n",
    "lr = LogisticRegression()\n",
    "lr.fit(x_train, y_train)\n",
    "predlr = lr.predict(x_test)\n",
    "print(accuracy_score(y_test, predlr))\n",
    "print(confusion_matrix(y_test, predlr))\n",
    "print(classification_report(y_test,predlr))"
   ]
  },
  {
   "cell_type": "markdown",
   "id": "17b37dde-725b-4c84-b591-a6942d5b3d95",
   "metadata": {},
   "source": [
    "## We built the first model using LogisticRegression Algorithum and the accuracy is : 100%"
   ]
  },
  {
   "cell_type": "markdown",
   "id": "1a5233d0-ea0d-47ce-9df4-f1098c223f78",
   "metadata": {},
   "source": [
    "#### ******************************************************************"
   ]
  },
  {
   "cell_type": "markdown",
   "id": "261b3e80-cf2c-4450-a3dd-01c4109e96e8",
   "metadata": {},
   "source": [
    "# let's build a second model using DecisionTreeClassifier algorithum"
   ]
  },
  {
   "cell_type": "code",
   "execution_count": 130,
   "id": "10a8b8ec-e76f-4b1d-997f-f41c78f8fe68",
   "metadata": {},
   "outputs": [],
   "source": [
    "## import the libraries\n",
    "from sklearn.tree import DecisionTreeClassifier"
   ]
  },
  {
   "cell_type": "code",
   "execution_count": 131,
   "id": "29680d61-7426-45c4-801d-3dbfa7b3460d",
   "metadata": {},
   "outputs": [
    {
     "name": "stdout",
     "output_type": "stream",
     "text": [
      "0.9333333333333333\n",
      "[[12  1]\n",
      " [ 1 16]]\n",
      "              precision    recall  f1-score   support\n",
      "\n",
      "           0       0.92      0.92      0.92        13\n",
      "           1       0.94      0.94      0.94        17\n",
      "\n",
      "    accuracy                           0.93        30\n",
      "   macro avg       0.93      0.93      0.93        30\n",
      "weighted avg       0.93      0.93      0.93        30\n",
      "\n"
     ]
    }
   ],
   "source": [
    "dt = DecisionTreeClassifier()\n",
    "dt.fit(x_train, y_train)\n",
    "pred_dt = dt.predict(x_test)\n",
    "print(accuracy_score(y_test, pred_dt))\n",
    "print(confusion_matrix(y_test, pred_dt))\n",
    "print(classification_report(y_test,pred_dt))"
   ]
  },
  {
   "cell_type": "markdown",
   "id": "0eb464fe-85f6-43f1-ad14-50e35da3d0ff",
   "metadata": {},
   "source": [
    "### We built the Second model using DecisionTreeClassifier Algorithum and the accuracy is : 93%¶"
   ]
  },
  {
   "cell_type": "markdown",
   "id": "e9b1ddad-bcf1-4f02-861b-4b703b3ce496",
   "metadata": {},
   "source": [
    "#### ******************************************************************"
   ]
  },
  {
   "cell_type": "markdown",
   "id": "731ccde4-5afc-41ea-b6c5-02a356d755b4",
   "metadata": {},
   "source": [
    "# let's build a Third model using algorithum RandomForestClassifier algorithm"
   ]
  },
  {
   "cell_type": "code",
   "execution_count": 134,
   "id": "9a359039-6aa2-4849-9623-af824f045d64",
   "metadata": {},
   "outputs": [],
   "source": [
    "## import the libraries\n",
    "from sklearn.ensemble import RandomForestClassifier"
   ]
  },
  {
   "cell_type": "code",
   "execution_count": 135,
   "id": "3c0921fe-f10e-4098-bcaf-49f6ea85fc78",
   "metadata": {},
   "outputs": [
    {
     "name": "stdout",
     "output_type": "stream",
     "text": [
      "1.0\n",
      "[[13  0]\n",
      " [ 0 17]]\n",
      "              precision    recall  f1-score   support\n",
      "\n",
      "           0       1.00      1.00      1.00        13\n",
      "           1       1.00      1.00      1.00        17\n",
      "\n",
      "    accuracy                           1.00        30\n",
      "   macro avg       1.00      1.00      1.00        30\n",
      "weighted avg       1.00      1.00      1.00        30\n",
      "\n"
     ]
    }
   ],
   "source": [
    "rf = RandomForestClassifier()\n",
    "rf.fit(x_train, y_train)\n",
    "pred_rf = rf.predict(x_test)\n",
    "\n",
    "print(accuracy_score(y_test, pred_rf))\n",
    "print(confusion_matrix(y_test, pred_rf))\n",
    "print(classification_report(y_test,pred_rf))"
   ]
  },
  {
   "cell_type": "markdown",
   "id": "22085bd3-5a31-49db-b1e9-b10b2e97a445",
   "metadata": {},
   "source": [
    "## We built the Third model using RandomForestClassifier() Algorithum and the accuracy is : 100%"
   ]
  },
  {
   "cell_type": "markdown",
   "id": "a8cc4949-5628-4942-99ba-d061f6b697da",
   "metadata": {},
   "source": [
    "#### ******************************************************************"
   ]
  },
  {
   "cell_type": "markdown",
   "id": "69c9107e-212d-4b67-9da3-627269193feb",
   "metadata": {},
   "source": [
    "# let's build the fouth model using algorithum __SVC classification Alagorithum.__"
   ]
  },
  {
   "cell_type": "code",
   "execution_count": 136,
   "id": "d4bc8921-868d-4c70-8bae-ddd8d3e5f7c3",
   "metadata": {},
   "outputs": [],
   "source": [
    "## import the libraries\n",
    "from sklearn.svm import SVC # Suport Vector Machine model"
   ]
  },
  {
   "cell_type": "code",
   "execution_count": 137,
   "id": "cb3c5aa4-2f71-4762-ae4c-681eaf196bc3",
   "metadata": {},
   "outputs": [
    {
     "name": "stdout",
     "output_type": "stream",
     "text": [
      "1.0\n",
      "[[13  0]\n",
      " [ 0 17]]\n",
      "              precision    recall  f1-score   support\n",
      "\n",
      "           0       1.00      1.00      1.00        13\n",
      "           1       1.00      1.00      1.00        17\n",
      "\n",
      "    accuracy                           1.00        30\n",
      "   macro avg       1.00      1.00      1.00        30\n",
      "weighted avg       1.00      1.00      1.00        30\n",
      "\n"
     ]
    }
   ],
   "source": [
    "svc = SVC()\n",
    "\n",
    "svc.fit(x_train, y_train)\n",
    "\n",
    "pred_svc = rf.predict(x_test)\n",
    "\n",
    "print(accuracy_score(y_test, pred_svc))\n",
    "print(confusion_matrix(y_test,pred_svc))\n",
    "print(classification_report(y_test,pred_svc))"
   ]
  },
  {
   "cell_type": "markdown",
   "id": "e1f0cdce-a595-476e-bffe-e4ca7c2b276c",
   "metadata": {},
   "source": [
    "## We built the Third model using SVC() Algorithum and the accuracy is : 100%"
   ]
  },
  {
   "cell_type": "markdown",
   "id": "150ce208-92c8-4951-9523-78c76cf7121a",
   "metadata": {},
   "source": [
    "#### ******************************************************************"
   ]
  },
  {
   "cell_type": "markdown",
   "id": "561140d0-3bd9-4036-9826-39d99ba7e240",
   "metadata": {},
   "source": [
    "## Let's go for __cross validation score__  and see if there no overfitting and wich model performe well."
   ]
  },
  {
   "cell_type": "code",
   "execution_count": 138,
   "id": "96366f95-5fbd-46fc-ad32-5c30a3ea434d",
   "metadata": {},
   "outputs": [],
   "source": [
    "from sklearn.model_selection import cross_val_score"
   ]
  },
  {
   "cell_type": "code",
   "execution_count": 143,
   "id": "540255f5-41fa-4729-83a3-06e8eb40f83d",
   "metadata": {},
   "outputs": [
    {
     "name": "stdout",
     "output_type": "stream",
     "text": [
      "Cross Validation Score of LogisticRegression model: 0.8097046265836073\n"
     ]
    }
   ],
   "source": [
    "## first model lr\n",
    "\n",
    "scr = cross_val_score(lr,x_over,y_over,cv=7)\n",
    "print('Cross Validation Score of LogisticRegression model:',scr.mean())"
   ]
  },
  {
   "cell_type": "code",
   "execution_count": 144,
   "id": "cc11c0a4-48d6-46bf-bdf3-ce5046ac88f8",
   "metadata": {},
   "outputs": [
    {
     "name": "stdout",
     "output_type": "stream",
     "text": [
      "Cross Validation Score of DecisionTreeClassifier model: 0.8297753202211801\n"
     ]
    }
   ],
   "source": [
    "## first model dt\n",
    "\n",
    "scr = cross_val_score(dt,x_over,y_over,cv=7)\n",
    "print('Cross Validation Score of DecisionTreeClassifier model:',scr.mean())"
   ]
  },
  {
   "cell_type": "code",
   "execution_count": null,
   "id": "4490c3e6-b3e7-4bb6-9516-90d6269d97ae",
   "metadata": {},
   "outputs": [],
   "source": []
  },
  {
   "cell_type": "code",
   "execution_count": 145,
   "id": "29a878a4-35b4-425e-b289-1e4e2eb87dff",
   "metadata": {},
   "outputs": [
    {
     "name": "stdout",
     "output_type": "stream",
     "text": [
      "Cross Validation Score of  RandomForestClassifier model: 0.8388395044446\n"
     ]
    }
   ],
   "source": [
    "## first model dt\n",
    "\n",
    "scr = cross_val_score(rf,x_over,y_over,cv=7)\n",
    "print('Cross Validation Score of  RandomForestClassifier model:',scr.mean())"
   ]
  },
  {
   "cell_type": "code",
   "execution_count": null,
   "id": "cfe5bde4-c026-497e-843c-630ec229b491",
   "metadata": {},
   "outputs": [],
   "source": []
  },
  {
   "cell_type": "code",
   "execution_count": 146,
   "id": "41a8bda7-2dc6-4b7f-be61-75c53831a5d3",
   "metadata": {},
   "outputs": [
    {
     "name": "stdout",
     "output_type": "stream",
     "text": [
      "Cross Validation Score of Suport Vector Machine model: 0.6548493968876133\n"
     ]
    }
   ],
   "source": [
    "## first model dt\n",
    "\n",
    "scr = cross_val_score(svc,x_over,y_over,cv=7)\n",
    "\n",
    "print('Cross Validation Score of Suport Vector Machine model:',scr.mean())"
   ]
  },
  {
   "cell_type": "markdown",
   "id": "3b66c306-1570-41d6-a089-e76236227525",
   "metadata": {},
   "source": [
    "## let's check the defferences of model accuracy and cross_val_score each model.\n"
   ]
  },
  {
   "cell_type": "code",
   "execution_count": 148,
   "id": "4a6dfc54-0c71-4ca7-bf95-d1b647967ea6",
   "metadata": {},
   "outputs": [
    {
     "name": "stdout",
     "output_type": "stream",
     "text": [
      "\n",
      "LogisticRegression model diff is: 20\n",
      "\n",
      "DecisionTreeClassifier model diff is: 11\n",
      "\n",
      "RandomForestClassifier  model diff is: 17\n",
      "\n",
      "Suport Vector Machine model diff is: 35\n"
     ]
    }
   ],
   "source": [
    "print('\\nLogisticRegression model diff is:',100 -80)\n",
    "print('\\nDecisionTreeClassifier model diff is:',93 -82)\n",
    "print('\\nRandomForestClassifier  model diff is:',100 -83)\n",
    "print('\\nSuport Vector Machine model diff is:',100 -65)"
   ]
  },
  {
   "cell_type": "markdown",
   "id": "e7cd5b27-33bd-47be-8150-7971e14935ed",
   "metadata": {},
   "source": [
    "## The __minimum__ defference in accuracy and cross validation score is for __DecisionTreeClassifier__ model, So it is our best model"
   ]
  },
  {
   "cell_type": "code",
   "execution_count": null,
   "id": "898a5827-e238-462f-a1d3-49ffec1c63fc",
   "metadata": {},
   "outputs": [],
   "source": []
  },
  {
   "cell_type": "markdown",
   "id": "ec07303e-9d32-4673-abea-8ef65b005fca",
   "metadata": {},
   "source": [
    "### __Let's go for Hyper Parameter tuning and see if we can impore our model.__"
   ]
  },
  {
   "cell_type": "code",
   "execution_count": 149,
   "id": "ba0aae49-dd55-4954-adde-12d97d383cfd",
   "metadata": {},
   "outputs": [],
   "source": [
    "from sklearn.model_selection import GridSearchCV"
   ]
  },
  {
   "cell_type": "code",
   "execution_count": 170,
   "id": "021b1b62-f608-426c-bad2-c89194e66ed2",
   "metadata": {},
   "outputs": [],
   "source": [
    "grid_params = {\n",
    "          'max_depth':[int(x) for x in np.linspace(2,stop=15,num=8)],\n",
    "          'min_samples_leaf':[int(x) for x in np.linspace(2,stop=15,num=7)],\n",
    "          'min_samples_split':[int(x) for x in np.linspace(2,stop=15,num=7)],\n",
    "          'criterion':['gini','entropy']\n",
    "}\n"
   ]
  },
  {
   "cell_type": "code",
   "execution_count": 171,
   "id": "347fce68-5618-4ade-ac30-b014f44519eb",
   "metadata": {},
   "outputs": [],
   "source": [
    "grid_search = GridSearchCV(estimator=dt,\n",
    "                         param_grid=grid_params,\n",
    "                         cv=5,\n",
    "                         n_jobs=-1)"
   ]
  },
  {
   "cell_type": "code",
   "execution_count": 172,
   "id": "870db7f6-8228-4a70-83a4-ea9b77ecfb49",
   "metadata": {},
   "outputs": [
    {
     "data": {
      "text/plain": [
       "GridSearchCV(cv=5, estimator=DecisionTreeClassifier(), n_jobs=-1,\n",
       "             param_grid={'criterion': ['gini', 'entropy'],\n",
       "                         'max_depth': [2, 3, 5, 7, 9, 11, 13, 15],\n",
       "                         'min_samples_leaf': [2, 4, 6, 8, 10, 12, 15],\n",
       "                         'min_samples_split': [2, 4, 6, 8, 10, 12, 15]})"
      ]
     },
     "execution_count": 172,
     "metadata": {},
     "output_type": "execute_result"
    }
   ],
   "source": [
    "grid_search.fit(x_train,y_train)"
   ]
  },
  {
   "cell_type": "code",
   "execution_count": 175,
   "id": "092ec724-5ca8-406e-ae2e-a2e5e0abdb59",
   "metadata": {},
   "outputs": [
    {
     "name": "stdout",
     "output_type": "stream",
     "text": [
      "{'criterion': 'gini', 'max_depth': 11, 'min_samples_leaf': 8, 'min_samples_split': 4}\n"
     ]
    }
   ],
   "source": [
    "# checking best parameters\n",
    "\n",
    "best_parameters = grid_search.best_params_\n",
    "print(best_parameters)"
   ]
  },
  {
   "cell_type": "markdown",
   "id": "fdb4ec8d-4f36-41c3-a78c-7ed3bd5417a1",
   "metadata": {},
   "source": [
    "## Now with GridSearchCV we got the best parameters: __{'criterion': 'gini', 'max_depth': 11, 'min_samples_leaf': 8, 'min_samples_split': 4}__"
   ]
  },
  {
   "cell_type": "code",
   "execution_count": 176,
   "id": "350072fc-2e8e-4bab-b191-8a5cf1c41032",
   "metadata": {},
   "outputs": [],
   "source": [
    "## so let's build again the decisionTreeClassifier\n",
    "\n",
    "dt_ = DecisionTreeClassifier(criterion='gini',\n",
    "                            max_depth=11,\n",
    "                            min_samples_leaf=8,\n",
    "                            min_samples_split=4)\n"
   ]
  },
  {
   "cell_type": "code",
   "execution_count": 177,
   "id": "9d008484-d6e0-48d7-b051-b57762046439",
   "metadata": {},
   "outputs": [
    {
     "name": "stdout",
     "output_type": "stream",
     "text": [
      "0.9333333333333333\n",
      "[[12  1]\n",
      " [ 1 16]]\n",
      "              precision    recall  f1-score   support\n",
      "\n",
      "           0       0.92      0.92      0.92        13\n",
      "           1       0.94      0.94      0.94        17\n",
      "\n",
      "    accuracy                           0.93        30\n",
      "   macro avg       0.93      0.93      0.93        30\n",
      "weighted avg       0.93      0.93      0.93        30\n",
      "\n"
     ]
    }
   ],
   "source": [
    "dt_.fit(x_train, y_train)\n",
    "\n",
    "pred_dt_ = dt.predict(x_test)\n",
    "print(accuracy_score(y_test, pred_dt_))\n",
    "print(confusion_matrix(y_test, pred_dt_))\n",
    "print(classification_report(y_test,pred_dt_))"
   ]
  },
  {
   "cell_type": "markdown",
   "id": "9579d08d-64ca-4be9-a609-f7be65b128fc",
   "metadata": {},
   "source": [
    "#### after paramter turning we got the same accuracy: 93%"
   ]
  },
  {
   "cell_type": "code",
   "execution_count": null,
   "id": "2145f63f-4f20-42ca-9747-eaf91bd65293",
   "metadata": {},
   "outputs": [],
   "source": []
  },
  {
   "cell_type": "markdown",
   "id": "b2066320-55c1-4902-b147-3e26864265f2",
   "metadata": {},
   "source": [
    "## Conclusion: we build 4 models and  DecisionTreeClassifier is the best __93% accuracy.__"
   ]
  },
  {
   "cell_type": "markdown",
   "id": "bc271e45-8da7-4df3-8599-c141871b9096",
   "metadata": {},
   "source": [
    "### ************ ************ ************ ************ ************"
   ]
  },
  {
   "cell_type": "markdown",
   "id": "db91f37b-6c8d-44ef-95ce-f3c7c20a98c0",
   "metadata": {},
   "source": [
    "### let's save the model.\n"
   ]
  },
  {
   "cell_type": "code",
   "execution_count": 178,
   "id": "9d8eb81c-a0dd-4ea0-a9ab-7c830b9ba18a",
   "metadata": {},
   "outputs": [],
   "source": [
    "import joblib"
   ]
  },
  {
   "cell_type": "code",
   "execution_count": 179,
   "id": "749e6054-2517-4c3a-8a99-2fca3690e282",
   "metadata": {},
   "outputs": [
    {
     "data": {
      "text/plain": [
       "['Titanic_model.pkl']"
      ]
     },
     "execution_count": 179,
     "metadata": {},
     "output_type": "execute_result"
    }
   ],
   "source": [
    "joblib.dump(dt_,'Titanic_model.pkl')"
   ]
  },
  {
   "cell_type": "code",
   "execution_count": 180,
   "id": "f49a0a04-4be5-494a-a698-6aa0490e2368",
   "metadata": {},
   "outputs": [
    {
     "data": {
      "text/plain": [
       "'/Users/olivierla412/projects/DataTrained_live_classes/Projects/Practice_Project _5'"
      ]
     },
     "execution_count": 180,
     "metadata": {},
     "output_type": "execute_result"
    }
   ],
   "source": [
    "pwd"
   ]
  },
  {
   "cell_type": "code",
   "execution_count": null,
   "id": "0eadf2f4-f68e-43a9-8ca1-49597f7196d6",
   "metadata": {},
   "outputs": [],
   "source": []
  }
 ],
 "metadata": {
  "kernelspec": {
   "display_name": "Python 3",
   "language": "python",
   "name": "python3"
  },
  "language_info": {
   "codemirror_mode": {
    "name": "ipython",
    "version": 3
   },
   "file_extension": ".py",
   "mimetype": "text/x-python",
   "name": "python",
   "nbconvert_exporter": "python",
   "pygments_lexer": "ipython3",
   "version": "3.8.2"
  }
 },
 "nbformat": 4,
 "nbformat_minor": 5
}
