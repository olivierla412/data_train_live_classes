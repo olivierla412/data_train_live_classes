{
 "cells": [
  {
   "cell_type": "markdown",
   "id": "07682d48-d9d8-4212-be90-23bbf8e6d4b4",
   "metadata": {},
   "source": [
    "![](photo.png)"
   ]
  },
  {
   "cell_type": "code",
   "execution_count": 91,
   "id": "99182be0-b00d-4eb4-a34e-e49574aa1531",
   "metadata": {},
   "outputs": [],
   "source": [
    "import numpy as np\n",
    "import pandas as pd\n",
    "import matplotlib.pyplot as plt\n",
    "%matplotlib inline\n",
    "import warnings\n",
    "import seaborn as sns\n",
    "from sklearn.model_selection import train_test_split\n",
    "warnings.filterwarnings('ignore')"
   ]
  },
  {
   "cell_type": "code",
   "execution_count": 629,
   "id": "e0deb847-2554-40b8-902e-a85a469bd1ae",
   "metadata": {},
   "outputs": [],
   "source": [
    "## loading the datasets\n",
    "link1 ='https://raw.githubusercontent.com/dsrscientist/bigdatamart_rep/master/bigdatamart_Train.csv'\n",
    "link2 = 'https://raw.githubusercontent.com/dsrscientist/bigdatamart_rep/master/bigdatamart_Test.csv'"
   ]
  },
  {
   "cell_type": "code",
   "execution_count": 630,
   "id": "a57f5024-99dd-4e80-8297-5d4f16690770",
   "metadata": {},
   "outputs": [],
   "source": [
    "data_train = pd.read_csv(link1)"
   ]
  },
  {
   "cell_type": "code",
   "execution_count": 631,
   "id": "31ebf21c-0e3b-492d-b904-63c3af9c1725",
   "metadata": {},
   "outputs": [],
   "source": [
    "data_test = pd.read_csv(link2)"
   ]
  },
  {
   "cell_type": "code",
   "execution_count": 632,
   "id": "8e286c72-37b5-4ca8-9c92-f960ea2a8898",
   "metadata": {},
   "outputs": [
    {
     "data": {
      "text/html": [
       "<div>\n",
       "<style scoped>\n",
       "    .dataframe tbody tr th:only-of-type {\n",
       "        vertical-align: middle;\n",
       "    }\n",
       "\n",
       "    .dataframe tbody tr th {\n",
       "        vertical-align: top;\n",
       "    }\n",
       "\n",
       "    .dataframe thead th {\n",
       "        text-align: right;\n",
       "    }\n",
       "</style>\n",
       "<table border=\"1\" class=\"dataframe\">\n",
       "  <thead>\n",
       "    <tr style=\"text-align: right;\">\n",
       "      <th></th>\n",
       "      <th>Item_Identifier</th>\n",
       "      <th>Item_Weight</th>\n",
       "      <th>Item_Fat_Content</th>\n",
       "      <th>Item_Visibility</th>\n",
       "      <th>Item_Type</th>\n",
       "      <th>Item_MRP</th>\n",
       "      <th>Outlet_Identifier</th>\n",
       "      <th>Outlet_Establishment_Year</th>\n",
       "      <th>Outlet_Size</th>\n",
       "      <th>Outlet_Location_Type</th>\n",
       "      <th>Outlet_Type</th>\n",
       "      <th>Item_Outlet_Sales</th>\n",
       "    </tr>\n",
       "  </thead>\n",
       "  <tbody>\n",
       "    <tr>\n",
       "      <th>0</th>\n",
       "      <td>FDA15</td>\n",
       "      <td>9.30</td>\n",
       "      <td>Low Fat</td>\n",
       "      <td>0.016047</td>\n",
       "      <td>Dairy</td>\n",
       "      <td>249.8092</td>\n",
       "      <td>OUT049</td>\n",
       "      <td>1999</td>\n",
       "      <td>Medium</td>\n",
       "      <td>Tier 1</td>\n",
       "      <td>Supermarket Type1</td>\n",
       "      <td>3735.1380</td>\n",
       "    </tr>\n",
       "    <tr>\n",
       "      <th>1</th>\n",
       "      <td>DRC01</td>\n",
       "      <td>5.92</td>\n",
       "      <td>Regular</td>\n",
       "      <td>0.019278</td>\n",
       "      <td>Soft Drinks</td>\n",
       "      <td>48.2692</td>\n",
       "      <td>OUT018</td>\n",
       "      <td>2009</td>\n",
       "      <td>Medium</td>\n",
       "      <td>Tier 3</td>\n",
       "      <td>Supermarket Type2</td>\n",
       "      <td>443.4228</td>\n",
       "    </tr>\n",
       "    <tr>\n",
       "      <th>2</th>\n",
       "      <td>FDN15</td>\n",
       "      <td>17.50</td>\n",
       "      <td>Low Fat</td>\n",
       "      <td>0.016760</td>\n",
       "      <td>Meat</td>\n",
       "      <td>141.6180</td>\n",
       "      <td>OUT049</td>\n",
       "      <td>1999</td>\n",
       "      <td>Medium</td>\n",
       "      <td>Tier 1</td>\n",
       "      <td>Supermarket Type1</td>\n",
       "      <td>2097.2700</td>\n",
       "    </tr>\n",
       "    <tr>\n",
       "      <th>3</th>\n",
       "      <td>FDX07</td>\n",
       "      <td>19.20</td>\n",
       "      <td>Regular</td>\n",
       "      <td>0.000000</td>\n",
       "      <td>Fruits and Vegetables</td>\n",
       "      <td>182.0950</td>\n",
       "      <td>OUT010</td>\n",
       "      <td>1998</td>\n",
       "      <td>NaN</td>\n",
       "      <td>Tier 3</td>\n",
       "      <td>Grocery Store</td>\n",
       "      <td>732.3800</td>\n",
       "    </tr>\n",
       "    <tr>\n",
       "      <th>4</th>\n",
       "      <td>NCD19</td>\n",
       "      <td>8.93</td>\n",
       "      <td>Low Fat</td>\n",
       "      <td>0.000000</td>\n",
       "      <td>Household</td>\n",
       "      <td>53.8614</td>\n",
       "      <td>OUT013</td>\n",
       "      <td>1987</td>\n",
       "      <td>High</td>\n",
       "      <td>Tier 3</td>\n",
       "      <td>Supermarket Type1</td>\n",
       "      <td>994.7052</td>\n",
       "    </tr>\n",
       "  </tbody>\n",
       "</table>\n",
       "</div>"
      ],
      "text/plain": [
       "  Item_Identifier  Item_Weight Item_Fat_Content  Item_Visibility  \\\n",
       "0           FDA15         9.30          Low Fat         0.016047   \n",
       "1           DRC01         5.92          Regular         0.019278   \n",
       "2           FDN15        17.50          Low Fat         0.016760   \n",
       "3           FDX07        19.20          Regular         0.000000   \n",
       "4           NCD19         8.93          Low Fat         0.000000   \n",
       "\n",
       "               Item_Type  Item_MRP Outlet_Identifier  \\\n",
       "0                  Dairy  249.8092            OUT049   \n",
       "1            Soft Drinks   48.2692            OUT018   \n",
       "2                   Meat  141.6180            OUT049   \n",
       "3  Fruits and Vegetables  182.0950            OUT010   \n",
       "4              Household   53.8614            OUT013   \n",
       "\n",
       "   Outlet_Establishment_Year Outlet_Size Outlet_Location_Type  \\\n",
       "0                       1999      Medium               Tier 1   \n",
       "1                       2009      Medium               Tier 3   \n",
       "2                       1999      Medium               Tier 1   \n",
       "3                       1998         NaN               Tier 3   \n",
       "4                       1987        High               Tier 3   \n",
       "\n",
       "         Outlet_Type  Item_Outlet_Sales  \n",
       "0  Supermarket Type1          3735.1380  \n",
       "1  Supermarket Type2           443.4228  \n",
       "2  Supermarket Type1          2097.2700  \n",
       "3      Grocery Store           732.3800  \n",
       "4  Supermarket Type1           994.7052  "
      ]
     },
     "execution_count": 632,
     "metadata": {},
     "output_type": "execute_result"
    }
   ],
   "source": [
    "data_train.head()"
   ]
  },
  {
   "cell_type": "code",
   "execution_count": 633,
   "id": "238a860f-e248-445a-ba8a-27e41690fc0e",
   "metadata": {},
   "outputs": [
    {
     "data": {
      "text/html": [
       "<div>\n",
       "<style scoped>\n",
       "    .dataframe tbody tr th:only-of-type {\n",
       "        vertical-align: middle;\n",
       "    }\n",
       "\n",
       "    .dataframe tbody tr th {\n",
       "        vertical-align: top;\n",
       "    }\n",
       "\n",
       "    .dataframe thead th {\n",
       "        text-align: right;\n",
       "    }\n",
       "</style>\n",
       "<table border=\"1\" class=\"dataframe\">\n",
       "  <thead>\n",
       "    <tr style=\"text-align: right;\">\n",
       "      <th></th>\n",
       "      <th>Item_Identifier</th>\n",
       "      <th>Item_Weight</th>\n",
       "      <th>Item_Fat_Content</th>\n",
       "      <th>Item_Visibility</th>\n",
       "      <th>Item_Type</th>\n",
       "      <th>Item_MRP</th>\n",
       "      <th>Outlet_Identifier</th>\n",
       "      <th>Outlet_Establishment_Year</th>\n",
       "      <th>Outlet_Size</th>\n",
       "      <th>Outlet_Location_Type</th>\n",
       "      <th>Outlet_Type</th>\n",
       "    </tr>\n",
       "  </thead>\n",
       "  <tbody>\n",
       "    <tr>\n",
       "      <th>0</th>\n",
       "      <td>FDW58</td>\n",
       "      <td>20.750</td>\n",
       "      <td>Low Fat</td>\n",
       "      <td>0.007565</td>\n",
       "      <td>Snack Foods</td>\n",
       "      <td>107.8622</td>\n",
       "      <td>OUT049</td>\n",
       "      <td>1999</td>\n",
       "      <td>Medium</td>\n",
       "      <td>Tier 1</td>\n",
       "      <td>Supermarket Type1</td>\n",
       "    </tr>\n",
       "    <tr>\n",
       "      <th>1</th>\n",
       "      <td>FDW14</td>\n",
       "      <td>8.300</td>\n",
       "      <td>reg</td>\n",
       "      <td>0.038428</td>\n",
       "      <td>Dairy</td>\n",
       "      <td>87.3198</td>\n",
       "      <td>OUT017</td>\n",
       "      <td>2007</td>\n",
       "      <td>NaN</td>\n",
       "      <td>Tier 2</td>\n",
       "      <td>Supermarket Type1</td>\n",
       "    </tr>\n",
       "    <tr>\n",
       "      <th>2</th>\n",
       "      <td>NCN55</td>\n",
       "      <td>14.600</td>\n",
       "      <td>Low Fat</td>\n",
       "      <td>0.099575</td>\n",
       "      <td>Others</td>\n",
       "      <td>241.7538</td>\n",
       "      <td>OUT010</td>\n",
       "      <td>1998</td>\n",
       "      <td>NaN</td>\n",
       "      <td>Tier 3</td>\n",
       "      <td>Grocery Store</td>\n",
       "    </tr>\n",
       "    <tr>\n",
       "      <th>3</th>\n",
       "      <td>FDQ58</td>\n",
       "      <td>7.315</td>\n",
       "      <td>Low Fat</td>\n",
       "      <td>0.015388</td>\n",
       "      <td>Snack Foods</td>\n",
       "      <td>155.0340</td>\n",
       "      <td>OUT017</td>\n",
       "      <td>2007</td>\n",
       "      <td>NaN</td>\n",
       "      <td>Tier 2</td>\n",
       "      <td>Supermarket Type1</td>\n",
       "    </tr>\n",
       "    <tr>\n",
       "      <th>4</th>\n",
       "      <td>FDY38</td>\n",
       "      <td>NaN</td>\n",
       "      <td>Regular</td>\n",
       "      <td>0.118599</td>\n",
       "      <td>Dairy</td>\n",
       "      <td>234.2300</td>\n",
       "      <td>OUT027</td>\n",
       "      <td>1985</td>\n",
       "      <td>Medium</td>\n",
       "      <td>Tier 3</td>\n",
       "      <td>Supermarket Type3</td>\n",
       "    </tr>\n",
       "  </tbody>\n",
       "</table>\n",
       "</div>"
      ],
      "text/plain": [
       "  Item_Identifier  Item_Weight Item_Fat_Content  Item_Visibility    Item_Type  \\\n",
       "0           FDW58       20.750          Low Fat         0.007565  Snack Foods   \n",
       "1           FDW14        8.300              reg         0.038428        Dairy   \n",
       "2           NCN55       14.600          Low Fat         0.099575       Others   \n",
       "3           FDQ58        7.315          Low Fat         0.015388  Snack Foods   \n",
       "4           FDY38          NaN          Regular         0.118599        Dairy   \n",
       "\n",
       "   Item_MRP Outlet_Identifier  Outlet_Establishment_Year Outlet_Size  \\\n",
       "0  107.8622            OUT049                       1999      Medium   \n",
       "1   87.3198            OUT017                       2007         NaN   \n",
       "2  241.7538            OUT010                       1998         NaN   \n",
       "3  155.0340            OUT017                       2007         NaN   \n",
       "4  234.2300            OUT027                       1985      Medium   \n",
       "\n",
       "  Outlet_Location_Type        Outlet_Type  \n",
       "0               Tier 1  Supermarket Type1  \n",
       "1               Tier 2  Supermarket Type1  \n",
       "2               Tier 3      Grocery Store  \n",
       "3               Tier 2  Supermarket Type1  \n",
       "4               Tier 3  Supermarket Type3  "
      ]
     },
     "execution_count": 633,
     "metadata": {},
     "output_type": "execute_result"
    }
   ],
   "source": [
    "data_test.head()"
   ]
  },
  {
   "cell_type": "code",
   "execution_count": 634,
   "id": "33337a73-4b4f-4f51-96ad-13f5217f74e2",
   "metadata": {},
   "outputs": [
    {
     "data": {
      "text/plain": [
       "(8523, 12)"
      ]
     },
     "execution_count": 634,
     "metadata": {},
     "output_type": "execute_result"
    }
   ],
   "source": [
    "data_train.shape"
   ]
  },
  {
   "cell_type": "code",
   "execution_count": 635,
   "id": "276730ac-7a0e-4b58-9dd7-642ee9d38c9e",
   "metadata": {},
   "outputs": [
    {
     "data": {
      "text/plain": [
       "(5681, 11)"
      ]
     },
     "execution_count": 635,
     "metadata": {},
     "output_type": "execute_result"
    }
   ],
   "source": [
    "data_test.shape"
   ]
  },
  {
   "cell_type": "markdown",
   "id": "cb497522-5020-4bd7-97d4-2699e1870d7b",
   "metadata": {},
   "source": [
    "####  Using the data_train.shape we can see the shape our datasets.\n",
    "#### For the train dataset we have 8523 rows(records) and 12 columns(attributes)\n",
    "#### For the test dataset we have 5681 rows(records) and 11 columns(attributes)\n"
   ]
  },
  {
   "cell_type": "markdown",
   "id": "a3b1d3a9-e756-4706-8a3b-01649a10fec6",
   "metadata": {},
   "source": [
    "## From the above problem statement we have to build a predictive model to find the sales of a product at each particular store.\n",
    "## Since __Item_Outlet_Sales the target (label)__ has  continous data we can Assume that we have a linear Regression problem."
   ]
  },
  {
   "cell_type": "code",
   "execution_count": 636,
   "id": "476570f5-e6f4-48d2-badd-8365b8363403",
   "metadata": {},
   "outputs": [
    {
     "name": "stdout",
     "output_type": "stream",
     "text": [
      "<class 'pandas.core.frame.DataFrame'>\n",
      "RangeIndex: 8523 entries, 0 to 8522\n",
      "Data columns (total 12 columns):\n",
      " #   Column                     Non-Null Count  Dtype  \n",
      "---  ------                     --------------  -----  \n",
      " 0   Item_Identifier            8523 non-null   object \n",
      " 1   Item_Weight                7060 non-null   float64\n",
      " 2   Item_Fat_Content           8523 non-null   object \n",
      " 3   Item_Visibility            8523 non-null   float64\n",
      " 4   Item_Type                  8523 non-null   object \n",
      " 5   Item_MRP                   8523 non-null   float64\n",
      " 6   Outlet_Identifier          8523 non-null   object \n",
      " 7   Outlet_Establishment_Year  8523 non-null   int64  \n",
      " 8   Outlet_Size                6113 non-null   object \n",
      " 9   Outlet_Location_Type       8523 non-null   object \n",
      " 10  Outlet_Type                8523 non-null   object \n",
      " 11  Item_Outlet_Sales          8523 non-null   float64\n",
      "dtypes: float64(4), int64(1), object(7)\n",
      "memory usage: 799.2+ KB\n"
     ]
    }
   ],
   "source": [
    "data_train.info()"
   ]
  },
  {
   "cell_type": "markdown",
   "id": "0aff878f-3909-420d-955a-d14e91538765",
   "metadata": {},
   "source": [
    "#### The info() method give us  some important informations about each column of the dataset like : \"Non-Null Count\",the data type(Dtype) and show each column index."
   ]
  },
  {
   "cell_type": "code",
   "execution_count": 637,
   "id": "e13c9075-1cab-417d-aeff-efd8c658459e",
   "metadata": {},
   "outputs": [],
   "source": [
    "## I will delete the column Item_Identifier because it is Id the column and has nominal data.\n",
    "\n",
    "data_train.drop('Item_Identifier',axis=1,inplace=True)"
   ]
  },
  {
   "cell_type": "code",
   "execution_count": 638,
   "id": "18fb32e2-e89a-450c-8c92-456a9df15491",
   "metadata": {},
   "outputs": [],
   "source": [
    "## I am doing the for test data\n",
    "\n",
    "data_test.drop('Item_Identifier',axis=1,inplace=True)"
   ]
  },
  {
   "cell_type": "markdown",
   "id": "b502cca8-94da-4272-bc63-bd369a844d94",
   "metadata": {},
   "source": [
    "#### I  deleted the column Item_Identifier because it is Id of the column and has nominal data.\n"
   ]
  },
  {
   "cell_type": "code",
   "execution_count": 639,
   "id": "315b0b9f-6688-4b0b-baec-f805ecc95ef8",
   "metadata": {},
   "outputs": [
    {
     "data": {
      "text/html": [
       "<div>\n",
       "<style scoped>\n",
       "    .dataframe tbody tr th:only-of-type {\n",
       "        vertical-align: middle;\n",
       "    }\n",
       "\n",
       "    .dataframe tbody tr th {\n",
       "        vertical-align: top;\n",
       "    }\n",
       "\n",
       "    .dataframe thead th {\n",
       "        text-align: right;\n",
       "    }\n",
       "</style>\n",
       "<table border=\"1\" class=\"dataframe\">\n",
       "  <thead>\n",
       "    <tr style=\"text-align: right;\">\n",
       "      <th></th>\n",
       "      <th>Item_Weight</th>\n",
       "      <th>Item_Visibility</th>\n",
       "      <th>Item_MRP</th>\n",
       "      <th>Outlet_Establishment_Year</th>\n",
       "      <th>Item_Outlet_Sales</th>\n",
       "    </tr>\n",
       "  </thead>\n",
       "  <tbody>\n",
       "    <tr>\n",
       "      <th>count</th>\n",
       "      <td>7060.000000</td>\n",
       "      <td>8523.000000</td>\n",
       "      <td>8523.000000</td>\n",
       "      <td>8523.000000</td>\n",
       "      <td>8523.000000</td>\n",
       "    </tr>\n",
       "    <tr>\n",
       "      <th>mean</th>\n",
       "      <td>12.857645</td>\n",
       "      <td>0.066132</td>\n",
       "      <td>140.992782</td>\n",
       "      <td>1997.831867</td>\n",
       "      <td>2181.288914</td>\n",
       "    </tr>\n",
       "    <tr>\n",
       "      <th>std</th>\n",
       "      <td>4.643456</td>\n",
       "      <td>0.051598</td>\n",
       "      <td>62.275067</td>\n",
       "      <td>8.371760</td>\n",
       "      <td>1706.499616</td>\n",
       "    </tr>\n",
       "    <tr>\n",
       "      <th>min</th>\n",
       "      <td>4.555000</td>\n",
       "      <td>0.000000</td>\n",
       "      <td>31.290000</td>\n",
       "      <td>1985.000000</td>\n",
       "      <td>33.290000</td>\n",
       "    </tr>\n",
       "    <tr>\n",
       "      <th>25%</th>\n",
       "      <td>8.773750</td>\n",
       "      <td>0.026989</td>\n",
       "      <td>93.826500</td>\n",
       "      <td>1987.000000</td>\n",
       "      <td>834.247400</td>\n",
       "    </tr>\n",
       "    <tr>\n",
       "      <th>50%</th>\n",
       "      <td>12.600000</td>\n",
       "      <td>0.053931</td>\n",
       "      <td>143.012800</td>\n",
       "      <td>1999.000000</td>\n",
       "      <td>1794.331000</td>\n",
       "    </tr>\n",
       "    <tr>\n",
       "      <th>75%</th>\n",
       "      <td>16.850000</td>\n",
       "      <td>0.094585</td>\n",
       "      <td>185.643700</td>\n",
       "      <td>2004.000000</td>\n",
       "      <td>3101.296400</td>\n",
       "    </tr>\n",
       "    <tr>\n",
       "      <th>max</th>\n",
       "      <td>21.350000</td>\n",
       "      <td>0.328391</td>\n",
       "      <td>266.888400</td>\n",
       "      <td>2009.000000</td>\n",
       "      <td>13086.964800</td>\n",
       "    </tr>\n",
       "  </tbody>\n",
       "</table>\n",
       "</div>"
      ],
      "text/plain": [
       "       Item_Weight  Item_Visibility     Item_MRP  Outlet_Establishment_Year  \\\n",
       "count  7060.000000      8523.000000  8523.000000                8523.000000   \n",
       "mean     12.857645         0.066132   140.992782                1997.831867   \n",
       "std       4.643456         0.051598    62.275067                   8.371760   \n",
       "min       4.555000         0.000000    31.290000                1985.000000   \n",
       "25%       8.773750         0.026989    93.826500                1987.000000   \n",
       "50%      12.600000         0.053931   143.012800                1999.000000   \n",
       "75%      16.850000         0.094585   185.643700                2004.000000   \n",
       "max      21.350000         0.328391   266.888400                2009.000000   \n",
       "\n",
       "       Item_Outlet_Sales  \n",
       "count        8523.000000  \n",
       "mean         2181.288914  \n",
       "std          1706.499616  \n",
       "min            33.290000  \n",
       "25%           834.247400  \n",
       "50%          1794.331000  \n",
       "75%          3101.296400  \n",
       "max         13086.964800  "
      ]
     },
     "execution_count": 639,
     "metadata": {},
     "output_type": "execute_result"
    }
   ],
   "source": [
    "data_train.describe()"
   ]
  },
  {
   "cell_type": "markdown",
   "id": "1ba8a446-722a-49cc-9c4e-9b200e4f5e7c",
   "metadata": {},
   "source": [
    "#### The describe method give us some statistics distribution of the numerical column and show that only 5 column have numerical data.\n",
    "#### It shows all the count of each column and the quantitles as well."
   ]
  },
  {
   "cell_type": "markdown",
   "id": "6db38d92-e98a-490f-8ab2-4caeda548d3a",
   "metadata": {},
   "source": [
    "## We will seperate our train dataset into two , numerical data and non-numerical data and concatinate them after cleaned them."
   ]
  },
  {
   "cell_type": "code",
   "execution_count": 640,
   "id": "a505cdcf-7cc9-4b8e-8476-036682a4192b",
   "metadata": {},
   "outputs": [],
   "source": [
    "non_num_data = data_train.drop(data_train.describe().columns,axis=1)"
   ]
  },
  {
   "cell_type": "code",
   "execution_count": 641,
   "id": "7acab14b-0723-42b2-a303-2e201e5cc1e5",
   "metadata": {},
   "outputs": [
    {
     "data": {
      "text/html": [
       "<div>\n",
       "<style scoped>\n",
       "    .dataframe tbody tr th:only-of-type {\n",
       "        vertical-align: middle;\n",
       "    }\n",
       "\n",
       "    .dataframe tbody tr th {\n",
       "        vertical-align: top;\n",
       "    }\n",
       "\n",
       "    .dataframe thead th {\n",
       "        text-align: right;\n",
       "    }\n",
       "</style>\n",
       "<table border=\"1\" class=\"dataframe\">\n",
       "  <thead>\n",
       "    <tr style=\"text-align: right;\">\n",
       "      <th></th>\n",
       "      <th>Item_Fat_Content</th>\n",
       "      <th>Item_Type</th>\n",
       "      <th>Outlet_Identifier</th>\n",
       "      <th>Outlet_Size</th>\n",
       "      <th>Outlet_Location_Type</th>\n",
       "      <th>Outlet_Type</th>\n",
       "    </tr>\n",
       "  </thead>\n",
       "  <tbody>\n",
       "    <tr>\n",
       "      <th>0</th>\n",
       "      <td>Low Fat</td>\n",
       "      <td>Dairy</td>\n",
       "      <td>OUT049</td>\n",
       "      <td>Medium</td>\n",
       "      <td>Tier 1</td>\n",
       "      <td>Supermarket Type1</td>\n",
       "    </tr>\n",
       "    <tr>\n",
       "      <th>1</th>\n",
       "      <td>Regular</td>\n",
       "      <td>Soft Drinks</td>\n",
       "      <td>OUT018</td>\n",
       "      <td>Medium</td>\n",
       "      <td>Tier 3</td>\n",
       "      <td>Supermarket Type2</td>\n",
       "    </tr>\n",
       "    <tr>\n",
       "      <th>2</th>\n",
       "      <td>Low Fat</td>\n",
       "      <td>Meat</td>\n",
       "      <td>OUT049</td>\n",
       "      <td>Medium</td>\n",
       "      <td>Tier 1</td>\n",
       "      <td>Supermarket Type1</td>\n",
       "    </tr>\n",
       "    <tr>\n",
       "      <th>3</th>\n",
       "      <td>Regular</td>\n",
       "      <td>Fruits and Vegetables</td>\n",
       "      <td>OUT010</td>\n",
       "      <td>NaN</td>\n",
       "      <td>Tier 3</td>\n",
       "      <td>Grocery Store</td>\n",
       "    </tr>\n",
       "    <tr>\n",
       "      <th>4</th>\n",
       "      <td>Low Fat</td>\n",
       "      <td>Household</td>\n",
       "      <td>OUT013</td>\n",
       "      <td>High</td>\n",
       "      <td>Tier 3</td>\n",
       "      <td>Supermarket Type1</td>\n",
       "    </tr>\n",
       "    <tr>\n",
       "      <th>...</th>\n",
       "      <td>...</td>\n",
       "      <td>...</td>\n",
       "      <td>...</td>\n",
       "      <td>...</td>\n",
       "      <td>...</td>\n",
       "      <td>...</td>\n",
       "    </tr>\n",
       "    <tr>\n",
       "      <th>8518</th>\n",
       "      <td>Low Fat</td>\n",
       "      <td>Snack Foods</td>\n",
       "      <td>OUT013</td>\n",
       "      <td>High</td>\n",
       "      <td>Tier 3</td>\n",
       "      <td>Supermarket Type1</td>\n",
       "    </tr>\n",
       "    <tr>\n",
       "      <th>8519</th>\n",
       "      <td>Regular</td>\n",
       "      <td>Baking Goods</td>\n",
       "      <td>OUT045</td>\n",
       "      <td>NaN</td>\n",
       "      <td>Tier 2</td>\n",
       "      <td>Supermarket Type1</td>\n",
       "    </tr>\n",
       "    <tr>\n",
       "      <th>8520</th>\n",
       "      <td>Low Fat</td>\n",
       "      <td>Health and Hygiene</td>\n",
       "      <td>OUT035</td>\n",
       "      <td>Small</td>\n",
       "      <td>Tier 2</td>\n",
       "      <td>Supermarket Type1</td>\n",
       "    </tr>\n",
       "    <tr>\n",
       "      <th>8521</th>\n",
       "      <td>Regular</td>\n",
       "      <td>Snack Foods</td>\n",
       "      <td>OUT018</td>\n",
       "      <td>Medium</td>\n",
       "      <td>Tier 3</td>\n",
       "      <td>Supermarket Type2</td>\n",
       "    </tr>\n",
       "    <tr>\n",
       "      <th>8522</th>\n",
       "      <td>Low Fat</td>\n",
       "      <td>Soft Drinks</td>\n",
       "      <td>OUT046</td>\n",
       "      <td>Small</td>\n",
       "      <td>Tier 1</td>\n",
       "      <td>Supermarket Type1</td>\n",
       "    </tr>\n",
       "  </tbody>\n",
       "</table>\n",
       "<p>8523 rows × 6 columns</p>\n",
       "</div>"
      ],
      "text/plain": [
       "     Item_Fat_Content              Item_Type Outlet_Identifier Outlet_Size  \\\n",
       "0             Low Fat                  Dairy            OUT049      Medium   \n",
       "1             Regular            Soft Drinks            OUT018      Medium   \n",
       "2             Low Fat                   Meat            OUT049      Medium   \n",
       "3             Regular  Fruits and Vegetables            OUT010         NaN   \n",
       "4             Low Fat              Household            OUT013        High   \n",
       "...               ...                    ...               ...         ...   \n",
       "8518          Low Fat            Snack Foods            OUT013        High   \n",
       "8519          Regular           Baking Goods            OUT045         NaN   \n",
       "8520          Low Fat     Health and Hygiene            OUT035       Small   \n",
       "8521          Regular            Snack Foods            OUT018      Medium   \n",
       "8522          Low Fat            Soft Drinks            OUT046       Small   \n",
       "\n",
       "     Outlet_Location_Type        Outlet_Type  \n",
       "0                  Tier 1  Supermarket Type1  \n",
       "1                  Tier 3  Supermarket Type2  \n",
       "2                  Tier 1  Supermarket Type1  \n",
       "3                  Tier 3      Grocery Store  \n",
       "4                  Tier 3  Supermarket Type1  \n",
       "...                   ...                ...  \n",
       "8518               Tier 3  Supermarket Type1  \n",
       "8519               Tier 2  Supermarket Type1  \n",
       "8520               Tier 2  Supermarket Type1  \n",
       "8521               Tier 3  Supermarket Type2  \n",
       "8522               Tier 1  Supermarket Type1  \n",
       "\n",
       "[8523 rows x 6 columns]"
      ]
     },
     "execution_count": 641,
     "metadata": {},
     "output_type": "execute_result"
    }
   ],
   "source": [
    "non_num_data"
   ]
  },
  {
   "cell_type": "code",
   "execution_count": 642,
   "id": "e9c49a3f-f64f-45fb-835b-422ec7ee875d",
   "metadata": {},
   "outputs": [
    {
     "data": {
      "text/plain": [
       "(8523, 6)"
      ]
     },
     "execution_count": 642,
     "metadata": {},
     "output_type": "execute_result"
    }
   ],
   "source": [
    "non_num_data.shape"
   ]
  },
  {
   "cell_type": "code",
   "execution_count": 643,
   "id": "217a30c7-8a8e-4821-bd05-dd18c5936152",
   "metadata": {},
   "outputs": [],
   "source": [
    "num_data = data_train.drop(non_num_data,axis=1)"
   ]
  },
  {
   "cell_type": "code",
   "execution_count": 644,
   "id": "615b76c2-30d9-4ff9-82aa-836fd00615b3",
   "metadata": {},
   "outputs": [
    {
     "data": {
      "text/html": [
       "<div>\n",
       "<style scoped>\n",
       "    .dataframe tbody tr th:only-of-type {\n",
       "        vertical-align: middle;\n",
       "    }\n",
       "\n",
       "    .dataframe tbody tr th {\n",
       "        vertical-align: top;\n",
       "    }\n",
       "\n",
       "    .dataframe thead th {\n",
       "        text-align: right;\n",
       "    }\n",
       "</style>\n",
       "<table border=\"1\" class=\"dataframe\">\n",
       "  <thead>\n",
       "    <tr style=\"text-align: right;\">\n",
       "      <th></th>\n",
       "      <th>Item_Weight</th>\n",
       "      <th>Item_Visibility</th>\n",
       "      <th>Item_MRP</th>\n",
       "      <th>Outlet_Establishment_Year</th>\n",
       "      <th>Item_Outlet_Sales</th>\n",
       "    </tr>\n",
       "  </thead>\n",
       "  <tbody>\n",
       "    <tr>\n",
       "      <th>0</th>\n",
       "      <td>9.300</td>\n",
       "      <td>0.016047</td>\n",
       "      <td>249.8092</td>\n",
       "      <td>1999</td>\n",
       "      <td>3735.1380</td>\n",
       "    </tr>\n",
       "    <tr>\n",
       "      <th>1</th>\n",
       "      <td>5.920</td>\n",
       "      <td>0.019278</td>\n",
       "      <td>48.2692</td>\n",
       "      <td>2009</td>\n",
       "      <td>443.4228</td>\n",
       "    </tr>\n",
       "    <tr>\n",
       "      <th>2</th>\n",
       "      <td>17.500</td>\n",
       "      <td>0.016760</td>\n",
       "      <td>141.6180</td>\n",
       "      <td>1999</td>\n",
       "      <td>2097.2700</td>\n",
       "    </tr>\n",
       "    <tr>\n",
       "      <th>3</th>\n",
       "      <td>19.200</td>\n",
       "      <td>0.000000</td>\n",
       "      <td>182.0950</td>\n",
       "      <td>1998</td>\n",
       "      <td>732.3800</td>\n",
       "    </tr>\n",
       "    <tr>\n",
       "      <th>4</th>\n",
       "      <td>8.930</td>\n",
       "      <td>0.000000</td>\n",
       "      <td>53.8614</td>\n",
       "      <td>1987</td>\n",
       "      <td>994.7052</td>\n",
       "    </tr>\n",
       "    <tr>\n",
       "      <th>...</th>\n",
       "      <td>...</td>\n",
       "      <td>...</td>\n",
       "      <td>...</td>\n",
       "      <td>...</td>\n",
       "      <td>...</td>\n",
       "    </tr>\n",
       "    <tr>\n",
       "      <th>8518</th>\n",
       "      <td>6.865</td>\n",
       "      <td>0.056783</td>\n",
       "      <td>214.5218</td>\n",
       "      <td>1987</td>\n",
       "      <td>2778.3834</td>\n",
       "    </tr>\n",
       "    <tr>\n",
       "      <th>8519</th>\n",
       "      <td>8.380</td>\n",
       "      <td>0.046982</td>\n",
       "      <td>108.1570</td>\n",
       "      <td>2002</td>\n",
       "      <td>549.2850</td>\n",
       "    </tr>\n",
       "    <tr>\n",
       "      <th>8520</th>\n",
       "      <td>10.600</td>\n",
       "      <td>0.035186</td>\n",
       "      <td>85.1224</td>\n",
       "      <td>2004</td>\n",
       "      <td>1193.1136</td>\n",
       "    </tr>\n",
       "    <tr>\n",
       "      <th>8521</th>\n",
       "      <td>7.210</td>\n",
       "      <td>0.145221</td>\n",
       "      <td>103.1332</td>\n",
       "      <td>2009</td>\n",
       "      <td>1845.5976</td>\n",
       "    </tr>\n",
       "    <tr>\n",
       "      <th>8522</th>\n",
       "      <td>14.800</td>\n",
       "      <td>0.044878</td>\n",
       "      <td>75.4670</td>\n",
       "      <td>1997</td>\n",
       "      <td>765.6700</td>\n",
       "    </tr>\n",
       "  </tbody>\n",
       "</table>\n",
       "<p>8523 rows × 5 columns</p>\n",
       "</div>"
      ],
      "text/plain": [
       "      Item_Weight  Item_Visibility  Item_MRP  Outlet_Establishment_Year  \\\n",
       "0           9.300         0.016047  249.8092                       1999   \n",
       "1           5.920         0.019278   48.2692                       2009   \n",
       "2          17.500         0.016760  141.6180                       1999   \n",
       "3          19.200         0.000000  182.0950                       1998   \n",
       "4           8.930         0.000000   53.8614                       1987   \n",
       "...           ...              ...       ...                        ...   \n",
       "8518        6.865         0.056783  214.5218                       1987   \n",
       "8519        8.380         0.046982  108.1570                       2002   \n",
       "8520       10.600         0.035186   85.1224                       2004   \n",
       "8521        7.210         0.145221  103.1332                       2009   \n",
       "8522       14.800         0.044878   75.4670                       1997   \n",
       "\n",
       "      Item_Outlet_Sales  \n",
       "0             3735.1380  \n",
       "1              443.4228  \n",
       "2             2097.2700  \n",
       "3              732.3800  \n",
       "4              994.7052  \n",
       "...                 ...  \n",
       "8518          2778.3834  \n",
       "8519           549.2850  \n",
       "8520          1193.1136  \n",
       "8521          1845.5976  \n",
       "8522           765.6700  \n",
       "\n",
       "[8523 rows x 5 columns]"
      ]
     },
     "execution_count": 644,
     "metadata": {},
     "output_type": "execute_result"
    }
   ],
   "source": [
    "num_data"
   ]
  },
  {
   "cell_type": "code",
   "execution_count": 108,
   "id": "601f5c39-95e5-4af6-9348-916c9c5e222e",
   "metadata": {},
   "outputs": [
    {
     "data": {
      "text/plain": [
       "5"
      ]
     },
     "execution_count": 108,
     "metadata": {},
     "output_type": "execute_result"
    }
   ],
   "source": [
    "num_data.shape[1]"
   ]
  },
  {
   "cell_type": "markdown",
   "id": "64c67f4c-698a-4e96-994e-8b27d1b5ec0f",
   "metadata": {},
   "source": [
    "## We can see that after seperating them the numerical data is 5 cloumn and non-numercial data is 6 column."
   ]
  },
  {
   "cell_type": "markdown",
   "id": "bee7235a-8edc-4bd4-8b0e-222a9a2d551e",
   "metadata": {},
   "source": [
    "# *********************************************"
   ]
  },
  {
   "cell_type": "markdown",
   "id": "5d6fd6e6-e574-4600-8ddd-0f293193ee96",
   "metadata": {},
   "source": [
    "# First, let's the deal with the numerical data.\n"
   ]
  },
  {
   "cell_type": "code",
   "execution_count": 109,
   "id": "24cad183-5417-42e1-827f-de59208724d8",
   "metadata": {},
   "outputs": [
    {
     "data": {
      "text/plain": [
       "Item_Weight                  1463\n",
       "Item_Visibility                 0\n",
       "Item_MRP                        0\n",
       "Outlet_Establishment_Year       0\n",
       "Item_Outlet_Sales               0\n",
       "dtype: int64"
      ]
     },
     "execution_count": 109,
     "metadata": {},
     "output_type": "execute_result"
    }
   ],
   "source": [
    "num_data.isna().sum()"
   ]
  },
  {
   "cell_type": "markdown",
   "id": "37305b01-2d09-4525-8d2b-57e7ebd02fc2",
   "metadata": {},
   "source": [
    "####  we can see only the Item_Weight column have 1463 missing values."
   ]
  },
  {
   "cell_type": "markdown",
   "id": "e3ace15e-c301-468d-9c3c-c7fa004a07dd",
   "metadata": {},
   "source": [
    "#### Let's fill the missing values in Item_Weight  cloumn"
   ]
  },
  {
   "cell_type": "code",
   "execution_count": 645,
   "id": "1e194b53-87ab-4029-b165-c6ca98aa78b3",
   "metadata": {},
   "outputs": [],
   "source": [
    "## The Item_Weight column has numerical values son will fill the NAN values unsing KNNImputer.\n",
    "# importing the libraries..\n",
    "\n",
    "from sklearn.impute import KNNImputer\n",
    "knn_ipm = KNNImputer(n_neighbors=4)\n"
   ]
  },
  {
   "cell_type": "code",
   "execution_count": 646,
   "id": "97091776-19a3-452e-882a-5522b26a5937",
   "metadata": {},
   "outputs": [],
   "source": [
    "df = knn_ipm.fit_transform(num_data[['Item_Visibility','Item_Weight']])"
   ]
  },
  {
   "cell_type": "code",
   "execution_count": 647,
   "id": "9955f922-e94c-47b5-8196-312d232fe9ce",
   "metadata": {},
   "outputs": [
    {
     "data": {
      "text/plain": [
       "array([[1.60473010e-02, 9.30000000e+00],\n",
       "       [1.92782160e-02, 5.92000000e+00],\n",
       "       [1.67600750e-02, 1.75000000e+01],\n",
       "       ...,\n",
       "       [3.51862710e-02, 1.06000000e+01],\n",
       "       [1.45220646e-01, 7.21000000e+00],\n",
       "       [4.48782800e-02, 1.48000000e+01]])"
      ]
     },
     "execution_count": 647,
     "metadata": {},
     "output_type": "execute_result"
    }
   ],
   "source": [
    "df"
   ]
  },
  {
   "cell_type": "code",
   "execution_count": 648,
   "id": "bd9e798a-6ac8-415a-b799-f71089dfe0a3",
   "metadata": {},
   "outputs": [],
   "source": [
    "## Now let's update the Item_Weight column with new values after inputing.\n",
    "\n",
    "num_data['Item_Weight'] = df[:,1]"
   ]
  },
  {
   "cell_type": "code",
   "execution_count": 649,
   "id": "0255ce13-5ab5-4339-824b-51efaa0c63bf",
   "metadata": {},
   "outputs": [
    {
     "data": {
      "text/plain": [
       "0"
      ]
     },
     "execution_count": 649,
     "metadata": {},
     "output_type": "execute_result"
    }
   ],
   "source": [
    "## Now let verify it.\n",
    "\n",
    "num_data['Item_Weight'].isna().sum()"
   ]
  },
  {
   "cell_type": "code",
   "execution_count": 115,
   "id": "a329b2da-aa9f-4d15-a2d6-85e8354bf0e2",
   "metadata": {},
   "outputs": [
    {
     "data": {
      "text/html": [
       "<div>\n",
       "<style scoped>\n",
       "    .dataframe tbody tr th:only-of-type {\n",
       "        vertical-align: middle;\n",
       "    }\n",
       "\n",
       "    .dataframe tbody tr th {\n",
       "        vertical-align: top;\n",
       "    }\n",
       "\n",
       "    .dataframe thead th {\n",
       "        text-align: right;\n",
       "    }\n",
       "</style>\n",
       "<table border=\"1\" class=\"dataframe\">\n",
       "  <thead>\n",
       "    <tr style=\"text-align: right;\">\n",
       "      <th></th>\n",
       "      <th>Item_Weight</th>\n",
       "      <th>Item_Visibility</th>\n",
       "      <th>Item_MRP</th>\n",
       "      <th>Outlet_Establishment_Year</th>\n",
       "      <th>Item_Outlet_Sales</th>\n",
       "    </tr>\n",
       "  </thead>\n",
       "  <tbody>\n",
       "    <tr>\n",
       "      <th>0</th>\n",
       "      <td>9.30</td>\n",
       "      <td>0.016047</td>\n",
       "      <td>249.8092</td>\n",
       "      <td>1999</td>\n",
       "      <td>3735.1380</td>\n",
       "    </tr>\n",
       "    <tr>\n",
       "      <th>1</th>\n",
       "      <td>5.92</td>\n",
       "      <td>0.019278</td>\n",
       "      <td>48.2692</td>\n",
       "      <td>2009</td>\n",
       "      <td>443.4228</td>\n",
       "    </tr>\n",
       "    <tr>\n",
       "      <th>2</th>\n",
       "      <td>17.50</td>\n",
       "      <td>0.016760</td>\n",
       "      <td>141.6180</td>\n",
       "      <td>1999</td>\n",
       "      <td>2097.2700</td>\n",
       "    </tr>\n",
       "    <tr>\n",
       "      <th>3</th>\n",
       "      <td>19.20</td>\n",
       "      <td>0.000000</td>\n",
       "      <td>182.0950</td>\n",
       "      <td>1998</td>\n",
       "      <td>732.3800</td>\n",
       "    </tr>\n",
       "    <tr>\n",
       "      <th>4</th>\n",
       "      <td>8.93</td>\n",
       "      <td>0.000000</td>\n",
       "      <td>53.8614</td>\n",
       "      <td>1987</td>\n",
       "      <td>994.7052</td>\n",
       "    </tr>\n",
       "  </tbody>\n",
       "</table>\n",
       "</div>"
      ],
      "text/plain": [
       "   Item_Weight  Item_Visibility  Item_MRP  Outlet_Establishment_Year  \\\n",
       "0         9.30         0.016047  249.8092                       1999   \n",
       "1         5.92         0.019278   48.2692                       2009   \n",
       "2        17.50         0.016760  141.6180                       1999   \n",
       "3        19.20         0.000000  182.0950                       1998   \n",
       "4         8.93         0.000000   53.8614                       1987   \n",
       "\n",
       "   Item_Outlet_Sales  \n",
       "0          3735.1380  \n",
       "1           443.4228  \n",
       "2          2097.2700  \n",
       "3           732.3800  \n",
       "4           994.7052  "
      ]
     },
     "execution_count": 115,
     "metadata": {},
     "output_type": "execute_result"
    }
   ],
   "source": [
    "num_data.head()"
   ]
  },
  {
   "cell_type": "markdown",
   "id": "06333264-5ad7-40ea-b996-168c14125ea5",
   "metadata": {},
   "source": [
    "#### Knn imputer will try to find the relation with Item_Weight and Item_Weight  column and impute the data according the relaton with other columns"
   ]
  },
  {
   "cell_type": "markdown",
   "id": "d89812d8-2fa9-402e-a45d-ed5ef5147727",
   "metadata": {},
   "source": [
    "# *********************************************"
   ]
  },
  {
   "cell_type": "markdown",
   "id": "41fa5c39-4c77-43f7-84eb-70a770c20d69",
   "metadata": {},
   "source": [
    "# Secondly, let's the deal with the non-numerical data.\n"
   ]
  },
  {
   "cell_type": "code",
   "execution_count": 650,
   "id": "7181442d-790c-4428-a698-9eccf7ab59ee",
   "metadata": {},
   "outputs": [
    {
     "data": {
      "text/plain": [
       "Item_Fat_Content           0\n",
       "Item_Type                  0\n",
       "Outlet_Identifier          0\n",
       "Outlet_Size             2410\n",
       "Outlet_Location_Type       0\n",
       "Outlet_Type                0\n",
       "dtype: int64"
      ]
     },
     "execution_count": 650,
     "metadata": {},
     "output_type": "execute_result"
    }
   ],
   "source": [
    "non_num_data.isna().sum()"
   ]
  },
  {
   "cell_type": "markdown",
   "id": "1eb7aac6-d5fe-4021-ba6a-ba2faa2366d4",
   "metadata": {},
   "source": [
    "####  we can see only the __Outlet_Size__ column have 2410 missing values. Which is less than 40% of record so we cannot delete it."
   ]
  },
  {
   "cell_type": "code",
   "execution_count": 651,
   "id": "8d8d09af-ffb9-4f5b-a9c2-2404162f20fe",
   "metadata": {},
   "outputs": [
    {
     "data": {
      "text/plain": [
       "array(['Medium', nan, 'High', 'Small'], dtype=object)"
      ]
     },
     "execution_count": 651,
     "metadata": {},
     "output_type": "execute_result"
    }
   ],
   "source": [
    "non_num_data.Outlet_Size.unique() "
   ]
  },
  {
   "cell_type": "code",
   "execution_count": 652,
   "id": "46c87da6-937b-4087-bcf3-8587e72b5bee",
   "metadata": {},
   "outputs": [
    {
     "data": {
      "text/plain": [
       "Medium    2793\n",
       "Small     2388\n",
       "High       932\n",
       "Name: Outlet_Size, dtype: int64"
      ]
     },
     "execution_count": 652,
     "metadata": {},
     "output_type": "execute_result"
    }
   ],
   "source": [
    "non_num_data.Outlet_Size.value_counts() "
   ]
  },
  {
   "cell_type": "markdown",
   "id": "a02dee09-ac2c-4b66-aeda-e052fba7d010",
   "metadata": {},
   "source": [
    "#### for these columns i will fill them using forward fill because there are some kind balance for the value_counts (Medium,Small) ."
   ]
  },
  {
   "cell_type": "code",
   "execution_count": 653,
   "id": "8b775cbf-785d-4c8e-bf12-2b755cebff77",
   "metadata": {},
   "outputs": [],
   "source": [
    "non_num_data['Outlet_Size'] = non_num_data.fillna(method=\"ffill\")"
   ]
  },
  {
   "cell_type": "code",
   "execution_count": 654,
   "id": "c111190d-0a1b-4691-810c-e7acd0302e2f",
   "metadata": {},
   "outputs": [
    {
     "data": {
      "text/plain": [
       "Item_Fat_Content        0\n",
       "Item_Type               0\n",
       "Outlet_Identifier       0\n",
       "Outlet_Size             0\n",
       "Outlet_Location_Type    0\n",
       "Outlet_Type             0\n",
       "dtype: int64"
      ]
     },
     "execution_count": 654,
     "metadata": {},
     "output_type": "execute_result"
    }
   ],
   "source": [
    "## let's verify it.\n",
    "\n",
    "non_num_data.isna().sum()"
   ]
  },
  {
   "cell_type": "code",
   "execution_count": 121,
   "id": "c0ea8969-a629-41b9-9a77-40df4b45b5dc",
   "metadata": {},
   "outputs": [
    {
     "data": {
      "text/html": [
       "<div>\n",
       "<style scoped>\n",
       "    .dataframe tbody tr th:only-of-type {\n",
       "        vertical-align: middle;\n",
       "    }\n",
       "\n",
       "    .dataframe tbody tr th {\n",
       "        vertical-align: top;\n",
       "    }\n",
       "\n",
       "    .dataframe thead th {\n",
       "        text-align: right;\n",
       "    }\n",
       "</style>\n",
       "<table border=\"1\" class=\"dataframe\">\n",
       "  <thead>\n",
       "    <tr style=\"text-align: right;\">\n",
       "      <th></th>\n",
       "      <th>Item_Fat_Content</th>\n",
       "      <th>Item_Type</th>\n",
       "      <th>Outlet_Identifier</th>\n",
       "      <th>Outlet_Size</th>\n",
       "      <th>Outlet_Location_Type</th>\n",
       "      <th>Outlet_Type</th>\n",
       "    </tr>\n",
       "  </thead>\n",
       "  <tbody>\n",
       "    <tr>\n",
       "      <th>0</th>\n",
       "      <td>Low Fat</td>\n",
       "      <td>Dairy</td>\n",
       "      <td>OUT049</td>\n",
       "      <td>Low Fat</td>\n",
       "      <td>Tier 1</td>\n",
       "      <td>Supermarket Type1</td>\n",
       "    </tr>\n",
       "    <tr>\n",
       "      <th>1</th>\n",
       "      <td>Regular</td>\n",
       "      <td>Soft Drinks</td>\n",
       "      <td>OUT018</td>\n",
       "      <td>Regular</td>\n",
       "      <td>Tier 3</td>\n",
       "      <td>Supermarket Type2</td>\n",
       "    </tr>\n",
       "    <tr>\n",
       "      <th>2</th>\n",
       "      <td>Low Fat</td>\n",
       "      <td>Meat</td>\n",
       "      <td>OUT049</td>\n",
       "      <td>Low Fat</td>\n",
       "      <td>Tier 1</td>\n",
       "      <td>Supermarket Type1</td>\n",
       "    </tr>\n",
       "    <tr>\n",
       "      <th>3</th>\n",
       "      <td>Regular</td>\n",
       "      <td>Fruits and Vegetables</td>\n",
       "      <td>OUT010</td>\n",
       "      <td>Regular</td>\n",
       "      <td>Tier 3</td>\n",
       "      <td>Grocery Store</td>\n",
       "    </tr>\n",
       "    <tr>\n",
       "      <th>4</th>\n",
       "      <td>Low Fat</td>\n",
       "      <td>Household</td>\n",
       "      <td>OUT013</td>\n",
       "      <td>Low Fat</td>\n",
       "      <td>Tier 3</td>\n",
       "      <td>Supermarket Type1</td>\n",
       "    </tr>\n",
       "    <tr>\n",
       "      <th>...</th>\n",
       "      <td>...</td>\n",
       "      <td>...</td>\n",
       "      <td>...</td>\n",
       "      <td>...</td>\n",
       "      <td>...</td>\n",
       "      <td>...</td>\n",
       "    </tr>\n",
       "    <tr>\n",
       "      <th>8518</th>\n",
       "      <td>Low Fat</td>\n",
       "      <td>Snack Foods</td>\n",
       "      <td>OUT013</td>\n",
       "      <td>Low Fat</td>\n",
       "      <td>Tier 3</td>\n",
       "      <td>Supermarket Type1</td>\n",
       "    </tr>\n",
       "    <tr>\n",
       "      <th>8519</th>\n",
       "      <td>Regular</td>\n",
       "      <td>Baking Goods</td>\n",
       "      <td>OUT045</td>\n",
       "      <td>Regular</td>\n",
       "      <td>Tier 2</td>\n",
       "      <td>Supermarket Type1</td>\n",
       "    </tr>\n",
       "    <tr>\n",
       "      <th>8520</th>\n",
       "      <td>Low Fat</td>\n",
       "      <td>Health and Hygiene</td>\n",
       "      <td>OUT035</td>\n",
       "      <td>Low Fat</td>\n",
       "      <td>Tier 2</td>\n",
       "      <td>Supermarket Type1</td>\n",
       "    </tr>\n",
       "    <tr>\n",
       "      <th>8521</th>\n",
       "      <td>Regular</td>\n",
       "      <td>Snack Foods</td>\n",
       "      <td>OUT018</td>\n",
       "      <td>Regular</td>\n",
       "      <td>Tier 3</td>\n",
       "      <td>Supermarket Type2</td>\n",
       "    </tr>\n",
       "    <tr>\n",
       "      <th>8522</th>\n",
       "      <td>Low Fat</td>\n",
       "      <td>Soft Drinks</td>\n",
       "      <td>OUT046</td>\n",
       "      <td>Low Fat</td>\n",
       "      <td>Tier 1</td>\n",
       "      <td>Supermarket Type1</td>\n",
       "    </tr>\n",
       "  </tbody>\n",
       "</table>\n",
       "<p>8523 rows × 6 columns</p>\n",
       "</div>"
      ],
      "text/plain": [
       "     Item_Fat_Content              Item_Type Outlet_Identifier Outlet_Size  \\\n",
       "0             Low Fat                  Dairy            OUT049     Low Fat   \n",
       "1             Regular            Soft Drinks            OUT018     Regular   \n",
       "2             Low Fat                   Meat            OUT049     Low Fat   \n",
       "3             Regular  Fruits and Vegetables            OUT010     Regular   \n",
       "4             Low Fat              Household            OUT013     Low Fat   \n",
       "...               ...                    ...               ...         ...   \n",
       "8518          Low Fat            Snack Foods            OUT013     Low Fat   \n",
       "8519          Regular           Baking Goods            OUT045     Regular   \n",
       "8520          Low Fat     Health and Hygiene            OUT035     Low Fat   \n",
       "8521          Regular            Snack Foods            OUT018     Regular   \n",
       "8522          Low Fat            Soft Drinks            OUT046     Low Fat   \n",
       "\n",
       "     Outlet_Location_Type        Outlet_Type  \n",
       "0                  Tier 1  Supermarket Type1  \n",
       "1                  Tier 3  Supermarket Type2  \n",
       "2                  Tier 1  Supermarket Type1  \n",
       "3                  Tier 3      Grocery Store  \n",
       "4                  Tier 3  Supermarket Type1  \n",
       "...                   ...                ...  \n",
       "8518               Tier 3  Supermarket Type1  \n",
       "8519               Tier 2  Supermarket Type1  \n",
       "8520               Tier 2  Supermarket Type1  \n",
       "8521               Tier 3  Supermarket Type2  \n",
       "8522               Tier 1  Supermarket Type1  \n",
       "\n",
       "[8523 rows x 6 columns]"
      ]
     },
     "execution_count": 121,
     "metadata": {},
     "output_type": "execute_result"
    }
   ],
   "source": [
    "non_num_data"
   ]
  },
  {
   "cell_type": "code",
   "execution_count": 655,
   "id": "5c9461e9-02c1-4555-8dd7-025ef06c67f7",
   "metadata": {},
   "outputs": [
    {
     "name": "stdout",
     "output_type": "stream",
     "text": [
      "['Low Fat' 'Regular' 'low fat' 'LF' 'reg']\n",
      "['Dairy' 'Soft Drinks' 'Meat' 'Fruits and Vegetables' 'Household'\n",
      " 'Baking Goods' 'Snack Foods' 'Frozen Foods' 'Breakfast'\n",
      " 'Health and Hygiene' 'Hard Drinks' 'Canned' 'Breads' 'Starchy Foods'\n",
      " 'Others' 'Seafood']\n",
      "['OUT049' 'OUT018' 'OUT010' 'OUT013' 'OUT027' 'OUT045' 'OUT017' 'OUT046'\n",
      " 'OUT035' 'OUT019']\n",
      "['Low Fat' 'Regular' 'low fat' 'LF' 'reg']\n",
      "['Tier 1' 'Tier 3' 'Tier 2']\n",
      "['Supermarket Type1' 'Supermarket Type2' 'Grocery Store'\n",
      " 'Supermarket Type3']\n"
     ]
    }
   ],
   "source": [
    "## let's see the unique class of each column.\n",
    "\n",
    "for i in non_num_data:\n",
    "    print(non_num_data[i].unique())"
   ]
  },
  {
   "cell_type": "markdown",
   "id": "b25b6f55-03c7-4f72-9cbd-1b90841d9621",
   "metadata": {},
   "source": [
    "#### We have two kind of Categorical: Categorical __unscalable__ and Categorical __scalable.__"
   ]
  },
  {
   "cell_type": "markdown",
   "id": "577e0132-83aa-4f3a-9dba-81c665a97f51",
   "metadata": {},
   "source": [
    "#### __So let's seperate non_num_data into two them and  apply deffrent Encoder method to them.__"
   ]
  },
  {
   "cell_type": "code",
   "execution_count": 656,
   "id": "2ac4cb07-1b39-422e-82f8-81bc9c7a8791",
   "metadata": {},
   "outputs": [],
   "source": [
    "unscalable = non_num_data.drop(['Outlet_Location_Type','Outlet_Type'],axis=1)"
   ]
  },
  {
   "cell_type": "code",
   "execution_count": 657,
   "id": "60942d5a-4e71-4428-9206-d52276eed0a4",
   "metadata": {},
   "outputs": [
    {
     "data": {
      "text/html": [
       "<div>\n",
       "<style scoped>\n",
       "    .dataframe tbody tr th:only-of-type {\n",
       "        vertical-align: middle;\n",
       "    }\n",
       "\n",
       "    .dataframe tbody tr th {\n",
       "        vertical-align: top;\n",
       "    }\n",
       "\n",
       "    .dataframe thead th {\n",
       "        text-align: right;\n",
       "    }\n",
       "</style>\n",
       "<table border=\"1\" class=\"dataframe\">\n",
       "  <thead>\n",
       "    <tr style=\"text-align: right;\">\n",
       "      <th></th>\n",
       "      <th>Item_Fat_Content</th>\n",
       "      <th>Item_Type</th>\n",
       "      <th>Outlet_Identifier</th>\n",
       "      <th>Outlet_Size</th>\n",
       "    </tr>\n",
       "  </thead>\n",
       "  <tbody>\n",
       "    <tr>\n",
       "      <th>0</th>\n",
       "      <td>Low Fat</td>\n",
       "      <td>Dairy</td>\n",
       "      <td>OUT049</td>\n",
       "      <td>Low Fat</td>\n",
       "    </tr>\n",
       "    <tr>\n",
       "      <th>1</th>\n",
       "      <td>Regular</td>\n",
       "      <td>Soft Drinks</td>\n",
       "      <td>OUT018</td>\n",
       "      <td>Regular</td>\n",
       "    </tr>\n",
       "    <tr>\n",
       "      <th>2</th>\n",
       "      <td>Low Fat</td>\n",
       "      <td>Meat</td>\n",
       "      <td>OUT049</td>\n",
       "      <td>Low Fat</td>\n",
       "    </tr>\n",
       "  </tbody>\n",
       "</table>\n",
       "</div>"
      ],
      "text/plain": [
       "  Item_Fat_Content    Item_Type Outlet_Identifier Outlet_Size\n",
       "0          Low Fat        Dairy            OUT049     Low Fat\n",
       "1          Regular  Soft Drinks            OUT018     Regular\n",
       "2          Low Fat         Meat            OUT049     Low Fat"
      ]
     },
     "execution_count": 657,
     "metadata": {},
     "output_type": "execute_result"
    }
   ],
   "source": [
    "unscalable.head(3)"
   ]
  },
  {
   "cell_type": "code",
   "execution_count": 658,
   "id": "1bc84dcd-ff6f-47e3-9380-c25b64a5af66",
   "metadata": {},
   "outputs": [],
   "source": [
    "scalable = non_num_data.drop(unscalable,axis=1)"
   ]
  },
  {
   "cell_type": "code",
   "execution_count": 659,
   "id": "a0dd26e4-0071-4ad4-a3ac-cc4e1d0f3251",
   "metadata": {},
   "outputs": [
    {
     "data": {
      "text/html": [
       "<div>\n",
       "<style scoped>\n",
       "    .dataframe tbody tr th:only-of-type {\n",
       "        vertical-align: middle;\n",
       "    }\n",
       "\n",
       "    .dataframe tbody tr th {\n",
       "        vertical-align: top;\n",
       "    }\n",
       "\n",
       "    .dataframe thead th {\n",
       "        text-align: right;\n",
       "    }\n",
       "</style>\n",
       "<table border=\"1\" class=\"dataframe\">\n",
       "  <thead>\n",
       "    <tr style=\"text-align: right;\">\n",
       "      <th></th>\n",
       "      <th>Outlet_Location_Type</th>\n",
       "      <th>Outlet_Type</th>\n",
       "    </tr>\n",
       "  </thead>\n",
       "  <tbody>\n",
       "    <tr>\n",
       "      <th>0</th>\n",
       "      <td>Tier 1</td>\n",
       "      <td>Supermarket Type1</td>\n",
       "    </tr>\n",
       "    <tr>\n",
       "      <th>1</th>\n",
       "      <td>Tier 3</td>\n",
       "      <td>Supermarket Type2</td>\n",
       "    </tr>\n",
       "    <tr>\n",
       "      <th>2</th>\n",
       "      <td>Tier 1</td>\n",
       "      <td>Supermarket Type1</td>\n",
       "    </tr>\n",
       "  </tbody>\n",
       "</table>\n",
       "</div>"
      ],
      "text/plain": [
       "  Outlet_Location_Type        Outlet_Type\n",
       "0               Tier 1  Supermarket Type1\n",
       "1               Tier 3  Supermarket Type2\n",
       "2               Tier 1  Supermarket Type1"
      ]
     },
     "execution_count": 659,
     "metadata": {},
     "output_type": "execute_result"
    }
   ],
   "source": [
    "scalable.head(3)"
   ]
  },
  {
   "cell_type": "markdown",
   "id": "6169f7af-e44f-4ab8-a5d5-7bea498a35f6",
   "metadata": {},
   "source": [
    "## scalable or measurable data"
   ]
  },
  {
   "cell_type": "markdown",
   "id": "47d6fcde-0b41-4746-a849-33cd81ca3dcc",
   "metadata": {},
   "source": [
    "#### we have the columns: 'Outlet_Location_Type' and 'Outlet_Type'"
   ]
  },
  {
   "cell_type": "markdown",
   "id": "9e219787-3e8b-4dbd-a98a-4df00921fcf4",
   "metadata": {},
   "source": [
    "#### let's  encoder them using __OrdinalEncoder.__"
   ]
  },
  {
   "cell_type": "code",
   "execution_count": 127,
   "id": "3b899d55-8a9d-4000-846f-2d2a00ce1162",
   "metadata": {},
   "outputs": [],
   "source": [
    "## importing the libraries\n",
    "\n",
    "from sklearn.preprocessing import OrdinalEncoder\n"
   ]
  },
  {
   "cell_type": "code",
   "execution_count": 660,
   "id": "1b9f44b8-c4ff-4dca-b0f6-849e44ac4de1",
   "metadata": {},
   "outputs": [],
   "source": [
    "ord_enc = OrdinalEncoder(categories= [['Tier 3','Tier 2','Tier 1'],\n",
    "    ['Grocery Store','Supermarket Type3','Supermarket Type2','Supermarket Type1']\n",
    "])"
   ]
  },
  {
   "cell_type": "code",
   "execution_count": 661,
   "id": "c68a0400-92c6-4511-9828-d2b3db060911",
   "metadata": {},
   "outputs": [],
   "source": [
    "df_encoded = ord_enc.fit_transform(scalable[['Outlet_Location_Type','Outlet_Type']])"
   ]
  },
  {
   "cell_type": "code",
   "execution_count": 662,
   "id": "9c43b071-cf17-4394-b8e4-e33fb6d1d133",
   "metadata": {},
   "outputs": [
    {
     "data": {
      "text/plain": [
       "array([[2., 3.],\n",
       "       [0., 2.],\n",
       "       [2., 3.],\n",
       "       ...,\n",
       "       [1., 3.],\n",
       "       [0., 2.],\n",
       "       [2., 3.]])"
      ]
     },
     "execution_count": 662,
     "metadata": {},
     "output_type": "execute_result"
    }
   ],
   "source": [
    "df_encoded"
   ]
  },
  {
   "cell_type": "code",
   "execution_count": 663,
   "id": "965d1f48-3a27-400d-ada0-c198f7209013",
   "metadata": {},
   "outputs": [],
   "source": [
    "#### Let's update the scalable  with the new numerical data after Encodered\n",
    "\n",
    "scalable[['Outlet_Location_Type','Outlet_Type']] = df_encoded "
   ]
  },
  {
   "cell_type": "code",
   "execution_count": 664,
   "id": "f45a28cf-8832-49bc-a54c-a361f284b110",
   "metadata": {},
   "outputs": [
    {
     "data": {
      "text/html": [
       "<div>\n",
       "<style scoped>\n",
       "    .dataframe tbody tr th:only-of-type {\n",
       "        vertical-align: middle;\n",
       "    }\n",
       "\n",
       "    .dataframe tbody tr th {\n",
       "        vertical-align: top;\n",
       "    }\n",
       "\n",
       "    .dataframe thead th {\n",
       "        text-align: right;\n",
       "    }\n",
       "</style>\n",
       "<table border=\"1\" class=\"dataframe\">\n",
       "  <thead>\n",
       "    <tr style=\"text-align: right;\">\n",
       "      <th></th>\n",
       "      <th>Outlet_Location_Type</th>\n",
       "      <th>Outlet_Type</th>\n",
       "    </tr>\n",
       "  </thead>\n",
       "  <tbody>\n",
       "    <tr>\n",
       "      <th>0</th>\n",
       "      <td>2.0</td>\n",
       "      <td>3.0</td>\n",
       "    </tr>\n",
       "    <tr>\n",
       "      <th>1</th>\n",
       "      <td>0.0</td>\n",
       "      <td>2.0</td>\n",
       "    </tr>\n",
       "    <tr>\n",
       "      <th>2</th>\n",
       "      <td>2.0</td>\n",
       "      <td>3.0</td>\n",
       "    </tr>\n",
       "  </tbody>\n",
       "</table>\n",
       "</div>"
      ],
      "text/plain": [
       "   Outlet_Location_Type  Outlet_Type\n",
       "0                   2.0          3.0\n",
       "1                   0.0          2.0\n",
       "2                   2.0          3.0"
      ]
     },
     "execution_count": 664,
     "metadata": {},
     "output_type": "execute_result"
    }
   ],
   "source": [
    "scalable.head(3)"
   ]
  },
  {
   "cell_type": "markdown",
   "id": "1e359869-fb18-48db-b4da-59c9b3ceccdd",
   "metadata": {},
   "source": [
    "#### We have done the scalable data ."
   ]
  },
  {
   "cell_type": "markdown",
   "id": "57e345fc-1d52-4a87-b6f2-b988f4d8f215",
   "metadata": {},
   "source": [
    "### ***************"
   ]
  },
  {
   "cell_type": "markdown",
   "id": "1eb99423-0f49-4cf8-afc5-62e1664c0644",
   "metadata": {},
   "source": [
    "## unscalable or unmeasurable data."
   ]
  },
  {
   "cell_type": "code",
   "execution_count": 133,
   "id": "d22bfeb1-179e-4e28-8ba9-883f6932fd3e",
   "metadata": {},
   "outputs": [
    {
     "data": {
      "text/html": [
       "<div>\n",
       "<style scoped>\n",
       "    .dataframe tbody tr th:only-of-type {\n",
       "        vertical-align: middle;\n",
       "    }\n",
       "\n",
       "    .dataframe tbody tr th {\n",
       "        vertical-align: top;\n",
       "    }\n",
       "\n",
       "    .dataframe thead th {\n",
       "        text-align: right;\n",
       "    }\n",
       "</style>\n",
       "<table border=\"1\" class=\"dataframe\">\n",
       "  <thead>\n",
       "    <tr style=\"text-align: right;\">\n",
       "      <th></th>\n",
       "      <th>Item_Fat_Content</th>\n",
       "      <th>Item_Type</th>\n",
       "      <th>Outlet_Identifier</th>\n",
       "      <th>Outlet_Size</th>\n",
       "    </tr>\n",
       "  </thead>\n",
       "  <tbody>\n",
       "    <tr>\n",
       "      <th>0</th>\n",
       "      <td>Low Fat</td>\n",
       "      <td>Dairy</td>\n",
       "      <td>OUT049</td>\n",
       "      <td>Low Fat</td>\n",
       "    </tr>\n",
       "    <tr>\n",
       "      <th>1</th>\n",
       "      <td>Regular</td>\n",
       "      <td>Soft Drinks</td>\n",
       "      <td>OUT018</td>\n",
       "      <td>Regular</td>\n",
       "    </tr>\n",
       "  </tbody>\n",
       "</table>\n",
       "</div>"
      ],
      "text/plain": [
       "  Item_Fat_Content    Item_Type Outlet_Identifier Outlet_Size\n",
       "0          Low Fat        Dairy            OUT049     Low Fat\n",
       "1          Regular  Soft Drinks            OUT018     Regular"
      ]
     },
     "execution_count": 133,
     "metadata": {},
     "output_type": "execute_result"
    }
   ],
   "source": [
    "unscalable.head(2)"
   ]
  },
  {
   "cell_type": "markdown",
   "id": "2d3b199c-dff1-49f5-b133-1296cc1f38b8",
   "metadata": {},
   "source": [
    "## For unscalable data i will encoder them using __LabelEncoder__ method."
   ]
  },
  {
   "cell_type": "code",
   "execution_count": 134,
   "id": "46c5006e-56f0-4f0c-9931-895a4272aeb4",
   "metadata": {},
   "outputs": [],
   "source": [
    "## import the libraries\n",
    "from sklearn.preprocessing import LabelEncoder"
   ]
  },
  {
   "cell_type": "code",
   "execution_count": 666,
   "id": "a64596ca-dea7-4c6e-a489-e6f18e193999",
   "metadata": {},
   "outputs": [],
   "source": [
    "lb_enc= LabelEncoder()"
   ]
  },
  {
   "cell_type": "code",
   "execution_count": 667,
   "id": "94eb5ef1-b564-45ee-a314-2ec0188f20ca",
   "metadata": {},
   "outputs": [],
   "source": [
    "for i in unscalable.columns:\n",
    "    unscalable[i] = lb_enc.fit_transform(unscalable[i])\n",
    "    "
   ]
  },
  {
   "cell_type": "code",
   "execution_count": 668,
   "id": "aea7df61-430b-49a2-b7e8-41a2ca716a4d",
   "metadata": {},
   "outputs": [
    {
     "data": {
      "text/html": [
       "<div>\n",
       "<style scoped>\n",
       "    .dataframe tbody tr th:only-of-type {\n",
       "        vertical-align: middle;\n",
       "    }\n",
       "\n",
       "    .dataframe tbody tr th {\n",
       "        vertical-align: top;\n",
       "    }\n",
       "\n",
       "    .dataframe thead th {\n",
       "        text-align: right;\n",
       "    }\n",
       "</style>\n",
       "<table border=\"1\" class=\"dataframe\">\n",
       "  <thead>\n",
       "    <tr style=\"text-align: right;\">\n",
       "      <th></th>\n",
       "      <th>Item_Fat_Content</th>\n",
       "      <th>Item_Type</th>\n",
       "      <th>Outlet_Identifier</th>\n",
       "      <th>Outlet_Size</th>\n",
       "    </tr>\n",
       "  </thead>\n",
       "  <tbody>\n",
       "    <tr>\n",
       "      <th>0</th>\n",
       "      <td>1</td>\n",
       "      <td>4</td>\n",
       "      <td>9</td>\n",
       "      <td>1</td>\n",
       "    </tr>\n",
       "    <tr>\n",
       "      <th>1</th>\n",
       "      <td>2</td>\n",
       "      <td>14</td>\n",
       "      <td>3</td>\n",
       "      <td>2</td>\n",
       "    </tr>\n",
       "    <tr>\n",
       "      <th>2</th>\n",
       "      <td>1</td>\n",
       "      <td>10</td>\n",
       "      <td>9</td>\n",
       "      <td>1</td>\n",
       "    </tr>\n",
       "  </tbody>\n",
       "</table>\n",
       "</div>"
      ],
      "text/plain": [
       "   Item_Fat_Content  Item_Type  Outlet_Identifier  Outlet_Size\n",
       "0                 1          4                  9            1\n",
       "1                 2         14                  3            2\n",
       "2                 1         10                  9            1"
      ]
     },
     "execution_count": 668,
     "metadata": {},
     "output_type": "execute_result"
    }
   ],
   "source": [
    "## let's verify\n",
    "\n",
    "unscalable.head(3)"
   ]
  },
  {
   "cell_type": "markdown",
   "id": "1aa09764-9308-471a-9e80-f1a618bbee26",
   "metadata": {},
   "source": [
    "#### We have done the unscalable data ."
   ]
  },
  {
   "cell_type": "markdown",
   "id": "512ad31c-1e37-4e61-903f-e3e744d3fef3",
   "metadata": {},
   "source": [
    "### __Now let's conactinate the unscalable data and scalable data to a single dataset__"
   ]
  },
  {
   "cell_type": "code",
   "execution_count": 669,
   "id": "a15b0d2d-ab14-4a49-b651-be23a25ccb76",
   "metadata": {},
   "outputs": [],
   "source": [
    "num_data2 = pd.concat([unscalable,scalable],axis=1)\n"
   ]
  },
  {
   "cell_type": "code",
   "execution_count": 670,
   "id": "96abac01-b403-4750-b6dd-eb6fe98e15e7",
   "metadata": {},
   "outputs": [
    {
     "data": {
      "text/html": [
       "<div>\n",
       "<style scoped>\n",
       "    .dataframe tbody tr th:only-of-type {\n",
       "        vertical-align: middle;\n",
       "    }\n",
       "\n",
       "    .dataframe tbody tr th {\n",
       "        vertical-align: top;\n",
       "    }\n",
       "\n",
       "    .dataframe thead th {\n",
       "        text-align: right;\n",
       "    }\n",
       "</style>\n",
       "<table border=\"1\" class=\"dataframe\">\n",
       "  <thead>\n",
       "    <tr style=\"text-align: right;\">\n",
       "      <th></th>\n",
       "      <th>Item_Fat_Content</th>\n",
       "      <th>Item_Type</th>\n",
       "      <th>Outlet_Identifier</th>\n",
       "      <th>Outlet_Size</th>\n",
       "      <th>Outlet_Location_Type</th>\n",
       "      <th>Outlet_Type</th>\n",
       "    </tr>\n",
       "  </thead>\n",
       "  <tbody>\n",
       "    <tr>\n",
       "      <th>0</th>\n",
       "      <td>1</td>\n",
       "      <td>4</td>\n",
       "      <td>9</td>\n",
       "      <td>1</td>\n",
       "      <td>2.0</td>\n",
       "      <td>3.0</td>\n",
       "    </tr>\n",
       "    <tr>\n",
       "      <th>1</th>\n",
       "      <td>2</td>\n",
       "      <td>14</td>\n",
       "      <td>3</td>\n",
       "      <td>2</td>\n",
       "      <td>0.0</td>\n",
       "      <td>2.0</td>\n",
       "    </tr>\n",
       "    <tr>\n",
       "      <th>2</th>\n",
       "      <td>1</td>\n",
       "      <td>10</td>\n",
       "      <td>9</td>\n",
       "      <td>1</td>\n",
       "      <td>2.0</td>\n",
       "      <td>3.0</td>\n",
       "    </tr>\n",
       "    <tr>\n",
       "      <th>3</th>\n",
       "      <td>2</td>\n",
       "      <td>6</td>\n",
       "      <td>0</td>\n",
       "      <td>2</td>\n",
       "      <td>0.0</td>\n",
       "      <td>0.0</td>\n",
       "    </tr>\n",
       "    <tr>\n",
       "      <th>4</th>\n",
       "      <td>1</td>\n",
       "      <td>9</td>\n",
       "      <td>1</td>\n",
       "      <td>1</td>\n",
       "      <td>0.0</td>\n",
       "      <td>3.0</td>\n",
       "    </tr>\n",
       "  </tbody>\n",
       "</table>\n",
       "</div>"
      ],
      "text/plain": [
       "   Item_Fat_Content  Item_Type  Outlet_Identifier  Outlet_Size  \\\n",
       "0                 1          4                  9            1   \n",
       "1                 2         14                  3            2   \n",
       "2                 1         10                  9            1   \n",
       "3                 2          6                  0            2   \n",
       "4                 1          9                  1            1   \n",
       "\n",
       "   Outlet_Location_Type  Outlet_Type  \n",
       "0                   2.0          3.0  \n",
       "1                   0.0          2.0  \n",
       "2                   2.0          3.0  \n",
       "3                   0.0          0.0  \n",
       "4                   0.0          3.0  "
      ]
     },
     "execution_count": 670,
     "metadata": {},
     "output_type": "execute_result"
    }
   ],
   "source": [
    "num_data2.head()"
   ]
  },
  {
   "cell_type": "markdown",
   "id": "03b55c9d-a4c2-492a-b706-53c94acdbee8",
   "metadata": {},
   "source": [
    "## __Finally let's conactinate the first numerical data  (num_data) and the second numerical data(num_data2) to a single dataset__ called __clean_data__."
   ]
  },
  {
   "cell_type": "code",
   "execution_count": 671,
   "id": "aa5e1e84-e478-4bd7-b344-e1f7a2b15799",
   "metadata": {},
   "outputs": [],
   "source": [
    "clean_data = pd.concat([num_data2,num_data],axis=1)"
   ]
  },
  {
   "cell_type": "code",
   "execution_count": 672,
   "id": "7ab85cbe-de52-44f0-9520-f36a217fefbf",
   "metadata": {},
   "outputs": [
    {
     "data": {
      "text/html": [
       "<div>\n",
       "<style scoped>\n",
       "    .dataframe tbody tr th:only-of-type {\n",
       "        vertical-align: middle;\n",
       "    }\n",
       "\n",
       "    .dataframe tbody tr th {\n",
       "        vertical-align: top;\n",
       "    }\n",
       "\n",
       "    .dataframe thead th {\n",
       "        text-align: right;\n",
       "    }\n",
       "</style>\n",
       "<table border=\"1\" class=\"dataframe\">\n",
       "  <thead>\n",
       "    <tr style=\"text-align: right;\">\n",
       "      <th></th>\n",
       "      <th>Item_Fat_Content</th>\n",
       "      <th>Item_Type</th>\n",
       "      <th>Outlet_Identifier</th>\n",
       "      <th>Outlet_Size</th>\n",
       "      <th>Outlet_Location_Type</th>\n",
       "      <th>Outlet_Type</th>\n",
       "      <th>Item_Weight</th>\n",
       "      <th>Item_Visibility</th>\n",
       "      <th>Item_MRP</th>\n",
       "      <th>Outlet_Establishment_Year</th>\n",
       "      <th>Item_Outlet_Sales</th>\n",
       "    </tr>\n",
       "  </thead>\n",
       "  <tbody>\n",
       "    <tr>\n",
       "      <th>0</th>\n",
       "      <td>1</td>\n",
       "      <td>4</td>\n",
       "      <td>9</td>\n",
       "      <td>1</td>\n",
       "      <td>2.0</td>\n",
       "      <td>3.0</td>\n",
       "      <td>9.30</td>\n",
       "      <td>0.016047</td>\n",
       "      <td>249.8092</td>\n",
       "      <td>1999</td>\n",
       "      <td>3735.1380</td>\n",
       "    </tr>\n",
       "    <tr>\n",
       "      <th>1</th>\n",
       "      <td>2</td>\n",
       "      <td>14</td>\n",
       "      <td>3</td>\n",
       "      <td>2</td>\n",
       "      <td>0.0</td>\n",
       "      <td>2.0</td>\n",
       "      <td>5.92</td>\n",
       "      <td>0.019278</td>\n",
       "      <td>48.2692</td>\n",
       "      <td>2009</td>\n",
       "      <td>443.4228</td>\n",
       "    </tr>\n",
       "    <tr>\n",
       "      <th>2</th>\n",
       "      <td>1</td>\n",
       "      <td>10</td>\n",
       "      <td>9</td>\n",
       "      <td>1</td>\n",
       "      <td>2.0</td>\n",
       "      <td>3.0</td>\n",
       "      <td>17.50</td>\n",
       "      <td>0.016760</td>\n",
       "      <td>141.6180</td>\n",
       "      <td>1999</td>\n",
       "      <td>2097.2700</td>\n",
       "    </tr>\n",
       "    <tr>\n",
       "      <th>3</th>\n",
       "      <td>2</td>\n",
       "      <td>6</td>\n",
       "      <td>0</td>\n",
       "      <td>2</td>\n",
       "      <td>0.0</td>\n",
       "      <td>0.0</td>\n",
       "      <td>19.20</td>\n",
       "      <td>0.000000</td>\n",
       "      <td>182.0950</td>\n",
       "      <td>1998</td>\n",
       "      <td>732.3800</td>\n",
       "    </tr>\n",
       "    <tr>\n",
       "      <th>4</th>\n",
       "      <td>1</td>\n",
       "      <td>9</td>\n",
       "      <td>1</td>\n",
       "      <td>1</td>\n",
       "      <td>0.0</td>\n",
       "      <td>3.0</td>\n",
       "      <td>8.93</td>\n",
       "      <td>0.000000</td>\n",
       "      <td>53.8614</td>\n",
       "      <td>1987</td>\n",
       "      <td>994.7052</td>\n",
       "    </tr>\n",
       "  </tbody>\n",
       "</table>\n",
       "</div>"
      ],
      "text/plain": [
       "   Item_Fat_Content  Item_Type  Outlet_Identifier  Outlet_Size  \\\n",
       "0                 1          4                  9            1   \n",
       "1                 2         14                  3            2   \n",
       "2                 1         10                  9            1   \n",
       "3                 2          6                  0            2   \n",
       "4                 1          9                  1            1   \n",
       "\n",
       "   Outlet_Location_Type  Outlet_Type  Item_Weight  Item_Visibility  Item_MRP  \\\n",
       "0                   2.0          3.0         9.30         0.016047  249.8092   \n",
       "1                   0.0          2.0         5.92         0.019278   48.2692   \n",
       "2                   2.0          3.0        17.50         0.016760  141.6180   \n",
       "3                   0.0          0.0        19.20         0.000000  182.0950   \n",
       "4                   0.0          3.0         8.93         0.000000   53.8614   \n",
       "\n",
       "   Outlet_Establishment_Year  Item_Outlet_Sales  \n",
       "0                       1999          3735.1380  \n",
       "1                       2009           443.4228  \n",
       "2                       1999          2097.2700  \n",
       "3                       1998           732.3800  \n",
       "4                       1987           994.7052  "
      ]
     },
     "execution_count": 672,
     "metadata": {},
     "output_type": "execute_result"
    }
   ],
   "source": [
    "clean_data.head()"
   ]
  },
  {
   "cell_type": "code",
   "execution_count": 673,
   "id": "0a00ac59-0c0f-4af1-9eb7-c31b052b5c13",
   "metadata": {},
   "outputs": [
    {
     "data": {
      "text/plain": [
       "(8523, 11)"
      ]
     },
     "execution_count": 673,
     "metadata": {},
     "output_type": "execute_result"
    }
   ],
   "source": [
    "clean_data.shape"
   ]
  },
  {
   "cell_type": "markdown",
   "id": "f00a29b0-1a51-4d2b-9ab6-b843471e3cc7",
   "metadata": {},
   "source": [
    "### let's save it."
   ]
  },
  {
   "cell_type": "code",
   "execution_count": 674,
   "id": "97571cb5-d941-4e5d-b519-977e2ec25a93",
   "metadata": {},
   "outputs": [],
   "source": [
    "clean_data.to_csv('cleaned_train.csv',index=False)"
   ]
  },
  {
   "cell_type": "markdown",
   "id": "d63f7e3f-16b7-4452-8599-bb7a01440ddc",
   "metadata": {},
   "source": [
    "### Now our train tata is cleaned and it has 8523 rows and 12 column."
   ]
  },
  {
   "cell_type": "markdown",
   "id": "0df0e448-9733-4069-b802-57b8b594acb4",
   "metadata": {},
   "source": [
    "## ***************************************************************************\n",
    "## ***************************************************************************\n",
    "## ***************************************************************************"
   ]
  },
  {
   "cell_type": "markdown",
   "id": "06853501-3d80-42ad-82d8-9258186d2b2a",
   "metadata": {},
   "source": [
    "## __Now our second work is to apply the same cleaning method to our test dataset and save it as .csv file.__"
   ]
  },
  {
   "cell_type": "code",
   "execution_count": 675,
   "id": "1fbcc6bc-989d-4887-8104-195389207962",
   "metadata": {},
   "outputs": [
    {
     "data": {
      "text/html": [
       "<div>\n",
       "<style scoped>\n",
       "    .dataframe tbody tr th:only-of-type {\n",
       "        vertical-align: middle;\n",
       "    }\n",
       "\n",
       "    .dataframe tbody tr th {\n",
       "        vertical-align: top;\n",
       "    }\n",
       "\n",
       "    .dataframe thead th {\n",
       "        text-align: right;\n",
       "    }\n",
       "</style>\n",
       "<table border=\"1\" class=\"dataframe\">\n",
       "  <thead>\n",
       "    <tr style=\"text-align: right;\">\n",
       "      <th></th>\n",
       "      <th>Item_Weight</th>\n",
       "      <th>Item_Fat_Content</th>\n",
       "      <th>Item_Visibility</th>\n",
       "      <th>Item_Type</th>\n",
       "      <th>Item_MRP</th>\n",
       "      <th>Outlet_Identifier</th>\n",
       "      <th>Outlet_Establishment_Year</th>\n",
       "      <th>Outlet_Size</th>\n",
       "      <th>Outlet_Location_Type</th>\n",
       "      <th>Outlet_Type</th>\n",
       "    </tr>\n",
       "  </thead>\n",
       "  <tbody>\n",
       "    <tr>\n",
       "      <th>0</th>\n",
       "      <td>20.75</td>\n",
       "      <td>Low Fat</td>\n",
       "      <td>0.007565</td>\n",
       "      <td>Snack Foods</td>\n",
       "      <td>107.8622</td>\n",
       "      <td>OUT049</td>\n",
       "      <td>1999</td>\n",
       "      <td>Medium</td>\n",
       "      <td>Tier 1</td>\n",
       "      <td>Supermarket Type1</td>\n",
       "    </tr>\n",
       "    <tr>\n",
       "      <th>1</th>\n",
       "      <td>8.30</td>\n",
       "      <td>reg</td>\n",
       "      <td>0.038428</td>\n",
       "      <td>Dairy</td>\n",
       "      <td>87.3198</td>\n",
       "      <td>OUT017</td>\n",
       "      <td>2007</td>\n",
       "      <td>NaN</td>\n",
       "      <td>Tier 2</td>\n",
       "      <td>Supermarket Type1</td>\n",
       "    </tr>\n",
       "    <tr>\n",
       "      <th>2</th>\n",
       "      <td>14.60</td>\n",
       "      <td>Low Fat</td>\n",
       "      <td>0.099575</td>\n",
       "      <td>Others</td>\n",
       "      <td>241.7538</td>\n",
       "      <td>OUT010</td>\n",
       "      <td>1998</td>\n",
       "      <td>NaN</td>\n",
       "      <td>Tier 3</td>\n",
       "      <td>Grocery Store</td>\n",
       "    </tr>\n",
       "  </tbody>\n",
       "</table>\n",
       "</div>"
      ],
      "text/plain": [
       "   Item_Weight Item_Fat_Content  Item_Visibility    Item_Type  Item_MRP  \\\n",
       "0        20.75          Low Fat         0.007565  Snack Foods  107.8622   \n",
       "1         8.30              reg         0.038428        Dairy   87.3198   \n",
       "2        14.60          Low Fat         0.099575       Others  241.7538   \n",
       "\n",
       "  Outlet_Identifier  Outlet_Establishment_Year Outlet_Size  \\\n",
       "0            OUT049                       1999      Medium   \n",
       "1            OUT017                       2007         NaN   \n",
       "2            OUT010                       1998         NaN   \n",
       "\n",
       "  Outlet_Location_Type        Outlet_Type  \n",
       "0               Tier 1  Supermarket Type1  \n",
       "1               Tier 2  Supermarket Type1  \n",
       "2               Tier 3      Grocery Store  "
      ]
     },
     "execution_count": 675,
     "metadata": {},
     "output_type": "execute_result"
    }
   ],
   "source": [
    "data_test.head(3)"
   ]
  },
  {
   "cell_type": "code",
   "execution_count": 676,
   "id": "67a88cad-ab41-4a4a-a06a-b6db5907a798",
   "metadata": {},
   "outputs": [],
   "source": [
    "non_num_data_test = data_test.drop(data_test.describe().columns,axis=1)"
   ]
  },
  {
   "cell_type": "code",
   "execution_count": 677,
   "id": "ca0f0e29-d990-47c9-b3bd-71a7ddaf4878",
   "metadata": {},
   "outputs": [
    {
     "data": {
      "text/html": [
       "<div>\n",
       "<style scoped>\n",
       "    .dataframe tbody tr th:only-of-type {\n",
       "        vertical-align: middle;\n",
       "    }\n",
       "\n",
       "    .dataframe tbody tr th {\n",
       "        vertical-align: top;\n",
       "    }\n",
       "\n",
       "    .dataframe thead th {\n",
       "        text-align: right;\n",
       "    }\n",
       "</style>\n",
       "<table border=\"1\" class=\"dataframe\">\n",
       "  <thead>\n",
       "    <tr style=\"text-align: right;\">\n",
       "      <th></th>\n",
       "      <th>Item_Fat_Content</th>\n",
       "      <th>Item_Type</th>\n",
       "      <th>Outlet_Identifier</th>\n",
       "      <th>Outlet_Size</th>\n",
       "      <th>Outlet_Location_Type</th>\n",
       "      <th>Outlet_Type</th>\n",
       "    </tr>\n",
       "  </thead>\n",
       "  <tbody>\n",
       "    <tr>\n",
       "      <th>0</th>\n",
       "      <td>Low Fat</td>\n",
       "      <td>Snack Foods</td>\n",
       "      <td>OUT049</td>\n",
       "      <td>Medium</td>\n",
       "      <td>Tier 1</td>\n",
       "      <td>Supermarket Type1</td>\n",
       "    </tr>\n",
       "    <tr>\n",
       "      <th>1</th>\n",
       "      <td>reg</td>\n",
       "      <td>Dairy</td>\n",
       "      <td>OUT017</td>\n",
       "      <td>NaN</td>\n",
       "      <td>Tier 2</td>\n",
       "      <td>Supermarket Type1</td>\n",
       "    </tr>\n",
       "  </tbody>\n",
       "</table>\n",
       "</div>"
      ],
      "text/plain": [
       "  Item_Fat_Content    Item_Type Outlet_Identifier Outlet_Size  \\\n",
       "0          Low Fat  Snack Foods            OUT049      Medium   \n",
       "1              reg        Dairy            OUT017         NaN   \n",
       "\n",
       "  Outlet_Location_Type        Outlet_Type  \n",
       "0               Tier 1  Supermarket Type1  \n",
       "1               Tier 2  Supermarket Type1  "
      ]
     },
     "execution_count": 677,
     "metadata": {},
     "output_type": "execute_result"
    }
   ],
   "source": [
    "non_num_data_test.head(2)"
   ]
  },
  {
   "cell_type": "code",
   "execution_count": 678,
   "id": "964ae619-252a-4707-b6ed-718d0142a7fa",
   "metadata": {},
   "outputs": [],
   "source": [
    "num_data_test = data_test.drop(non_num_data_test,axis=1)"
   ]
  },
  {
   "cell_type": "code",
   "execution_count": 679,
   "id": "dac2a920-c379-43f7-85db-4ab5c67331f2",
   "metadata": {},
   "outputs": [
    {
     "data": {
      "text/html": [
       "<div>\n",
       "<style scoped>\n",
       "    .dataframe tbody tr th:only-of-type {\n",
       "        vertical-align: middle;\n",
       "    }\n",
       "\n",
       "    .dataframe tbody tr th {\n",
       "        vertical-align: top;\n",
       "    }\n",
       "\n",
       "    .dataframe thead th {\n",
       "        text-align: right;\n",
       "    }\n",
       "</style>\n",
       "<table border=\"1\" class=\"dataframe\">\n",
       "  <thead>\n",
       "    <tr style=\"text-align: right;\">\n",
       "      <th></th>\n",
       "      <th>Item_Weight</th>\n",
       "      <th>Item_Visibility</th>\n",
       "      <th>Item_MRP</th>\n",
       "      <th>Outlet_Establishment_Year</th>\n",
       "    </tr>\n",
       "  </thead>\n",
       "  <tbody>\n",
       "    <tr>\n",
       "      <th>0</th>\n",
       "      <td>20.750</td>\n",
       "      <td>0.007565</td>\n",
       "      <td>107.8622</td>\n",
       "      <td>1999</td>\n",
       "    </tr>\n",
       "    <tr>\n",
       "      <th>1</th>\n",
       "      <td>8.300</td>\n",
       "      <td>0.038428</td>\n",
       "      <td>87.3198</td>\n",
       "      <td>2007</td>\n",
       "    </tr>\n",
       "    <tr>\n",
       "      <th>2</th>\n",
       "      <td>14.600</td>\n",
       "      <td>0.099575</td>\n",
       "      <td>241.7538</td>\n",
       "      <td>1998</td>\n",
       "    </tr>\n",
       "    <tr>\n",
       "      <th>3</th>\n",
       "      <td>7.315</td>\n",
       "      <td>0.015388</td>\n",
       "      <td>155.0340</td>\n",
       "      <td>2007</td>\n",
       "    </tr>\n",
       "    <tr>\n",
       "      <th>4</th>\n",
       "      <td>NaN</td>\n",
       "      <td>0.118599</td>\n",
       "      <td>234.2300</td>\n",
       "      <td>1985</td>\n",
       "    </tr>\n",
       "    <tr>\n",
       "      <th>...</th>\n",
       "      <td>...</td>\n",
       "      <td>...</td>\n",
       "      <td>...</td>\n",
       "      <td>...</td>\n",
       "    </tr>\n",
       "    <tr>\n",
       "      <th>5676</th>\n",
       "      <td>10.500</td>\n",
       "      <td>0.013496</td>\n",
       "      <td>141.3154</td>\n",
       "      <td>1997</td>\n",
       "    </tr>\n",
       "    <tr>\n",
       "      <th>5677</th>\n",
       "      <td>7.600</td>\n",
       "      <td>0.142991</td>\n",
       "      <td>169.1448</td>\n",
       "      <td>2009</td>\n",
       "    </tr>\n",
       "    <tr>\n",
       "      <th>5678</th>\n",
       "      <td>10.000</td>\n",
       "      <td>0.073529</td>\n",
       "      <td>118.7440</td>\n",
       "      <td>2002</td>\n",
       "    </tr>\n",
       "    <tr>\n",
       "      <th>5679</th>\n",
       "      <td>15.300</td>\n",
       "      <td>0.000000</td>\n",
       "      <td>214.6218</td>\n",
       "      <td>2007</td>\n",
       "    </tr>\n",
       "    <tr>\n",
       "      <th>5680</th>\n",
       "      <td>9.500</td>\n",
       "      <td>0.104720</td>\n",
       "      <td>79.7960</td>\n",
       "      <td>2002</td>\n",
       "    </tr>\n",
       "  </tbody>\n",
       "</table>\n",
       "<p>5681 rows × 4 columns</p>\n",
       "</div>"
      ],
      "text/plain": [
       "      Item_Weight  Item_Visibility  Item_MRP  Outlet_Establishment_Year\n",
       "0          20.750         0.007565  107.8622                       1999\n",
       "1           8.300         0.038428   87.3198                       2007\n",
       "2          14.600         0.099575  241.7538                       1998\n",
       "3           7.315         0.015388  155.0340                       2007\n",
       "4             NaN         0.118599  234.2300                       1985\n",
       "...           ...              ...       ...                        ...\n",
       "5676       10.500         0.013496  141.3154                       1997\n",
       "5677        7.600         0.142991  169.1448                       2009\n",
       "5678       10.000         0.073529  118.7440                       2002\n",
       "5679       15.300         0.000000  214.6218                       2007\n",
       "5680        9.500         0.104720   79.7960                       2002\n",
       "\n",
       "[5681 rows x 4 columns]"
      ]
     },
     "execution_count": 679,
     "metadata": {},
     "output_type": "execute_result"
    }
   ],
   "source": [
    "num_data_test"
   ]
  },
  {
   "cell_type": "code",
   "execution_count": 680,
   "id": "fa44cf7d-e23f-46f8-a786-ec171a131ddb",
   "metadata": {},
   "outputs": [
    {
     "data": {
      "text/plain": [
       "Item_Weight                  976\n",
       "Item_Visibility                0\n",
       "Item_MRP                       0\n",
       "Outlet_Establishment_Year      0\n",
       "dtype: int64"
      ]
     },
     "execution_count": 680,
     "metadata": {},
     "output_type": "execute_result"
    }
   ],
   "source": [
    "## checking for missing values\n",
    "\n",
    "num_data_test.isna().sum()\n"
   ]
  },
  {
   "cell_type": "code",
   "execution_count": 681,
   "id": "980271cf-4d48-4ce1-8e20-64ea75d82ff8",
   "metadata": {},
   "outputs": [],
   "source": [
    "df_test = knn_ipm.fit_transform(num_data_test[['Item_MRP','Item_Weight']])\n"
   ]
  },
  {
   "cell_type": "code",
   "execution_count": 682,
   "id": "97018610-776a-4a44-a511-0a9d67bb6ae4",
   "metadata": {},
   "outputs": [
    {
     "data": {
      "text/plain": [
       "array([[107.8622,  20.75  ],\n",
       "       [ 87.3198,   8.3   ],\n",
       "       [241.7538,  14.6   ],\n",
       "       ...,\n",
       "       [118.744 ,  10.    ],\n",
       "       [214.6218,  15.3   ],\n",
       "       [ 79.796 ,   9.5   ]])"
      ]
     },
     "execution_count": 682,
     "metadata": {},
     "output_type": "execute_result"
    }
   ],
   "source": [
    "df_test"
   ]
  },
  {
   "cell_type": "code",
   "execution_count": 683,
   "id": "3543f50a-792f-4edd-bd5a-19217ee6e06a",
   "metadata": {},
   "outputs": [],
   "source": [
    "## Now let's update the Item_Weight column with new values after inputing.\n",
    "\n",
    "num_data_test['Item_Weight'] = df_test[:,1]"
   ]
  },
  {
   "cell_type": "code",
   "execution_count": 684,
   "id": "df9b1a71-be00-4ad3-9ff7-49b1c5fb0206",
   "metadata": {},
   "outputs": [
    {
     "data": {
      "text/plain": [
       "Item_Weight                  0\n",
       "Item_Visibility              0\n",
       "Item_MRP                     0\n",
       "Outlet_Establishment_Year    0\n",
       "dtype: int64"
      ]
     },
     "execution_count": 684,
     "metadata": {},
     "output_type": "execute_result"
    }
   ],
   "source": [
    "num_data_test.isna().sum()"
   ]
  },
  {
   "cell_type": "markdown",
   "id": "7d71d01f-5ae8-4183-b96a-0520a33b9303",
   "metadata": {},
   "source": [
    "## Secondly, let's the deal with the non-numerical data.\n"
   ]
  },
  {
   "cell_type": "code",
   "execution_count": 685,
   "id": "29531d23-d45d-4a3d-83b1-63ea924439db",
   "metadata": {},
   "outputs": [
    {
     "data": {
      "text/plain": [
       "Item_Fat_Content           0\n",
       "Item_Type                  0\n",
       "Outlet_Identifier          0\n",
       "Outlet_Size             1606\n",
       "Outlet_Location_Type       0\n",
       "Outlet_Type                0\n",
       "dtype: int64"
      ]
     },
     "execution_count": 685,
     "metadata": {},
     "output_type": "execute_result"
    }
   ],
   "source": [
    "non_num_data_test.isna().sum()"
   ]
  },
  {
   "cell_type": "code",
   "execution_count": 686,
   "id": "d07dc939-94a4-48f2-ab74-8dc78b8c03f5",
   "metadata": {},
   "outputs": [],
   "source": [
    "non_num_data_test['Outlet_Size'] = non_num_data_test.fillna(method=\"ffill\")"
   ]
  },
  {
   "cell_type": "code",
   "execution_count": 687,
   "id": "97239de3-a644-4757-b19c-f5fb95d06987",
   "metadata": {},
   "outputs": [
    {
     "data": {
      "text/plain": [
       "Item_Fat_Content        0\n",
       "Item_Type               0\n",
       "Outlet_Identifier       0\n",
       "Outlet_Size             0\n",
       "Outlet_Location_Type    0\n",
       "Outlet_Type             0\n",
       "dtype: int64"
      ]
     },
     "execution_count": 687,
     "metadata": {},
     "output_type": "execute_result"
    }
   ],
   "source": [
    "non_num_data_test.isna().sum()"
   ]
  },
  {
   "cell_type": "code",
   "execution_count": 688,
   "id": "33873d14-cf6b-46a5-8d83-c3d8126d4da6",
   "metadata": {},
   "outputs": [
    {
     "data": {
      "text/html": [
       "<div>\n",
       "<style scoped>\n",
       "    .dataframe tbody tr th:only-of-type {\n",
       "        vertical-align: middle;\n",
       "    }\n",
       "\n",
       "    .dataframe tbody tr th {\n",
       "        vertical-align: top;\n",
       "    }\n",
       "\n",
       "    .dataframe thead th {\n",
       "        text-align: right;\n",
       "    }\n",
       "</style>\n",
       "<table border=\"1\" class=\"dataframe\">\n",
       "  <thead>\n",
       "    <tr style=\"text-align: right;\">\n",
       "      <th></th>\n",
       "      <th>Item_Fat_Content</th>\n",
       "      <th>Item_Type</th>\n",
       "      <th>Outlet_Identifier</th>\n",
       "      <th>Outlet_Size</th>\n",
       "      <th>Outlet_Location_Type</th>\n",
       "      <th>Outlet_Type</th>\n",
       "    </tr>\n",
       "  </thead>\n",
       "  <tbody>\n",
       "    <tr>\n",
       "      <th>0</th>\n",
       "      <td>Low Fat</td>\n",
       "      <td>Snack Foods</td>\n",
       "      <td>OUT049</td>\n",
       "      <td>Low Fat</td>\n",
       "      <td>Tier 1</td>\n",
       "      <td>Supermarket Type1</td>\n",
       "    </tr>\n",
       "    <tr>\n",
       "      <th>1</th>\n",
       "      <td>reg</td>\n",
       "      <td>Dairy</td>\n",
       "      <td>OUT017</td>\n",
       "      <td>reg</td>\n",
       "      <td>Tier 2</td>\n",
       "      <td>Supermarket Type1</td>\n",
       "    </tr>\n",
       "    <tr>\n",
       "      <th>2</th>\n",
       "      <td>Low Fat</td>\n",
       "      <td>Others</td>\n",
       "      <td>OUT010</td>\n",
       "      <td>Low Fat</td>\n",
       "      <td>Tier 3</td>\n",
       "      <td>Grocery Store</td>\n",
       "    </tr>\n",
       "  </tbody>\n",
       "</table>\n",
       "</div>"
      ],
      "text/plain": [
       "  Item_Fat_Content    Item_Type Outlet_Identifier Outlet_Size  \\\n",
       "0          Low Fat  Snack Foods            OUT049     Low Fat   \n",
       "1              reg        Dairy            OUT017         reg   \n",
       "2          Low Fat       Others            OUT010     Low Fat   \n",
       "\n",
       "  Outlet_Location_Type        Outlet_Type  \n",
       "0               Tier 1  Supermarket Type1  \n",
       "1               Tier 2  Supermarket Type1  \n",
       "2               Tier 3      Grocery Store  "
      ]
     },
     "execution_count": 688,
     "metadata": {},
     "output_type": "execute_result"
    }
   ],
   "source": [
    "non_num_data_test.head(3)"
   ]
  },
  {
   "cell_type": "code",
   "execution_count": 689,
   "id": "bc9a1d5b-426d-49e9-badb-0a03f84a23ec",
   "metadata": {},
   "outputs": [
    {
     "name": "stdout",
     "output_type": "stream",
     "text": [
      "['Low Fat' 'reg' 'Regular' 'LF' 'low fat']\n",
      "['Snack Foods' 'Dairy' 'Others' 'Fruits and Vegetables' 'Baking Goods'\n",
      " 'Health and Hygiene' 'Breads' 'Hard Drinks' 'Seafood' 'Soft Drinks'\n",
      " 'Household' 'Frozen Foods' 'Meat' 'Canned' 'Starchy Foods' 'Breakfast']\n",
      "['OUT049' 'OUT017' 'OUT010' 'OUT027' 'OUT046' 'OUT018' 'OUT045' 'OUT019'\n",
      " 'OUT013' 'OUT035']\n",
      "['Low Fat' 'reg' 'Regular' 'LF' 'low fat']\n",
      "['Tier 1' 'Tier 2' 'Tier 3']\n",
      "['Supermarket Type1' 'Grocery Store' 'Supermarket Type3'\n",
      " 'Supermarket Type2']\n"
     ]
    }
   ],
   "source": [
    "## let's see the unique class of each column.\n",
    "\n",
    "for i in non_num_data_test:\n",
    "    print(non_num_data_test[i].unique())"
   ]
  },
  {
   "cell_type": "code",
   "execution_count": 690,
   "id": "91060dc7-2729-4c58-95bd-a7fc74af9db8",
   "metadata": {},
   "outputs": [],
   "source": [
    "unscalable_test = non_num_data_test.drop(['Outlet_Location_Type','Outlet_Type'],axis=1)"
   ]
  },
  {
   "cell_type": "code",
   "execution_count": 691,
   "id": "d2750bf0-880f-49bf-979a-ad13bcbfd515",
   "metadata": {},
   "outputs": [
    {
     "data": {
      "text/plain": [
       "(5681, 4)"
      ]
     },
     "execution_count": 691,
     "metadata": {},
     "output_type": "execute_result"
    }
   ],
   "source": [
    "unscalable_test.shape"
   ]
  },
  {
   "cell_type": "code",
   "execution_count": 692,
   "id": "b8519d30-5a6f-4e89-8ec0-d8d740dd8c78",
   "metadata": {},
   "outputs": [],
   "source": [
    "scalable_test = non_num_data_test.drop(unscalable_test,axis=1)"
   ]
  },
  {
   "cell_type": "code",
   "execution_count": 693,
   "id": "b919ce5d-7d9a-47fd-a0dc-37bf0dea8a05",
   "metadata": {},
   "outputs": [
    {
     "data": {
      "text/plain": [
       "(5681, 2)"
      ]
     },
     "execution_count": 693,
     "metadata": {},
     "output_type": "execute_result"
    }
   ],
   "source": [
    "scalable_test.shape"
   ]
  },
  {
   "cell_type": "markdown",
   "id": "b0e8b4cc-77f8-479b-890f-c86b13565b79",
   "metadata": {},
   "source": [
    "### scalable_test"
   ]
  },
  {
   "cell_type": "code",
   "execution_count": 694,
   "id": "6120d503-c0b0-4755-857d-38eaf1be2032",
   "metadata": {},
   "outputs": [],
   "source": [
    "ord_enc1 = OrdinalEncoder(categories= [['Tier 3','Tier 2','Tier 1'],\n",
    "    ['Grocery Store','Supermarket Type3','Supermarket Type2','Supermarket Type1']\n",
    "])"
   ]
  },
  {
   "cell_type": "code",
   "execution_count": 695,
   "id": "854067bd-24de-4d70-85f6-884f3577d798",
   "metadata": {},
   "outputs": [],
   "source": [
    "df_encoded1 = ord_enc1.fit_transform(scalable_test[['Outlet_Location_Type','Outlet_Type']])"
   ]
  },
  {
   "cell_type": "code",
   "execution_count": 696,
   "id": "bd9024b4-6814-41a0-b4f6-42397fb606b7",
   "metadata": {},
   "outputs": [
    {
     "data": {
      "text/plain": [
       "array([[2., 3.],\n",
       "       [1., 3.],\n",
       "       [0., 0.],\n",
       "       ...,\n",
       "       [1., 3.],\n",
       "       [1., 3.],\n",
       "       [1., 3.]])"
      ]
     },
     "execution_count": 696,
     "metadata": {},
     "output_type": "execute_result"
    }
   ],
   "source": [
    "df_encoded1"
   ]
  },
  {
   "cell_type": "code",
   "execution_count": 697,
   "id": "232556b3-1c28-4612-a9e9-e341f9a7ac48",
   "metadata": {},
   "outputs": [],
   "source": [
    "#### Let's update the scalable  with the new numerical data after Encodered\n",
    "\n",
    "scalable_test[['Outlet_Location_Type','Outlet_Type']] = df_encoded1 "
   ]
  },
  {
   "cell_type": "code",
   "execution_count": 698,
   "id": "73ccdf9e-7a53-4d4b-baec-1b8466ef37f2",
   "metadata": {},
   "outputs": [
    {
     "data": {
      "text/html": [
       "<div>\n",
       "<style scoped>\n",
       "    .dataframe tbody tr th:only-of-type {\n",
       "        vertical-align: middle;\n",
       "    }\n",
       "\n",
       "    .dataframe tbody tr th {\n",
       "        vertical-align: top;\n",
       "    }\n",
       "\n",
       "    .dataframe thead th {\n",
       "        text-align: right;\n",
       "    }\n",
       "</style>\n",
       "<table border=\"1\" class=\"dataframe\">\n",
       "  <thead>\n",
       "    <tr style=\"text-align: right;\">\n",
       "      <th></th>\n",
       "      <th>Outlet_Location_Type</th>\n",
       "      <th>Outlet_Type</th>\n",
       "    </tr>\n",
       "  </thead>\n",
       "  <tbody>\n",
       "    <tr>\n",
       "      <th>0</th>\n",
       "      <td>2.0</td>\n",
       "      <td>3.0</td>\n",
       "    </tr>\n",
       "    <tr>\n",
       "      <th>1</th>\n",
       "      <td>1.0</td>\n",
       "      <td>3.0</td>\n",
       "    </tr>\n",
       "  </tbody>\n",
       "</table>\n",
       "</div>"
      ],
      "text/plain": [
       "   Outlet_Location_Type  Outlet_Type\n",
       "0                   2.0          3.0\n",
       "1                   1.0          3.0"
      ]
     },
     "execution_count": 698,
     "metadata": {},
     "output_type": "execute_result"
    }
   ],
   "source": [
    "scalable_test.head(2)"
   ]
  },
  {
   "cell_type": "markdown",
   "id": "c82fd3bf-c23d-427d-b913-507839e040e6",
   "metadata": {},
   "source": [
    "## unscalable_test"
   ]
  },
  {
   "cell_type": "code",
   "execution_count": 699,
   "id": "47c4e5a8-2773-46df-af18-076472a1c676",
   "metadata": {},
   "outputs": [],
   "source": [
    "for i in unscalable_test.columns:\n",
    "    unscalable_test[i] = lb_enc.fit_transform(unscalable_test[i])"
   ]
  },
  {
   "cell_type": "code",
   "execution_count": 700,
   "id": "e3d10457-39cc-4d1f-a80d-e28592b26276",
   "metadata": {},
   "outputs": [
    {
     "data": {
      "text/html": [
       "<div>\n",
       "<style scoped>\n",
       "    .dataframe tbody tr th:only-of-type {\n",
       "        vertical-align: middle;\n",
       "    }\n",
       "\n",
       "    .dataframe tbody tr th {\n",
       "        vertical-align: top;\n",
       "    }\n",
       "\n",
       "    .dataframe thead th {\n",
       "        text-align: right;\n",
       "    }\n",
       "</style>\n",
       "<table border=\"1\" class=\"dataframe\">\n",
       "  <thead>\n",
       "    <tr style=\"text-align: right;\">\n",
       "      <th></th>\n",
       "      <th>Item_Fat_Content</th>\n",
       "      <th>Item_Type</th>\n",
       "      <th>Outlet_Identifier</th>\n",
       "      <th>Outlet_Size</th>\n",
       "    </tr>\n",
       "  </thead>\n",
       "  <tbody>\n",
       "    <tr>\n",
       "      <th>0</th>\n",
       "      <td>1</td>\n",
       "      <td>13</td>\n",
       "      <td>9</td>\n",
       "      <td>1</td>\n",
       "    </tr>\n",
       "    <tr>\n",
       "      <th>1</th>\n",
       "      <td>4</td>\n",
       "      <td>4</td>\n",
       "      <td>2</td>\n",
       "      <td>4</td>\n",
       "    </tr>\n",
       "  </tbody>\n",
       "</table>\n",
       "</div>"
      ],
      "text/plain": [
       "   Item_Fat_Content  Item_Type  Outlet_Identifier  Outlet_Size\n",
       "0                 1         13                  9            1\n",
       "1                 4          4                  2            4"
      ]
     },
     "execution_count": 700,
     "metadata": {},
     "output_type": "execute_result"
    }
   ],
   "source": [
    "unscalable_test.head(2)"
   ]
  },
  {
   "cell_type": "markdown",
   "id": "644c9f97-a0e7-4827-aff7-6118757d3088",
   "metadata": {},
   "source": [
    "### __Now let's conactinate the unscalable_test data and scalable_test data to a single dataset__"
   ]
  },
  {
   "cell_type": "code",
   "execution_count": 701,
   "id": "cfa767df-31b2-4f8f-a9ae-54c75fea4a41",
   "metadata": {},
   "outputs": [],
   "source": [
    "\n",
    "num_data2_test = pd.concat([unscalable_test,scalable_test],axis=1)"
   ]
  },
  {
   "cell_type": "markdown",
   "id": "8982c4a5-04ab-468e-bca4-6caac9e1ed16",
   "metadata": {},
   "source": [
    "## __Finally let's conactinate the first numerical data  (num_data_test) and the second numerical data(num_data2_test) to a single dataset__ called __clean_data_test__."
   ]
  },
  {
   "cell_type": "code",
   "execution_count": 702,
   "id": "15265b1a-bfd0-4d6f-81cd-7ba0121c9548",
   "metadata": {},
   "outputs": [],
   "source": [
    "clean_data_test = pd.concat([num_data2_test,num_data_test],axis=1)"
   ]
  },
  {
   "cell_type": "code",
   "execution_count": 703,
   "id": "95bad0a7-c61e-4d9a-bbe3-333f983a8b3e",
   "metadata": {},
   "outputs": [
    {
     "data": {
      "text/html": [
       "<div>\n",
       "<style scoped>\n",
       "    .dataframe tbody tr th:only-of-type {\n",
       "        vertical-align: middle;\n",
       "    }\n",
       "\n",
       "    .dataframe tbody tr th {\n",
       "        vertical-align: top;\n",
       "    }\n",
       "\n",
       "    .dataframe thead th {\n",
       "        text-align: right;\n",
       "    }\n",
       "</style>\n",
       "<table border=\"1\" class=\"dataframe\">\n",
       "  <thead>\n",
       "    <tr style=\"text-align: right;\">\n",
       "      <th></th>\n",
       "      <th>Item_Fat_Content</th>\n",
       "      <th>Item_Type</th>\n",
       "      <th>Outlet_Identifier</th>\n",
       "      <th>Outlet_Size</th>\n",
       "      <th>Outlet_Location_Type</th>\n",
       "      <th>Outlet_Type</th>\n",
       "      <th>Item_Weight</th>\n",
       "      <th>Item_Visibility</th>\n",
       "      <th>Item_MRP</th>\n",
       "      <th>Outlet_Establishment_Year</th>\n",
       "    </tr>\n",
       "  </thead>\n",
       "  <tbody>\n",
       "    <tr>\n",
       "      <th>0</th>\n",
       "      <td>1</td>\n",
       "      <td>13</td>\n",
       "      <td>9</td>\n",
       "      <td>1</td>\n",
       "      <td>2.0</td>\n",
       "      <td>3.0</td>\n",
       "      <td>20.7500</td>\n",
       "      <td>0.007565</td>\n",
       "      <td>107.8622</td>\n",
       "      <td>1999</td>\n",
       "    </tr>\n",
       "    <tr>\n",
       "      <th>1</th>\n",
       "      <td>4</td>\n",
       "      <td>4</td>\n",
       "      <td>2</td>\n",
       "      <td>4</td>\n",
       "      <td>1.0</td>\n",
       "      <td>3.0</td>\n",
       "      <td>8.3000</td>\n",
       "      <td>0.038428</td>\n",
       "      <td>87.3198</td>\n",
       "      <td>2007</td>\n",
       "    </tr>\n",
       "    <tr>\n",
       "      <th>2</th>\n",
       "      <td>1</td>\n",
       "      <td>11</td>\n",
       "      <td>0</td>\n",
       "      <td>1</td>\n",
       "      <td>0.0</td>\n",
       "      <td>0.0</td>\n",
       "      <td>14.6000</td>\n",
       "      <td>0.099575</td>\n",
       "      <td>241.7538</td>\n",
       "      <td>1998</td>\n",
       "    </tr>\n",
       "    <tr>\n",
       "      <th>3</th>\n",
       "      <td>1</td>\n",
       "      <td>13</td>\n",
       "      <td>2</td>\n",
       "      <td>1</td>\n",
       "      <td>1.0</td>\n",
       "      <td>3.0</td>\n",
       "      <td>7.3150</td>\n",
       "      <td>0.015388</td>\n",
       "      <td>155.0340</td>\n",
       "      <td>2007</td>\n",
       "    </tr>\n",
       "    <tr>\n",
       "      <th>4</th>\n",
       "      <td>2</td>\n",
       "      <td>4</td>\n",
       "      <td>5</td>\n",
       "      <td>2</td>\n",
       "      <td>0.0</td>\n",
       "      <td>1.0</td>\n",
       "      <td>13.1225</td>\n",
       "      <td>0.118599</td>\n",
       "      <td>234.2300</td>\n",
       "      <td>1985</td>\n",
       "    </tr>\n",
       "  </tbody>\n",
       "</table>\n",
       "</div>"
      ],
      "text/plain": [
       "   Item_Fat_Content  Item_Type  Outlet_Identifier  Outlet_Size  \\\n",
       "0                 1         13                  9            1   \n",
       "1                 4          4                  2            4   \n",
       "2                 1         11                  0            1   \n",
       "3                 1         13                  2            1   \n",
       "4                 2          4                  5            2   \n",
       "\n",
       "   Outlet_Location_Type  Outlet_Type  Item_Weight  Item_Visibility  Item_MRP  \\\n",
       "0                   2.0          3.0      20.7500         0.007565  107.8622   \n",
       "1                   1.0          3.0       8.3000         0.038428   87.3198   \n",
       "2                   0.0          0.0      14.6000         0.099575  241.7538   \n",
       "3                   1.0          3.0       7.3150         0.015388  155.0340   \n",
       "4                   0.0          1.0      13.1225         0.118599  234.2300   \n",
       "\n",
       "   Outlet_Establishment_Year  \n",
       "0                       1999  \n",
       "1                       2007  \n",
       "2                       1998  \n",
       "3                       2007  \n",
       "4                       1985  "
      ]
     },
     "execution_count": 703,
     "metadata": {},
     "output_type": "execute_result"
    }
   ],
   "source": [
    "clean_data_test.head(5)"
   ]
  },
  {
   "cell_type": "code",
   "execution_count": 704,
   "id": "3872a2c1-cb24-4dd3-83da-9257a5971198",
   "metadata": {},
   "outputs": [
    {
     "data": {
      "text/plain": [
       "(5681, 10)"
      ]
     },
     "execution_count": 704,
     "metadata": {},
     "output_type": "execute_result"
    }
   ],
   "source": [
    "clean_data_test.shape"
   ]
  },
  {
   "cell_type": "markdown",
   "id": "ecd6a424-113d-4a81-b0ca-d3e2e66843d1",
   "metadata": {},
   "source": [
    "### Now our test data is cleaned and it has 5681 rows and 10 column."
   ]
  },
  {
   "cell_type": "markdown",
   "id": "e0e2f3c6-cf57-4a93-9641-687a50e9555c",
   "metadata": {},
   "source": [
    "### let's save our clean_data_test "
   ]
  },
  {
   "cell_type": "code",
   "execution_count": 705,
   "id": "2abbbe60-a9db-4dba-9bc4-de2a73a21859",
   "metadata": {},
   "outputs": [],
   "source": [
    "clean_data_test.to_csv('test_data_cleaned.csv',index=False)"
   ]
  },
  {
   "cell_type": "markdown",
   "id": "515b55bb-51a6-4f39-b992-ace44ff477d6",
   "metadata": {},
   "source": [
    "## ***************************************************************************\n",
    "## ***************************************************************************"
   ]
  },
  {
   "cell_type": "markdown",
   "id": "e5b314a5-bd36-4b50-866e-70c6d1ec515d",
   "metadata": {},
   "source": [
    "## Now let's analize again  our train data by using some plotting graph"
   ]
  },
  {
   "cell_type": "code",
   "execution_count": 706,
   "id": "4232b145-f42f-44d4-931f-b1dbf0ccf722",
   "metadata": {},
   "outputs": [],
   "source": [
    "## let's import our clean data\n",
    "\n",
    "clean_data = pd.read_csv('cleaned_train.csv')"
   ]
  },
  {
   "cell_type": "code",
   "execution_count": 707,
   "id": "51e9b2b1-cf5f-44e6-9068-c47d3244babc",
   "metadata": {},
   "outputs": [
    {
     "data": {
      "text/html": [
       "<div>\n",
       "<style scoped>\n",
       "    .dataframe tbody tr th:only-of-type {\n",
       "        vertical-align: middle;\n",
       "    }\n",
       "\n",
       "    .dataframe tbody tr th {\n",
       "        vertical-align: top;\n",
       "    }\n",
       "\n",
       "    .dataframe thead th {\n",
       "        text-align: right;\n",
       "    }\n",
       "</style>\n",
       "<table border=\"1\" class=\"dataframe\">\n",
       "  <thead>\n",
       "    <tr style=\"text-align: right;\">\n",
       "      <th></th>\n",
       "      <th>Item_Fat_Content</th>\n",
       "      <th>Item_Type</th>\n",
       "      <th>Outlet_Identifier</th>\n",
       "      <th>Outlet_Size</th>\n",
       "      <th>Outlet_Location_Type</th>\n",
       "      <th>Outlet_Type</th>\n",
       "      <th>Item_Weight</th>\n",
       "      <th>Item_Visibility</th>\n",
       "      <th>Item_MRP</th>\n",
       "      <th>Outlet_Establishment_Year</th>\n",
       "      <th>Item_Outlet_Sales</th>\n",
       "    </tr>\n",
       "  </thead>\n",
       "  <tbody>\n",
       "    <tr>\n",
       "      <th>0</th>\n",
       "      <td>1</td>\n",
       "      <td>4</td>\n",
       "      <td>9</td>\n",
       "      <td>1</td>\n",
       "      <td>2.0</td>\n",
       "      <td>3.0</td>\n",
       "      <td>9.30</td>\n",
       "      <td>0.016047</td>\n",
       "      <td>249.8092</td>\n",
       "      <td>1999</td>\n",
       "      <td>3735.1380</td>\n",
       "    </tr>\n",
       "    <tr>\n",
       "      <th>1</th>\n",
       "      <td>2</td>\n",
       "      <td>14</td>\n",
       "      <td>3</td>\n",
       "      <td>2</td>\n",
       "      <td>0.0</td>\n",
       "      <td>2.0</td>\n",
       "      <td>5.92</td>\n",
       "      <td>0.019278</td>\n",
       "      <td>48.2692</td>\n",
       "      <td>2009</td>\n",
       "      <td>443.4228</td>\n",
       "    </tr>\n",
       "    <tr>\n",
       "      <th>2</th>\n",
       "      <td>1</td>\n",
       "      <td>10</td>\n",
       "      <td>9</td>\n",
       "      <td>1</td>\n",
       "      <td>2.0</td>\n",
       "      <td>3.0</td>\n",
       "      <td>17.50</td>\n",
       "      <td>0.016760</td>\n",
       "      <td>141.6180</td>\n",
       "      <td>1999</td>\n",
       "      <td>2097.2700</td>\n",
       "    </tr>\n",
       "    <tr>\n",
       "      <th>3</th>\n",
       "      <td>2</td>\n",
       "      <td>6</td>\n",
       "      <td>0</td>\n",
       "      <td>2</td>\n",
       "      <td>0.0</td>\n",
       "      <td>0.0</td>\n",
       "      <td>19.20</td>\n",
       "      <td>0.000000</td>\n",
       "      <td>182.0950</td>\n",
       "      <td>1998</td>\n",
       "      <td>732.3800</td>\n",
       "    </tr>\n",
       "    <tr>\n",
       "      <th>4</th>\n",
       "      <td>1</td>\n",
       "      <td>9</td>\n",
       "      <td>1</td>\n",
       "      <td>1</td>\n",
       "      <td>0.0</td>\n",
       "      <td>3.0</td>\n",
       "      <td>8.93</td>\n",
       "      <td>0.000000</td>\n",
       "      <td>53.8614</td>\n",
       "      <td>1987</td>\n",
       "      <td>994.7052</td>\n",
       "    </tr>\n",
       "  </tbody>\n",
       "</table>\n",
       "</div>"
      ],
      "text/plain": [
       "   Item_Fat_Content  Item_Type  Outlet_Identifier  Outlet_Size  \\\n",
       "0                 1          4                  9            1   \n",
       "1                 2         14                  3            2   \n",
       "2                 1         10                  9            1   \n",
       "3                 2          6                  0            2   \n",
       "4                 1          9                  1            1   \n",
       "\n",
       "   Outlet_Location_Type  Outlet_Type  Item_Weight  Item_Visibility  Item_MRP  \\\n",
       "0                   2.0          3.0         9.30         0.016047  249.8092   \n",
       "1                   0.0          2.0         5.92         0.019278   48.2692   \n",
       "2                   2.0          3.0        17.50         0.016760  141.6180   \n",
       "3                   0.0          0.0        19.20         0.000000  182.0950   \n",
       "4                   0.0          3.0         8.93         0.000000   53.8614   \n",
       "\n",
       "   Outlet_Establishment_Year  Item_Outlet_Sales  \n",
       "0                       1999          3735.1380  \n",
       "1                       2009           443.4228  \n",
       "2                       1999          2097.2700  \n",
       "3                       1998           732.3800  \n",
       "4                       1987           994.7052  "
      ]
     },
     "execution_count": 707,
     "metadata": {},
     "output_type": "execute_result"
    }
   ],
   "source": [
    "clean_data.head(5)"
   ]
  },
  {
   "cell_type": "code",
   "execution_count": 708,
   "id": "a7f225d6-1d27-4d70-a6ce-c16d44c2aa28",
   "metadata": {},
   "outputs": [
    {
     "data": {
      "text/plain": [
       "(8523, 11)"
      ]
     },
     "execution_count": 708,
     "metadata": {},
     "output_type": "execute_result"
    }
   ],
   "source": [
    "clean_data.shape"
   ]
  },
  {
   "cell_type": "code",
   "execution_count": 709,
   "id": "0cfb737a-3468-4157-ae74-765044d66ddb",
   "metadata": {},
   "outputs": [
    {
     "data": {
      "text/html": [
       "<div>\n",
       "<style scoped>\n",
       "    .dataframe tbody tr th:only-of-type {\n",
       "        vertical-align: middle;\n",
       "    }\n",
       "\n",
       "    .dataframe tbody tr th {\n",
       "        vertical-align: top;\n",
       "    }\n",
       "\n",
       "    .dataframe thead th {\n",
       "        text-align: right;\n",
       "    }\n",
       "</style>\n",
       "<table border=\"1\" class=\"dataframe\">\n",
       "  <thead>\n",
       "    <tr style=\"text-align: right;\">\n",
       "      <th></th>\n",
       "      <th>Item_Fat_Content</th>\n",
       "      <th>Item_Type</th>\n",
       "      <th>Outlet_Identifier</th>\n",
       "      <th>Outlet_Size</th>\n",
       "      <th>Outlet_Location_Type</th>\n",
       "      <th>Outlet_Type</th>\n",
       "      <th>Item_Weight</th>\n",
       "      <th>Item_Visibility</th>\n",
       "      <th>Item_MRP</th>\n",
       "      <th>Outlet_Establishment_Year</th>\n",
       "      <th>Item_Outlet_Sales</th>\n",
       "    </tr>\n",
       "  </thead>\n",
       "  <tbody>\n",
       "    <tr>\n",
       "      <th>count</th>\n",
       "      <td>8523.000000</td>\n",
       "      <td>8523.000000</td>\n",
       "      <td>8523.000000</td>\n",
       "      <td>8523.000000</td>\n",
       "      <td>8523.000000</td>\n",
       "      <td>8523.000000</td>\n",
       "      <td>8523.000000</td>\n",
       "      <td>8523.000000</td>\n",
       "      <td>8523.000000</td>\n",
       "      <td>8523.000000</td>\n",
       "      <td>8523.000000</td>\n",
       "    </tr>\n",
       "    <tr>\n",
       "      <th>mean</th>\n",
       "      <td>1.369354</td>\n",
       "      <td>7.226681</td>\n",
       "      <td>4.722281</td>\n",
       "      <td>1.369354</td>\n",
       "      <td>0.887129</td>\n",
       "      <td>2.290508</td>\n",
       "      <td>12.837163</td>\n",
       "      <td>0.066132</td>\n",
       "      <td>140.992782</td>\n",
       "      <td>1997.831867</td>\n",
       "      <td>2181.288914</td>\n",
       "    </tr>\n",
       "    <tr>\n",
       "      <th>std</th>\n",
       "      <td>0.644810</td>\n",
       "      <td>4.209990</td>\n",
       "      <td>2.837201</td>\n",
       "      <td>0.644810</td>\n",
       "      <td>0.812757</td>\n",
       "      <td>1.089985</td>\n",
       "      <td>4.373611</td>\n",
       "      <td>0.051598</td>\n",
       "      <td>62.275067</td>\n",
       "      <td>8.371760</td>\n",
       "      <td>1706.499616</td>\n",
       "    </tr>\n",
       "    <tr>\n",
       "      <th>min</th>\n",
       "      <td>0.000000</td>\n",
       "      <td>0.000000</td>\n",
       "      <td>0.000000</td>\n",
       "      <td>0.000000</td>\n",
       "      <td>0.000000</td>\n",
       "      <td>0.000000</td>\n",
       "      <td>4.555000</td>\n",
       "      <td>0.000000</td>\n",
       "      <td>31.290000</td>\n",
       "      <td>1985.000000</td>\n",
       "      <td>33.290000</td>\n",
       "    </tr>\n",
       "    <tr>\n",
       "      <th>25%</th>\n",
       "      <td>1.000000</td>\n",
       "      <td>4.000000</td>\n",
       "      <td>2.000000</td>\n",
       "      <td>1.000000</td>\n",
       "      <td>0.000000</td>\n",
       "      <td>2.000000</td>\n",
       "      <td>9.195000</td>\n",
       "      <td>0.026989</td>\n",
       "      <td>93.826500</td>\n",
       "      <td>1987.000000</td>\n",
       "      <td>834.247400</td>\n",
       "    </tr>\n",
       "    <tr>\n",
       "      <th>50%</th>\n",
       "      <td>1.000000</td>\n",
       "      <td>6.000000</td>\n",
       "      <td>5.000000</td>\n",
       "      <td>1.000000</td>\n",
       "      <td>1.000000</td>\n",
       "      <td>3.000000</td>\n",
       "      <td>12.641250</td>\n",
       "      <td>0.053931</td>\n",
       "      <td>143.012800</td>\n",
       "      <td>1999.000000</td>\n",
       "      <td>1794.331000</td>\n",
       "    </tr>\n",
       "    <tr>\n",
       "      <th>75%</th>\n",
       "      <td>2.000000</td>\n",
       "      <td>10.000000</td>\n",
       "      <td>7.000000</td>\n",
       "      <td>2.000000</td>\n",
       "      <td>2.000000</td>\n",
       "      <td>3.000000</td>\n",
       "      <td>16.350000</td>\n",
       "      <td>0.094585</td>\n",
       "      <td>185.643700</td>\n",
       "      <td>2004.000000</td>\n",
       "      <td>3101.296400</td>\n",
       "    </tr>\n",
       "    <tr>\n",
       "      <th>max</th>\n",
       "      <td>4.000000</td>\n",
       "      <td>15.000000</td>\n",
       "      <td>9.000000</td>\n",
       "      <td>4.000000</td>\n",
       "      <td>2.000000</td>\n",
       "      <td>3.000000</td>\n",
       "      <td>21.350000</td>\n",
       "      <td>0.328391</td>\n",
       "      <td>266.888400</td>\n",
       "      <td>2009.000000</td>\n",
       "      <td>13086.964800</td>\n",
       "    </tr>\n",
       "  </tbody>\n",
       "</table>\n",
       "</div>"
      ],
      "text/plain": [
       "       Item_Fat_Content    Item_Type  Outlet_Identifier  Outlet_Size  \\\n",
       "count       8523.000000  8523.000000        8523.000000  8523.000000   \n",
       "mean           1.369354     7.226681           4.722281     1.369354   \n",
       "std            0.644810     4.209990           2.837201     0.644810   \n",
       "min            0.000000     0.000000           0.000000     0.000000   \n",
       "25%            1.000000     4.000000           2.000000     1.000000   \n",
       "50%            1.000000     6.000000           5.000000     1.000000   \n",
       "75%            2.000000    10.000000           7.000000     2.000000   \n",
       "max            4.000000    15.000000           9.000000     4.000000   \n",
       "\n",
       "       Outlet_Location_Type  Outlet_Type  Item_Weight  Item_Visibility  \\\n",
       "count           8523.000000  8523.000000  8523.000000      8523.000000   \n",
       "mean               0.887129     2.290508    12.837163         0.066132   \n",
       "std                0.812757     1.089985     4.373611         0.051598   \n",
       "min                0.000000     0.000000     4.555000         0.000000   \n",
       "25%                0.000000     2.000000     9.195000         0.026989   \n",
       "50%                1.000000     3.000000    12.641250         0.053931   \n",
       "75%                2.000000     3.000000    16.350000         0.094585   \n",
       "max                2.000000     3.000000    21.350000         0.328391   \n",
       "\n",
       "          Item_MRP  Outlet_Establishment_Year  Item_Outlet_Sales  \n",
       "count  8523.000000                8523.000000        8523.000000  \n",
       "mean    140.992782                1997.831867        2181.288914  \n",
       "std      62.275067                   8.371760        1706.499616  \n",
       "min      31.290000                1985.000000          33.290000  \n",
       "25%      93.826500                1987.000000         834.247400  \n",
       "50%     143.012800                1999.000000        1794.331000  \n",
       "75%     185.643700                2004.000000        3101.296400  \n",
       "max     266.888400                2009.000000       13086.964800  "
      ]
     },
     "execution_count": 709,
     "metadata": {},
     "output_type": "execute_result"
    }
   ],
   "source": [
    "clean_data.describe()"
   ]
  },
  {
   "cell_type": "markdown",
   "id": "b29f2310-a91d-4dfb-8d90-e22b4d58f8ae",
   "metadata": {},
   "source": [
    "### We can see that our data have only numerical values and there no missing values any more from the count of each column."
   ]
  },
  {
   "cell_type": "code",
   "execution_count": 710,
   "id": "93f1a344-1a50-412e-9f7d-12667dafc8c7",
   "metadata": {},
   "outputs": [
    {
     "data": {
      "image/png": "[encoded data removed]",
      "text/plain": [
       "<Figure size 720x2520 with 11 Axes>"
      ]
     },
     "metadata": {
      "needs_background": "light"
     },
     "output_type": "display_data"
    }
   ],
   "source": [
    "plt.figure(figsize=(10, 35))\n",
    "\n",
    "graph = 1\n",
    "\n",
    "for column in clean_data:\n",
    "    if graph <= 11:\n",
    "        ax = plt.subplot(4,3,graph)\n",
    "        sns.distplot(clean_data[column],color='green')\n",
    "        plt.xlabel(column,color ='r',fontsize = 10)\n",
    "    graph+=1\n",
    "plt.show()"
   ]
  },
  {
   "cell_type": "markdown",
   "id": "076781c0-a96a-4dbf-b948-e77946e32777",
   "metadata": {},
   "source": [
    "### From distplot we can see our data is distributed visually in each column and It show also the skewness of some columns like \"Item_Visibility\"."
   ]
  },
  {
   "cell_type": "code",
   "execution_count": 711,
   "id": "7f15ec7c-269f-4840-975f-09f6ae428609",
   "metadata": {},
   "outputs": [
    {
     "data": {
      "image/png": "[encoded data removed]",
      "text/plain": [
       "<Figure size 1080x2520 with 11 Axes>"
      ]
     },
     "metadata": {
      "needs_background": "light"
     },
     "output_type": "display_data"
    }
   ],
   "source": [
    "## let's check our data with box plot.\n",
    "\n",
    "plt.figure(figsize=(15, 35))\n",
    "\n",
    "graph = 1\n",
    "\n",
    "for column in clean_data:\n",
    "    if graph <= 11:\n",
    "        ax = plt.subplot(4,3,graph)\n",
    "        sns.boxplot(y = clean_data[column],orient='h',color='green')\n",
    "        plt.xlabel(column,color ='r',fontsize = 10)\n",
    "    graph+=1\n",
    "plt.show()"
   ]
  },
  {
   "cell_type": "markdown",
   "id": "57e8815c-0db6-40d8-9237-1ef349ae7ba5",
   "metadata": {},
   "source": [
    "#### From the boxplot we see that there outliers in some columns and there are:\n",
    "#### [Item_Visibility, Item_Fat_Content, Outlet_Size and Outlet_Type] but not much and the target varibale outlet_Sales."
   ]
  },
  {
   "cell_type": "code",
   "execution_count": 712,
   "id": "451697c5-238b-4308-a638-a807706cf55c",
   "metadata": {},
   "outputs": [],
   "source": [
    "## let's seperate our dataset into label and features\n",
    "\n",
    "X = clean_data.drop(['Item_Outlet_Sales'],axis=1)\n",
    "y = clean_data.Item_Outlet_Sales"
   ]
  },
  {
   "cell_type": "code",
   "execution_count": 713,
   "id": "109ebb53-116e-4ef5-b48f-a5db13c66088",
   "metadata": {},
   "outputs": [
    {
     "data": {
      "text/plain": [
       "(8523, 10)"
      ]
     },
     "execution_count": 713,
     "metadata": {},
     "output_type": "execute_result"
    }
   ],
   "source": [
    "X.shape"
   ]
  },
  {
   "cell_type": "markdown",
   "id": "62792990-27c9-4315-9b63-b595fdd16e36",
   "metadata": {},
   "source": [
    "### __Let's plot the scatter plot and check the relationship between our label data and features.__\n"
   ]
  },
  {
   "cell_type": "code",
   "execution_count": 714,
   "id": "c0c7c084-572f-41ad-93d6-12946a56d64c",
   "metadata": {},
   "outputs": [
    {
     "data": {
      "image/png": "[encoded data removed]",
      "text/plain": [
       "<Figure size 1296x1080 with 10 Axes>"
      ]
     },
     "metadata": {},
     "output_type": "display_data"
    }
   ],
   "source": [
    "plt.figure(figsize=(18,15), facecolor='white')\n",
    "plotnumber = 1\n",
    "for column in X:\n",
    "    if plotnumber <=10 :\n",
    "        ax = plt.subplot(5,2, plotnumber)\n",
    "        plt.scatter(X[column],y, color ='purple')\n",
    "        plt.xlabel(column, fontsize = 20)\n",
    "        plt.ylabel('outlet_Sales', fontsize = 20)        \n",
    "    plotnumber+=1\n",
    "plt.tight_layout()"
   ]
  },
  {
   "cell_type": "markdown",
   "id": "363b151f-d38a-4303-bf8d-5dacce2c96f7",
   "metadata": {},
   "source": [
    "## From this sactter plot we can see that there fairly linear relatioship between our label and the features.\n",
    "## __Since there fairly linear relatioship with label and features we say that our above Hypothesis is verified__."
   ]
  },
  {
   "cell_type": "markdown",
   "id": "6abd7fe7-c402-4cfe-bf2d-55f4710bcbae",
   "metadata": {},
   "source": [
    "## ***************************************************************************\n",
    "## ***************************************************************************"
   ]
  },
  {
   "cell_type": "markdown",
   "id": "77197900-1f51-407a-9589-82f192151fa0",
   "metadata": {},
   "source": [
    "# Now let build some Models"
   ]
  },
  {
   "cell_type": "markdown",
   "id": "7e28ba78-31e8-45d8-becc-9ccf3b086c35",
   "metadata": {},
   "source": [
    "## First model with __LinearRegression__ Algorithum."
   ]
  },
  {
   "cell_type": "code",
   "execution_count": 775,
   "id": "42951122-c5ce-4a5f-a083-e440b8a2df53",
   "metadata": {},
   "outputs": [],
   "source": [
    "## import some important libraries\n",
    "\n",
    "from sklearn.linear_model import LinearRegression\n",
    "from sklearn.model_selection import train_test_split\n",
    "from sklearn.preprocessing import StandardScaler\n",
    "from sklearn.metrics import accuracy_score\n",
    "from sklearn.metrics import mean_squared_error, mean_absolute_error\n",
    "from sklearn import metrics\n"
   ]
  },
  {
   "cell_type": "code",
   "execution_count": 776,
   "id": "f3a2c818-ccff-4958-9327-57b223241b39",
   "metadata": {},
   "outputs": [],
   "source": [
    "## let's seperate our dataset into label and features\n",
    "\n",
    "X = clean_data.drop(['Item_Outlet_Sales'],axis=1)\n",
    "Y = clean_data.Item_Outlet_Sales"
   ]
  },
  {
   "cell_type": "code",
   "execution_count": 777,
   "id": "a874f066-34da-46ff-8bad-c2fbd86923d3",
   "metadata": {},
   "outputs": [],
   "source": [
    "## let's standarize our features data \n",
    "scaler = StandardScaler()\n",
    "X_scaled = scaler.fit_transform(X)\n"
   ]
  },
  {
   "cell_type": "code",
   "execution_count": 778,
   "id": "edc1d5ec-0b72-495a-a43e-b12f1714c286",
   "metadata": {},
   "outputs": [
    {
     "data": {
      "text/plain": [
       "array([[-0.57128979, -0.76821445,  1.48931384, ..., -1.01927283,\n",
       "         1.79912796,  0.10985288],\n",
       "       [ 0.97652015,  1.60956453, -0.61980375, ..., -0.94946348,\n",
       "        -1.47620462,  1.31664373],\n",
       "       [-0.57128979,  0.65845294,  1.48931384, ..., -1.00387215,\n",
       "         0.04085584,  0.10985288],\n",
       "       ...,\n",
       "       [-0.57128979,  0.18289715,  0.43475504, ..., -0.60574318,\n",
       "        -0.87728388,  0.7132483 ],\n",
       "       [ 0.97652015,  1.37178664, -0.61980375, ...,  1.77173463,\n",
       "        -0.58458089,  1.31664373],\n",
       "       [-0.57128979,  1.60956453,  1.13779424, ..., -0.39633102,\n",
       "        -1.03419886, -0.13150529]])"
      ]
     },
     "execution_count": 778,
     "metadata": {},
     "output_type": "execute_result"
    }
   ],
   "source": [
    "X_scaled"
   ]
  },
  {
   "cell_type": "markdown",
   "id": "135d8dc1-2e7b-4d82-a956-1e2010e38173",
   "metadata": {},
   "source": [
    "### Now let's split our feature data"
   ]
  },
  {
   "cell_type": "code",
   "execution_count": 779,
   "id": "ed4e5913-f600-462e-8140-0e6bb13c8ddc",
   "metadata": {},
   "outputs": [],
   "source": [
    "x_train,x_test,y_train,y_test = train_test_split(X_scaled,Y,test_size=0.25,random_state=144)"
   ]
  },
  {
   "cell_type": "code",
   "execution_count": 780,
   "id": "f2db7bc7-9709-44a7-bdb8-2d2aadf78366",
   "metadata": {},
   "outputs": [
    {
     "data": {
      "text/plain": [
       "LinearRegression()"
      ]
     },
     "execution_count": 780,
     "metadata": {},
     "output_type": "execute_result"
    }
   ],
   "source": [
    "lr = LinearRegression()\n",
    "lr.fit(x_train, y_train)"
   ]
  },
  {
   "cell_type": "markdown",
   "id": "b6cfa9dc-0d59-4c82-9490-b4ad39f5858a",
   "metadata": {},
   "source": [
    "#### Let's predict the test set."
   ]
  },
  {
   "cell_type": "code",
   "execution_count": 781,
   "id": "cb7ac533-073b-4b03-9cee-738dce9f5cea",
   "metadata": {},
   "outputs": [],
   "source": [
    "y_predlr = lr.predict(x_test)"
   ]
  },
  {
   "cell_type": "code",
   "execution_count": 782,
   "id": "a382c101-99fc-4155-9976-8d6b35a89d25",
   "metadata": {},
   "outputs": [
    {
     "data": {
      "text/plain": [
       "array([1586.36192213, 2005.40670544, 3701.5358566 , ..., 1904.64242725,\n",
       "       2159.72821556, 2180.95646528])"
      ]
     },
     "execution_count": 782,
     "metadata": {},
     "output_type": "execute_result"
    }
   ],
   "source": [
    "y_predlr"
   ]
  },
  {
   "cell_type": "markdown",
   "id": "c6f05468-bb83-4d37-8a6f-4f624abec28f",
   "metadata": {},
   "source": [
    "#### Now let's Evaluate the model."
   ]
  },
  {
   "cell_type": "code",
   "execution_count": 783,
   "id": "34d144e9-9e16-48be-9ce5-95564a8c80e6",
   "metadata": {},
   "outputs": [
    {
     "data": {
      "text/plain": [
       "842.0831369281011"
      ]
     },
     "execution_count": 783,
     "metadata": {},
     "output_type": "execute_result"
    }
   ],
   "source": [
    "mean_absolute_error(y_test,y_predlr)\n"
   ]
  },
  {
   "cell_type": "code",
   "execution_count": 784,
   "id": "015ad0bc-fed8-412f-9dde-13feb3dfa129",
   "metadata": {},
   "outputs": [
    {
     "name": "stdout",
     "output_type": "stream",
     "text": [
      "\n",
      "*****Accuracy ****\n",
      "\n",
      "0.4803272354209145\n"
     ]
    }
   ],
   "source": [
    "print('\\n*****Accuracy ****\\n')\n",
    "\n",
    "print(metrics.r2_score(y_test, y_predlr))"
   ]
  },
  {
   "cell_type": "markdown",
   "id": "f7c1790b-d52e-48e8-9da1-a1a31106a9fb",
   "metadata": {},
   "source": [
    "#### Since the accuracy is too low(Accuracy: 48%) "
   ]
  },
  {
   "cell_type": "markdown",
   "id": "59e63218-7e9f-4c98-bf64-6934b5fffc7f",
   "metadata": {},
   "source": [
    "## Let's used SelectKBest feature Selection method and select the best features"
   ]
  },
  {
   "cell_type": "code",
   "execution_count": 785,
   "id": "e6dafde9-8d47-4e7f-9f85-e37eabaf8ff1",
   "metadata": {},
   "outputs": [],
   "source": [
    "from sklearn.feature_selection import SelectKBest, f_classif\n"
   ]
  },
  {
   "cell_type": "code",
   "execution_count": 890,
   "id": "8ce2126e-d02a-4bf5-b000-64c3f4520398",
   "metadata": {},
   "outputs": [],
   "source": [
    "best_features = SelectKBest(score_func= f_classif, k=10)\n",
    "\n",
    "fit = best_features.fit(X,Y)\n",
    "df_scores = pd.DataFrame(fit.scores_)\n",
    "df_columns = pd.DataFrame(X.columns)"
   ]
  },
  {
   "cell_type": "code",
   "execution_count": 891,
   "id": "21183437-22a7-4ac7-922b-f1843801306a",
   "metadata": {},
   "outputs": [
    {
     "name": "stdout",
     "output_type": "stream",
     "text": [
      "                Feature_Name     Score\n",
      "8                   Item_MRP  3.420407\n",
      "5                Outlet_Type  2.558202\n",
      "2          Outlet_Identifier  1.209103\n",
      "1                  Item_Type  1.200890\n",
      "9  Outlet_Establishment_Year  1.180517\n",
      "7            Item_Visibility  1.164365\n",
      "0           Item_Fat_Content  1.103743\n",
      "3                Outlet_Size  1.103743\n",
      "6                Item_Weight  1.091410\n",
      "4       Outlet_Location_Type  1.049512\n"
     ]
    }
   ],
   "source": [
    "# Concatinate DataFrames\n",
    "\n",
    "features_scores = pd.concat([df_columns, df_scores],axis=1)\n",
    "features_scores.columns = ['Feature_Name','Score'] # naming output columns\n",
    "print(features_scores.nlargest(10,'Score')) # print 17 best features"
   ]
  },
  {
   "cell_type": "markdown",
   "id": "d8f3a857-3251-4dfb-928b-c6deed690f90",
   "metadata": {},
   "source": [
    "#### These are the best features."
   ]
  },
  {
   "cell_type": "code",
   "execution_count": 892,
   "id": "3e809249-b842-4f0d-a469-4c93d90188c4",
   "metadata": {},
   "outputs": [],
   "source": [
    "new_X = clean_data[['Item_MRP','Outlet_Type','Outlet_Identifier','Item_Type','Outlet_Establishment_Year','Item_Visibility','Item_Fat_Content','Outlet_Size','Item_Weight','Outlet_Location_Type']]\n",
    "                    \n",
    "                    "
   ]
  },
  {
   "cell_type": "code",
   "execution_count": 893,
   "id": "8d10fa2b-e06f-4c48-a2c0-e0ebd883c104",
   "metadata": {},
   "outputs": [
    {
     "data": {
      "text/html": [
       "<div>\n",
       "<style scoped>\n",
       "    .dataframe tbody tr th:only-of-type {\n",
       "        vertical-align: middle;\n",
       "    }\n",
       "\n",
       "    .dataframe tbody tr th {\n",
       "        vertical-align: top;\n",
       "    }\n",
       "\n",
       "    .dataframe thead th {\n",
       "        text-align: right;\n",
       "    }\n",
       "</style>\n",
       "<table border=\"1\" class=\"dataframe\">\n",
       "  <thead>\n",
       "    <tr style=\"text-align: right;\">\n",
       "      <th></th>\n",
       "      <th>Item_MRP</th>\n",
       "      <th>Outlet_Type</th>\n",
       "      <th>Outlet_Identifier</th>\n",
       "      <th>Item_Type</th>\n",
       "      <th>Outlet_Establishment_Year</th>\n",
       "      <th>Item_Visibility</th>\n",
       "      <th>Item_Fat_Content</th>\n",
       "      <th>Outlet_Size</th>\n",
       "      <th>Item_Weight</th>\n",
       "      <th>Outlet_Location_Type</th>\n",
       "    </tr>\n",
       "  </thead>\n",
       "  <tbody>\n",
       "    <tr>\n",
       "      <th>0</th>\n",
       "      <td>249.8092</td>\n",
       "      <td>3.0</td>\n",
       "      <td>9</td>\n",
       "      <td>4</td>\n",
       "      <td>1999</td>\n",
       "      <td>0.016047</td>\n",
       "      <td>1</td>\n",
       "      <td>1</td>\n",
       "      <td>9.300</td>\n",
       "      <td>2.0</td>\n",
       "    </tr>\n",
       "    <tr>\n",
       "      <th>1</th>\n",
       "      <td>48.2692</td>\n",
       "      <td>2.0</td>\n",
       "      <td>3</td>\n",
       "      <td>14</td>\n",
       "      <td>2009</td>\n",
       "      <td>0.019278</td>\n",
       "      <td>2</td>\n",
       "      <td>2</td>\n",
       "      <td>5.920</td>\n",
       "      <td>0.0</td>\n",
       "    </tr>\n",
       "    <tr>\n",
       "      <th>2</th>\n",
       "      <td>141.6180</td>\n",
       "      <td>3.0</td>\n",
       "      <td>9</td>\n",
       "      <td>10</td>\n",
       "      <td>1999</td>\n",
       "      <td>0.016760</td>\n",
       "      <td>1</td>\n",
       "      <td>1</td>\n",
       "      <td>17.500</td>\n",
       "      <td>2.0</td>\n",
       "    </tr>\n",
       "    <tr>\n",
       "      <th>3</th>\n",
       "      <td>182.0950</td>\n",
       "      <td>0.0</td>\n",
       "      <td>0</td>\n",
       "      <td>6</td>\n",
       "      <td>1998</td>\n",
       "      <td>0.000000</td>\n",
       "      <td>2</td>\n",
       "      <td>2</td>\n",
       "      <td>19.200</td>\n",
       "      <td>0.0</td>\n",
       "    </tr>\n",
       "    <tr>\n",
       "      <th>4</th>\n",
       "      <td>53.8614</td>\n",
       "      <td>3.0</td>\n",
       "      <td>1</td>\n",
       "      <td>9</td>\n",
       "      <td>1987</td>\n",
       "      <td>0.000000</td>\n",
       "      <td>1</td>\n",
       "      <td>1</td>\n",
       "      <td>8.930</td>\n",
       "      <td>0.0</td>\n",
       "    </tr>\n",
       "    <tr>\n",
       "      <th>...</th>\n",
       "      <td>...</td>\n",
       "      <td>...</td>\n",
       "      <td>...</td>\n",
       "      <td>...</td>\n",
       "      <td>...</td>\n",
       "      <td>...</td>\n",
       "      <td>...</td>\n",
       "      <td>...</td>\n",
       "      <td>...</td>\n",
       "      <td>...</td>\n",
       "    </tr>\n",
       "    <tr>\n",
       "      <th>8518</th>\n",
       "      <td>214.5218</td>\n",
       "      <td>3.0</td>\n",
       "      <td>1</td>\n",
       "      <td>13</td>\n",
       "      <td>1987</td>\n",
       "      <td>0.056783</td>\n",
       "      <td>1</td>\n",
       "      <td>1</td>\n",
       "      <td>6.865</td>\n",
       "      <td>0.0</td>\n",
       "    </tr>\n",
       "    <tr>\n",
       "      <th>8519</th>\n",
       "      <td>108.1570</td>\n",
       "      <td>3.0</td>\n",
       "      <td>7</td>\n",
       "      <td>0</td>\n",
       "      <td>2002</td>\n",
       "      <td>0.046982</td>\n",
       "      <td>2</td>\n",
       "      <td>2</td>\n",
       "      <td>8.380</td>\n",
       "      <td>1.0</td>\n",
       "    </tr>\n",
       "    <tr>\n",
       "      <th>8520</th>\n",
       "      <td>85.1224</td>\n",
       "      <td>3.0</td>\n",
       "      <td>6</td>\n",
       "      <td>8</td>\n",
       "      <td>2004</td>\n",
       "      <td>0.035186</td>\n",
       "      <td>1</td>\n",
       "      <td>1</td>\n",
       "      <td>10.600</td>\n",
       "      <td>1.0</td>\n",
       "    </tr>\n",
       "    <tr>\n",
       "      <th>8521</th>\n",
       "      <td>103.1332</td>\n",
       "      <td>2.0</td>\n",
       "      <td>3</td>\n",
       "      <td>13</td>\n",
       "      <td>2009</td>\n",
       "      <td>0.145221</td>\n",
       "      <td>2</td>\n",
       "      <td>2</td>\n",
       "      <td>7.210</td>\n",
       "      <td>0.0</td>\n",
       "    </tr>\n",
       "    <tr>\n",
       "      <th>8522</th>\n",
       "      <td>75.4670</td>\n",
       "      <td>3.0</td>\n",
       "      <td>8</td>\n",
       "      <td>14</td>\n",
       "      <td>1997</td>\n",
       "      <td>0.044878</td>\n",
       "      <td>1</td>\n",
       "      <td>1</td>\n",
       "      <td>14.800</td>\n",
       "      <td>2.0</td>\n",
       "    </tr>\n",
       "  </tbody>\n",
       "</table>\n",
       "<p>8144 rows × 10 columns</p>\n",
       "</div>"
      ],
      "text/plain": [
       "      Item_MRP  Outlet_Type  Outlet_Identifier  Item_Type  \\\n",
       "0     249.8092          3.0                  9          4   \n",
       "1      48.2692          2.0                  3         14   \n",
       "2     141.6180          3.0                  9         10   \n",
       "3     182.0950          0.0                  0          6   \n",
       "4      53.8614          3.0                  1          9   \n",
       "...        ...          ...                ...        ...   \n",
       "8518  214.5218          3.0                  1         13   \n",
       "8519  108.1570          3.0                  7          0   \n",
       "8520   85.1224          3.0                  6          8   \n",
       "8521  103.1332          2.0                  3         13   \n",
       "8522   75.4670          3.0                  8         14   \n",
       "\n",
       "      Outlet_Establishment_Year  Item_Visibility  Item_Fat_Content  \\\n",
       "0                          1999         0.016047                 1   \n",
       "1                          2009         0.019278                 2   \n",
       "2                          1999         0.016760                 1   \n",
       "3                          1998         0.000000                 2   \n",
       "4                          1987         0.000000                 1   \n",
       "...                         ...              ...               ...   \n",
       "8518                       1987         0.056783                 1   \n",
       "8519                       2002         0.046982                 2   \n",
       "8520                       2004         0.035186                 1   \n",
       "8521                       2009         0.145221                 2   \n",
       "8522                       1997         0.044878                 1   \n",
       "\n",
       "      Outlet_Size  Item_Weight  Outlet_Location_Type  \n",
       "0               1        9.300                   2.0  \n",
       "1               2        5.920                   0.0  \n",
       "2               1       17.500                   2.0  \n",
       "3               2       19.200                   0.0  \n",
       "4               1        8.930                   0.0  \n",
       "...           ...          ...                   ...  \n",
       "8518            1        6.865                   0.0  \n",
       "8519            2        8.380                   1.0  \n",
       "8520            1       10.600                   1.0  \n",
       "8521            2        7.210                   0.0  \n",
       "8522            1       14.800                   2.0  \n",
       "\n",
       "[8144 rows x 10 columns]"
      ]
     },
     "execution_count": 893,
     "metadata": {},
     "output_type": "execute_result"
    }
   ],
   "source": [
    "new_X"
   ]
  },
  {
   "cell_type": "code",
   "execution_count": 894,
   "id": "7a4227c9-7bef-4bf4-a4f3-f303c8c936d2",
   "metadata": {},
   "outputs": [],
   "source": [
    "scaler = StandardScaler()\n",
    "X_scale = scaler.fit_transform(new_X)"
   ]
  },
  {
   "cell_type": "markdown",
   "id": "a2c4590d-7be7-4b19-9584-e60e2fe5b046",
   "metadata": {},
   "source": [
    "### Let's  building the model with the selected features"
   ]
  },
  {
   "cell_type": "code",
   "execution_count": 895,
   "id": "6c98a040-431f-4464-9f10-e9c22aa5e778",
   "metadata": {},
   "outputs": [],
   "source": [
    "x_train,x_test,y_train,y_test = train_test_split(X_scale,Y,test_size=0.30,random_state=55)"
   ]
  },
  {
   "cell_type": "code",
   "execution_count": 896,
   "id": "bff34e65-5400-4453-8369-f80d365ed86d",
   "metadata": {},
   "outputs": [
    {
     "data": {
      "text/plain": [
       "LinearRegression()"
      ]
     },
     "execution_count": 896,
     "metadata": {},
     "output_type": "execute_result"
    }
   ],
   "source": [
    "LR = LinearRegression()\n",
    "LR.fit(x_train, y_train)"
   ]
  },
  {
   "cell_type": "code",
   "execution_count": 897,
   "id": "2d031c1c-c5f2-49ca-a9fb-d716d67fa6b2",
   "metadata": {},
   "outputs": [],
   "source": [
    "y_predLR = LR.predict(x_test)"
   ]
  },
  {
   "cell_type": "markdown",
   "id": "84352145-5672-40df-8786-3a1fd0b90f9d",
   "metadata": {},
   "source": [
    "#### Now let's Evaluate the model."
   ]
  },
  {
   "cell_type": "code",
   "execution_count": 898,
   "id": "733f2cf8-1eab-47e0-97a9-6dd560e1f66e",
   "metadata": {},
   "outputs": [
    {
     "data": {
      "text/plain": [
       "852.8676213420816"
      ]
     },
     "execution_count": 898,
     "metadata": {},
     "output_type": "execute_result"
    }
   ],
   "source": [
    "mean_absolute_error(y_test,y_predLR)\n"
   ]
  },
  {
   "cell_type": "code",
   "execution_count": 899,
   "id": "2619879e-5c5f-4c86-9a88-2ae88b63e7f8",
   "metadata": {},
   "outputs": [
    {
     "name": "stdout",
     "output_type": "stream",
     "text": [
      "\n",
      "*****Accuracy ****\n",
      "\n",
      "0.4754635435114444\n"
     ]
    }
   ],
   "source": [
    "print('\\n*****Accuracy ****\\n')\n",
    "\n",
    "print(metrics.r2_score(y_test, y_predLR))"
   ]
  },
  {
   "cell_type": "markdown",
   "id": "8c07ba6c-5c78-433a-aa61-598ded7b09db",
   "metadata": {},
   "source": [
    "#### We till get less accuracy 47%"
   ]
  },
  {
   "cell_type": "markdown",
   "id": "0a0dba3f-e9dd-4561-9e46-164be79c45a3",
   "metadata": {},
   "source": [
    "### let's remove the Outliers see if when can improve the model accuracy.\n"
   ]
  },
  {
   "cell_type": "code",
   "execution_count": 900,
   "id": "38b6f1b7-3f06-4167-8c1b-bf7468fa2c9d",
   "metadata": {},
   "outputs": [
    {
     "data": {
      "image/png": "[encoded data removed]",
      "text/plain": [
       "<Figure size 1080x2520 with 11 Axes>"
      ]
     },
     "metadata": {
      "needs_background": "light"
     },
     "output_type": "display_data"
    }
   ],
   "source": [
    "## let's check our data with box plot.\n",
    "\n",
    "plt.figure(figsize=(15, 35))\n",
    "\n",
    "graph = 1\n",
    "\n",
    "for column in clean_data:\n",
    "    if graph <= 11:\n",
    "        ax = plt.subplot(4,3,graph)\n",
    "        sns.boxplot(y = clean_data[column],orient='h',color='green')\n",
    "        plt.xlabel(column,color ='r',fontsize = 10)\n",
    "    graph+=1\n",
    "plt.show()"
   ]
  },
  {
   "cell_type": "markdown",
   "id": "fa842c09-412c-4ae2-b4d9-321ceb113efa",
   "metadata": {},
   "source": [
    "### From the box plot we can see that there are some outliers. \n",
    "### but our feature __Item_Visibility__ and the target __tem_Outlet_Sales__ have more outliers , So let's remobe them."
   ]
  },
  {
   "cell_type": "markdown",
   "id": "b1b37344-b83d-4dbc-883c-b48b6302181d",
   "metadata": {},
   "source": [
    "##### Outlier Dectection Formula\n",
    "##### Higher side ===> Q3 + (1.5 * IQR)\n",
    "##### lower side ===> Q1 - (1.5 * IQR)\n",
    "##### IQR = Inter Quantile Rate = Q3 - Q1"
   ]
  },
  {
   "cell_type": "code",
   "execution_count": 901,
   "id": "911bacbd-789e-4ed0-9921-d2ff1866076a",
   "metadata": {},
   "outputs": [],
   "source": [
    "## Find the IQR ( Inter Quantile Range) to identify oulier\n",
    "\n",
    "# 1st quantile\n",
    "q1 = clean_data.quantile(0.25)\n",
    "\n",
    "# 3rd quantile\n",
    "q3 = clean_data.quantile(0.75)\n",
    "\n",
    "#IQR \n",
    "iqr = q3 - q1"
   ]
  },
  {
   "cell_type": "code",
   "execution_count": 902,
   "id": "47c69c50-9639-42a3-a3d7-8c1655a18b69",
   "metadata": {},
   "outputs": [
    {
     "data": {
      "text/plain": [
       "0.19159691675"
      ]
     },
     "execution_count": 902,
     "metadata": {},
     "output_type": "execute_result"
    }
   ],
   "source": [
    "# Validation one outlier\n",
    "high_item_Vi = (q3.Item_Visibility+ (1.5 * iqr.Item_Visibility))\n",
    "                \n",
    "high_item_Vi"
   ]
  },
  {
   "cell_type": "markdown",
   "id": "f7a63346-46ea-430e-9ce8-4dc4e16d1c7e",
   "metadata": {},
   "source": [
    "#### This means from the Item_Visibility column records values greater than 0.19 (high_item_Vi > 0.19) are Outliers"
   ]
  },
  {
   "cell_type": "code",
   "execution_count": 903,
   "id": "135681dc-e1ca-4c37-94b1-7d3e7eff0e75",
   "metadata": {},
   "outputs": [
    {
     "data": {
      "text/plain": [
       "(array([3278]),)"
      ]
     },
     "execution_count": 903,
     "metadata": {},
     "output_type": "execute_result"
    }
   ],
   "source": [
    "indexes = np.where(clean_data['Item_Visibility'] > high_item_Vi)\n",
    "indexes"
   ]
  },
  {
   "cell_type": "markdown",
   "id": "a1fc8444-0d19-4840-8357-7501b36e95ab",
   "metadata": {},
   "source": [
    "### let's drop those records."
   ]
  },
  {
   "cell_type": "code",
   "execution_count": 904,
   "id": "443c8b79-2ad2-4bf8-b1b7-cfc7e87a40d9",
   "metadata": {},
   "outputs": [],
   "source": [
    "clean_data = clean_data.drop(clean_data.index[indexes])"
   ]
  },
  {
   "cell_type": "code",
   "execution_count": 905,
   "id": "0901ee88-d416-41e1-9fcd-a0fe63100cc2",
   "metadata": {},
   "outputs": [
    {
     "data": {
      "text/html": [
       "<div>\n",
       "<style scoped>\n",
       "    .dataframe tbody tr th:only-of-type {\n",
       "        vertical-align: middle;\n",
       "    }\n",
       "\n",
       "    .dataframe tbody tr th {\n",
       "        vertical-align: top;\n",
       "    }\n",
       "\n",
       "    .dataframe thead th {\n",
       "        text-align: right;\n",
       "    }\n",
       "</style>\n",
       "<table border=\"1\" class=\"dataframe\">\n",
       "  <thead>\n",
       "    <tr style=\"text-align: right;\">\n",
       "      <th></th>\n",
       "      <th>Item_Fat_Content</th>\n",
       "      <th>Item_Type</th>\n",
       "      <th>Outlet_Identifier</th>\n",
       "      <th>Outlet_Size</th>\n",
       "      <th>Outlet_Location_Type</th>\n",
       "      <th>Outlet_Type</th>\n",
       "      <th>Item_Weight</th>\n",
       "      <th>Item_Visibility</th>\n",
       "      <th>Item_MRP</th>\n",
       "      <th>Outlet_Establishment_Year</th>\n",
       "      <th>Item_Outlet_Sales</th>\n",
       "    </tr>\n",
       "  </thead>\n",
       "  <tbody>\n",
       "    <tr>\n",
       "      <th>0</th>\n",
       "      <td>1</td>\n",
       "      <td>4</td>\n",
       "      <td>9</td>\n",
       "      <td>1</td>\n",
       "      <td>2.0</td>\n",
       "      <td>3.0</td>\n",
       "      <td>9.300</td>\n",
       "      <td>0.016047</td>\n",
       "      <td>249.8092</td>\n",
       "      <td>1999</td>\n",
       "      <td>3735.1380</td>\n",
       "    </tr>\n",
       "    <tr>\n",
       "      <th>1</th>\n",
       "      <td>2</td>\n",
       "      <td>14</td>\n",
       "      <td>3</td>\n",
       "      <td>2</td>\n",
       "      <td>0.0</td>\n",
       "      <td>2.0</td>\n",
       "      <td>5.920</td>\n",
       "      <td>0.019278</td>\n",
       "      <td>48.2692</td>\n",
       "      <td>2009</td>\n",
       "      <td>443.4228</td>\n",
       "    </tr>\n",
       "    <tr>\n",
       "      <th>2</th>\n",
       "      <td>1</td>\n",
       "      <td>10</td>\n",
       "      <td>9</td>\n",
       "      <td>1</td>\n",
       "      <td>2.0</td>\n",
       "      <td>3.0</td>\n",
       "      <td>17.500</td>\n",
       "      <td>0.016760</td>\n",
       "      <td>141.6180</td>\n",
       "      <td>1999</td>\n",
       "      <td>2097.2700</td>\n",
       "    </tr>\n",
       "    <tr>\n",
       "      <th>3</th>\n",
       "      <td>2</td>\n",
       "      <td>6</td>\n",
       "      <td>0</td>\n",
       "      <td>2</td>\n",
       "      <td>0.0</td>\n",
       "      <td>0.0</td>\n",
       "      <td>19.200</td>\n",
       "      <td>0.000000</td>\n",
       "      <td>182.0950</td>\n",
       "      <td>1998</td>\n",
       "      <td>732.3800</td>\n",
       "    </tr>\n",
       "    <tr>\n",
       "      <th>4</th>\n",
       "      <td>1</td>\n",
       "      <td>9</td>\n",
       "      <td>1</td>\n",
       "      <td>1</td>\n",
       "      <td>0.0</td>\n",
       "      <td>3.0</td>\n",
       "      <td>8.930</td>\n",
       "      <td>0.000000</td>\n",
       "      <td>53.8614</td>\n",
       "      <td>1987</td>\n",
       "      <td>994.7052</td>\n",
       "    </tr>\n",
       "    <tr>\n",
       "      <th>...</th>\n",
       "      <td>...</td>\n",
       "      <td>...</td>\n",
       "      <td>...</td>\n",
       "      <td>...</td>\n",
       "      <td>...</td>\n",
       "      <td>...</td>\n",
       "      <td>...</td>\n",
       "      <td>...</td>\n",
       "      <td>...</td>\n",
       "      <td>...</td>\n",
       "      <td>...</td>\n",
       "    </tr>\n",
       "    <tr>\n",
       "      <th>8138</th>\n",
       "      <td>1</td>\n",
       "      <td>13</td>\n",
       "      <td>1</td>\n",
       "      <td>1</td>\n",
       "      <td>0.0</td>\n",
       "      <td>3.0</td>\n",
       "      <td>6.865</td>\n",
       "      <td>0.056783</td>\n",
       "      <td>214.5218</td>\n",
       "      <td>1987</td>\n",
       "      <td>2778.3834</td>\n",
       "    </tr>\n",
       "    <tr>\n",
       "      <th>8139</th>\n",
       "      <td>2</td>\n",
       "      <td>0</td>\n",
       "      <td>7</td>\n",
       "      <td>2</td>\n",
       "      <td>1.0</td>\n",
       "      <td>3.0</td>\n",
       "      <td>8.380</td>\n",
       "      <td>0.046982</td>\n",
       "      <td>108.1570</td>\n",
       "      <td>2002</td>\n",
       "      <td>549.2850</td>\n",
       "    </tr>\n",
       "    <tr>\n",
       "      <th>8140</th>\n",
       "      <td>1</td>\n",
       "      <td>8</td>\n",
       "      <td>6</td>\n",
       "      <td>1</td>\n",
       "      <td>1.0</td>\n",
       "      <td>3.0</td>\n",
       "      <td>10.600</td>\n",
       "      <td>0.035186</td>\n",
       "      <td>85.1224</td>\n",
       "      <td>2004</td>\n",
       "      <td>1193.1136</td>\n",
       "    </tr>\n",
       "    <tr>\n",
       "      <th>8141</th>\n",
       "      <td>2</td>\n",
       "      <td>13</td>\n",
       "      <td>3</td>\n",
       "      <td>2</td>\n",
       "      <td>0.0</td>\n",
       "      <td>2.0</td>\n",
       "      <td>7.210</td>\n",
       "      <td>0.145221</td>\n",
       "      <td>103.1332</td>\n",
       "      <td>2009</td>\n",
       "      <td>1845.5976</td>\n",
       "    </tr>\n",
       "    <tr>\n",
       "      <th>8142</th>\n",
       "      <td>1</td>\n",
       "      <td>14</td>\n",
       "      <td>8</td>\n",
       "      <td>1</td>\n",
       "      <td>2.0</td>\n",
       "      <td>3.0</td>\n",
       "      <td>14.800</td>\n",
       "      <td>0.044878</td>\n",
       "      <td>75.4670</td>\n",
       "      <td>1997</td>\n",
       "      <td>765.6700</td>\n",
       "    </tr>\n",
       "  </tbody>\n",
       "</table>\n",
       "<p>8143 rows × 11 columns</p>\n",
       "</div>"
      ],
      "text/plain": [
       "      Item_Fat_Content  Item_Type  Outlet_Identifier  Outlet_Size  \\\n",
       "0                    1          4                  9            1   \n",
       "1                    2         14                  3            2   \n",
       "2                    1         10                  9            1   \n",
       "3                    2          6                  0            2   \n",
       "4                    1          9                  1            1   \n",
       "...                ...        ...                ...          ...   \n",
       "8138                 1         13                  1            1   \n",
       "8139                 2          0                  7            2   \n",
       "8140                 1          8                  6            1   \n",
       "8141                 2         13                  3            2   \n",
       "8142                 1         14                  8            1   \n",
       "\n",
       "      Outlet_Location_Type  Outlet_Type  Item_Weight  Item_Visibility  \\\n",
       "0                      2.0          3.0        9.300         0.016047   \n",
       "1                      0.0          2.0        5.920         0.019278   \n",
       "2                      2.0          3.0       17.500         0.016760   \n",
       "3                      0.0          0.0       19.200         0.000000   \n",
       "4                      0.0          3.0        8.930         0.000000   \n",
       "...                    ...          ...          ...              ...   \n",
       "8138                   0.0          3.0        6.865         0.056783   \n",
       "8139                   1.0          3.0        8.380         0.046982   \n",
       "8140                   1.0          3.0       10.600         0.035186   \n",
       "8141                   0.0          2.0        7.210         0.145221   \n",
       "8142                   2.0          3.0       14.800         0.044878   \n",
       "\n",
       "      Item_MRP  Outlet_Establishment_Year  Item_Outlet_Sales  \n",
       "0     249.8092                       1999          3735.1380  \n",
       "1      48.2692                       2009           443.4228  \n",
       "2     141.6180                       1999          2097.2700  \n",
       "3     182.0950                       1998           732.3800  \n",
       "4      53.8614                       1987           994.7052  \n",
       "...        ...                        ...                ...  \n",
       "8138  214.5218                       1987          2778.3834  \n",
       "8139  108.1570                       2002           549.2850  \n",
       "8140   85.1224                       2004          1193.1136  \n",
       "8141  103.1332                       2009          1845.5976  \n",
       "8142   75.4670                       1997           765.6700  \n",
       "\n",
       "[8143 rows x 11 columns]"
      ]
     },
     "execution_count": 905,
     "metadata": {},
     "output_type": "execute_result"
    }
   ],
   "source": [
    "## reset the index\n",
    "\n",
    "clean_data.reset_index(drop=True)"
   ]
  },
  {
   "cell_type": "code",
   "execution_count": 906,
   "id": "ad945b14-ee59-47bc-b7d9-2fa74bb9a0aa",
   "metadata": {},
   "outputs": [
    {
     "data": {
      "text/html": [
       "<div>\n",
       "<style scoped>\n",
       "    .dataframe tbody tr th:only-of-type {\n",
       "        vertical-align: middle;\n",
       "    }\n",
       "\n",
       "    .dataframe tbody tr th {\n",
       "        vertical-align: top;\n",
       "    }\n",
       "\n",
       "    .dataframe thead th {\n",
       "        text-align: right;\n",
       "    }\n",
       "</style>\n",
       "<table border=\"1\" class=\"dataframe\">\n",
       "  <thead>\n",
       "    <tr style=\"text-align: right;\">\n",
       "      <th></th>\n",
       "      <th>Item_Fat_Content</th>\n",
       "      <th>Item_Type</th>\n",
       "      <th>Outlet_Identifier</th>\n",
       "      <th>Outlet_Size</th>\n",
       "      <th>Outlet_Location_Type</th>\n",
       "      <th>Outlet_Type</th>\n",
       "      <th>Item_Weight</th>\n",
       "      <th>Item_Visibility</th>\n",
       "      <th>Item_MRP</th>\n",
       "      <th>Outlet_Establishment_Year</th>\n",
       "      <th>Item_Outlet_Sales</th>\n",
       "    </tr>\n",
       "  </thead>\n",
       "  <tbody>\n",
       "    <tr>\n",
       "      <th>0</th>\n",
       "      <td>1</td>\n",
       "      <td>4</td>\n",
       "      <td>9</td>\n",
       "      <td>1</td>\n",
       "      <td>2.0</td>\n",
       "      <td>3.0</td>\n",
       "      <td>9.300</td>\n",
       "      <td>0.016047</td>\n",
       "      <td>249.8092</td>\n",
       "      <td>1999</td>\n",
       "      <td>3735.1380</td>\n",
       "    </tr>\n",
       "    <tr>\n",
       "      <th>1</th>\n",
       "      <td>2</td>\n",
       "      <td>14</td>\n",
       "      <td>3</td>\n",
       "      <td>2</td>\n",
       "      <td>0.0</td>\n",
       "      <td>2.0</td>\n",
       "      <td>5.920</td>\n",
       "      <td>0.019278</td>\n",
       "      <td>48.2692</td>\n",
       "      <td>2009</td>\n",
       "      <td>443.4228</td>\n",
       "    </tr>\n",
       "    <tr>\n",
       "      <th>2</th>\n",
       "      <td>1</td>\n",
       "      <td>10</td>\n",
       "      <td>9</td>\n",
       "      <td>1</td>\n",
       "      <td>2.0</td>\n",
       "      <td>3.0</td>\n",
       "      <td>17.500</td>\n",
       "      <td>0.016760</td>\n",
       "      <td>141.6180</td>\n",
       "      <td>1999</td>\n",
       "      <td>2097.2700</td>\n",
       "    </tr>\n",
       "    <tr>\n",
       "      <th>3</th>\n",
       "      <td>2</td>\n",
       "      <td>6</td>\n",
       "      <td>0</td>\n",
       "      <td>2</td>\n",
       "      <td>0.0</td>\n",
       "      <td>0.0</td>\n",
       "      <td>19.200</td>\n",
       "      <td>0.000000</td>\n",
       "      <td>182.0950</td>\n",
       "      <td>1998</td>\n",
       "      <td>732.3800</td>\n",
       "    </tr>\n",
       "    <tr>\n",
       "      <th>4</th>\n",
       "      <td>1</td>\n",
       "      <td>9</td>\n",
       "      <td>1</td>\n",
       "      <td>1</td>\n",
       "      <td>0.0</td>\n",
       "      <td>3.0</td>\n",
       "      <td>8.930</td>\n",
       "      <td>0.000000</td>\n",
       "      <td>53.8614</td>\n",
       "      <td>1987</td>\n",
       "      <td>994.7052</td>\n",
       "    </tr>\n",
       "    <tr>\n",
       "      <th>...</th>\n",
       "      <td>...</td>\n",
       "      <td>...</td>\n",
       "      <td>...</td>\n",
       "      <td>...</td>\n",
       "      <td>...</td>\n",
       "      <td>...</td>\n",
       "      <td>...</td>\n",
       "      <td>...</td>\n",
       "      <td>...</td>\n",
       "      <td>...</td>\n",
       "      <td>...</td>\n",
       "    </tr>\n",
       "    <tr>\n",
       "      <th>8131</th>\n",
       "      <td>1</td>\n",
       "      <td>13</td>\n",
       "      <td>1</td>\n",
       "      <td>1</td>\n",
       "      <td>0.0</td>\n",
       "      <td>3.0</td>\n",
       "      <td>6.865</td>\n",
       "      <td>0.056783</td>\n",
       "      <td>214.5218</td>\n",
       "      <td>1987</td>\n",
       "      <td>2778.3834</td>\n",
       "    </tr>\n",
       "    <tr>\n",
       "      <th>8132</th>\n",
       "      <td>2</td>\n",
       "      <td>0</td>\n",
       "      <td>7</td>\n",
       "      <td>2</td>\n",
       "      <td>1.0</td>\n",
       "      <td>3.0</td>\n",
       "      <td>8.380</td>\n",
       "      <td>0.046982</td>\n",
       "      <td>108.1570</td>\n",
       "      <td>2002</td>\n",
       "      <td>549.2850</td>\n",
       "    </tr>\n",
       "    <tr>\n",
       "      <th>8133</th>\n",
       "      <td>1</td>\n",
       "      <td>8</td>\n",
       "      <td>6</td>\n",
       "      <td>1</td>\n",
       "      <td>1.0</td>\n",
       "      <td>3.0</td>\n",
       "      <td>10.600</td>\n",
       "      <td>0.035186</td>\n",
       "      <td>85.1224</td>\n",
       "      <td>2004</td>\n",
       "      <td>1193.1136</td>\n",
       "    </tr>\n",
       "    <tr>\n",
       "      <th>8134</th>\n",
       "      <td>2</td>\n",
       "      <td>13</td>\n",
       "      <td>3</td>\n",
       "      <td>2</td>\n",
       "      <td>0.0</td>\n",
       "      <td>2.0</td>\n",
       "      <td>7.210</td>\n",
       "      <td>0.145221</td>\n",
       "      <td>103.1332</td>\n",
       "      <td>2009</td>\n",
       "      <td>1845.5976</td>\n",
       "    </tr>\n",
       "    <tr>\n",
       "      <th>8135</th>\n",
       "      <td>1</td>\n",
       "      <td>14</td>\n",
       "      <td>8</td>\n",
       "      <td>1</td>\n",
       "      <td>2.0</td>\n",
       "      <td>3.0</td>\n",
       "      <td>14.800</td>\n",
       "      <td>0.044878</td>\n",
       "      <td>75.4670</td>\n",
       "      <td>1997</td>\n",
       "      <td>765.6700</td>\n",
       "    </tr>\n",
       "  </tbody>\n",
       "</table>\n",
       "<p>8136 rows × 11 columns</p>\n",
       "</div>"
      ],
      "text/plain": [
       "      Item_Fat_Content  Item_Type  Outlet_Identifier  Outlet_Size  \\\n",
       "0                    1          4                  9            1   \n",
       "1                    2         14                  3            2   \n",
       "2                    1         10                  9            1   \n",
       "3                    2          6                  0            2   \n",
       "4                    1          9                  1            1   \n",
       "...                ...        ...                ...          ...   \n",
       "8131                 1         13                  1            1   \n",
       "8132                 2          0                  7            2   \n",
       "8133                 1          8                  6            1   \n",
       "8134                 2         13                  3            2   \n",
       "8135                 1         14                  8            1   \n",
       "\n",
       "      Outlet_Location_Type  Outlet_Type  Item_Weight  Item_Visibility  \\\n",
       "0                      2.0          3.0        9.300         0.016047   \n",
       "1                      0.0          2.0        5.920         0.019278   \n",
       "2                      2.0          3.0       17.500         0.016760   \n",
       "3                      0.0          0.0       19.200         0.000000   \n",
       "4                      0.0          3.0        8.930         0.000000   \n",
       "...                    ...          ...          ...              ...   \n",
       "8131                   0.0          3.0        6.865         0.056783   \n",
       "8132                   1.0          3.0        8.380         0.046982   \n",
       "8133                   1.0          3.0       10.600         0.035186   \n",
       "8134                   0.0          2.0        7.210         0.145221   \n",
       "8135                   2.0          3.0       14.800         0.044878   \n",
       "\n",
       "      Item_MRP  Outlet_Establishment_Year  Item_Outlet_Sales  \n",
       "0     249.8092                       1999          3735.1380  \n",
       "1      48.2692                       2009           443.4228  \n",
       "2     141.6180                       1999          2097.2700  \n",
       "3     182.0950                       1998           732.3800  \n",
       "4      53.8614                       1987           994.7052  \n",
       "...        ...                        ...                ...  \n",
       "8131  214.5218                       1987          2778.3834  \n",
       "8132  108.1570                       2002           549.2850  \n",
       "8133   85.1224                       2004          1193.1136  \n",
       "8134  103.1332                       2009          1845.5976  \n",
       "8135   75.4670                       1997           765.6700  \n",
       "\n",
       "[8136 rows x 11 columns]"
      ]
     },
     "execution_count": 906,
     "metadata": {},
     "output_type": "execute_result"
    }
   ],
   "source": [
    "indexes = np.where(clean_data['Item_Outlet_Sales'] > (q3.Item_Outlet_Sales + (1.5 * iqr.Item_Outlet_Sales)))\n",
    "clean_data =clean_data.drop(clean_data.index[indexes])\n",
    "clean_data.reset_index(drop=True)\n"
   ]
  },
  {
   "cell_type": "markdown",
   "id": "94e45865-0d98-49d0-934b-1a3e0deb2e62",
   "metadata": {},
   "source": [
    "### let's verify whether the outliers are removed."
   ]
  },
  {
   "cell_type": "code",
   "execution_count": 907,
   "id": "659d425e-8204-42cc-a81b-82fd2fc7b4df",
   "metadata": {},
   "outputs": [
    {
     "data": {
      "image/png": "[encoded data removed]",
      "text/plain": [
       "<Figure size 1080x2520 with 11 Axes>"
      ]
     },
     "metadata": {
      "needs_background": "light"
     },
     "output_type": "display_data"
    }
   ],
   "source": [
    "## let's check our data with box plot.\n",
    "\n",
    "plt.figure(figsize=(15, 35))\n",
    "\n",
    "graph = 1\n",
    "\n",
    "for column in clean_data:\n",
    "    if graph <= 11:\n",
    "        ax = plt.subplot(4,3,graph)\n",
    "        sns.boxplot(y = clean_data[column],orient='h',color='purple')\n",
    "        plt.xlabel(column,color ='r',fontsize = 10)\n",
    "    graph+=1\n",
    "plt.show()"
   ]
  },
  {
   "cell_type": "markdown",
   "id": "925ec8f5-50ce-4f25-b204-fe4700e562bc",
   "metadata": {},
   "source": [
    "### we can see that the outliers are remove from the both columns."
   ]
  },
  {
   "cell_type": "code",
   "execution_count": 908,
   "id": "49892cdc-c779-4355-a0ed-db009dca074f",
   "metadata": {},
   "outputs": [
    {
     "data": {
      "image/png": "[encoded data removed]",
      "text/plain": [
       "<Figure size 720x2520 with 11 Axes>"
      ]
     },
     "metadata": {
      "needs_background": "light"
     },
     "output_type": "display_data"
    }
   ],
   "source": [
    "plt.figure(figsize=(10, 35))\n",
    "\n",
    "graph = 1\n",
    "\n",
    "for column in clean_data:\n",
    "    if graph <= 11:\n",
    "        ax = plt.subplot(4,3,graph)\n",
    "        sns.distplot(clean_data[column],color='green')\n",
    "        plt.xlabel(column,color ='r',fontsize = 10)\n",
    "    graph+=1\n",
    "plt.show()"
   ]
  },
  {
   "cell_type": "markdown",
   "id": "c11f7ab6-c85b-4027-a744-d37818e4f833",
   "metadata": {},
   "source": [
    "### From distplot we can see the skewness also removed and our dataset look better than before."
   ]
  },
  {
   "cell_type": "markdown",
   "id": "5daead74-3510-4c30-8801-abce6e8b1cbc",
   "metadata": {},
   "source": [
    "### let's again build the model and check the accuracy"
   ]
  },
  {
   "cell_type": "code",
   "execution_count": null,
   "id": "075da9dc-2219-43a0-a5ac-17df8ce94636",
   "metadata": {},
   "outputs": [],
   "source": []
  },
  {
   "cell_type": "code",
   "execution_count": 959,
   "id": "7165acc3-540c-4bc0-92d8-8a7d1e22ac91",
   "metadata": {},
   "outputs": [],
   "source": [
    "X = clean_data.drop(['Item_Outlet_Sales'],axis=1)\n",
    "Y = clean_data.Item_Outlet_Sales"
   ]
  },
  {
   "cell_type": "code",
   "execution_count": null,
   "id": "6cc163d5-3c14-4a25-962c-5d54b84bedec",
   "metadata": {},
   "outputs": [],
   "source": []
  },
  {
   "cell_type": "code",
   "execution_count": 960,
   "id": "f180cf68-b786-45ac-81a1-5ce7d21e9d4f",
   "metadata": {},
   "outputs": [],
   "source": [
    "## let's standarize our features data \n",
    "scaler = StandardScaler()\n",
    "X_scaled = scaler.fit_transform(X)\n",
    "\n"
   ]
  },
  {
   "cell_type": "code",
   "execution_count": 973,
   "id": "1c2a29ae-aa41-4a44-bdc9-3644b066f7ca",
   "metadata": {},
   "outputs": [],
   "source": [
    "x_train,x_test,y_train,y_test = train_test_split(X_scaled,Y,test_size=0.30,random_state=115)"
   ]
  },
  {
   "cell_type": "code",
   "execution_count": 974,
   "id": "e9021897-a99e-48e8-95b0-eacb2a735b3d",
   "metadata": {},
   "outputs": [],
   "source": [
    "lr_ = LinearRegression()"
   ]
  },
  {
   "cell_type": "code",
   "execution_count": 975,
   "id": "8a8a2f9f-ba1e-45b7-9afc-f5b4d1c3a02d",
   "metadata": {},
   "outputs": [
    {
     "data": {
      "text/plain": [
       "LinearRegression()"
      ]
     },
     "execution_count": 975,
     "metadata": {},
     "output_type": "execute_result"
    }
   ],
   "source": [
    "lr_.fit(x_train, y_train)"
   ]
  },
  {
   "cell_type": "markdown",
   "id": "a5f85e40-e115-4e65-8099-84790914bb2c",
   "metadata": {},
   "source": [
    "#### Let's evaluate the model."
   ]
  },
  {
   "cell_type": "code",
   "execution_count": 976,
   "id": "1b6e38ae-a169-43a2-adff-df0491aeeccd",
   "metadata": {},
   "outputs": [],
   "source": [
    "y_predlr_ = lr_.predict(x_test)"
   ]
  },
  {
   "cell_type": "code",
   "execution_count": 977,
   "id": "61940fa6-2304-436d-9294-1fdfd2c58a6a",
   "metadata": {},
   "outputs": [
    {
     "data": {
      "text/plain": [
       "819.0782842158753"
      ]
     },
     "execution_count": 977,
     "metadata": {},
     "output_type": "execute_result"
    }
   ],
   "source": [
    "mean_absolute_error(y_test,y_predlr_)\n"
   ]
  },
  {
   "cell_type": "code",
   "execution_count": 978,
   "id": "d8732d57-9228-4a73-8ca4-3cc495647543",
   "metadata": {},
   "outputs": [
    {
     "name": "stdout",
     "output_type": "stream",
     "text": [
      "\n",
      "*****Accuracy ****\n",
      "\n",
      "0.47836299736216414\n"
     ]
    }
   ],
   "source": [
    "print('\\n*****Accuracy ****\\n')\n",
    "\n",
    "print(metrics.r2_score(y_test,y_predlr_))"
   ]
  },
  {
   "cell_type": "markdown",
   "id": "32ce17e4-7615-4885-bf87-f0baac3421d1",
   "metadata": {},
   "source": [
    "## let's buld second model usin Lasso Algorithum"
   ]
  },
  {
   "cell_type": "code",
   "execution_count": 979,
   "id": "95074a39-2af4-48c6-b2d0-2406462dd1d6",
   "metadata": {},
   "outputs": [],
   "source": [
    "from sklearn.linear_model import Ridge,RidgeCV,Lasso,LassoCV\n"
   ]
  },
  {
   "cell_type": "code",
   "execution_count": 980,
   "id": "4e7c7a68-cbf9-493a-9c97-d883b31b212d",
   "metadata": {},
   "outputs": [
    {
     "data": {
      "text/plain": [
       "LassoCV(max_iter=2000, normalize=True)"
      ]
     },
     "execution_count": 980,
     "metadata": {},
     "output_type": "execute_result"
    }
   ],
   "source": [
    "lasscv = LassoCV(alphas=None, max_iter=2000, normalize=True)\n",
    "lasscv.fit(x_train, y_train)\n"
   ]
  },
  {
   "cell_type": "code",
   "execution_count": 981,
   "id": "cb783869-6783-4f36-ba28-e91329e40f15",
   "metadata": {},
   "outputs": [
    {
     "data": {
      "text/plain": [
       "0.0333155816050429"
      ]
     },
     "execution_count": 981,
     "metadata": {},
     "output_type": "execute_result"
    }
   ],
   "source": [
    "alpha =lasscv.alpha_\n",
    "alpha"
   ]
  },
  {
   "cell_type": "code",
   "execution_count": 982,
   "id": "7018ba41-8495-4350-b5b3-5561604529e7",
   "metadata": {},
   "outputs": [
    {
     "data": {
      "text/plain": [
       "Lasso(alpha=0.03)"
      ]
     },
     "execution_count": 982,
     "metadata": {},
     "output_type": "execute_result"
    }
   ],
   "source": [
    "## now that we have the best parameter, let's use Lasso regression\n",
    "## and see how well our data fitted  before \n",
    "\n",
    "lasso_reg = Lasso(alpha=0.03)\n",
    "lasso_reg.fit(x_train, y_train)"
   ]
  },
  {
   "cell_type": "markdown",
   "id": "0132f7ab-ac5c-4450-ae62-51ef3f8fdf65",
   "metadata": {},
   "source": [
    "#### Let's evaluate the model"
   ]
  },
  {
   "cell_type": "code",
   "execution_count": 983,
   "id": "2c09e485-56d5-41f6-bda0-b585fb2dd795",
   "metadata": {},
   "outputs": [
    {
     "data": {
      "text/plain": [
       "0.478364251615617"
      ]
     },
     "execution_count": 983,
     "metadata": {},
     "output_type": "execute_result"
    }
   ],
   "source": [
    "lasso_reg.score(x_test, y_test)\n"
   ]
  },
  {
   "cell_type": "code",
   "execution_count": 984,
   "id": "98cccec0-7a82-4932-a1e4-d89fe4604f7a",
   "metadata": {},
   "outputs": [],
   "source": [
    "y_predlass = lasso_reg.predict(x_test)"
   ]
  },
  {
   "cell_type": "code",
   "execution_count": 985,
   "id": "b59ee16f-09ea-4761-9ba2-b1499bdad0a3",
   "metadata": {},
   "outputs": [
    {
     "name": "stdout",
     "output_type": "stream",
     "text": [
      "\n",
      "*****Accuracy ****\n",
      "\n",
      "0.478364251615617\n"
     ]
    }
   ],
   "source": [
    "print('\\n*****Accuracy ****\\n')\n",
    "\n",
    "print(metrics.r2_score(y_test, y_predlass))"
   ]
  },
  {
   "cell_type": "markdown",
   "id": "6bae436f-d8fb-478e-9c6b-6b6deafd9045",
   "metadata": {},
   "source": [
    "### We built a second model using lasso and we got accuracy is 0.47%"
   ]
  },
  {
   "cell_type": "markdown",
   "id": "bbb1a375-b849-4c95-ab0d-523b11315b40",
   "metadata": {},
   "source": [
    "## Let's the build the third model using  Ridge regression Algorithum"
   ]
  },
  {
   "cell_type": "code",
   "execution_count": 986,
   "id": "803746d3-a9da-4e0c-9fd4-e25226643620",
   "metadata": {},
   "outputs": [
    {
     "data": {
      "text/plain": [
       "RidgeCV(alphas=array([0.001, 0.011, 0.021, 0.031, 0.041, 0.051, 0.061, 0.071, 0.081,\n",
       "       0.091]),\n",
       "        normalize=True)"
      ]
     },
     "execution_count": 986,
     "metadata": {},
     "output_type": "execute_result"
    }
   ],
   "source": [
    "# RidgeCV will return best alpha and coefficients after perfoming\n",
    "#### 10 across validations.\n",
    "\n",
    "ridgecv = RidgeCV(alphas= np.arange(0.001,0.1,0.01), normalize=True)\n",
    "\n",
    "ridgecv.fit(x_train, y_train)"
   ]
  },
  {
   "cell_type": "code",
   "execution_count": 987,
   "id": "4c4a2e41-2ca6-499f-a246-3c1583bf1af8",
   "metadata": {},
   "outputs": [
    {
     "data": {
      "text/plain": [
       "0.001"
      ]
     },
     "execution_count": 987,
     "metadata": {},
     "output_type": "execute_result"
    }
   ],
   "source": [
    "alpha1 = ridgecv.alpha_\n",
    "alpha1"
   ]
  },
  {
   "cell_type": "markdown",
   "id": "795a9442-c339-48bb-9e93-8e52e4389cee",
   "metadata": {},
   "source": [
    "#### The result is alpha1 = 0.001, It is called learning rate."
   ]
  },
  {
   "cell_type": "code",
   "execution_count": 988,
   "id": "0c71f232-df8c-49ed-8b67-8e8cb5464603",
   "metadata": {},
   "outputs": [
    {
     "data": {
      "text/plain": [
       "Ridge(alpha=0.001)"
      ]
     },
     "execution_count": 988,
     "metadata": {},
     "output_type": "execute_result"
    }
   ],
   "source": [
    "ridge_model = Ridge(alpha1)\n",
    "\n",
    "## ridge_model = Ridge(alpha = ridgecv.alpha_)\n",
    "ridge_model.fit(x_train,y_train)"
   ]
  },
  {
   "cell_type": "code",
   "execution_count": 989,
   "id": "2c1c52b8-82fd-493b-8fff-cf7eea7d21f1",
   "metadata": {},
   "outputs": [
    {
     "data": {
      "text/plain": [
       "0.47836300136298715"
      ]
     },
     "execution_count": 989,
     "metadata": {},
     "output_type": "execute_result"
    }
   ],
   "source": [
    "ridge_model.score(x_test, y_test)\n"
   ]
  },
  {
   "cell_type": "code",
   "execution_count": 990,
   "id": "17fa868a-3500-410c-bcae-6177c6f23bae",
   "metadata": {},
   "outputs": [],
   "source": [
    "y_predrige = ridge_model.predict(x_test)"
   ]
  },
  {
   "cell_type": "code",
   "execution_count": 991,
   "id": "17d02970-c395-4513-8da6-0c42eaa929fe",
   "metadata": {},
   "outputs": [
    {
     "name": "stdout",
     "output_type": "stream",
     "text": [
      "\n",
      "*****Accuracy ****\n",
      "\n",
      "0.47836300136298715\n"
     ]
    }
   ],
   "source": [
    "print('\\n*****Accuracy ****\\n')\n",
    "\n",
    "print(metrics.r2_score(y_test,y_predrige ))"
   ]
  },
  {
   "cell_type": "markdown",
   "id": "ee4e49a2-b6c8-4dcb-a609-c0147c46d29a",
   "metadata": {},
   "source": [
    "## We built a second model using Ridge and we got accuracy is 0.47%"
   ]
  },
  {
   "cell_type": "markdown",
   "id": "96e2ff94-2e67-4144-929a-fb9000204d55",
   "metadata": {},
   "source": [
    "\n",
    "## Let's go for cross validation score and see if there no overfitting and wich model performe well."
   ]
  },
  {
   "cell_type": "code",
   "execution_count": 992,
   "id": "5de436e9-1105-4ece-90aa-56c556e983a3",
   "metadata": {},
   "outputs": [],
   "source": [
    "from sklearn.model_selection import cross_val_score\n"
   ]
  },
  {
   "cell_type": "code",
   "execution_count": 993,
   "id": "b6e751f1-aedc-4a48-bae5-d9c846339415",
   "metadata": {},
   "outputs": [
    {
     "name": "stdout",
     "output_type": "stream",
     "text": [
      "Cross Validation Score of LinearRegression model: 0.47001298089941834\n"
     ]
    }
   ],
   "source": [
    "## first model lr_\n",
    "\n",
    "scr = cross_val_score(lr_,X,Y,cv=7)\n",
    "print('Cross Validation Score of LinearRegression model:',scr.mean())"
   ]
  },
  {
   "cell_type": "code",
   "execution_count": 994,
   "id": "a84f1a38-0142-4886-94e6-b9414d2ae6f9",
   "metadata": {},
   "outputs": [
    {
     "name": "stdout",
     "output_type": "stream",
     "text": [
      "Cross Validation Score of Lasso model: 0.47001259695385217\n"
     ]
    }
   ],
   "source": [
    "## second model lasso_reg\n",
    "\n",
    "scr = cross_val_score(lasso_reg,X,Y,cv=7)\n",
    "print('Cross Validation Score of Lasso model:',scr.mean())\n"
   ]
  },
  {
   "cell_type": "code",
   "execution_count": 995,
   "id": "a705fa18-0d5d-4779-aa0f-df9ba9ba0fe7",
   "metadata": {},
   "outputs": [
    {
     "name": "stdout",
     "output_type": "stream",
     "text": [
      "Cross Validation Score of Ridge model: 0.4700129867210329\n"
     ]
    }
   ],
   "source": [
    "## second model lasso_reg\n",
    "\n",
    "scr = cross_val_score(ridge_model,X,Y,cv=7)\n",
    "print('Cross Validation Score of Ridge model:',scr.mean())\n"
   ]
  },
  {
   "cell_type": "markdown",
   "id": "8c939f8b-dae4-469d-92e8-0b134c1b8f01",
   "metadata": {},
   "source": [
    "#### let's check the defferences of model accuracy and cross_val_score each model."
   ]
  },
  {
   "cell_type": "code",
   "execution_count": 996,
   "id": "5ccbf2d0-2254-474a-86ec-c0843a4a6980",
   "metadata": {},
   "outputs": [
    {
     "name": "stdout",
     "output_type": "stream",
     "text": [
      "\n",
      "LinearRegression model diff is: 0.7999999999999972\n",
      "\n",
      "Lasso model diff is: 0.7999999999999972\n",
      "\n",
      "Ridge  model diff is: 0.7999999999999972\n"
     ]
    }
   ],
   "source": [
    "print('\\nLinearRegression model diff is:',47.8 -47)\n",
    "print('\\nLasso model diff is:',47.8 -47)\n",
    "print('\\nRidge  model diff is:',47.8 -47)\n"
   ]
  },
  {
   "cell_type": "markdown",
   "id": "6821dac0-a3b8-407f-b0dd-e188ccdf57ea",
   "metadata": {},
   "source": [
    "### The defference of accuracy and cross validation score of all the 3 models are same. "
   ]
  },
  {
   "cell_type": "markdown",
   "id": "ee71adce-17cd-4ec3-98c1-7ff8596f6b6b",
   "metadata": {},
   "source": [
    "## So let's choose the Lasso Model and go for Hyper parameter turning."
   ]
  },
  {
   "cell_type": "code",
   "execution_count": 997,
   "id": "3460507d-e74f-473a-8631-1fb065e5c8d0",
   "metadata": {},
   "outputs": [],
   "source": [
    "from sklearn.model_selection import GridSearchCV"
   ]
  },
  {
   "cell_type": "code",
   "execution_count": 1000,
   "id": "b7e7b23b-9505-44d8-8292-eb21b030cf8c",
   "metadata": {},
   "outputs": [],
   "source": [
    "lasso = Lasso(random_state=0, max_iter=1000)\n",
    "alphas = np.logspace(-4, -0.5, 50)\n",
    "\n",
    "tuned_parameters = [{'alpha': alphas}]\n",
    "n_folds = 7"
   ]
  },
  {
   "cell_type": "code",
   "execution_count": 1001,
   "id": "3f74501a-5be8-49eb-82cc-4358bf508660",
   "metadata": {},
   "outputs": [
    {
     "data": {
      "text/plain": [
       "GridSearchCV(cv=7, estimator=Lasso(random_state=0),\n",
       "             param_grid=[{'alpha': array([1.00000000e-04, 1.17876863e-04, 1.38949549e-04, 1.63789371e-04,\n",
       "       1.93069773e-04, 2.27584593e-04, 2.68269580e-04, 3.16227766e-04,\n",
       "       3.72759372e-04, 4.39397056e-04, 5.17947468e-04, 6.10540230e-04,\n",
       "       7.19685673e-04, 8.48342898e-04, 1.00000000e-03, 1.17876863e-03,\n",
       "       1.38949549e-03, 1.63789371e-03, 1....\n",
       "       5.17947468e-03, 6.10540230e-03, 7.19685673e-03, 8.48342898e-03,\n",
       "       1.00000000e-02, 1.17876863e-02, 1.38949549e-02, 1.63789371e-02,\n",
       "       1.93069773e-02, 2.27584593e-02, 2.68269580e-02, 3.16227766e-02,\n",
       "       3.72759372e-02, 4.39397056e-02, 5.17947468e-02, 6.10540230e-02,\n",
       "       7.19685673e-02, 8.48342898e-02, 1.00000000e-01, 1.17876863e-01,\n",
       "       1.38949549e-01, 1.63789371e-01, 1.93069773e-01, 2.27584593e-01,\n",
       "       2.68269580e-01, 3.16227766e-01])}],\n",
       "             refit=False)"
      ]
     },
     "execution_count": 1001,
     "metadata": {},
     "output_type": "execute_result"
    }
   ],
   "source": [
    "clf = GridSearchCV(lasso, tuned_parameters, cv=n_folds, refit=False)\n",
    "clf.fit(x_train, y_train)"
   ]
  },
  {
   "cell_type": "code",
   "execution_count": 1002,
   "id": "a7d10c26-ab21-479d-95af-8e56f101b5b5",
   "metadata": {},
   "outputs": [
    {
     "data": {
      "text/plain": [
       "{'alpha': 0.31622776601683794}"
      ]
     },
     "execution_count": 1002,
     "metadata": {},
     "output_type": "execute_result"
    }
   ],
   "source": [
    "clf.best_params_"
   ]
  },
  {
   "cell_type": "code",
   "execution_count": 1003,
   "id": "d363f416-6e8c-4536-8719-0fb9781ba38b",
   "metadata": {},
   "outputs": [
    {
     "data": {
      "text/plain": [
       "Lasso(alpha=0.31)"
      ]
     },
     "execution_count": 1003,
     "metadata": {},
     "output_type": "execute_result"
    }
   ],
   "source": [
    "## now that we have the best parameter, let's use Lasso regression\n",
    "## and see how well our data fitted  before \n",
    "\n",
    "lasso_reg = Lasso(alpha=0.31)\n",
    "lasso_reg.fit(x_train, y_train)"
   ]
  },
  {
   "cell_type": "code",
   "execution_count": null,
   "id": "9f90e301-0e92-4a5c-8711-eb49a78af643",
   "metadata": {},
   "outputs": [],
   "source": []
  },
  {
   "cell_type": "code",
   "execution_count": 1004,
   "id": "79485f1e-9cb1-4bd6-ba50-55b431943c4b",
   "metadata": {},
   "outputs": [],
   "source": [
    "y_predls = lasso_reg.predict(x_test)"
   ]
  },
  {
   "cell_type": "code",
   "execution_count": 1005,
   "id": "1dce70a6-07b5-4ec1-abe4-eb2db5581acd",
   "metadata": {},
   "outputs": [
    {
     "name": "stdout",
     "output_type": "stream",
     "text": [
      "\n",
      "*****Accuracy ****\n",
      "\n",
      "0.4783753735079448\n"
     ]
    }
   ],
   "source": [
    "print('\\n*****Accuracy ****\\n')\n",
    "\n",
    "print(metrics.r2_score(y_test,y_predls))"
   ]
  },
  {
   "cell_type": "markdown",
   "id": "c8d34910-1d03-40b3-8c46-34591ad57ec9",
   "metadata": {},
   "source": [
    "### We build 3 models and after paramter turning we got the same accuracy 47%."
   ]
  },
  {
   "cell_type": "markdown",
   "id": "dd38da93-7d24-44d9-877b-8a8b49b3f978",
   "metadata": {},
   "source": [
    "#### saving the model."
   ]
  },
  {
   "cell_type": "code",
   "execution_count": 1006,
   "id": "2db7688f-cbd4-442d-a30d-3736875b8846",
   "metadata": {},
   "outputs": [],
   "source": [
    "import joblib"
   ]
  },
  {
   "cell_type": "code",
   "execution_count": 1007,
   "id": "d075647b-9a1e-4927-bed0-4c104a8177f8",
   "metadata": {},
   "outputs": [
    {
     "data": {
      "text/plain": [
       "['Item_sales_prediction.pkl']"
      ]
     },
     "execution_count": 1007,
     "metadata": {},
     "output_type": "execute_result"
    }
   ],
   "source": [
    "joblib.dump(lasso_reg,'Item_sales_prediction.pkl')"
   ]
  },
  {
   "cell_type": "markdown",
   "id": "1fa52406-f064-4a6d-a056-9293af5a4259",
   "metadata": {},
   "source": [
    "#### *********************************************************************************\n",
    "#### *********************************************************************************\n",
    "\n"
   ]
  },
  {
   "cell_type": "markdown",
   "id": "13b8303e-8916-48dc-9bae-125a2356e0ab",
   "metadata": {},
   "source": [
    "### Let's Loading the saved model"
   ]
  },
  {
   "cell_type": "code",
   "execution_count": 1008,
   "id": "9232794a-a58c-41fb-813b-a75e9cc0e8f1",
   "metadata": {},
   "outputs": [],
   "source": [
    "model = joblib.load('Item_sales_prediction.pkl')"
   ]
  },
  {
   "cell_type": "code",
   "execution_count": 1010,
   "id": "c5b485b5-82a8-4374-92d0-5dd5ca6029f1",
   "metadata": {},
   "outputs": [],
   "source": [
    "## importing the clearned test data \n",
    "\n",
    "test = pd.read_csv('test_data_cleaned.csv')"
   ]
  },
  {
   "cell_type": "code",
   "execution_count": 1011,
   "id": "e158b2c6-3719-4195-b2e6-70c86599c0de",
   "metadata": {},
   "outputs": [
    {
     "data": {
      "text/html": [
       "<div>\n",
       "<style scoped>\n",
       "    .dataframe tbody tr th:only-of-type {\n",
       "        vertical-align: middle;\n",
       "    }\n",
       "\n",
       "    .dataframe tbody tr th {\n",
       "        vertical-align: top;\n",
       "    }\n",
       "\n",
       "    .dataframe thead th {\n",
       "        text-align: right;\n",
       "    }\n",
       "</style>\n",
       "<table border=\"1\" class=\"dataframe\">\n",
       "  <thead>\n",
       "    <tr style=\"text-align: right;\">\n",
       "      <th></th>\n",
       "      <th>Item_Fat_Content</th>\n",
       "      <th>Item_Type</th>\n",
       "      <th>Outlet_Identifier</th>\n",
       "      <th>Outlet_Size</th>\n",
       "      <th>Outlet_Location_Type</th>\n",
       "      <th>Outlet_Type</th>\n",
       "      <th>Item_Weight</th>\n",
       "      <th>Item_Visibility</th>\n",
       "      <th>Item_MRP</th>\n",
       "      <th>Outlet_Establishment_Year</th>\n",
       "    </tr>\n",
       "  </thead>\n",
       "  <tbody>\n",
       "    <tr>\n",
       "      <th>0</th>\n",
       "      <td>1</td>\n",
       "      <td>13</td>\n",
       "      <td>9</td>\n",
       "      <td>1</td>\n",
       "      <td>2.0</td>\n",
       "      <td>3.0</td>\n",
       "      <td>20.75</td>\n",
       "      <td>0.007565</td>\n",
       "      <td>107.8622</td>\n",
       "      <td>1999</td>\n",
       "    </tr>\n",
       "    <tr>\n",
       "      <th>1</th>\n",
       "      <td>4</td>\n",
       "      <td>4</td>\n",
       "      <td>2</td>\n",
       "      <td>4</td>\n",
       "      <td>1.0</td>\n",
       "      <td>3.0</td>\n",
       "      <td>8.30</td>\n",
       "      <td>0.038428</td>\n",
       "      <td>87.3198</td>\n",
       "      <td>2007</td>\n",
       "    </tr>\n",
       "  </tbody>\n",
       "</table>\n",
       "</div>"
      ],
      "text/plain": [
       "   Item_Fat_Content  Item_Type  Outlet_Identifier  Outlet_Size  \\\n",
       "0                 1         13                  9            1   \n",
       "1                 4          4                  2            4   \n",
       "\n",
       "   Outlet_Location_Type  Outlet_Type  Item_Weight  Item_Visibility  Item_MRP  \\\n",
       "0                   2.0          3.0        20.75         0.007565  107.8622   \n",
       "1                   1.0          3.0         8.30         0.038428   87.3198   \n",
       "\n",
       "   Outlet_Establishment_Year  \n",
       "0                       1999  \n",
       "1                       2007  "
      ]
     },
     "execution_count": 1011,
     "metadata": {},
     "output_type": "execute_result"
    }
   ],
   "source": [
    "test.head(2)"
   ]
  },
  {
   "cell_type": "markdown",
   "id": "e693a90b-3ca4-4794-8b3d-67a251ea7d1e",
   "metadata": {},
   "source": [
    "#### Let's do the prediction"
   ]
  },
  {
   "cell_type": "code",
   "execution_count": 1012,
   "id": "7e3a6cf0-ff49-4fee-a14a-54ff2984a429",
   "metadata": {},
   "outputs": [],
   "source": [
    "prediction = model.predict(test)"
   ]
  },
  {
   "cell_type": "code",
   "execution_count": 1013,
   "id": "6c298e89-0af9-404a-9a9c-bdc3cf3c4dc3",
   "metadata": {},
   "outputs": [
    {
     "data": {
      "text/plain": [
       "-300573.84887216537"
      ]
     },
     "execution_count": 1013,
     "metadata": {},
     "output_type": "execute_result"
    }
   ],
   "source": [
    "prediction[0]"
   ]
  },
  {
   "cell_type": "markdown",
   "id": "ea79ccc4-3625-4667-b9d2-e57a2ab1662a",
   "metadata": {},
   "source": [
    "## let's save the prediction"
   ]
  },
  {
   "cell_type": "code",
   "execution_count": 1014,
   "id": "b92701dd-59f1-4b94-9d3b-636a77d02d86",
   "metadata": {},
   "outputs": [],
   "source": [
    "pred = pd.DataFrame(prediction) ## converting into Data Frame"
   ]
  },
  {
   "cell_type": "code",
   "execution_count": 1015,
   "id": "bee84931-83e2-45bb-8246-8bd76d1652a6",
   "metadata": {},
   "outputs": [],
   "source": [
    "pred.to_csv('label_prediction.csv',index=False)"
   ]
  },
  {
   "cell_type": "code",
   "execution_count": null,
   "id": "89c477e4-8411-4794-8b61-76a153da67d4",
   "metadata": {},
   "outputs": [],
   "source": []
  }
 ],
 "metadata": {
  "kernelspec": {
   "display_name": "Python 3",
   "language": "python",
   "name": "python3"
  },
  "language_info": {
   "codemirror_mode": {
    "name": "ipython",
    "version": 3
   },
   "file_extension": ".py",
   "mimetype": "text/x-python",
   "name": "python",
   "nbconvert_exporter": "python",
   "pygments_lexer": "ipython3",
   "version": "3.8.2"
  }
 },
 "nbformat": 4,
 "nbformat_minor": 5
}
