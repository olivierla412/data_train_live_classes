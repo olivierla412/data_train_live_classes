{
 "cells": [
  {
   "cell_type": "code",
   "execution_count": 1,
   "id": "2622d9ec-d5e2-4690-a7f6-b65bfd88fc3e",
   "metadata": {},
   "outputs": [
    {
     "data": {
      "text/plain": [
       "'/Users/olivierla412/projects/DataTrained_live_classes/Imputer_Encoder'"
      ]
     },
     "execution_count": 1,
     "metadata": {},
     "output_type": "execute_result"
    }
   ],
   "source": [
    "# command +shift +c  then select the mode to dark"
   ]
  },
  {
   "cell_type": "code",
   "execution_count": 2,
   "id": "867a59f6-0880-4895-9124-53a3845c0c30",
   "metadata": {},
   "outputs": [],
   "source": [
    "import pandas as pd"
   ]
  },
  {
   "cell_type": "code",
   "execution_count": 3,
   "id": "cd658d72-5d69-46ed-8b95-528e82e1e89a",
   "metadata": {},
   "outputs": [
    {
     "data": {
      "text/plain": [
       "'/Users/olivierla412/projects/DataTrained_live_classes/Imputer_Encoder'"
      ]
     },
     "execution_count": 3,
     "metadata": {},
     "output_type": "execute_result"
    }
   ],
   "source": [
    "pwd"
   ]
  },
  {
   "cell_type": "code",
   "execution_count": 7,
   "id": "13ce23c8-9bd1-4fb3-975b-c8e41b80da21",
   "metadata": {},
   "outputs": [
    {
     "data": {
      "text/html": [
       "<div>\n",
       "<style scoped>\n",
       "    .dataframe tbody tr th:only-of-type {\n",
       "        vertical-align: middle;\n",
       "    }\n",
       "\n",
       "    .dataframe tbody tr th {\n",
       "        vertical-align: top;\n",
       "    }\n",
       "\n",
       "    .dataframe thead th {\n",
       "        text-align: right;\n",
       "    }\n",
       "</style>\n",
       "<table border=\"1\" class=\"dataframe\">\n",
       "  <thead>\n",
       "    <tr style=\"text-align: right;\">\n",
       "      <th></th>\n",
       "      <th>fare</th>\n",
       "      <th>Embarked</th>\n",
       "      <th>Gender</th>\n",
       "      <th>Age</th>\n",
       "    </tr>\n",
       "  </thead>\n",
       "  <tbody>\n",
       "    <tr>\n",
       "      <th>0</th>\n",
       "      <td>25</td>\n",
       "      <td>S</td>\n",
       "      <td>male</td>\n",
       "      <td>22.0</td>\n",
       "    </tr>\n",
       "    <tr>\n",
       "      <th>1</th>\n",
       "      <td>48</td>\n",
       "      <td>C</td>\n",
       "      <td>female</td>\n",
       "      <td>34.0</td>\n",
       "    </tr>\n",
       "    <tr>\n",
       "      <th>2</th>\n",
       "      <td>71</td>\n",
       "      <td>S</td>\n",
       "      <td>male</td>\n",
       "      <td>54.0</td>\n",
       "    </tr>\n",
       "    <tr>\n",
       "      <th>3</th>\n",
       "      <td>85</td>\n",
       "      <td>S</td>\n",
       "      <td>female</td>\n",
       "      <td>29.0</td>\n",
       "    </tr>\n",
       "    <tr>\n",
       "      <th>4</th>\n",
       "      <td>90</td>\n",
       "      <td>C</td>\n",
       "      <td>male</td>\n",
       "      <td>55.0</td>\n",
       "    </tr>\n",
       "    <tr>\n",
       "      <th>5</th>\n",
       "      <td>120</td>\n",
       "      <td>Q</td>\n",
       "      <td>female</td>\n",
       "      <td>NaN</td>\n",
       "    </tr>\n",
       "  </tbody>\n",
       "</table>\n",
       "</div>"
      ],
      "text/plain": [
       "   fare Embarked  Gender   Age\n",
       "0    25        S    male  22.0\n",
       "1    48        C  female  34.0\n",
       "2    71        S    male  54.0\n",
       "3    85        S  female  29.0\n",
       "4    90        C    male  55.0\n",
       "5   120        Q  female   NaN"
      ]
     },
     "execution_count": 7,
     "metadata": {},
     "output_type": "execute_result"
    }
   ],
   "source": [
    "df = pd.DataFrame({\n",
    "    'fare':[25,48,71,85,90,120],\n",
    "    'Embarked':['S','C','S','S','C','Q'],\n",
    "    'Gender':['male','female','male','female','male','female'],\n",
    "    'Age':[22,34,54,29,55,None]\n",
    "})\n",
    "df"
   ]
  },
  {
   "cell_type": "markdown",
   "id": "350592a2-49b6-486e-b8d7-36f4ddc4d2a0",
   "metadata": {},
   "source": [
    "### __Encoder__ and __Imputer__"
   ]
  },
  {
   "cell_type": "markdown",
   "id": "a70bbdc6-714b-4eeb-ad9e-6db346c8d36d",
   "metadata": {},
   "source": [
    "#### __Encoder__:\n",
    "###### It helps to convert text into numbers."
   ]
  },
  {
   "cell_type": "markdown",
   "id": "a949bffa-4c5a-400b-bf23-51a2d5ec64ed",
   "metadata": {},
   "source": [
    "#### LabelEncoder() method"
   ]
  },
  {
   "cell_type": "code",
   "execution_count": 8,
   "id": "0b691649-8f33-489b-b503-46c0c5604475",
   "metadata": {},
   "outputs": [],
   "source": [
    "from sklearn.preprocessing import LabelEncoder"
   ]
  },
  {
   "cell_type": "code",
   "execution_count": 9,
   "id": "f57172ae-b09a-435e-bf49-b983353f07f9",
   "metadata": {},
   "outputs": [],
   "source": [
    "lab_enc = LabelEncoder()"
   ]
  },
  {
   "cell_type": "code",
   "execution_count": 10,
   "id": "5b64ffdc-9b1a-4037-9602-a1887db65718",
   "metadata": {},
   "outputs": [
    {
     "data": {
      "text/plain": [
       "0    2\n",
       "1    0\n",
       "2    2\n",
       "3    2\n",
       "4    0\n",
       "5    1\n",
       "dtype: int64"
      ]
     },
     "execution_count": 10,
     "metadata": {},
     "output_type": "execute_result"
    }
   ],
   "source": [
    "df1 = lab_enc.fit_transform(df['Embarked'])\n",
    "\n",
    "pd.Series(df1)"
   ]
  },
  {
   "cell_type": "code",
   "execution_count": 11,
   "id": "d390a9b7-8789-40de-ad74-88372f4af277",
   "metadata": {},
   "outputs": [
    {
     "data": {
      "text/html": [
       "<div>\n",
       "<style scoped>\n",
       "    .dataframe tbody tr th:only-of-type {\n",
       "        vertical-align: middle;\n",
       "    }\n",
       "\n",
       "    .dataframe tbody tr th {\n",
       "        vertical-align: top;\n",
       "    }\n",
       "\n",
       "    .dataframe thead th {\n",
       "        text-align: right;\n",
       "    }\n",
       "</style>\n",
       "<table border=\"1\" class=\"dataframe\">\n",
       "  <thead>\n",
       "    <tr style=\"text-align: right;\">\n",
       "      <th></th>\n",
       "      <th>fare</th>\n",
       "      <th>Embarked</th>\n",
       "      <th>Gender</th>\n",
       "      <th>Age</th>\n",
       "    </tr>\n",
       "  </thead>\n",
       "  <tbody>\n",
       "    <tr>\n",
       "      <th>0</th>\n",
       "      <td>25</td>\n",
       "      <td>2</td>\n",
       "      <td>male</td>\n",
       "      <td>22.0</td>\n",
       "    </tr>\n",
       "    <tr>\n",
       "      <th>1</th>\n",
       "      <td>48</td>\n",
       "      <td>0</td>\n",
       "      <td>female</td>\n",
       "      <td>34.0</td>\n",
       "    </tr>\n",
       "    <tr>\n",
       "      <th>2</th>\n",
       "      <td>71</td>\n",
       "      <td>2</td>\n",
       "      <td>male</td>\n",
       "      <td>54.0</td>\n",
       "    </tr>\n",
       "    <tr>\n",
       "      <th>3</th>\n",
       "      <td>85</td>\n",
       "      <td>2</td>\n",
       "      <td>female</td>\n",
       "      <td>29.0</td>\n",
       "    </tr>\n",
       "    <tr>\n",
       "      <th>4</th>\n",
       "      <td>90</td>\n",
       "      <td>0</td>\n",
       "      <td>male</td>\n",
       "      <td>55.0</td>\n",
       "    </tr>\n",
       "    <tr>\n",
       "      <th>5</th>\n",
       "      <td>120</td>\n",
       "      <td>1</td>\n",
       "      <td>female</td>\n",
       "      <td>NaN</td>\n",
       "    </tr>\n",
       "  </tbody>\n",
       "</table>\n",
       "</div>"
      ],
      "text/plain": [
       "   fare  Embarked  Gender   Age\n",
       "0    25         2    male  22.0\n",
       "1    48         0  female  34.0\n",
       "2    71         2    male  54.0\n",
       "3    85         2  female  29.0\n",
       "4    90         0    male  55.0\n",
       "5   120         1  female   NaN"
      ]
     },
     "execution_count": 11,
     "metadata": {},
     "output_type": "execute_result"
    }
   ],
   "source": [
    "df['Embarked'] = df1\n",
    "df"
   ]
  },
  {
   "cell_type": "code",
   "execution_count": 33,
   "id": "2a99a87b-c4c5-4c19-8417-8a7aa9973f24",
   "metadata": {},
   "outputs": [],
   "source": [
    "df2 = lab_enc.fit_transform(df['Gender'])\n",
    "\n"
   ]
  },
  {
   "cell_type": "code",
   "execution_count": 13,
   "id": "62de5e54-673b-460e-9309-c079bf09fd64",
   "metadata": {},
   "outputs": [
    {
     "data": {
      "text/html": [
       "<div>\n",
       "<style scoped>\n",
       "    .dataframe tbody tr th:only-of-type {\n",
       "        vertical-align: middle;\n",
       "    }\n",
       "\n",
       "    .dataframe tbody tr th {\n",
       "        vertical-align: top;\n",
       "    }\n",
       "\n",
       "    .dataframe thead th {\n",
       "        text-align: right;\n",
       "    }\n",
       "</style>\n",
       "<table border=\"1\" class=\"dataframe\">\n",
       "  <thead>\n",
       "    <tr style=\"text-align: right;\">\n",
       "      <th></th>\n",
       "      <th>fare</th>\n",
       "      <th>Embarked</th>\n",
       "      <th>Gender</th>\n",
       "      <th>Age</th>\n",
       "    </tr>\n",
       "  </thead>\n",
       "  <tbody>\n",
       "    <tr>\n",
       "      <th>0</th>\n",
       "      <td>25</td>\n",
       "      <td>2</td>\n",
       "      <td>1</td>\n",
       "      <td>22.0</td>\n",
       "    </tr>\n",
       "    <tr>\n",
       "      <th>1</th>\n",
       "      <td>48</td>\n",
       "      <td>0</td>\n",
       "      <td>0</td>\n",
       "      <td>34.0</td>\n",
       "    </tr>\n",
       "    <tr>\n",
       "      <th>2</th>\n",
       "      <td>71</td>\n",
       "      <td>2</td>\n",
       "      <td>1</td>\n",
       "      <td>54.0</td>\n",
       "    </tr>\n",
       "    <tr>\n",
       "      <th>3</th>\n",
       "      <td>85</td>\n",
       "      <td>2</td>\n",
       "      <td>0</td>\n",
       "      <td>29.0</td>\n",
       "    </tr>\n",
       "    <tr>\n",
       "      <th>4</th>\n",
       "      <td>90</td>\n",
       "      <td>0</td>\n",
       "      <td>1</td>\n",
       "      <td>55.0</td>\n",
       "    </tr>\n",
       "    <tr>\n",
       "      <th>5</th>\n",
       "      <td>120</td>\n",
       "      <td>1</td>\n",
       "      <td>0</td>\n",
       "      <td>NaN</td>\n",
       "    </tr>\n",
       "  </tbody>\n",
       "</table>\n",
       "</div>"
      ],
      "text/plain": [
       "   fare  Embarked  Gender   Age\n",
       "0    25         2       1  22.0\n",
       "1    48         0       0  34.0\n",
       "2    71         2       1  54.0\n",
       "3    85         2       0  29.0\n",
       "4    90         0       1  55.0\n",
       "5   120         1       0   NaN"
      ]
     },
     "execution_count": 13,
     "metadata": {},
     "output_type": "execute_result"
    }
   ],
   "source": [
    "df['Gender'] = df2\n",
    "df"
   ]
  },
  {
   "cell_type": "markdown",
   "id": "c7a06bb1-5b27-4b9b-948a-3d4460cc91eb",
   "metadata": {},
   "source": [
    "#### OneHotEncoder() method"
   ]
  },
  {
   "cell_type": "code",
   "execution_count": 15,
   "id": "c27adf59-04df-4ff1-81ae-73b3b4bdd7d8",
   "metadata": {},
   "outputs": [],
   "source": [
    "from sklearn.preprocessing import OneHotEncoder\n",
    "from sklearn.impute import SimpleImputer\n",
    "from sklearn.compose import make_column_transformer"
   ]
  },
  {
   "cell_type": "code",
   "execution_count": 35,
   "id": "f1dd3c09-9a12-4708-879a-b96e3596814d",
   "metadata": {},
   "outputs": [],
   "source": [
    "## Instantiation\n",
    "\n",
    "ohe =  OneHotEncoder()\n",
    "si = SimpleImputer()"
   ]
  },
  {
   "cell_type": "code",
   "execution_count": 36,
   "id": "14261ab3-450d-4837-80a3-542538cb5842",
   "metadata": {},
   "outputs": [
    {
     "data": {
      "text/html": [
       "<div>\n",
       "<style scoped>\n",
       "    .dataframe tbody tr th:only-of-type {\n",
       "        vertical-align: middle;\n",
       "    }\n",
       "\n",
       "    .dataframe tbody tr th {\n",
       "        vertical-align: top;\n",
       "    }\n",
       "\n",
       "    .dataframe thead th {\n",
       "        text-align: right;\n",
       "    }\n",
       "</style>\n",
       "<table border=\"1\" class=\"dataframe\">\n",
       "  <thead>\n",
       "    <tr style=\"text-align: right;\">\n",
       "      <th></th>\n",
       "      <th>fare</th>\n",
       "      <th>Embarked</th>\n",
       "      <th>Gender</th>\n",
       "      <th>Age</th>\n",
       "    </tr>\n",
       "  </thead>\n",
       "  <tbody>\n",
       "    <tr>\n",
       "      <th>0</th>\n",
       "      <td>25</td>\n",
       "      <td>S</td>\n",
       "      <td>male</td>\n",
       "      <td>22.0</td>\n",
       "    </tr>\n",
       "    <tr>\n",
       "      <th>1</th>\n",
       "      <td>48</td>\n",
       "      <td>C</td>\n",
       "      <td>female</td>\n",
       "      <td>34.0</td>\n",
       "    </tr>\n",
       "    <tr>\n",
       "      <th>2</th>\n",
       "      <td>71</td>\n",
       "      <td>S</td>\n",
       "      <td>male</td>\n",
       "      <td>54.0</td>\n",
       "    </tr>\n",
       "    <tr>\n",
       "      <th>3</th>\n",
       "      <td>85</td>\n",
       "      <td>S</td>\n",
       "      <td>female</td>\n",
       "      <td>29.0</td>\n",
       "    </tr>\n",
       "    <tr>\n",
       "      <th>4</th>\n",
       "      <td>90</td>\n",
       "      <td>C</td>\n",
       "      <td>male</td>\n",
       "      <td>55.0</td>\n",
       "    </tr>\n",
       "    <tr>\n",
       "      <th>5</th>\n",
       "      <td>120</td>\n",
       "      <td>Q</td>\n",
       "      <td>female</td>\n",
       "      <td>NaN</td>\n",
       "    </tr>\n",
       "  </tbody>\n",
       "</table>\n",
       "</div>"
      ],
      "text/plain": [
       "   fare Embarked  Gender   Age\n",
       "0    25        S    male  22.0\n",
       "1    48        C  female  34.0\n",
       "2    71        S    male  54.0\n",
       "3    85        S  female  29.0\n",
       "4    90        C    male  55.0\n",
       "5   120        Q  female   NaN"
      ]
     },
     "execution_count": 36,
     "metadata": {},
     "output_type": "execute_result"
    }
   ],
   "source": [
    "df_ = pd.DataFrame({\n",
    "    'fare':[25,48,71,85,90,120],\n",
    "    'Embarked':['S','C','S','S','C','Q'],\n",
    "    'Gender':['male','female','male','female','male','female'],\n",
    "    'Age':[22,34,54,29,55,None]\n",
    "})\n",
    "df_"
   ]
  },
  {
   "cell_type": "code",
   "execution_count": 37,
   "id": "09d839b5-af01-4f18-9975-6b44b8d929d2",
   "metadata": {},
   "outputs": [],
   "source": [
    "ct = make_column_transformer(\n",
    "(ohe,['Embarked','Gender']),\n",
    "(si,['Age']),\n",
    "remainder='passthrough') # 'passthrogh' to keep all other columns \n",
    "\n",
    "## SimpleImputer() can more than 1 column / (si,['Age','col2','col3',.....])"
   ]
  },
  {
   "cell_type": "code",
   "execution_count": 38,
   "id": "61a99727-1563-4ed1-803e-5b7f3797a6a0",
   "metadata": {},
   "outputs": [
    {
     "data": {
      "text/plain": [
       "array([[  0. ,   0. ,   1. ,   0. ,   1. ,  22. ,  25. ],\n",
       "       [  1. ,   0. ,   0. ,   1. ,   0. ,  34. ,  48. ],\n",
       "       [  0. ,   0. ,   1. ,   0. ,   1. ,  54. ,  71. ],\n",
       "       [  0. ,   0. ,   1. ,   1. ,   0. ,  29. ,  85. ],\n",
       "       [  1. ,   0. ,   0. ,   0. ,   1. ,  55. ,  90. ],\n",
       "       [  0. ,   1. ,   0. ,   1. ,   0. ,  38.8, 120. ]])"
      ]
     },
     "execution_count": 38,
     "metadata": {},
     "output_type": "execute_result"
    }
   ],
   "source": [
    "ct.fit_transform(df_)"
   ]
  },
  {
   "cell_type": "code",
   "execution_count": null,
   "id": "1fcb6d1d-4185-49f4-9e3e-d3e7d4e0253e",
   "metadata": {},
   "outputs": [],
   "source": []
  },
  {
   "cell_type": "markdown",
   "id": "e426a1bc-19ac-4784-8bd3-d67c657a9f85",
   "metadata": {},
   "source": [
    "### __Imputer:__\n",
    "##### It means Imputation ==> fill NAN     "
   ]
  },
  {
   "cell_type": "code",
   "execution_count": null,
   "id": "1e0f7b1a-8a2f-4529-bbe1-8b59495fd3a4",
   "metadata": {},
   "outputs": [],
   "source": []
  }
 ],
 "metadata": {
  "kernelspec": {
   "display_name": "Python 3",
   "language": "python",
   "name": "python3"
  },
  "language_info": {
   "codemirror_mode": {
    "name": "ipython",
    "version": 3
   },
   "file_extension": ".py",
   "mimetype": "text/x-python",
   "name": "python",
   "nbconvert_exporter": "python",
   "pygments_lexer": "ipython3",
   "version": "3.8.8"
  }
 },
 "nbformat": 4,
 "nbformat_minor": 5
}
