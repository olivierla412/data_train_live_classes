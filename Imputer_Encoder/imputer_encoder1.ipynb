{
 "cells": [
  {
   "cell_type": "code",
   "execution_count": 1,
   "id": "2622d9ec-d5e2-4690-a7f6-b65bfd88fc3e",
   "metadata": {},
   "outputs": [],
   "source": [
    "# command +shift +c  then select the mode to dark"
   ]
  },
  {
   "cell_type": "code",
   "execution_count": 2,
   "id": "867a59f6-0880-4895-9124-53a3845c0c30",
   "metadata": {},
   "outputs": [],
   "source": [
    "import pandas as pd"
   ]
  },
  {
   "cell_type": "code",
   "execution_count": 3,
   "id": "cd658d72-5d69-46ed-8b95-528e82e1e89a",
   "metadata": {},
   "outputs": [
    {
     "data": {
      "text/plain": [
       "'/Users/olivierla412/projects/DataTrained_live_classes/Imputer_Encoder'"
      ]
     },
     "execution_count": 3,
     "metadata": {},
     "output_type": "execute_result"
    }
   ],
   "source": [
    "pwd"
   ]
  },
  {
   "cell_type": "code",
   "execution_count": 4,
   "id": "13ce23c8-9bd1-4fb3-975b-c8e41b80da21",
   "metadata": {},
   "outputs": [
    {
     "data": {
      "text/html": [
       "<div>\n",
       "<style scoped>\n",
       "    .dataframe tbody tr th:only-of-type {\n",
       "        vertical-align: middle;\n",
       "    }\n",
       "\n",
       "    .dataframe tbody tr th {\n",
       "        vertical-align: top;\n",
       "    }\n",
       "\n",
       "    .dataframe thead th {\n",
       "        text-align: right;\n",
       "    }\n",
       "</style>\n",
       "<table border=\"1\" class=\"dataframe\">\n",
       "  <thead>\n",
       "    <tr style=\"text-align: right;\">\n",
       "      <th></th>\n",
       "      <th>fare</th>\n",
       "      <th>Embarked</th>\n",
       "      <th>Gender</th>\n",
       "      <th>Age</th>\n",
       "    </tr>\n",
       "  </thead>\n",
       "  <tbody>\n",
       "    <tr>\n",
       "      <th>0</th>\n",
       "      <td>25</td>\n",
       "      <td>S</td>\n",
       "      <td>male</td>\n",
       "      <td>22.0</td>\n",
       "    </tr>\n",
       "    <tr>\n",
       "      <th>1</th>\n",
       "      <td>48</td>\n",
       "      <td>C</td>\n",
       "      <td>female</td>\n",
       "      <td>34.0</td>\n",
       "    </tr>\n",
       "    <tr>\n",
       "      <th>2</th>\n",
       "      <td>71</td>\n",
       "      <td>S</td>\n",
       "      <td>male</td>\n",
       "      <td>54.0</td>\n",
       "    </tr>\n",
       "    <tr>\n",
       "      <th>3</th>\n",
       "      <td>85</td>\n",
       "      <td>S</td>\n",
       "      <td>female</td>\n",
       "      <td>29.0</td>\n",
       "    </tr>\n",
       "    <tr>\n",
       "      <th>4</th>\n",
       "      <td>90</td>\n",
       "      <td>C</td>\n",
       "      <td>male</td>\n",
       "      <td>55.0</td>\n",
       "    </tr>\n",
       "    <tr>\n",
       "      <th>5</th>\n",
       "      <td>120</td>\n",
       "      <td>Q</td>\n",
       "      <td>female</td>\n",
       "      <td>NaN</td>\n",
       "    </tr>\n",
       "  </tbody>\n",
       "</table>\n",
       "</div>"
      ],
      "text/plain": [
       "   fare Embarked  Gender   Age\n",
       "0    25        S    male  22.0\n",
       "1    48        C  female  34.0\n",
       "2    71        S    male  54.0\n",
       "3    85        S  female  29.0\n",
       "4    90        C    male  55.0\n",
       "5   120        Q  female   NaN"
      ]
     },
     "execution_count": 4,
     "metadata": {},
     "output_type": "execute_result"
    }
   ],
   "source": [
    "df = pd.DataFrame({\n",
    "    'fare':[25,48,71,85,90,120],\n",
    "    'Embarked':['S','C','S','S','C','Q'],\n",
    "    'Gender':['male','female','male','female','male','female'],\n",
    "    'Age':[22,34,54,29,55,None]\n",
    "})\n",
    "df"
   ]
  },
  {
   "cell_type": "markdown",
   "id": "350592a2-49b6-486e-b8d7-36f4ddc4d2a0",
   "metadata": {},
   "source": [
    "### __Encoder__ and __Imputer__"
   ]
  },
  {
   "cell_type": "markdown",
   "id": "a70bbdc6-714b-4eeb-ad9e-6db346c8d36d",
   "metadata": {},
   "source": [
    "#### __Encoder__:\n",
    "###### It helps to convert text into numbers."
   ]
  },
  {
   "cell_type": "markdown",
   "id": "a949bffa-4c5a-400b-bf23-51a2d5ec64ed",
   "metadata": {},
   "source": [
    "#### LabelEncoder() method"
   ]
  },
  {
   "cell_type": "code",
   "execution_count": 5,
   "id": "0b691649-8f33-489b-b503-46c0c5604475",
   "metadata": {},
   "outputs": [],
   "source": [
    "# Instantiate the method.\n",
    "from sklearn.preprocessing import LabelEncoder"
   ]
  },
  {
   "cell_type": "code",
   "execution_count": 6,
   "id": "f57172ae-b09a-435e-bf49-b983353f07f9",
   "metadata": {},
   "outputs": [],
   "source": [
    "lab_enc = LabelEncoder()"
   ]
  },
  {
   "cell_type": "code",
   "execution_count": 7,
   "id": "5b64ffdc-9b1a-4037-9602-a1887db65718",
   "metadata": {},
   "outputs": [
    {
     "data": {
      "text/plain": [
       "0    2\n",
       "1    0\n",
       "2    2\n",
       "3    2\n",
       "4    0\n",
       "5    1\n",
       "dtype: int64"
      ]
     },
     "execution_count": 7,
     "metadata": {},
     "output_type": "execute_result"
    }
   ],
   "source": [
    "df1 = lab_enc.fit_transform(df['Embarked'])\n",
    "\n",
    "pd.Series(df1)"
   ]
  },
  {
   "cell_type": "code",
   "execution_count": 8,
   "id": "d390a9b7-8789-40de-ad74-88372f4af277",
   "metadata": {},
   "outputs": [
    {
     "data": {
      "text/html": [
       "<div>\n",
       "<style scoped>\n",
       "    .dataframe tbody tr th:only-of-type {\n",
       "        vertical-align: middle;\n",
       "    }\n",
       "\n",
       "    .dataframe tbody tr th {\n",
       "        vertical-align: top;\n",
       "    }\n",
       "\n",
       "    .dataframe thead th {\n",
       "        text-align: right;\n",
       "    }\n",
       "</style>\n",
       "<table border=\"1\" class=\"dataframe\">\n",
       "  <thead>\n",
       "    <tr style=\"text-align: right;\">\n",
       "      <th></th>\n",
       "      <th>fare</th>\n",
       "      <th>Embarked</th>\n",
       "      <th>Gender</th>\n",
       "      <th>Age</th>\n",
       "    </tr>\n",
       "  </thead>\n",
       "  <tbody>\n",
       "    <tr>\n",
       "      <th>0</th>\n",
       "      <td>25</td>\n",
       "      <td>2</td>\n",
       "      <td>male</td>\n",
       "      <td>22.0</td>\n",
       "    </tr>\n",
       "    <tr>\n",
       "      <th>1</th>\n",
       "      <td>48</td>\n",
       "      <td>0</td>\n",
       "      <td>female</td>\n",
       "      <td>34.0</td>\n",
       "    </tr>\n",
       "    <tr>\n",
       "      <th>2</th>\n",
       "      <td>71</td>\n",
       "      <td>2</td>\n",
       "      <td>male</td>\n",
       "      <td>54.0</td>\n",
       "    </tr>\n",
       "    <tr>\n",
       "      <th>3</th>\n",
       "      <td>85</td>\n",
       "      <td>2</td>\n",
       "      <td>female</td>\n",
       "      <td>29.0</td>\n",
       "    </tr>\n",
       "    <tr>\n",
       "      <th>4</th>\n",
       "      <td>90</td>\n",
       "      <td>0</td>\n",
       "      <td>male</td>\n",
       "      <td>55.0</td>\n",
       "    </tr>\n",
       "    <tr>\n",
       "      <th>5</th>\n",
       "      <td>120</td>\n",
       "      <td>1</td>\n",
       "      <td>female</td>\n",
       "      <td>NaN</td>\n",
       "    </tr>\n",
       "  </tbody>\n",
       "</table>\n",
       "</div>"
      ],
      "text/plain": [
       "   fare  Embarked  Gender   Age\n",
       "0    25         2    male  22.0\n",
       "1    48         0  female  34.0\n",
       "2    71         2    male  54.0\n",
       "3    85         2  female  29.0\n",
       "4    90         0    male  55.0\n",
       "5   120         1  female   NaN"
      ]
     },
     "execution_count": 8,
     "metadata": {},
     "output_type": "execute_result"
    }
   ],
   "source": [
    "## update the column Embarked values in the dataset\n",
    "\n",
    "df['Embarked'] = df1\n",
    "df"
   ]
  },
  {
   "cell_type": "code",
   "execution_count": 9,
   "id": "2a99a87b-c4c5-4c19-8417-8a7aa9973f24",
   "metadata": {},
   "outputs": [],
   "source": [
    "df2 = lab_enc.fit_transform(df['Gender'])\n",
    "\n"
   ]
  },
  {
   "cell_type": "code",
   "execution_count": 10,
   "id": "62de5e54-673b-460e-9309-c079bf09fd64",
   "metadata": {},
   "outputs": [
    {
     "data": {
      "text/html": [
       "<div>\n",
       "<style scoped>\n",
       "    .dataframe tbody tr th:only-of-type {\n",
       "        vertical-align: middle;\n",
       "    }\n",
       "\n",
       "    .dataframe tbody tr th {\n",
       "        vertical-align: top;\n",
       "    }\n",
       "\n",
       "    .dataframe thead th {\n",
       "        text-align: right;\n",
       "    }\n",
       "</style>\n",
       "<table border=\"1\" class=\"dataframe\">\n",
       "  <thead>\n",
       "    <tr style=\"text-align: right;\">\n",
       "      <th></th>\n",
       "      <th>fare</th>\n",
       "      <th>Embarked</th>\n",
       "      <th>Gender</th>\n",
       "      <th>Age</th>\n",
       "    </tr>\n",
       "  </thead>\n",
       "  <tbody>\n",
       "    <tr>\n",
       "      <th>0</th>\n",
       "      <td>25</td>\n",
       "      <td>2</td>\n",
       "      <td>1</td>\n",
       "      <td>22.0</td>\n",
       "    </tr>\n",
       "    <tr>\n",
       "      <th>1</th>\n",
       "      <td>48</td>\n",
       "      <td>0</td>\n",
       "      <td>0</td>\n",
       "      <td>34.0</td>\n",
       "    </tr>\n",
       "    <tr>\n",
       "      <th>2</th>\n",
       "      <td>71</td>\n",
       "      <td>2</td>\n",
       "      <td>1</td>\n",
       "      <td>54.0</td>\n",
       "    </tr>\n",
       "    <tr>\n",
       "      <th>3</th>\n",
       "      <td>85</td>\n",
       "      <td>2</td>\n",
       "      <td>0</td>\n",
       "      <td>29.0</td>\n",
       "    </tr>\n",
       "    <tr>\n",
       "      <th>4</th>\n",
       "      <td>90</td>\n",
       "      <td>0</td>\n",
       "      <td>1</td>\n",
       "      <td>55.0</td>\n",
       "    </tr>\n",
       "    <tr>\n",
       "      <th>5</th>\n",
       "      <td>120</td>\n",
       "      <td>1</td>\n",
       "      <td>0</td>\n",
       "      <td>NaN</td>\n",
       "    </tr>\n",
       "  </tbody>\n",
       "</table>\n",
       "</div>"
      ],
      "text/plain": [
       "   fare  Embarked  Gender   Age\n",
       "0    25         2       1  22.0\n",
       "1    48         0       0  34.0\n",
       "2    71         2       1  54.0\n",
       "3    85         2       0  29.0\n",
       "4    90         0       1  55.0\n",
       "5   120         1       0   NaN"
      ]
     },
     "execution_count": 10,
     "metadata": {},
     "output_type": "execute_result"
    }
   ],
   "source": [
    "df['Gender'] = df2\n",
    "df"
   ]
  },
  {
   "cell_type": "markdown",
   "id": "c7a06bb1-5b27-4b9b-948a-3d4460cc91eb",
   "metadata": {},
   "source": [
    "#### OneHotEncoder() method"
   ]
  },
  {
   "cell_type": "code",
   "execution_count": 11,
   "id": "c27adf59-04df-4ff1-81ae-73b3b4bdd7d8",
   "metadata": {},
   "outputs": [],
   "source": [
    "from sklearn.preprocessing import OneHotEncoder\n",
    "from sklearn.impute import SimpleImputer\n",
    "from sklearn.compose import make_column_transformer"
   ]
  },
  {
   "cell_type": "code",
   "execution_count": 12,
   "id": "f1dd3c09-9a12-4708-879a-b96e3596814d",
   "metadata": {},
   "outputs": [],
   "source": [
    "## Instantiation\n",
    "\n",
    "ohe =  OneHotEncoder()\n",
    "si = SimpleImputer()"
   ]
  },
  {
   "cell_type": "code",
   "execution_count": 13,
   "id": "14261ab3-450d-4837-80a3-542538cb5842",
   "metadata": {},
   "outputs": [
    {
     "data": {
      "text/html": [
       "<div>\n",
       "<style scoped>\n",
       "    .dataframe tbody tr th:only-of-type {\n",
       "        vertical-align: middle;\n",
       "    }\n",
       "\n",
       "    .dataframe tbody tr th {\n",
       "        vertical-align: top;\n",
       "    }\n",
       "\n",
       "    .dataframe thead th {\n",
       "        text-align: right;\n",
       "    }\n",
       "</style>\n",
       "<table border=\"1\" class=\"dataframe\">\n",
       "  <thead>\n",
       "    <tr style=\"text-align: right;\">\n",
       "      <th></th>\n",
       "      <th>fare</th>\n",
       "      <th>Embarked</th>\n",
       "      <th>Gender</th>\n",
       "      <th>Age</th>\n",
       "    </tr>\n",
       "  </thead>\n",
       "  <tbody>\n",
       "    <tr>\n",
       "      <th>0</th>\n",
       "      <td>25</td>\n",
       "      <td>S</td>\n",
       "      <td>male</td>\n",
       "      <td>22.0</td>\n",
       "    </tr>\n",
       "    <tr>\n",
       "      <th>1</th>\n",
       "      <td>48</td>\n",
       "      <td>C</td>\n",
       "      <td>female</td>\n",
       "      <td>34.0</td>\n",
       "    </tr>\n",
       "    <tr>\n",
       "      <th>2</th>\n",
       "      <td>71</td>\n",
       "      <td>S</td>\n",
       "      <td>male</td>\n",
       "      <td>54.0</td>\n",
       "    </tr>\n",
       "    <tr>\n",
       "      <th>3</th>\n",
       "      <td>85</td>\n",
       "      <td>S</td>\n",
       "      <td>female</td>\n",
       "      <td>29.0</td>\n",
       "    </tr>\n",
       "    <tr>\n",
       "      <th>4</th>\n",
       "      <td>90</td>\n",
       "      <td>C</td>\n",
       "      <td>male</td>\n",
       "      <td>55.0</td>\n",
       "    </tr>\n",
       "    <tr>\n",
       "      <th>5</th>\n",
       "      <td>120</td>\n",
       "      <td>Q</td>\n",
       "      <td>female</td>\n",
       "      <td>NaN</td>\n",
       "    </tr>\n",
       "  </tbody>\n",
       "</table>\n",
       "</div>"
      ],
      "text/plain": [
       "   fare Embarked  Gender   Age\n",
       "0    25        S    male  22.0\n",
       "1    48        C  female  34.0\n",
       "2    71        S    male  54.0\n",
       "3    85        S  female  29.0\n",
       "4    90        C    male  55.0\n",
       "5   120        Q  female   NaN"
      ]
     },
     "execution_count": 13,
     "metadata": {},
     "output_type": "execute_result"
    }
   ],
   "source": [
    "df_ = pd.DataFrame({\n",
    "    'fare':[25,48,71,85,90,120],\n",
    "    'Embarked':['S','C','S','S','C','Q'],\n",
    "    'Gender':['male','female','male','female','male','female'],\n",
    "    'Age':[22,34,54,29,55,None]\n",
    "})\n",
    "df_"
   ]
  },
  {
   "cell_type": "code",
   "execution_count": 14,
   "id": "09d839b5-af01-4f18-9975-6b44b8d929d2",
   "metadata": {},
   "outputs": [],
   "source": [
    "##### Imputer ,It means Imputation ==> fill NAN     \n",
    "\n",
    "\n",
    "ct = make_column_transformer(\n",
    "(ohe,['Embarked','Gender']),    #this will Encode 'Embarked','Gender' columns\n",
    "(si,['Age']),   #This will fill the NaN in Age column\n",
    "remainder='passthrough')   # 'passthrogh' to keep all other columns \n",
    "\n",
    "## SimpleImputer() can tanke more than 1 column / (si,['Age','col2','col3',...,coln])\n",
    "\n",
    "# This is the best option to fill the NAN values if the dataset have more\n",
    "# columns with missing values ."
   ]
  },
  {
   "cell_type": "code",
   "execution_count": 18,
   "id": "61a99727-1563-4ed1-803e-5b7f3797a6a0",
   "metadata": {},
   "outputs": [],
   "source": [
    "transformed_data = ct.fit_transform(df_)\n",
    "\n",
    "# the firest 3 columns are : C  Q  S \n",
    "#                             0  0  1 ( row = 0)\n",
    "#                             1  0  0 ( row = 1)\n",
    "#                             0  0  1 ( row = 2)"
   ]
  },
  {
   "cell_type": "code",
   "execution_count": 24,
   "id": "1fcb6d1d-4185-49f4-9e3e-d3e7d4e0253e",
   "metadata": {},
   "outputs": [
    {
     "data": {
      "text/plain": [
       "array([[  0. ,   0. ,   1. ,   0. ,   1. ,  22. ,  25. ],\n",
       "       [  1. ,   0. ,   0. ,   1. ,   0. ,  34. ,  48. ],\n",
       "       [  0. ,   0. ,   1. ,   0. ,   1. ,  54. ,  71. ],\n",
       "       [  0. ,   0. ,   1. ,   1. ,   0. ,  29. ,  85. ],\n",
       "       [  1. ,   0. ,   0. ,   0. ,   1. ,  55. ,  90. ],\n",
       "       [  0. ,   1. ,   0. ,   1. ,   0. ,  38.8, 120. ]])"
      ]
     },
     "execution_count": 24,
     "metadata": {},
     "output_type": "execute_result"
    }
   ],
   "source": [
    "transformed_data"
   ]
  },
  {
   "cell_type": "code",
   "execution_count": null,
   "id": "a5262fd4-d64a-45ed-8e43-9e07b027732d",
   "metadata": {},
   "outputs": [],
   "source": []
  },
  {
   "cell_type": "markdown",
   "id": "98a33cba-ae44-469b-9b5a-0ee2f032e831",
   "metadata": {},
   "source": [
    "## Ordinal Encoder\n",
    "\n",
    "#### Ordinal data, means ordered data"
   ]
  },
  {
   "cell_type": "code",
   "execution_count": 27,
   "id": "5109e5b6-9b4b-4e03-b708-7d78d197916d",
   "metadata": {},
   "outputs": [],
   "source": [
    "from sklearn.preprocessing import OrdinalEncoder"
   ]
  },
  {
   "cell_type": "code",
   "execution_count": 26,
   "id": "08585bd3-1e7d-4445-b6f4-7d754f4015d7",
   "metadata": {},
   "outputs": [
    {
     "data": {
      "text/html": [
       "<div>\n",
       "<style scoped>\n",
       "    .dataframe tbody tr th:only-of-type {\n",
       "        vertical-align: middle;\n",
       "    }\n",
       "\n",
       "    .dataframe tbody tr th {\n",
       "        vertical-align: top;\n",
       "    }\n",
       "\n",
       "    .dataframe thead th {\n",
       "        text-align: right;\n",
       "    }\n",
       "</style>\n",
       "<table border=\"1\" class=\"dataframe\">\n",
       "  <thead>\n",
       "    <tr style=\"text-align: right;\">\n",
       "      <th></th>\n",
       "      <th>Shape</th>\n",
       "      <th>Classe</th>\n",
       "      <th>Size</th>\n",
       "    </tr>\n",
       "  </thead>\n",
       "  <tbody>\n",
       "    <tr>\n",
       "      <th>0</th>\n",
       "      <td>square</td>\n",
       "      <td>third</td>\n",
       "      <td>M</td>\n",
       "    </tr>\n",
       "    <tr>\n",
       "      <th>1</th>\n",
       "      <td>Oval</td>\n",
       "      <td>first</td>\n",
       "      <td>S</td>\n",
       "    </tr>\n",
       "    <tr>\n",
       "      <th>2</th>\n",
       "      <td>square</td>\n",
       "      <td>second</td>\n",
       "      <td>XL</td>\n",
       "    </tr>\n",
       "    <tr>\n",
       "      <th>3</th>\n",
       "      <td>circle</td>\n",
       "      <td>first</td>\n",
       "      <td>M</td>\n",
       "    </tr>\n",
       "  </tbody>\n",
       "</table>\n",
       "</div>"
      ],
      "text/plain": [
       "    Shape  Classe Size\n",
       "0  square   third    M\n",
       "1    Oval   first    S\n",
       "2  square  second   XL\n",
       "3  circle   first    M"
      ]
     },
     "execution_count": 26,
     "metadata": {},
     "output_type": "execute_result"
    }
   ],
   "source": [
    "\n",
    "import pandas as pd \n",
    "\n",
    "df_1 = pd.DataFrame({\n",
    "    'Shape':['square','Oval','square','circle'],\n",
    "    'Classe':['third','first','second','first'],\n",
    "    'Size':['M','S','XL','M']\n",
    "    \n",
    "})\n",
    "df_1"
   ]
  },
  {
   "cell_type": "code",
   "execution_count": 29,
   "id": "63d3e7f5-8918-47c6-bb80-c005379a3f5a",
   "metadata": {},
   "outputs": [],
   "source": [
    "ord_enc = OrdinalEncoder(categories= [['first','second','third'],['S','M','XL']])\n",
    "df_1f = ord_enc.fit_transform(df_1[['Classe','Size']])\n",
    "\n",
    "## Expected 2D array, got 1D array instead\n",
    "# above error will appier if you try a single column with OrdinalEncoder"
   ]
  },
  {
   "cell_type": "code",
   "execution_count": 31,
   "id": "eaba9405-92ef-436e-8573-57f1f6c7842f",
   "metadata": {},
   "outputs": [
    {
     "data": {
      "text/plain": [
       "array([[2., 1.],\n",
       "       [0., 0.],\n",
       "       [1., 2.],\n",
       "       [0., 1.]])"
      ]
     },
     "execution_count": 31,
     "metadata": {},
     "output_type": "execute_result"
    }
   ],
   "source": [
    "df_1f"
   ]
  },
  {
   "cell_type": "code",
   "execution_count": 32,
   "id": "28b9bf8e-e37b-45b9-b40a-3509eac01512",
   "metadata": {},
   "outputs": [],
   "source": [
    "df_1['Classe'] = df_1f[:,0]"
   ]
  },
  {
   "cell_type": "code",
   "execution_count": 33,
   "id": "b9d42bf0-dd93-4889-a532-5c136ffc5ee6",
   "metadata": {},
   "outputs": [],
   "source": [
    "df_1['Size'] = df_1f[:,1]"
   ]
  },
  {
   "cell_type": "code",
   "execution_count": 34,
   "id": "269e9bb8-62b4-4d65-82a5-2d481145c496",
   "metadata": {},
   "outputs": [
    {
     "data": {
      "text/html": [
       "<div>\n",
       "<style scoped>\n",
       "    .dataframe tbody tr th:only-of-type {\n",
       "        vertical-align: middle;\n",
       "    }\n",
       "\n",
       "    .dataframe tbody tr th {\n",
       "        vertical-align: top;\n",
       "    }\n",
       "\n",
       "    .dataframe thead th {\n",
       "        text-align: right;\n",
       "    }\n",
       "</style>\n",
       "<table border=\"1\" class=\"dataframe\">\n",
       "  <thead>\n",
       "    <tr style=\"text-align: right;\">\n",
       "      <th></th>\n",
       "      <th>Shape</th>\n",
       "      <th>Classe</th>\n",
       "      <th>Size</th>\n",
       "    </tr>\n",
       "  </thead>\n",
       "  <tbody>\n",
       "    <tr>\n",
       "      <th>0</th>\n",
       "      <td>square</td>\n",
       "      <td>2.0</td>\n",
       "      <td>1.0</td>\n",
       "    </tr>\n",
       "    <tr>\n",
       "      <th>1</th>\n",
       "      <td>Oval</td>\n",
       "      <td>0.0</td>\n",
       "      <td>0.0</td>\n",
       "    </tr>\n",
       "    <tr>\n",
       "      <th>2</th>\n",
       "      <td>square</td>\n",
       "      <td>1.0</td>\n",
       "      <td>2.0</td>\n",
       "    </tr>\n",
       "    <tr>\n",
       "      <th>3</th>\n",
       "      <td>circle</td>\n",
       "      <td>0.0</td>\n",
       "      <td>1.0</td>\n",
       "    </tr>\n",
       "  </tbody>\n",
       "</table>\n",
       "</div>"
      ],
      "text/plain": [
       "    Shape  Classe  Size\n",
       "0  square     2.0   1.0\n",
       "1    Oval     0.0   0.0\n",
       "2  square     1.0   2.0\n",
       "3  circle     0.0   1.0"
      ]
     },
     "execution_count": 34,
     "metadata": {},
     "output_type": "execute_result"
    }
   ],
   "source": [
    "df_1"
   ]
  },
  {
   "cell_type": "code",
   "execution_count": null,
   "id": "547beffb-5b96-44fe-aa41-d9990eaf0fc9",
   "metadata": {},
   "outputs": [],
   "source": []
  },
  {
   "cell_type": "markdown",
   "id": "231aee3a-a49b-48c7-8d21-0a9dd171ec6f",
   "metadata": {},
   "source": [
    "## Binary Encoder"
   ]
  },
  {
   "cell_type": "code",
   "execution_count": 35,
   "id": "3d1d3202-6165-4220-9747-2ab582fc8c98",
   "metadata": {},
   "outputs": [
    {
     "data": {
      "text/html": [
       "<div>\n",
       "<style scoped>\n",
       "    .dataframe tbody tr th:only-of-type {\n",
       "        vertical-align: middle;\n",
       "    }\n",
       "\n",
       "    .dataframe tbody tr th {\n",
       "        vertical-align: top;\n",
       "    }\n",
       "\n",
       "    .dataframe thead th {\n",
       "        text-align: right;\n",
       "    }\n",
       "</style>\n",
       "<table border=\"1\" class=\"dataframe\">\n",
       "  <thead>\n",
       "    <tr style=\"text-align: right;\">\n",
       "      <th></th>\n",
       "      <th>Cat_data</th>\n",
       "    </tr>\n",
       "  </thead>\n",
       "  <tbody>\n",
       "    <tr>\n",
       "      <th>0</th>\n",
       "      <td>A</td>\n",
       "    </tr>\n",
       "    <tr>\n",
       "      <th>1</th>\n",
       "      <td>B</td>\n",
       "    </tr>\n",
       "    <tr>\n",
       "      <th>2</th>\n",
       "      <td>C</td>\n",
       "    </tr>\n",
       "    <tr>\n",
       "      <th>3</th>\n",
       "      <td>D</td>\n",
       "    </tr>\n",
       "    <tr>\n",
       "      <th>4</th>\n",
       "      <td>E</td>\n",
       "    </tr>\n",
       "    <tr>\n",
       "      <th>5</th>\n",
       "      <td>F</td>\n",
       "    </tr>\n",
       "    <tr>\n",
       "      <th>6</th>\n",
       "      <td>G</td>\n",
       "    </tr>\n",
       "    <tr>\n",
       "      <th>7</th>\n",
       "      <td>H</td>\n",
       "    </tr>\n",
       "    <tr>\n",
       "      <th>8</th>\n",
       "      <td>I</td>\n",
       "    </tr>\n",
       "    <tr>\n",
       "      <th>9</th>\n",
       "      <td>A</td>\n",
       "    </tr>\n",
       "    <tr>\n",
       "      <th>10</th>\n",
       "      <td>A</td>\n",
       "    </tr>\n",
       "    <tr>\n",
       "      <th>11</th>\n",
       "      <td>D</td>\n",
       "    </tr>\n",
       "  </tbody>\n",
       "</table>\n",
       "</div>"
      ],
      "text/plain": [
       "   Cat_data\n",
       "0         A\n",
       "1         B\n",
       "2         C\n",
       "3         D\n",
       "4         E\n",
       "5         F\n",
       "6         G\n",
       "7         H\n",
       "8         I\n",
       "9         A\n",
       "10        A\n",
       "11        D"
      ]
     },
     "execution_count": 35,
     "metadata": {},
     "output_type": "execute_result"
    }
   ],
   "source": [
    "import pandas as pd \n",
    "\n",
    "df_2 = pd.DataFrame({'Cat_data':['A','B','C','D','E','F','G','H','I','A','A','D']})\n",
    "df_2"
   ]
  },
  {
   "cell_type": "code",
   "execution_count": 39,
   "id": "0fcab553-cb59-490b-9ee2-9a0b187a8f11",
   "metadata": {},
   "outputs": [],
   "source": [
    "from category_encoders import BinaryEncoder\n",
    "\n",
    "### pip install --upgrade category_encoders"
   ]
  },
  {
   "cell_type": "code",
   "execution_count": 40,
   "id": "2e8844fe-32ba-4ec2-a401-a247bafda2f0",
   "metadata": {},
   "outputs": [],
   "source": [
    "bi_enc = BinaryEncoder()"
   ]
  },
  {
   "cell_type": "code",
   "execution_count": 41,
   "id": "1c80ef13-1556-4b77-8219-a49321124b51",
   "metadata": {},
   "outputs": [
    {
     "name": "stderr",
     "output_type": "stream",
     "text": [
      "/opt/anaconda3/lib/python3.8/site-packages/category_encoders/utils.py:21: FutureWarning: is_categorical is deprecated and will be removed in a future version.  Use is_categorical_dtype instead\n",
      "  elif pd.api.types.is_categorical(cols):\n"
     ]
    },
    {
     "data": {
      "text/html": [
       "<div>\n",
       "<style scoped>\n",
       "    .dataframe tbody tr th:only-of-type {\n",
       "        vertical-align: middle;\n",
       "    }\n",
       "\n",
       "    .dataframe tbody tr th {\n",
       "        vertical-align: top;\n",
       "    }\n",
       "\n",
       "    .dataframe thead th {\n",
       "        text-align: right;\n",
       "    }\n",
       "</style>\n",
       "<table border=\"1\" class=\"dataframe\">\n",
       "  <thead>\n",
       "    <tr style=\"text-align: right;\">\n",
       "      <th></th>\n",
       "      <th>Cat_data_0</th>\n",
       "      <th>Cat_data_1</th>\n",
       "      <th>Cat_data_2</th>\n",
       "      <th>Cat_data_3</th>\n",
       "      <th>Cat_data_4</th>\n",
       "    </tr>\n",
       "  </thead>\n",
       "  <tbody>\n",
       "    <tr>\n",
       "      <th>0</th>\n",
       "      <td>0</td>\n",
       "      <td>0</td>\n",
       "      <td>0</td>\n",
       "      <td>0</td>\n",
       "      <td>1</td>\n",
       "    </tr>\n",
       "    <tr>\n",
       "      <th>1</th>\n",
       "      <td>0</td>\n",
       "      <td>0</td>\n",
       "      <td>0</td>\n",
       "      <td>1</td>\n",
       "      <td>0</td>\n",
       "    </tr>\n",
       "    <tr>\n",
       "      <th>2</th>\n",
       "      <td>0</td>\n",
       "      <td>0</td>\n",
       "      <td>0</td>\n",
       "      <td>1</td>\n",
       "      <td>1</td>\n",
       "    </tr>\n",
       "    <tr>\n",
       "      <th>3</th>\n",
       "      <td>0</td>\n",
       "      <td>0</td>\n",
       "      <td>1</td>\n",
       "      <td>0</td>\n",
       "      <td>0</td>\n",
       "    </tr>\n",
       "    <tr>\n",
       "      <th>4</th>\n",
       "      <td>0</td>\n",
       "      <td>0</td>\n",
       "      <td>1</td>\n",
       "      <td>0</td>\n",
       "      <td>1</td>\n",
       "    </tr>\n",
       "    <tr>\n",
       "      <th>5</th>\n",
       "      <td>0</td>\n",
       "      <td>0</td>\n",
       "      <td>1</td>\n",
       "      <td>1</td>\n",
       "      <td>0</td>\n",
       "    </tr>\n",
       "    <tr>\n",
       "      <th>6</th>\n",
       "      <td>0</td>\n",
       "      <td>0</td>\n",
       "      <td>1</td>\n",
       "      <td>1</td>\n",
       "      <td>1</td>\n",
       "    </tr>\n",
       "    <tr>\n",
       "      <th>7</th>\n",
       "      <td>0</td>\n",
       "      <td>1</td>\n",
       "      <td>0</td>\n",
       "      <td>0</td>\n",
       "      <td>0</td>\n",
       "    </tr>\n",
       "    <tr>\n",
       "      <th>8</th>\n",
       "      <td>0</td>\n",
       "      <td>1</td>\n",
       "      <td>0</td>\n",
       "      <td>0</td>\n",
       "      <td>1</td>\n",
       "    </tr>\n",
       "    <tr>\n",
       "      <th>9</th>\n",
       "      <td>0</td>\n",
       "      <td>0</td>\n",
       "      <td>0</td>\n",
       "      <td>0</td>\n",
       "      <td>1</td>\n",
       "    </tr>\n",
       "    <tr>\n",
       "      <th>10</th>\n",
       "      <td>0</td>\n",
       "      <td>0</td>\n",
       "      <td>0</td>\n",
       "      <td>0</td>\n",
       "      <td>1</td>\n",
       "    </tr>\n",
       "    <tr>\n",
       "      <th>11</th>\n",
       "      <td>0</td>\n",
       "      <td>0</td>\n",
       "      <td>1</td>\n",
       "      <td>0</td>\n",
       "      <td>0</td>\n",
       "    </tr>\n",
       "  </tbody>\n",
       "</table>\n",
       "</div>"
      ],
      "text/plain": [
       "    Cat_data_0  Cat_data_1  Cat_data_2  Cat_data_3  Cat_data_4\n",
       "0            0           0           0           0           1\n",
       "1            0           0           0           1           0\n",
       "2            0           0           0           1           1\n",
       "3            0           0           1           0           0\n",
       "4            0           0           1           0           1\n",
       "5            0           0           1           1           0\n",
       "6            0           0           1           1           1\n",
       "7            0           1           0           0           0\n",
       "8            0           1           0           0           1\n",
       "9            0           0           0           0           1\n",
       "10           0           0           0           0           1\n",
       "11           0           0           1           0           0"
      ]
     },
     "execution_count": 41,
     "metadata": {},
     "output_type": "execute_result"
    }
   ],
   "source": [
    "df_bi = bi_enc.fit_transform(df_2)\n",
    "df_bi"
   ]
  },
  {
   "cell_type": "code",
   "execution_count": 42,
   "id": "1bc43776-3b86-4b61-87d7-5f443bbaad54",
   "metadata": {},
   "outputs": [
    {
     "data": {
      "text/plain": [
       "pandas.core.frame.DataFrame"
      ]
     },
     "execution_count": 42,
     "metadata": {},
     "output_type": "execute_result"
    }
   ],
   "source": [
    "type(df_bi)"
   ]
  },
  {
   "cell_type": "code",
   "execution_count": 48,
   "id": "d5c1cac1-313f-4e0d-ad10-76a6e027f594",
   "metadata": {},
   "outputs": [
    {
     "data": {
      "text/plain": [
       "Cat_data_0    0\n",
       "Cat_data_1    0\n",
       "Cat_data_2    0\n",
       "Cat_data_3    0\n",
       "Cat_data_4    1\n",
       "Name: 0, dtype: int64"
      ]
     },
     "execution_count": 48,
     "metadata": {},
     "output_type": "execute_result"
    }
   ],
   "source": [
    "df_bi.iloc[0]"
   ]
  },
  {
   "cell_type": "code",
   "execution_count": null,
   "id": "22584daf-cc26-4383-89a9-0222e33659d5",
   "metadata": {},
   "outputs": [],
   "source": []
  },
  {
   "cell_type": "markdown",
   "id": "6fcdcc9f-cd84-442d-9f91-8f2095610eb3",
   "metadata": {},
   "source": [
    "# Knn Imputer\n",
    "#### It's very popular used for filling NaN values "
   ]
  },
  {
   "cell_type": "code",
   "execution_count": 49,
   "id": "a214911c-fd48-4b3e-a77f-b69a8c28b23d",
   "metadata": {},
   "outputs": [
    {
     "data": {
      "text/html": [
       "<div>\n",
       "<style scoped>\n",
       "    .dataframe tbody tr th:only-of-type {\n",
       "        vertical-align: middle;\n",
       "    }\n",
       "\n",
       "    .dataframe tbody tr th {\n",
       "        vertical-align: top;\n",
       "    }\n",
       "\n",
       "    .dataframe thead th {\n",
       "        text-align: right;\n",
       "    }\n",
       "</style>\n",
       "<table border=\"1\" class=\"dataframe\">\n",
       "  <thead>\n",
       "    <tr style=\"text-align: right;\">\n",
       "      <th></th>\n",
       "      <th>fare</th>\n",
       "      <th>Embarked</th>\n",
       "      <th>Gender</th>\n",
       "      <th>Age</th>\n",
       "    </tr>\n",
       "  </thead>\n",
       "  <tbody>\n",
       "    <tr>\n",
       "      <th>0</th>\n",
       "      <td>25</td>\n",
       "      <td>S</td>\n",
       "      <td>male</td>\n",
       "      <td>22.0</td>\n",
       "    </tr>\n",
       "    <tr>\n",
       "      <th>1</th>\n",
       "      <td>48</td>\n",
       "      <td>C</td>\n",
       "      <td>female</td>\n",
       "      <td>34.0</td>\n",
       "    </tr>\n",
       "    <tr>\n",
       "      <th>2</th>\n",
       "      <td>71</td>\n",
       "      <td>S</td>\n",
       "      <td>male</td>\n",
       "      <td>54.0</td>\n",
       "    </tr>\n",
       "    <tr>\n",
       "      <th>3</th>\n",
       "      <td>85</td>\n",
       "      <td>S</td>\n",
       "      <td>female</td>\n",
       "      <td>29.0</td>\n",
       "    </tr>\n",
       "    <tr>\n",
       "      <th>4</th>\n",
       "      <td>90</td>\n",
       "      <td>C</td>\n",
       "      <td>male</td>\n",
       "      <td>55.0</td>\n",
       "    </tr>\n",
       "    <tr>\n",
       "      <th>5</th>\n",
       "      <td>120</td>\n",
       "      <td>Q</td>\n",
       "      <td>female</td>\n",
       "      <td>NaN</td>\n",
       "    </tr>\n",
       "  </tbody>\n",
       "</table>\n",
       "</div>"
      ],
      "text/plain": [
       "   fare Embarked  Gender   Age\n",
       "0    25        S    male  22.0\n",
       "1    48        C  female  34.0\n",
       "2    71        S    male  54.0\n",
       "3    85        S  female  29.0\n",
       "4    90        C    male  55.0\n",
       "5   120        Q  female   NaN"
      ]
     },
     "execution_count": 49,
     "metadata": {},
     "output_type": "execute_result"
    }
   ],
   "source": [
    "df_3 = pd.DataFrame({\n",
    "    'fare':[25,48,71,85,90,120],\n",
    "    'Embarked':['S','C','S','S','C','Q'],\n",
    "    'Gender':['male','female','male','female','male','female'],\n",
    "    'Age':[22,34,54,29,55,None]\n",
    "})\n",
    "df_3"
   ]
  },
  {
   "cell_type": "code",
   "execution_count": 50,
   "id": "c59b9f47-00ea-46ea-ad0b-79730181fc49",
   "metadata": {},
   "outputs": [],
   "source": [
    "# Knn imputer will try to find the relation with other column and impute the data\n",
    "# according the relaton with other columns.\n",
    "# In this case Age NaN is depending on the similarity with faire columns\n",
    "\n",
    "from sklearn.impute import KNNImputer"
   ]
  },
  {
   "cell_type": "code",
   "execution_count": 59,
   "id": "712f2179-51af-4d1e-a6f5-4316efc43143",
   "metadata": {},
   "outputs": [],
   "source": [
    "knn_ipm = KNNImputer(n_neighbors=2)\n"
   ]
  },
  {
   "cell_type": "code",
   "execution_count": 61,
   "id": "a19d07f8-d5d5-4d2f-aaaf-3aab4384d403",
   "metadata": {
    "tags": []
   },
   "outputs": [
    {
     "data": {
      "text/plain": [
       "array([[ 25.,  22.],\n",
       "       [ 48.,  34.],\n",
       "       [ 71.,  54.],\n",
       "       [ 85.,  29.],\n",
       "       [ 90.,  55.],\n",
       "       [120.,  42.]])"
      ]
     },
     "execution_count": 61,
     "metadata": {},
     "output_type": "execute_result"
    }
   ],
   "source": [
    "knn_ipm.fit_transform(df_3[['fare','Age']])\n",
    "\n",
    "## x = 'faire', and y = 'Age'\n",
    "## you can give more than 2 columns as y values , 'fare','Money','Area','Age'"
   ]
  },
  {
   "cell_type": "code",
   "execution_count": null,
   "id": "aa75bd55-1e2f-44c2-8005-d966be564873",
   "metadata": {},
   "outputs": [],
   "source": []
  },
  {
   "cell_type": "markdown",
   "id": "d2753628-7a84-470a-a3be-023c7fdb5ce2",
   "metadata": {},
   "source": [
    "## Iterative Imputer\n",
    "\n",
    "##### This method treats other columns (which doesnot have nulls as feature and train on them and treat null column as label.\n",
    "##### Finally it will predict the NaN data and impute. Its just like regression problem. Here null column is labe\n",
    "\n",
    "##### It will predict the NaN values....."
   ]
  },
  {
   "cell_type": "code",
   "execution_count": 63,
   "id": "6b3b4c62-1322-44db-82f3-a4c94c84d44c",
   "metadata": {},
   "outputs": [],
   "source": [
    "# Before using Iterative Imputer we need to enable it using the below code\n",
    "from sklearn.experimental import enable_iterative_imputer\n",
    "\n",
    "# Import iterative imputer\n",
    "from sklearn.impute import IterativeImputer"
   ]
  },
  {
   "cell_type": "code",
   "execution_count": 71,
   "id": "aab56007-6b3d-4758-bded-beb79ade1c81",
   "metadata": {},
   "outputs": [
    {
     "data": {
      "text/html": [
       "<div>\n",
       "<style scoped>\n",
       "    .dataframe tbody tr th:only-of-type {\n",
       "        vertical-align: middle;\n",
       "    }\n",
       "\n",
       "    .dataframe tbody tr th {\n",
       "        vertical-align: top;\n",
       "    }\n",
       "\n",
       "    .dataframe thead th {\n",
       "        text-align: right;\n",
       "    }\n",
       "</style>\n",
       "<table border=\"1\" class=\"dataframe\">\n",
       "  <thead>\n",
       "    <tr style=\"text-align: right;\">\n",
       "      <th></th>\n",
       "      <th>fare</th>\n",
       "      <th>Embarked</th>\n",
       "      <th>Gender</th>\n",
       "      <th>Age</th>\n",
       "    </tr>\n",
       "  </thead>\n",
       "  <tbody>\n",
       "    <tr>\n",
       "      <th>0</th>\n",
       "      <td>25</td>\n",
       "      <td>S</td>\n",
       "      <td>male</td>\n",
       "      <td>22.0</td>\n",
       "    </tr>\n",
       "    <tr>\n",
       "      <th>1</th>\n",
       "      <td>48</td>\n",
       "      <td>C</td>\n",
       "      <td>female</td>\n",
       "      <td>34.0</td>\n",
       "    </tr>\n",
       "    <tr>\n",
       "      <th>2</th>\n",
       "      <td>71</td>\n",
       "      <td>S</td>\n",
       "      <td>male</td>\n",
       "      <td>54.0</td>\n",
       "    </tr>\n",
       "    <tr>\n",
       "      <th>3</th>\n",
       "      <td>85</td>\n",
       "      <td>S</td>\n",
       "      <td>female</td>\n",
       "      <td>29.0</td>\n",
       "    </tr>\n",
       "    <tr>\n",
       "      <th>4</th>\n",
       "      <td>90</td>\n",
       "      <td>C</td>\n",
       "      <td>male</td>\n",
       "      <td>55.0</td>\n",
       "    </tr>\n",
       "    <tr>\n",
       "      <th>5</th>\n",
       "      <td>120</td>\n",
       "      <td>Q</td>\n",
       "      <td>female</td>\n",
       "      <td>NaN</td>\n",
       "    </tr>\n",
       "    <tr>\n",
       "      <th>6</th>\n",
       "      <td>48</td>\n",
       "      <td>C</td>\n",
       "      <td>female</td>\n",
       "      <td>NaN</td>\n",
       "    </tr>\n",
       "  </tbody>\n",
       "</table>\n",
       "</div>"
      ],
      "text/plain": [
       "   fare Embarked  Gender   Age\n",
       "0    25        S    male  22.0\n",
       "1    48        C  female  34.0\n",
       "2    71        S    male  54.0\n",
       "3    85        S  female  29.0\n",
       "4    90        C    male  55.0\n",
       "5   120        Q  female   NaN\n",
       "6    48        C  female   NaN"
      ]
     },
     "execution_count": 71,
     "metadata": {},
     "output_type": "execute_result"
    }
   ],
   "source": [
    "df_4 = pd.DataFrame({\n",
    "    'fare':[25,48,71,85,90,120,48],\n",
    "    'Embarked':['S','C','S','S','C','Q','C'],\n",
    "    'Gender':['male','female','male','female','male','female','female'],\n",
    "    'Age':[22,34,54,29,55,None,None]\n",
    "})\n",
    "df_4"
   ]
  },
  {
   "cell_type": "code",
   "execution_count": 72,
   "id": "73910372-18ce-424c-90b9-638f16d74c2f",
   "metadata": {},
   "outputs": [],
   "source": [
    "iter_impute = IterativeImputer()"
   ]
  },
  {
   "cell_type": "code",
   "execution_count": 73,
   "id": "5abc679a-808f-4b47-bed9-fce2fe10409b",
   "metadata": {},
   "outputs": [
    {
     "data": {
      "text/plain": [
       "array([[ 25.        ,  22.        ],\n",
       "       [ 48.        ,  34.        ],\n",
       "       [ 71.        ,  54.        ],\n",
       "       [ 85.        ,  29.        ],\n",
       "       [ 90.        ,  55.        ],\n",
       "       [120.        ,  52.03920049],\n",
       "       [ 48.        ,  35.07794719]])"
      ]
     },
     "execution_count": 73,
     "metadata": {},
     "output_type": "execute_result"
    }
   ],
   "source": [
    "iter_impute.fit_transform(df_4[['fare','Age']])\n",
    "\n",
    "## predict the NaN in 'Age' according to the 'faire' column\n",
    "\n",
    "# so It will treat 'faire' as feature and 'Age' as label.\n",
    "\n",
    "# you can use round() to round the replace NAN values "
   ]
  },
  {
   "cell_type": "markdown",
   "id": "c8a82425-7efe-4d14-b178-db1a3bd33b7a",
   "metadata": {
    "tags": []
   },
   "source": [
    "# End of Encoding Technics"
   ]
  },
  {
   "cell_type": "code",
   "execution_count": 10,
   "id": "ccf77a84-44a6-4a1f-bdd8-120c45556dcd",
   "metadata": {},
   "outputs": [
    {
     "data": {
      "text/plain": [
       "'/Users/olivierla412/projects/DataTrained_live_classes/Imputer_Encoder'"
      ]
     },
     "execution_count": 10,
     "metadata": {},
     "output_type": "execute_result"
    }
   ],
   "source": [
    "pwd"
   ]
  },
  {
   "cell_type": "code",
   "execution_count": null,
   "id": "f8a4cf3e-ed7d-456f-acea-ebcf8a79837c",
   "metadata": {},
   "outputs": [],
   "source": []
  }
 ],
 "metadata": {
  "kernelspec": {
   "display_name": "Python 3",
   "language": "python",
   "name": "python3"
  },
  "language_info": {
   "codemirror_mode": {
    "name": "ipython",
    "version": 3
   },
   "file_extension": ".py",
   "mimetype": "text/x-python",
   "name": "python",
   "nbconvert_exporter": "python",
   "pygments_lexer": "ipython3",
   "version": "3.8.2"
  }
 },
 "nbformat": 4,
 "nbformat_minor": 5
}
