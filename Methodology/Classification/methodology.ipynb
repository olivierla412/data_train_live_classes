{
 "cells": [
  {
   "cell_type": "markdown",
   "id": "e3810cf0-cfea-4a6e-9088-5cc5a3f7fe37",
   "metadata": {},
   "source": [
    "![](1.png)"
   ]
  },
  {
   "cell_type": "markdown",
   "id": "ceaffc63-378a-4c65-8c97-565bc6be81fd",
   "metadata": {},
   "source": [
    "![](2.png)"
   ]
  },
  {
   "cell_type": "markdown",
   "id": "0664cc27-c764-48af-b5c5-21cacd34f90f",
   "metadata": {},
   "source": [
    "![](3.png)"
   ]
  },
  {
   "cell_type": "markdown",
   "id": "93192e7b-1df7-4a45-b076-1c57fb3d8164",
   "metadata": {},
   "source": [
    "![](4.png)"
   ]
  },
  {
   "cell_type": "markdown",
   "id": "b57358f1-f7ba-4e46-bef1-baf5bad0b7b9",
   "metadata": {},
   "source": [
    "![](5.png)"
   ]
  },
  {
   "cell_type": "markdown",
   "id": "51921f0a-498a-45e2-b82a-b4d2f7b253c5",
   "metadata": {},
   "source": [
    "![](6.png)"
   ]
  },
  {
   "cell_type": "markdown",
   "id": "0336c452-1c1c-451b-86b9-907db8334d99",
   "metadata": {},
   "source": [
    "![](7.png)"
   ]
  },
  {
   "cell_type": "markdown",
   "id": "0ebb9b9e-253e-4928-87f7-c95db745fbfb",
   "metadata": {},
   "source": [
    "![](8.png)"
   ]
  },
  {
   "cell_type": "markdown",
   "id": "6a1ae3e2-5259-40a2-89f4-ad730bbba5c2",
   "metadata": {},
   "source": [
    "![](9.png)"
   ]
  },
  {
   "cell_type": "markdown",
   "id": "32a1f231-9351-4ffa-bdf1-fd4134cdb8f8",
   "metadata": {},
   "source": [
    "![](10.png)"
   ]
  },
  {
   "cell_type": "markdown",
   "id": "661cd96b-64ef-47c5-8ceb-e6b788a2be8f",
   "metadata": {},
   "source": [
    "![](11.png)"
   ]
  },
  {
   "cell_type": "markdown",
   "id": "65dcab0e-05bf-42ef-9ca1-f54a832a86ff",
   "metadata": {},
   "source": [
    "![](12.png)"
   ]
  },
  {
   "cell_type": "markdown",
   "id": "c2cf1674-ee32-4510-aa9d-60946aa198f9",
   "metadata": {},
   "source": [
    "![](13.png)"
   ]
  },
  {
   "cell_type": "markdown",
   "id": "e1e493f9-708f-4fc9-9be4-e752729b31ce",
   "metadata": {},
   "source": [
    "![](14.png)"
   ]
  },
  {
   "cell_type": "markdown",
   "id": "b278c390-1339-4597-b071-4bb079cd461d",
   "metadata": {},
   "source": [
    "![](15.png)"
   ]
  },
  {
   "cell_type": "markdown",
   "id": "66149dfc-5449-4e66-a138-33352a40838f",
   "metadata": {},
   "source": [
    "![](16.png)"
   ]
  },
  {
   "cell_type": "markdown",
   "id": "e8ebb169-aabe-433f-b6bd-f050e899a90e",
   "metadata": {},
   "source": [
    "![](17.png)"
   ]
  },
  {
   "cell_type": "markdown",
   "id": "a6e44033-7221-4c28-a6fd-e3703f87faf8",
   "metadata": {},
   "source": [
    "![](18.png)"
   ]
  },
  {
   "cell_type": "markdown",
   "id": "24ee854c-1c7c-4a13-944b-52839452f38b",
   "metadata": {},
   "source": [
    "![](19.png)"
   ]
  },
  {
   "cell_type": "markdown",
   "id": "6272d74a-6b62-468d-b587-dc3e08cb4f10",
   "metadata": {},
   "source": [
    "![](20.png)"
   ]
  },
  {
   "cell_type": "markdown",
   "id": "5589a13e-51a5-4297-9136-07dda13e0546",
   "metadata": {},
   "source": [
    "![](21.png)"
   ]
  },
  {
   "cell_type": "markdown",
   "id": "a2946a28-ee23-4567-aeb8-c930d26fb4a6",
   "metadata": {},
   "source": [
    "![](22.png)"
   ]
  },
  {
   "cell_type": "markdown",
   "id": "e717221b-7033-4ab3-8173-b06274f0ce13",
   "metadata": {},
   "source": [
    "![](23.png)"
   ]
  },
  {
   "cell_type": "markdown",
   "id": "254005ae-acb0-4eae-bde1-ff857f58446f",
   "metadata": {},
   "source": [
    "![](24.png)"
   ]
  },
  {
   "cell_type": "markdown",
   "id": "cedc0ed5-36e6-4f52-b815-23559607cfa4",
   "metadata": {},
   "source": [
    "### ************* ************* ************* *************\n",
    "###  ************* ************* ************* *************"
   ]
  },
  {
   "cell_type": "markdown",
   "id": "71607060-1b60-4832-baf5-c4da187212e0",
   "metadata": {},
   "source": [
    "![](01.jpg)"
   ]
  },
  {
   "cell_type": "markdown",
   "id": "e22c4731-2d14-4690-981d-40561916ff1f",
   "metadata": {},
   "source": [
    "![](02.jpg)"
   ]
  },
  {
   "cell_type": "markdown",
   "id": "a2476a39-6340-46b9-8536-ef26a0da4a63",
   "metadata": {},
   "source": [
    "![](03.jpg)"
   ]
  },
  {
   "cell_type": "markdown",
   "id": "ff1962d1-fbb1-4112-bf9e-175cecec86a7",
   "metadata": {},
   "source": [
    "![](04.jpg)"
   ]
  },
  {
   "cell_type": "markdown",
   "id": "dc3db833-579a-4a41-940f-b1b73a035bfc",
   "metadata": {},
   "source": [
    "![](05.jpg)"
   ]
  },
  {
   "cell_type": "markdown",
   "id": "9bb632eb-7762-4ef3-832c-99a0041c5f64",
   "metadata": {},
   "source": [
    "![](06.jpg)"
   ]
  },
  {
   "cell_type": "markdown",
   "id": "ca98830b-3a00-4e36-9906-cd67ff98c27e",
   "metadata": {},
   "source": [
    "![](07.jpg)"
   ]
  },
  {
   "cell_type": "markdown",
   "id": "328e2e57-7a56-4735-91ae-4f28e5825c0f",
   "metadata": {},
   "source": [
    "![](08.jpg)"
   ]
  },
  {
   "cell_type": "markdown",
   "id": "df703021-2187-470c-b973-e6d31bc2e97e",
   "metadata": {},
   "source": [
    "![](010.jpg)"
   ]
  },
  {
   "cell_type": "markdown",
   "id": "58828ee6-ecbd-41ea-b336-ed2c7384269b",
   "metadata": {},
   "source": [
    "![](011.jpg)"
   ]
  },
  {
   "cell_type": "markdown",
   "id": "2ce809ab-2791-4044-a02a-b055d96f4713",
   "metadata": {},
   "source": [
    "![](013.jpg)"
   ]
  },
  {
   "cell_type": "markdown",
   "id": "a2b77007-cccf-4f72-88c5-d6bf753c9d24",
   "metadata": {},
   "source": [
    "![](014.jpg)"
   ]
  },
  {
   "cell_type": "markdown",
   "id": "66820bf1-24ca-4129-b6d8-5afbc68245b2",
   "metadata": {},
   "source": [
    "![](15.jpg)"
   ]
  },
  {
   "cell_type": "markdown",
   "id": "311f53cb-61dc-4c20-8724-302c7eb11ff4",
   "metadata": {},
   "source": [
    "![](16.jpg)"
   ]
  },
  {
   "cell_type": "markdown",
   "id": "ced51051-2f23-4e00-bbef-20122bc4d366",
   "metadata": {},
   "source": [
    "![](017.jpg)"
   ]
  },
  {
   "cell_type": "code",
   "execution_count": null,
   "id": "862cc977-3b49-47d3-87da-c74883d38e94",
   "metadata": {},
   "outputs": [],
   "source": []
  }
 ],
 "metadata": {
  "kernelspec": {
   "display_name": "Python 3",
   "language": "python",
   "name": "python3"
  },
  "language_info": {
   "codemirror_mode": {
    "name": "ipython",
    "version": 3
   },
   "file_extension": ".py",
   "mimetype": "text/x-python",
   "name": "python",
   "nbconvert_exporter": "python",
   "pygments_lexer": "ipython3",
   "version": "3.8.2"
  }
 },
 "nbformat": 4,
 "nbformat_minor": 5
}
