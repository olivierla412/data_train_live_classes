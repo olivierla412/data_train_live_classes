{
 "cells": [
  {
   "cell_type": "code",
   "execution_count": 1,
   "metadata": {},
   "outputs": [],
   "source": [
    "import statistics as st"
   ]
  },
  {
   "cell_type": "code",
   "execution_count": 2,
   "metadata": {},
   "outputs": [],
   "source": [
    "x = [10,10,20,30,40,50,60]"
   ]
  },
  {
   "cell_type": "code",
   "execution_count": null,
   "metadata": {},
   "outputs": [],
   "source": []
  },
  {
   "cell_type": "markdown",
   "metadata": {},
   "source": [
    "# ANOVA\n",
    "#### __Analysis Of Variance__"
   ]
  },
  {
   "cell_type": "markdown",
   "metadata": {},
   "source": [
    "### __F__ =  Sample means of __between__ groups / sample means of __within__ groups"
   ]
  },
  {
   "cell_type": "code",
   "execution_count": 3,
   "metadata": {},
   "outputs": [],
   "source": [
    "# Example\n",
    "\n",
    "import pandas as pd \n",
    "marks = {'A':[82,83,97],'B':[83,78,68],'C':[38,59,55]}\n",
    "df= pd.DataFrame(marks,index=['st1_Maths','st2_Maths','st3_Maths'])"
   ]
  },
  {
   "cell_type": "code",
   "execution_count": 4,
   "metadata": {},
   "outputs": [],
   "source": [
    "## Marks obtained from the 3 stduents from diffrent schools given below\n",
    "## Does the data suggest any association between school and marks"
   ]
  },
  {
   "cell_type": "code",
   "execution_count": 5,
   "metadata": {},
   "outputs": [
    {
     "data": {
      "text/html": [
       "<div>\n",
       "<style scoped>\n",
       "    .dataframe tbody tr th:only-of-type {\n",
       "        vertical-align: middle;\n",
       "    }\n",
       "\n",
       "    .dataframe tbody tr th {\n",
       "        vertical-align: top;\n",
       "    }\n",
       "\n",
       "    .dataframe thead th {\n",
       "        text-align: right;\n",
       "    }\n",
       "</style>\n",
       "<table border=\"1\" class=\"dataframe\">\n",
       "  <thead>\n",
       "    <tr style=\"text-align: right;\">\n",
       "      <th></th>\n",
       "      <th>A</th>\n",
       "      <th>B</th>\n",
       "      <th>C</th>\n",
       "    </tr>\n",
       "  </thead>\n",
       "  <tbody>\n",
       "    <tr>\n",
       "      <th>st1_Maths</th>\n",
       "      <td>82</td>\n",
       "      <td>83</td>\n",
       "      <td>38</td>\n",
       "    </tr>\n",
       "    <tr>\n",
       "      <th>st2_Maths</th>\n",
       "      <td>83</td>\n",
       "      <td>78</td>\n",
       "      <td>59</td>\n",
       "    </tr>\n",
       "    <tr>\n",
       "      <th>st3_Maths</th>\n",
       "      <td>97</td>\n",
       "      <td>68</td>\n",
       "      <td>55</td>\n",
       "    </tr>\n",
       "  </tbody>\n",
       "</table>\n",
       "</div>"
      ],
      "text/plain": [
       "            A   B   C\n",
       "st1_Maths  82  83  38\n",
       "st2_Maths  83  78  59\n",
       "st3_Maths  97  68  55"
      ]
     },
     "execution_count": 5,
     "metadata": {},
     "output_type": "execute_result"
    }
   ],
   "source": [
    "df"
   ]
  },
  {
   "cell_type": "markdown",
   "metadata": {},
   "source": [
    "## __Hypothesis construction__\n",
    "### ANOVA Hypothesis:\n",
    "#### -The Null Hyphotesis for ANOVA says that, averange of dependent variable are same for all the given groups.\n",
    "#### -Alternative Hypothesis for ANOVA says, mean of dependent variable are not same for the given groups.\n",
    "#### -Ho: MuA = MuB = MuC \n",
    "#### -Ha: not all are equal"
   ]
  },
  {
   "cell_type": "code",
   "execution_count": 6,
   "metadata": {},
   "outputs": [
    {
     "name": "stdout",
     "output_type": "stream",
     "text": [
      "School A ====> 87.33\n",
      "School B ====> 76.33\n",
      "School C ====> 50.67\n"
     ]
    }
   ],
   "source": [
    "# Step1 ( calculate the mean of each school )\n",
    "\n",
    "school_a = df['A'].mean()\n",
    "school_b = df['B'].mean()\n",
    "school_c = df['C'].mean()\n",
    "print('School A ====>',round(school_a,2))\n",
    "print('School B ====>',round(school_b,2))\n",
    "print('School C ====>',round(school_c,2))"
   ]
  },
  {
   "cell_type": "code",
   "execution_count": 7,
   "metadata": {},
   "outputs": [
    {
     "name": "stdout",
     "output_type": "stream",
     "text": [
      "Grand mean ====> 71.44\n"
     ]
    }
   ],
   "source": [
    "# Step2 ( Calculate the grand mean )\n",
    "\n",
    "school_grand = (school_a + school_b + school_c)/3\n",
    "print('Grand mean ====>',round(school_grand,2))"
   ]
  },
  {
   "cell_type": "markdown",
   "metadata": {},
   "source": [
    "# Statistic problem"
   ]
  },
  {
   "cell_type": "markdown",
   "metadata": {},
   "source": [
    "## about PDF and CDF\n",
    "#### PDF = Probability Density Function\n",
    "#### CDF Cumulative Density Function"
   ]
  },
  {
   "cell_type": "markdown",
   "metadata": {},
   "source": [
    "##### 1 For a given mean 494 and standard deviation = 100\n",
    "##### -What is the probability of obtaining score more than 700 ?"
   ]
  },
  {
   "cell_type": "code",
   "execution_count": 8,
   "metadata": {},
   "outputs": [],
   "source": [
    "import scipy.stats as st"
   ]
  },
  {
   "cell_type": "code",
   "execution_count": null,
   "metadata": {},
   "outputs": [],
   "source": []
  },
  {
   "cell_type": "code",
   "execution_count": 9,
   "metadata": {},
   "outputs": [
    {
     "data": {
      "text/plain": [
       "0.019699270409376912"
      ]
     },
     "execution_count": 9,
     "metadata": {},
     "output_type": "execute_result"
    }
   ],
   "source": [
    "## Probabuility lies always between 0 - 1\n",
    "mu = 494\n",
    "std = 100\n",
    "x = 700\n",
    "\n",
    "## x is given so let use CDF\n",
    "\n",
    "#### Python formula \n",
    "\n",
    "1 - st.norm.cdf(x,loc = mu, scale = std)\n",
    "\n",
    "## when is given use cdf function to find p (The probability)"
   ]
  },
  {
   "cell_type": "markdown",
   "metadata": {},
   "source": [
    "### mu.xbar = mu(Mean of sample mean = population mean)\n",
    "### sigma.xbar = sigma/sqrt_n (population std / sqrt of sample size)\n"
   ]
  },
  {
   "cell_type": "markdown",
   "metadata": {},
   "source": [
    "## Where:\n",
    "##### mu = Population mean\n",
    "##### sigma = Population standard deviation\n",
    "##### mu.x = Sample mean\n",
    "##### sigma.x = Sample standard deviation\n",
    "##### n = sample size\n",
    "##### xbar = sample mean"
   ]
  },
  {
   "cell_type": "markdown",
   "metadata": {},
   "source": [
    "### Example2 \n",
    "##### Mercury makes a 2.4 It v-6 engine. The laser XRi, used in speedsboats.\n",
    "##### The companies engineer believe that the engine delivers an average power\n",
    "##### of 220 horsepower and that the standard deviation of power delivered is 15\n",
    "##### A potential buyer intends to sample 100 engines(each egine to be run a sigle time)\n",
    "##### What is the probility that the sample mean will be less than 217 horsepower ?"
   ]
  },
  {
   "cell_type": "code",
   "execution_count": 10,
   "metadata": {},
   "outputs": [],
   "source": [
    "## Example2 \n",
    "\n",
    "mean = 220\n",
    "sigma = 15\n",
    "n = 100\n",
    "x_bar = 217\n",
    "# p = ??\n",
    "\n",
    "## sample size = 100 > 30 hence we can asume that is normal distributed\n"
   ]
  },
  {
   "cell_type": "code",
   "execution_count": 11,
   "metadata": {},
   "outputs": [],
   "source": [
    "import scipy.stats as st\n",
    "import numpy as np\n"
   ]
  },
  {
   "cell_type": "code",
   "execution_count": 12,
   "metadata": {},
   "outputs": [],
   "source": [
    "# x is given and equal to 217 so let use cdf function.\n"
   ]
  },
  {
   "cell_type": "code",
   "execution_count": 13,
   "metadata": {},
   "outputs": [
    {
     "data": {
      "text/plain": [
       "0.022750131948179195"
      ]
     },
     "execution_count": 13,
     "metadata": {},
     "output_type": "execute_result"
    }
   ],
   "source": [
    "st.norm.cdf(x_bar,loc = mean, scale = sigma/np.sqrt(n))"
   ]
  },
  {
   "cell_type": "markdown",
   "metadata": {},
   "source": [
    "# Problem"
   ]
  },
  {
   "cell_type": "raw",
   "metadata": {},
   "source": [
    "\"\"\"An autmatic bottling machine fills cola It (2000 cm3) bottles.\n",
    "A curstomer advocate wants to test the nul hypothesis that the average amount\n",
    " of fields by the machine into bottle at least 2,000 cm3. Arandom sample of \n",
    "40 bottles coming out of the machine was selected and the exact content of the \n",
    " selected bottled are recorded. The sample mean was 1,999.6 cm3. The population\n",
    "standard deviation is known from the past experience to be 1.30 cm3.\n",
    "\n",
    " 1 . Test the null Hypothesis at an alpha 5% .\"\"\"\n",
    "    ///to reject null hypothesis///"
   ]
  },
  {
   "cell_type": "code",
   "execution_count": 17,
   "metadata": {},
   "outputs": [],
   "source": [
    "mu = 2000        # mean of the population\n",
    "n = 40           # sample size\n",
    "xbar = 1999.6   # sample mean\n",
    "sigma1 = 1.3     # population standard deviation\n",
    "alpha = .05     # left tail = 0.025 and right tail = 0.025\n",
    "# p = ?"
   ]
  },
  {
   "cell_type": "raw",
   "metadata": {},
   "source": [
    "Ho ---> mu >=2000\n",
    "Ha ----> mu <2000    "
   ]
  },
  {
   "cell_type": "code",
   "execution_count": 21,
   "metadata": {},
   "outputs": [],
   "source": [
    "import scipy.stats as st\n",
    "import numpy as np\n",
    "p_value = st.norm.cdf(xbar, loc = mu, scale = sigma1 / np.sqrt(n))"
   ]
  },
  {
   "cell_type": "code",
   "execution_count": 22,
   "metadata": {},
   "outputs": [
    {
     "data": {
      "text/plain": [
       "0.025826347487875892"
      ]
     },
     "execution_count": 22,
     "metadata": {},
     "output_type": "execute_result"
    }
   ],
   "source": [
    "p_value"
   ]
  },
  {
   "cell_type": "code",
   "execution_count": 20,
   "metadata": {},
   "outputs": [],
   "source": [
    "# If 'p' is < alpha reject null Hypothesis (Ho)\n",
    "\n",
    "# If 'p' is > alpha accept null Hypothesis (Ho)"
   ]
  },
  {
   "cell_type": "code",
   "execution_count": 24,
   "metadata": {},
   "outputs": [],
   "source": [
    "## here p = 0.025 < alpha = 0.05 so we  reject null hypothesis"
   ]
  },
  {
   "cell_type": "code",
   "execution_count": 25,
   "metadata": {},
   "outputs": [],
   "source": [
    "## In the case where p > alpha , we said we failed to reject the Ho.\n",
    "## because our assumption was true."
   ]
  },
  {
   "cell_type": "code",
   "execution_count": null,
   "metadata": {},
   "outputs": [],
   "source": []
  }
 ],
 "metadata": {
  "kernelspec": {
   "display_name": "Python 3",
   "language": "python",
   "name": "python3"
  },
  "language_info": {
   "codemirror_mode": {
    "name": "ipython",
    "version": 3
   },
   "file_extension": ".py",
   "mimetype": "text/x-python",
   "name": "python",
   "nbconvert_exporter": "python",
   "pygments_lexer": "ipython3",
   "version": "3.8.8"
  }
 },
 "nbformat": 4,
 "nbformat_minor": 4
}
