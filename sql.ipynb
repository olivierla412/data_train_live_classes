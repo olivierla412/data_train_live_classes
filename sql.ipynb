{
 "cells": [
  {
   "cell_type": "code",
   "execution_count": 5,
   "metadata": {},
   "outputs": [],
   "source": [
    "import os\n",
    "import mysql.connector\n",
    "import pandas as pd\n",
    "import numpy as np\n",
    "import matplotlib.pyplot as plt\n",
    "import seaborn as sns\n",
    "%matplotlib inline"
   ]
  },
  {
   "cell_type": "code",
   "execution_count": 9,
   "metadata": {},
   "outputs": [],
   "source": [
    "my_db = mysql.connector.connect(\n",
    "host = 'localhost',\n",
    "user = 'root',\n",
    "password = 'Assie@225',\n",
    "db = 'girrafe' \n",
    ")"
   ]
  },
  {
   "cell_type": "code",
   "execution_count": 10,
   "metadata": {},
   "outputs": [
    {
     "data": {
      "text/plain": [
       "<mysql.connector.connection_cext.CMySQLConnection at 0x7f954c8b5b50>"
      ]
     },
     "execution_count": 10,
     "metadata": {},
     "output_type": "execute_result"
    }
   ],
   "source": [
    "my_db"
   ]
  },
  {
   "cell_type": "code",
   "execution_count": 11,
   "metadata": {},
   "outputs": [],
   "source": [
    "data_tables = pd.read_sql_query('SHOW TABLES FROM girrafe',my_db)"
   ]
  },
  {
   "cell_type": "code",
   "execution_count": 14,
   "metadata": {},
   "outputs": [
    {
     "data": {
      "text/html": [
       "<div>\n",
       "<style scoped>\n",
       "    .dataframe tbody tr th:only-of-type {\n",
       "        vertical-align: middle;\n",
       "    }\n",
       "\n",
       "    .dataframe tbody tr th {\n",
       "        vertical-align: top;\n",
       "    }\n",
       "\n",
       "    .dataframe thead th {\n",
       "        text-align: right;\n",
       "    }\n",
       "</style>\n",
       "<table border=\"1\" class=\"dataframe\">\n",
       "  <thead>\n",
       "    <tr style=\"text-align: right;\">\n",
       "      <th></th>\n",
       "      <th>Tables_in_girrafe</th>\n",
       "    </tr>\n",
       "  </thead>\n",
       "  <tbody>\n",
       "    <tr>\n",
       "      <th>0</th>\n",
       "      <td>branch</td>\n",
       "    </tr>\n",
       "    <tr>\n",
       "      <th>1</th>\n",
       "      <td>branch_supplier</td>\n",
       "    </tr>\n",
       "    <tr>\n",
       "      <th>2</th>\n",
       "      <td>client</td>\n",
       "    </tr>\n",
       "    <tr>\n",
       "      <th>3</th>\n",
       "      <td>Employee</td>\n",
       "    </tr>\n",
       "    <tr>\n",
       "      <th>4</th>\n",
       "      <td>trigger_test</td>\n",
       "    </tr>\n",
       "    <tr>\n",
       "      <th>5</th>\n",
       "      <td>work_with</td>\n",
       "    </tr>\n",
       "  </tbody>\n",
       "</table>\n",
       "</div>"
      ],
      "text/plain": [
       "  Tables_in_girrafe\n",
       "0            branch\n",
       "1   branch_supplier\n",
       "2            client\n",
       "3          Employee\n",
       "4      trigger_test\n",
       "5         work_with"
      ]
     },
     "execution_count": 14,
     "metadata": {},
     "output_type": "execute_result"
    }
   ],
   "source": [
    "data_tables"
   ]
  },
  {
   "cell_type": "code",
   "execution_count": null,
   "metadata": {},
   "outputs": [],
   "source": []
  },
  {
   "cell_type": "code",
   "execution_count": 15,
   "metadata": {},
   "outputs": [],
   "source": [
    "serie_tables = data_tables['Tables_in_girrafe'] "
   ]
  },
  {
   "cell_type": "code",
   "execution_count": 19,
   "metadata": {},
   "outputs": [
    {
     "name": "stdout",
     "output_type": "stream",
     "text": [
      "branch\n",
      "            Field            Type Null  Key Default Extra\n",
      "0       branch_id          b'int'   NO  PRI    None      \n",
      "1     branch_name  b'varchar(40)'  YES         None      \n",
      "2          mgr_id          b'int'  YES  MUL    None      \n",
      "3  mgr_start_date         b'date'  YES         None       \n",
      "\n",
      "branch_supplier\n",
      "           Field            Type Null  Key Default Extra\n",
      "0      branch_id          b'int'   NO  PRI    None      \n",
      "1  supplier_name  b'varchar(40)'   NO  PRI    None      \n",
      "2    supply_type  b'varchar(40)'  YES         None       \n",
      "\n",
      "client\n",
      "         Field            Type Null  Key Default Extra\n",
      "0    client_id          b'int'   NO  PRI    None      \n",
      "1  client_name  b'varchar(40)'  YES         None      \n",
      "2    branch_id          b'int'  YES  MUL    None       \n",
      "\n",
      "Employee\n",
      "        Field            Type Null  Key Default Extra\n",
      "0      emp_id          b'int'   NO  PRI    None      \n",
      "1  first_name  b'varchar(40)'  YES         None      \n",
      "2   last_name  b'varchar(40)'  YES         None      \n",
      "3  birth_date         b'date'  YES         None      \n",
      "4         sex   b'varchar(1)'  YES         None      \n",
      "5      salary          b'int'  YES         None      \n",
      "6    super_id          b'int'  YES  MUL    None      \n",
      "7   branch_id          b'int'  YES  MUL    None       \n",
      "\n",
      "trigger_test\n",
      "     Field             Type Null Key Default Extra\n",
      "0  message  b'varchar(100)'  YES        None       \n",
      "\n",
      "work_with\n",
      "         Field    Type Null  Key Default Extra\n",
      "0       emp_id  b'int'   NO  PRI    None      \n",
      "1    client_id  b'int'   NO  PRI    None      \n",
      "2  total_sales  b'int'  YES         None       \n",
      "\n"
     ]
    }
   ],
   "source": [
    "for table in serie_tables:\n",
    "    output = pd.read_sql_query('DESCRIBE {}'.format(table),my_db)\n",
    "    print(table)\n",
    "    print(output,'\\n')\n",
    "    "
   ]
  },
  {
   "cell_type": "code",
   "execution_count": null,
   "metadata": {},
   "outputs": [],
   "source": []
  }
 ],
 "metadata": {
  "kernelspec": {
   "display_name": "Python 3",
   "language": "python",
   "name": "python3"
  },
  "language_info": {
   "codemirror_mode": {
    "name": "ipython",
    "version": 3
   },
   "file_extension": ".py",
   "mimetype": "text/x-python",
   "name": "python",
   "nbconvert_exporter": "python",
   "pygments_lexer": "ipython3",
   "version": "3.8.5"
  }
 },
 "nbformat": 4,
 "nbformat_minor": 4
}
