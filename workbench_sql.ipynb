{
 "cells": [
  {
   "cell_type": "code",
   "execution_count": 23,
   "id": "fcb69a5a-5086-4618-be47-814ba2a0f185",
   "metadata": {},
   "outputs": [],
   "source": [
    "import pandas as pd \n",
    "import numpy as np\n",
    "import mysql.connector as conn"
   ]
  },
  {
   "cell_type": "code",
   "execution_count": 24,
   "id": "d827d643-14e8-45ec-b631-02dcd8e2ad23",
   "metadata": {},
   "outputs": [],
   "source": [
    "DB = conn.connect(\n",
    "host = 'localhost',\n",
    "user = 'root',\n",
    "password = 'Assie@225',\n",
    "database= 'employees'    \n",
    ")"
   ]
  },
  {
   "cell_type": "code",
   "execution_count": 4,
   "id": "8bedb7d1-6591-4976-81ef-0d555f40aae3",
   "metadata": {},
   "outputs": [],
   "source": [
    "cursor = DB.cursor()"
   ]
  },
  {
   "cell_type": "code",
   "execution_count": 5,
   "id": "e72c5312-fd59-4598-9731-6150431d82dc",
   "metadata": {},
   "outputs": [],
   "source": [
    "cursor.execute('SHOW TABLES')"
   ]
  },
  {
   "cell_type": "code",
   "execution_count": 6,
   "id": "0ed42f36-2510-4795-98d3-44af7abf8066",
   "metadata": {},
   "outputs": [
    {
     "name": "stdout",
     "output_type": "stream",
     "text": [
      "('current_dept_emp',)\n",
      "('departments',)\n",
      "('dept_emp',)\n",
      "('dept_emp_latest_date',)\n",
      "('dept_manager',)\n",
      "('employees',)\n",
      "('salaries',)\n",
      "('titles',)\n"
     ]
    }
   ],
   "source": [
    "for x in cursor:\n",
    "    print(x)"
   ]
  },
  {
   "cell_type": "code",
   "execution_count": 9,
   "id": "8f498122-7ca5-40a9-8393-cd7c7ae6a357",
   "metadata": {},
   "outputs": [],
   "source": [
    "query = 'SELECT COUNT(DISTINCT salary) FROM salaries'"
   ]
  },
  {
   "cell_type": "code",
   "execution_count": 10,
   "id": "576dfd68-2710-42d8-a4f3-486c07cdb500",
   "metadata": {},
   "outputs": [],
   "source": [
    "cursor.execute(query)"
   ]
  },
  {
   "cell_type": "code",
   "execution_count": 11,
   "id": "e5fbbe3a-0158-47ed-ad1e-6f3db0c0284d",
   "metadata": {},
   "outputs": [
    {
     "name": "stdout",
     "output_type": "stream",
     "text": [
      "(77290,)\n"
     ]
    }
   ],
   "source": [
    "for y in cursor:\n",
    "    print(y)"
   ]
  },
  {
   "cell_type": "code",
   "execution_count": 12,
   "id": "47ee13cb-1a79-46ff-b211-d65e7a1cc28f",
   "metadata": {},
   "outputs": [],
   "source": [
    "query1 = 'SELECT AVG(salary) AS Avg_Salary FROM salaries;'"
   ]
  },
  {
   "cell_type": "code",
   "execution_count": 13,
   "id": "8fa29eb5-edbf-4807-bd08-90c2179e594e",
   "metadata": {},
   "outputs": [],
   "source": [
    "cursor.execute(query1)"
   ]
  },
  {
   "cell_type": "code",
   "execution_count": 14,
   "id": "7b0fdbb7-3827-4414-bf0e-dbb9bc21643a",
   "metadata": {},
   "outputs": [
    {
     "name": "stdout",
     "output_type": "stream",
     "text": [
      "(Decimal('63761.2043'),)\n"
     ]
    }
   ],
   "source": [
    "for v in cursor:\n",
    "    print(v)"
   ]
  },
  {
   "cell_type": "code",
   "execution_count": 16,
   "id": "a830af61-522f-48e5-810b-1df3cebbba6f",
   "metadata": {},
   "outputs": [],
   "source": []
  },
  {
   "cell_type": "code",
   "execution_count": 17,
   "id": "8cb0574c-e6a3-4914-a03a-53191a40768e",
   "metadata": {},
   "outputs": [],
   "source": []
  },
  {
   "cell_type": "code",
   "execution_count": 25,
   "id": "e4542f6e-eea9-44a4-9829-a0fe47de68bc",
   "metadata": {},
   "outputs": [],
   "source": [
    "data = pd.read_sql_query('SELECT *FROM salaries',DB)"
   ]
  },
  {
   "cell_type": "code",
   "execution_count": 26,
   "id": "e6d718a7-72fe-476a-b180-b10d7f304b8e",
   "metadata": {},
   "outputs": [
    {
     "data": {
      "text/html": [
       "<div>\n",
       "<style scoped>\n",
       "    .dataframe tbody tr th:only-of-type {\n",
       "        vertical-align: middle;\n",
       "    }\n",
       "\n",
       "    .dataframe tbody tr th {\n",
       "        vertical-align: top;\n",
       "    }\n",
       "\n",
       "    .dataframe thead th {\n",
       "        text-align: right;\n",
       "    }\n",
       "</style>\n",
       "<table border=\"1\" class=\"dataframe\">\n",
       "  <thead>\n",
       "    <tr style=\"text-align: right;\">\n",
       "      <th></th>\n",
       "      <th>emp_no</th>\n",
       "      <th>salary</th>\n",
       "      <th>from_date</th>\n",
       "      <th>to_date</th>\n",
       "    </tr>\n",
       "  </thead>\n",
       "  <tbody>\n",
       "    <tr>\n",
       "      <th>0</th>\n",
       "      <td>10001</td>\n",
       "      <td>60117</td>\n",
       "      <td>1986-06-26</td>\n",
       "      <td>1987-06-26</td>\n",
       "    </tr>\n",
       "    <tr>\n",
       "      <th>1</th>\n",
       "      <td>10001</td>\n",
       "      <td>62102</td>\n",
       "      <td>1987-06-26</td>\n",
       "      <td>1988-06-25</td>\n",
       "    </tr>\n",
       "    <tr>\n",
       "      <th>2</th>\n",
       "      <td>10001</td>\n",
       "      <td>66074</td>\n",
       "      <td>1988-06-25</td>\n",
       "      <td>1989-06-25</td>\n",
       "    </tr>\n",
       "    <tr>\n",
       "      <th>3</th>\n",
       "      <td>10001</td>\n",
       "      <td>66596</td>\n",
       "      <td>1989-06-25</td>\n",
       "      <td>1990-06-25</td>\n",
       "    </tr>\n",
       "    <tr>\n",
       "      <th>4</th>\n",
       "      <td>10001</td>\n",
       "      <td>66961</td>\n",
       "      <td>1990-06-25</td>\n",
       "      <td>1991-06-25</td>\n",
       "    </tr>\n",
       "    <tr>\n",
       "      <th>5</th>\n",
       "      <td>10001</td>\n",
       "      <td>71046</td>\n",
       "      <td>1991-06-25</td>\n",
       "      <td>1992-06-24</td>\n",
       "    </tr>\n",
       "  </tbody>\n",
       "</table>\n",
       "</div>"
      ],
      "text/plain": [
       "   emp_no  salary   from_date     to_date\n",
       "0   10001   60117  1986-06-26  1987-06-26\n",
       "1   10001   62102  1987-06-26  1988-06-25\n",
       "2   10001   66074  1988-06-25  1989-06-25\n",
       "3   10001   66596  1989-06-25  1990-06-25\n",
       "4   10001   66961  1990-06-25  1991-06-25\n",
       "5   10001   71046  1991-06-25  1992-06-24"
      ]
     },
     "execution_count": 26,
     "metadata": {},
     "output_type": "execute_result"
    }
   ],
   "source": [
    "data.head(6)"
   ]
  },
  {
   "cell_type": "code",
   "execution_count": 28,
   "id": "a9514821-3ea7-49d8-89c7-56d25e8284be",
   "metadata": {},
   "outputs": [
    {
     "data": {
      "text/plain": [
       "158220"
      ]
     },
     "execution_count": 28,
     "metadata": {},
     "output_type": "execute_result"
    }
   ],
   "source": [
    "data['salary'].max()\n",
    "\n",
    "## 63761.2043"
   ]
  },
  {
   "cell_type": "code",
   "execution_count": 34,
   "id": "a9f5a48d-0a32-4f24-96d3-75dcd86f2fc3",
   "metadata": {},
   "outputs": [],
   "source": [
    " add = data[data['salary'] == 60117]"
   ]
  },
  {
   "cell_type": "code",
   "execution_count": 39,
   "id": "53241f1e-4085-4167-9aca-ba01e0da95ad",
   "metadata": {},
   "outputs": [
    {
     "data": {
      "text/html": [
       "<div>\n",
       "<style scoped>\n",
       "    .dataframe tbody tr th:only-of-type {\n",
       "        vertical-align: middle;\n",
       "    }\n",
       "\n",
       "    .dataframe tbody tr th {\n",
       "        vertical-align: top;\n",
       "    }\n",
       "\n",
       "    .dataframe thead th {\n",
       "        text-align: right;\n",
       "    }\n",
       "</style>\n",
       "<table border=\"1\" class=\"dataframe\">\n",
       "  <thead>\n",
       "    <tr style=\"text-align: right;\">\n",
       "      <th></th>\n",
       "      <th>emp_no</th>\n",
       "      <th>to_date</th>\n",
       "      <th>salary</th>\n",
       "    </tr>\n",
       "  </thead>\n",
       "  <tbody>\n",
       "    <tr>\n",
       "      <th>0</th>\n",
       "      <td>10001</td>\n",
       "      <td>1987-06-26</td>\n",
       "      <td>60117</td>\n",
       "    </tr>\n",
       "    <tr>\n",
       "      <th>6190</th>\n",
       "      <td>10650</td>\n",
       "      <td>1998-10-03</td>\n",
       "      <td>60117</td>\n",
       "    </tr>\n",
       "    <tr>\n",
       "      <th>29225</th>\n",
       "      <td>13063</td>\n",
       "      <td>1996-01-02</td>\n",
       "      <td>60117</td>\n",
       "    </tr>\n",
       "    <tr>\n",
       "      <th>59986</th>\n",
       "      <td>16317</td>\n",
       "      <td>1998-09-10</td>\n",
       "      <td>60117</td>\n",
       "    </tr>\n",
       "    <tr>\n",
       "      <th>105661</th>\n",
       "      <td>21136</td>\n",
       "      <td>1997-03-09</td>\n",
       "      <td>60117</td>\n",
       "    </tr>\n",
       "    <tr>\n",
       "      <th>157290</th>\n",
       "      <td>26560</td>\n",
       "      <td>1996-03-05</td>\n",
       "      <td>60117</td>\n",
       "    </tr>\n",
       "    <tr>\n",
       "      <th>209539</th>\n",
       "      <td>32033</td>\n",
       "      <td>2000-12-23</td>\n",
       "      <td>60117</td>\n",
       "    </tr>\n",
       "    <tr>\n",
       "      <th>270683</th>\n",
       "      <td>38533</td>\n",
       "      <td>1995-11-16</td>\n",
       "      <td>60117</td>\n",
       "    </tr>\n",
       "    <tr>\n",
       "      <th>297517</th>\n",
       "      <td>41345</td>\n",
       "      <td>1996-01-02</td>\n",
       "      <td>60117</td>\n",
       "    </tr>\n",
       "    <tr>\n",
       "      <th>351915</th>\n",
       "      <td>47125</td>\n",
       "      <td>1999-05-01</td>\n",
       "      <td>60117</td>\n",
       "    </tr>\n",
       "    <tr>\n",
       "      <th>358545</th>\n",
       "      <td>47823</td>\n",
       "      <td>1998-05-30</td>\n",
       "      <td>60117</td>\n",
       "    </tr>\n",
       "    <tr>\n",
       "      <th>414154</th>\n",
       "      <td>53601</td>\n",
       "      <td>1994-06-20</td>\n",
       "      <td>60117</td>\n",
       "    </tr>\n",
       "    <tr>\n",
       "      <th>445108</th>\n",
       "      <td>56893</td>\n",
       "      <td>2000-05-07</td>\n",
       "      <td>60117</td>\n",
       "    </tr>\n",
       "    <tr>\n",
       "      <th>492972</th>\n",
       "      <td>61905</td>\n",
       "      <td>1996-07-18</td>\n",
       "      <td>60117</td>\n",
       "    </tr>\n",
       "    <tr>\n",
       "      <th>495749</th>\n",
       "      <td>62198</td>\n",
       "      <td>9999-01-01</td>\n",
       "      <td>60117</td>\n",
       "    </tr>\n",
       "    <tr>\n",
       "      <th>578567</th>\n",
       "      <td>70907</td>\n",
       "      <td>1996-12-01</td>\n",
       "      <td>60117</td>\n",
       "    </tr>\n",
       "    <tr>\n",
       "      <th>606715</th>\n",
       "      <td>73897</td>\n",
       "      <td>1999-08-12</td>\n",
       "      <td>60117</td>\n",
       "    </tr>\n",
       "    <tr>\n",
       "      <th>654795</th>\n",
       "      <td>78958</td>\n",
       "      <td>1991-02-06</td>\n",
       "      <td>60117</td>\n",
       "    </tr>\n",
       "    <tr>\n",
       "      <th>751578</th>\n",
       "      <td>89123</td>\n",
       "      <td>2001-12-18</td>\n",
       "      <td>60117</td>\n",
       "    </tr>\n",
       "    <tr>\n",
       "      <th>939552</th>\n",
       "      <td>108892</td>\n",
       "      <td>2000-04-29</td>\n",
       "      <td>60117</td>\n",
       "    </tr>\n",
       "  </tbody>\n",
       "</table>\n",
       "</div>"
      ],
      "text/plain": [
       "        emp_no     to_date  salary\n",
       "0        10001  1987-06-26   60117\n",
       "6190     10650  1998-10-03   60117\n",
       "29225    13063  1996-01-02   60117\n",
       "59986    16317  1998-09-10   60117\n",
       "105661   21136  1997-03-09   60117\n",
       "157290   26560  1996-03-05   60117\n",
       "209539   32033  2000-12-23   60117\n",
       "270683   38533  1995-11-16   60117\n",
       "297517   41345  1996-01-02   60117\n",
       "351915   47125  1999-05-01   60117\n",
       "358545   47823  1998-05-30   60117\n",
       "414154   53601  1994-06-20   60117\n",
       "445108   56893  2000-05-07   60117\n",
       "492972   61905  1996-07-18   60117\n",
       "495749   62198  9999-01-01   60117\n",
       "578567   70907  1996-12-01   60117\n",
       "606715   73897  1999-08-12   60117\n",
       "654795   78958  1991-02-06   60117\n",
       "751578   89123  2001-12-18   60117\n",
       "939552  108892  2000-04-29   60117"
      ]
     },
     "execution_count": 39,
     "metadata": {},
     "output_type": "execute_result"
    }
   ],
   "source": [
    "values = add[['emp_no','to_date','salary']]\n",
    "values"
   ]
  },
  {
   "cell_type": "code",
   "execution_count": 40,
   "id": "6f7dc0ac-f9ab-49d2-a436-98142c4562a8",
   "metadata": {},
   "outputs": [
    {
     "data": {
      "text/plain": [
       "emp_no         108892\n",
       "to_date    2000-04-29\n",
       "salary          60117\n",
       "Name: 939552, dtype: object"
      ]
     },
     "execution_count": 40,
     "metadata": {},
     "output_type": "execute_result"
    }
   ],
   "source": [
    "values.loc[939552]"
   ]
  },
  {
   "cell_type": "code",
   "execution_count": 41,
   "id": "9d739f8e-f200-4ebb-9016-895adf89bd8f",
   "metadata": {},
   "outputs": [],
   "source": [
    "df = pd.read_sql_query('SELECT *FROM employees',DB)"
   ]
  },
  {
   "cell_type": "code",
   "execution_count": 42,
   "id": "8e2006ac-7dbc-4d4f-ac1c-00d22bb1b6b2",
   "metadata": {},
   "outputs": [
    {
     "data": {
      "text/html": [
       "<div>\n",
       "<style scoped>\n",
       "    .dataframe tbody tr th:only-of-type {\n",
       "        vertical-align: middle;\n",
       "    }\n",
       "\n",
       "    .dataframe tbody tr th {\n",
       "        vertical-align: top;\n",
       "    }\n",
       "\n",
       "    .dataframe thead th {\n",
       "        text-align: right;\n",
       "    }\n",
       "</style>\n",
       "<table border=\"1\" class=\"dataframe\">\n",
       "  <thead>\n",
       "    <tr style=\"text-align: right;\">\n",
       "      <th></th>\n",
       "      <th>emp_no</th>\n",
       "      <th>birth_date</th>\n",
       "      <th>first_name</th>\n",
       "      <th>last_name</th>\n",
       "      <th>gender</th>\n",
       "      <th>hire_date</th>\n",
       "    </tr>\n",
       "  </thead>\n",
       "  <tbody>\n",
       "    <tr>\n",
       "      <th>0</th>\n",
       "      <td>10001</td>\n",
       "      <td>1953-09-02</td>\n",
       "      <td>Georgi</td>\n",
       "      <td>Facello</td>\n",
       "      <td>M</td>\n",
       "      <td>1986-06-26</td>\n",
       "    </tr>\n",
       "    <tr>\n",
       "      <th>1</th>\n",
       "      <td>10002</td>\n",
       "      <td>1964-06-02</td>\n",
       "      <td>Bezalel</td>\n",
       "      <td>Simmel</td>\n",
       "      <td>F</td>\n",
       "      <td>1985-11-21</td>\n",
       "    </tr>\n",
       "    <tr>\n",
       "      <th>2</th>\n",
       "      <td>10003</td>\n",
       "      <td>1959-12-03</td>\n",
       "      <td>Parto</td>\n",
       "      <td>Bamford</td>\n",
       "      <td>M</td>\n",
       "      <td>1986-08-28</td>\n",
       "    </tr>\n",
       "    <tr>\n",
       "      <th>3</th>\n",
       "      <td>10004</td>\n",
       "      <td>1954-05-01</td>\n",
       "      <td>Chirstian</td>\n",
       "      <td>Koblick</td>\n",
       "      <td>M</td>\n",
       "      <td>1986-12-01</td>\n",
       "    </tr>\n",
       "    <tr>\n",
       "      <th>4</th>\n",
       "      <td>10005</td>\n",
       "      <td>1955-01-21</td>\n",
       "      <td>Kyoichi</td>\n",
       "      <td>Maliniak</td>\n",
       "      <td>M</td>\n",
       "      <td>1989-09-12</td>\n",
       "    </tr>\n",
       "    <tr>\n",
       "      <th>...</th>\n",
       "      <td>...</td>\n",
       "      <td>...</td>\n",
       "      <td>...</td>\n",
       "      <td>...</td>\n",
       "      <td>...</td>\n",
       "      <td>...</td>\n",
       "    </tr>\n",
       "    <tr>\n",
       "      <th>300020</th>\n",
       "      <td>499996</td>\n",
       "      <td>1953-03-07</td>\n",
       "      <td>Zito</td>\n",
       "      <td>Baaz</td>\n",
       "      <td>M</td>\n",
       "      <td>1990-09-27</td>\n",
       "    </tr>\n",
       "    <tr>\n",
       "      <th>300021</th>\n",
       "      <td>499997</td>\n",
       "      <td>1961-08-03</td>\n",
       "      <td>Berhard</td>\n",
       "      <td>Lenart</td>\n",
       "      <td>M</td>\n",
       "      <td>1986-04-21</td>\n",
       "    </tr>\n",
       "    <tr>\n",
       "      <th>300022</th>\n",
       "      <td>499998</td>\n",
       "      <td>1956-09-05</td>\n",
       "      <td>Patricia</td>\n",
       "      <td>Breugel</td>\n",
       "      <td>M</td>\n",
       "      <td>1993-10-13</td>\n",
       "    </tr>\n",
       "    <tr>\n",
       "      <th>300023</th>\n",
       "      <td>499999</td>\n",
       "      <td>1958-05-01</td>\n",
       "      <td>Sachin</td>\n",
       "      <td>Tsukuda</td>\n",
       "      <td>M</td>\n",
       "      <td>1997-11-30</td>\n",
       "    </tr>\n",
       "    <tr>\n",
       "      <th>300024</th>\n",
       "      <td>999903</td>\n",
       "      <td>1977-09-14</td>\n",
       "      <td>Johnathan</td>\n",
       "      <td>Creek</td>\n",
       "      <td>M</td>\n",
       "      <td>1999-01-01</td>\n",
       "    </tr>\n",
       "  </tbody>\n",
       "</table>\n",
       "<p>300025 rows × 6 columns</p>\n",
       "</div>"
      ],
      "text/plain": [
       "        emp_no  birth_date first_name last_name gender   hire_date\n",
       "0        10001  1953-09-02     Georgi   Facello      M  1986-06-26\n",
       "1        10002  1964-06-02    Bezalel    Simmel      F  1985-11-21\n",
       "2        10003  1959-12-03      Parto   Bamford      M  1986-08-28\n",
       "3        10004  1954-05-01  Chirstian   Koblick      M  1986-12-01\n",
       "4        10005  1955-01-21    Kyoichi  Maliniak      M  1989-09-12\n",
       "...        ...         ...        ...       ...    ...         ...\n",
       "300020  499996  1953-03-07       Zito      Baaz      M  1990-09-27\n",
       "300021  499997  1961-08-03    Berhard    Lenart      M  1986-04-21\n",
       "300022  499998  1956-09-05   Patricia   Breugel      M  1993-10-13\n",
       "300023  499999  1958-05-01     Sachin   Tsukuda      M  1997-11-30\n",
       "300024  999903  1977-09-14  Johnathan     Creek      M  1999-01-01\n",
       "\n",
       "[300025 rows x 6 columns]"
      ]
     },
     "execution_count": 42,
     "metadata": {},
     "output_type": "execute_result"
    }
   ],
   "source": []
  },
  {
   "cell_type": "code",
   "execution_count": 45,
   "id": "c96b7302-354a-47f7-856b-2e4b956409c8",
   "metadata": {},
   "outputs": [],
   "source": []
  },
  {
   "cell_type": "code",
   "execution_count": null,
   "id": "f972faa9-724b-47d8-ad5c-beebef6d357c",
   "metadata": {},
   "outputs": [],
   "source": []
  },
  {
   "cell_type": "code",
   "execution_count": null,
   "id": "405a8446-fe76-463e-9e44-8f71320a8858",
   "metadata": {},
   "outputs": [],
   "source": []
  }
 ],
 "metadata": {
  "kernelspec": {
   "display_name": "Python 3",
   "language": "python",
   "name": "python3"
  },
  "language_info": {
   "codemirror_mode": {
    "name": "ipython",
    "version": 3
   },
   "file_extension": ".py",
   "mimetype": "text/x-python",
   "name": "python",
   "nbconvert_exporter": "python",
   "pygments_lexer": "ipython3",
   "version": "3.8.8"
  }
 },
 "nbformat": 4,
 "nbformat_minor": 5
}
