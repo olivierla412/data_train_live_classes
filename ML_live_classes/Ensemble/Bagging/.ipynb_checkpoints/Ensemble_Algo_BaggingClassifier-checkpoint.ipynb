{
 "cells": [
  {
   "cell_type": "markdown",
   "id": "ae12b336-d246-4477-8aac-b297ba99aaee",
   "metadata": {},
   "source": [
    "## __BaggingClassifier__"
   ]
  },
  {
   "cell_type": "code",
   "execution_count": 24,
   "id": "aaafaf9a-44d4-48c5-82b8-5f747e5d162c",
   "metadata": {},
   "outputs": [],
   "source": [
    "from sklearn.ensemble import BaggingClassifier\n",
    "from sklearn.neighbors import KNeighborsClassifier\n",
    "import numpy as np"
   ]
  },
  {
   "cell_type": "code",
   "execution_count": 2,
   "id": "73e950ff-2eb6-4657-bb03-0dfdc76abb8f",
   "metadata": {},
   "outputs": [],
   "source": [
    "## let's import in-built dataset\n",
    "\n",
    "from sklearn.datasets import load_breast_cancer\n",
    "dataset = load_breast_cancer()\n",
    "x = dataset.data\n",
    "y = dataset.target"
   ]
  },
  {
   "cell_type": "code",
   "execution_count": 25,
   "id": "69bf09cc-548e-4bdc-9035-f997f2950d51",
   "metadata": {},
   "outputs": [],
   "source": [
    "np.set_printoptions(suppress=True,linewidth=100,precision=2)"
   ]
  },
  {
   "cell_type": "code",
   "execution_count": 26,
   "id": "b481b675-e582-4ccd-9dea-c39705c34c21",
   "metadata": {},
   "outputs": [
    {
     "data": {
      "text/plain": [
       "array([[ 17.99,  10.38, 122.8 , ...,   0.27,   0.46,   0.12],\n",
       "       [ 20.57,  17.77, 132.9 , ...,   0.19,   0.28,   0.09],\n",
       "       [ 19.69,  21.25, 130.  , ...,   0.24,   0.36,   0.09],\n",
       "       ...,\n",
       "       [ 16.6 ,  28.08, 108.3 , ...,   0.14,   0.22,   0.08],\n",
       "       [ 20.6 ,  29.33, 140.1 , ...,   0.27,   0.41,   0.12],\n",
       "       [  7.76,  24.54,  47.92, ...,   0.  ,   0.29,   0.07]])"
      ]
     },
     "execution_count": 26,
     "metadata": {},
     "output_type": "execute_result"
    }
   ],
   "source": [
    "x"
   ]
  },
  {
   "cell_type": "code",
   "execution_count": 27,
   "id": "72b96a1e-f53c-4b18-ab82-54ee3909ae9d",
   "metadata": {},
   "outputs": [
    {
     "data": {
      "text/plain": [
       "(569, 30)"
      ]
     },
     "execution_count": 27,
     "metadata": {},
     "output_type": "execute_result"
    }
   ],
   "source": [
    "x.shape"
   ]
  },
  {
   "cell_type": "code",
   "execution_count": null,
   "id": "2d5b0db1-1bf3-4c8b-975d-dd6d9af1a13a",
   "metadata": {},
   "outputs": [],
   "source": []
  },
  {
   "cell_type": "code",
   "execution_count": 5,
   "id": "4d4e2bae-ebf0-4087-be9b-42d29b8e8bdb",
   "metadata": {},
   "outputs": [],
   "source": [
    "# import train_test_split\n",
    "from sklearn.model_selection import train_test_split\n"
   ]
  },
  {
   "cell_type": "code",
   "execution_count": 6,
   "id": "70566406-cd74-41b8-a138-8a5910531661",
   "metadata": {},
   "outputs": [],
   "source": [
    "x_tain,x_test,y_train,y_test = train_test_split(x,y,test_size=0.25,random_state=44)"
   ]
  },
  {
   "cell_type": "code",
   "execution_count": null,
   "id": "676cbe34-4124-443d-a27b-16e110d8497f",
   "metadata": {},
   "outputs": [],
   "source": []
  },
  {
   "cell_type": "code",
   "execution_count": 9,
   "id": "7517df99-ade3-43ba-a165-eabf4182b6f4",
   "metadata": {},
   "outputs": [
    {
     "data": {
      "text/plain": [
       "0.958041958041958"
      ]
     },
     "execution_count": 9,
     "metadata": {},
     "output_type": "execute_result"
    }
   ],
   "source": [
    "knn = KNeighborsClassifier(n_neighbors=5)\n",
    "\n",
    "knn.fit(x_tain,y_train)\n",
    "\n",
    "knn.score(x_test,y_test)"
   ]
  },
  {
   "cell_type": "markdown",
   "id": "98c8a9b4-9ed5-4704-864d-b30ce8f9af30",
   "metadata": {},
   "source": [
    "### Let's use Bagging over KNN classifier and see if our score improves:"
   ]
  },
  {
   "cell_type": "code",
   "execution_count": 10,
   "id": "3a03ef97-37e2-4719-b232-1ba42d9f0a67",
   "metadata": {},
   "outputs": [],
   "source": [
    "# you can choose your base_estimator='' ,\n",
    "# here we choosed KNeigborsclassifier\n",
    "\n",
    "bag_knn = BaggingClassifier(KNeighborsClassifier(n_neighbors=5),\n",
    "                           n_estimators=10,max_samples=0.5,\n",
    "                           bootstrap=True,random_state=44,oob_score=True)\n",
    "#  n_estimators=10 , it means ,we wanna build KNeigborsClassifier 10 times.\n",
    "# max_samples=0.5 , mean each sample can take only data from the first 50% of the dataset\n",
    "# bootstrap=True, this mean if it pick up data from the first 50% to build a model,it should put back & shufle\n",
    "## before build the second model and so on.\n",
    "\n",
    "# oob_score=True, mean use the second half 50% for test and show me the score\n",
    "## oob = Out Of Bagging\n"
   ]
  },
  {
   "cell_type": "code",
   "execution_count": 11,
   "id": "3117f34c-e9bd-4f44-b4c6-260e0743e342",
   "metadata": {},
   "outputs": [
    {
     "data": {
      "text/plain": [
       "True"
      ]
     },
     "execution_count": 11,
     "metadata": {},
     "output_type": "execute_result"
    }
   ],
   "source": [
    "#bag_knn.oob_score"
   ]
  },
  {
   "cell_type": "code",
   "execution_count": 12,
   "id": "e16e36ca-5f1a-475a-a663-0d57c88df84b",
   "metadata": {},
   "outputs": [
    {
     "data": {
      "text/plain": [
       "BaggingClassifier(base_estimator=KNeighborsClassifier(), max_samples=0.5,\n",
       "                  oob_score=True, random_state=44)"
      ]
     },
     "execution_count": 12,
     "metadata": {},
     "output_type": "execute_result"
    }
   ],
   "source": [
    "# Let's train the model\n",
    "\n",
    "bag_knn.fit(x_tain, y_train)"
   ]
  },
  {
   "cell_type": "code",
   "execution_count": 14,
   "id": "9303de74-2fe7-4e53-ad97-f659c47fb672",
   "metadata": {},
   "outputs": [
    {
     "data": {
      "text/plain": [
       "0.965034965034965"
      ]
     },
     "execution_count": 14,
     "metadata": {},
     "output_type": "execute_result"
    }
   ],
   "source": [
    "## let's check the score\n",
    "bag_knn.score(x_test, y_test)"
   ]
  },
  {
   "cell_type": "markdown",
   "id": "fd85b2d0-d535-491d-b206-6b0052d2a610",
   "metadata": {},
   "source": [
    "#### Great our score significantly improve with use of bagging\n",
    "#### Let's use __bootstrap = False__ and see the model accuracy! Remember this is '__Pasting__'"
   ]
  },
  {
   "cell_type": "code",
   "execution_count": 21,
   "id": "5c8fd4df-d7af-4c16-ada0-114b643865c4",
   "metadata": {},
   "outputs": [],
   "source": [
    "bag_knn1 = BaggingClassifier(KNeighborsClassifier(n_neighbors=5),\n",
    "                           n_estimators=10,max_samples=0.5,\n",
    "                           bootstrap=False,random_state=355)\n",
    "# bootstrap=False, this mean if it pick up in  50% to build a model, do NOT put back \n",
    "## before build the second model and so on.\n",
    "\n",
    "# bootstrap=False, It is called pasting\n",
    "\n"
   ]
  },
  {
   "cell_type": "code",
   "execution_count": 22,
   "id": "8cf00e74-436c-419c-924e-fc6967985877",
   "metadata": {},
   "outputs": [
    {
     "data": {
      "text/plain": [
       "0.965034965034965"
      ]
     },
     "execution_count": 22,
     "metadata": {},
     "output_type": "execute_result"
    }
   ],
   "source": [
    "# train it\n",
    "bag_knn1.fit(x_tain, y_train)\n",
    "\n",
    "## let's check the score\n",
    "bag_knn1.score(x_test, y_test)"
   ]
  },
  {
   "cell_type": "code",
   "execution_count": null,
   "id": "91e27707-c7df-4e0f-9f8a-507a888eedb7",
   "metadata": {},
   "outputs": [],
   "source": []
  }
 ],
 "metadata": {
  "kernelspec": {
   "display_name": "Python 3",
   "language": "python",
   "name": "python3"
  },
  "language_info": {
   "codemirror_mode": {
    "name": "ipython",
    "version": 3
   },
   "file_extension": ".py",
   "mimetype": "text/x-python",
   "name": "python",
   "nbconvert_exporter": "python",
   "pygments_lexer": "ipython3",
   "version": "3.8.2"
  }
 },
 "nbformat": 4,
 "nbformat_minor": 5
}
