{
 "cells": [
  {
   "cell_type": "markdown",
   "id": "80b4fb7e-3b11-4e08-919b-ff3ee55e6eee",
   "metadata": {},
   "source": [
    "## __Gradiant_Boosting__\n",
    "#### __It is consist of reducing the errors__"
   ]
  },
  {
   "cell_type": "markdown",
   "id": "0ff16fc9-35b0-4b4a-99e2-192cc89a5c40",
   "metadata": {},
   "source": [
    "## It is called: __Grandiant Boosting or GBDT__"
   ]
  },
  {
   "cell_type": "code",
   "execution_count": 1,
   "id": "c08d4234-e2b5-490d-a929-393d969ad321",
   "metadata": {},
   "outputs": [],
   "source": [
    "import pandas as pd\n",
    "import numpy as np\n",
    "import matplotlib.pyplot as plt\n",
    "%matplotlib inline\n",
    "import seaborn as sns"
   ]
  },
  {
   "cell_type": "markdown",
   "id": "9a290e0d-bc96-46cf-a7c3-d5c0fd5e4fac",
   "metadata": {},
   "source": [
    "##### for understanding this Algorithm we will use the following simple dataset for weight prediction\n"
   ]
  },
  {
   "cell_type": "code",
   "execution_count": 2,
   "id": "9e79b811-1804-49b1-888f-b3648a497a73",
   "metadata": {},
   "outputs": [],
   "source": [
    "data_ = pd.DataFrame({\n",
    "    'Person Height(in meter)':[1.6,1.6,1.5,1.8,1.5,1.4],\n",
    "    'Person Favorite Color':['Blue','Green','Blue','Red','Green','Blue'],\n",
    "    'Person Gender':['Male','Female','Female','Male','Male','Female'],\n",
    "    'Person weight(in Kg)':[88,76,56,73,77,57]\n",
    "})"
   ]
  },
  {
   "cell_type": "code",
   "execution_count": 3,
   "id": "c8a4c82b-5c93-4f49-ad8b-f8706054d1bf",
   "metadata": {},
   "outputs": [
    {
     "data": {
      "text/html": [
       "<div>\n",
       "<style scoped>\n",
       "    .dataframe tbody tr th:only-of-type {\n",
       "        vertical-align: middle;\n",
       "    }\n",
       "\n",
       "    .dataframe tbody tr th {\n",
       "        vertical-align: top;\n",
       "    }\n",
       "\n",
       "    .dataframe thead th {\n",
       "        text-align: right;\n",
       "    }\n",
       "</style>\n",
       "<table border=\"1\" class=\"dataframe\">\n",
       "  <thead>\n",
       "    <tr style=\"text-align: right;\">\n",
       "      <th></th>\n",
       "      <th>Person Height(in meter)</th>\n",
       "      <th>Person Favorite Color</th>\n",
       "      <th>Person Gender</th>\n",
       "      <th>Person weight(in Kg)</th>\n",
       "    </tr>\n",
       "  </thead>\n",
       "  <tbody>\n",
       "    <tr>\n",
       "      <th>0</th>\n",
       "      <td>1.6</td>\n",
       "      <td>Blue</td>\n",
       "      <td>Male</td>\n",
       "      <td>88</td>\n",
       "    </tr>\n",
       "    <tr>\n",
       "      <th>1</th>\n",
       "      <td>1.6</td>\n",
       "      <td>Green</td>\n",
       "      <td>Female</td>\n",
       "      <td>76</td>\n",
       "    </tr>\n",
       "    <tr>\n",
       "      <th>2</th>\n",
       "      <td>1.5</td>\n",
       "      <td>Blue</td>\n",
       "      <td>Female</td>\n",
       "      <td>56</td>\n",
       "    </tr>\n",
       "    <tr>\n",
       "      <th>3</th>\n",
       "      <td>1.8</td>\n",
       "      <td>Red</td>\n",
       "      <td>Male</td>\n",
       "      <td>73</td>\n",
       "    </tr>\n",
       "    <tr>\n",
       "      <th>4</th>\n",
       "      <td>1.5</td>\n",
       "      <td>Green</td>\n",
       "      <td>Male</td>\n",
       "      <td>77</td>\n",
       "    </tr>\n",
       "    <tr>\n",
       "      <th>5</th>\n",
       "      <td>1.4</td>\n",
       "      <td>Blue</td>\n",
       "      <td>Female</td>\n",
       "      <td>57</td>\n",
       "    </tr>\n",
       "  </tbody>\n",
       "</table>\n",
       "</div>"
      ],
      "text/plain": [
       "   Person Height(in meter) Person Favorite Color Person Gender  \\\n",
       "0                      1.6                  Blue          Male   \n",
       "1                      1.6                 Green        Female   \n",
       "2                      1.5                  Blue        Female   \n",
       "3                      1.8                   Red          Male   \n",
       "4                      1.5                 Green          Male   \n",
       "5                      1.4                  Blue        Female   \n",
       "\n",
       "   Person weight(in Kg)  \n",
       "0                    88  \n",
       "1                    76  \n",
       "2                    56  \n",
       "3                    73  \n",
       "4                    77  \n",
       "5                    57  "
      ]
     },
     "execution_count": 3,
     "metadata": {},
     "output_type": "execute_result"
    }
   ],
   "source": [
    "data_"
   ]
  },
  {
   "cell_type": "raw",
   "id": "fd23a30d-7a85-4832-ab7f-7f83037d5325",
   "metadata": {},
   "source": [
    "let take the prediction values as the average of the (Person weight)\n",
    "predict = (88+76+56+73+77+57/6) \n",
    "predict =71.2"
   ]
  },
  {
   "cell_type": "markdown",
   "id": "d99b417f-0f7a-474e-8e20-73d8ac0a1131",
   "metadata": {},
   "source": [
    "#### For prediction we use the formula:\n",
    "#### __new value = old value +learning Rate *residual__\n",
    "#### let consider the learning rate as 0.1, the result becomes\n",
    "##### New value = 71.2+0.1*16.8 = 72.9 (for the row)."
   ]
  },
  {
   "cell_type": "markdown",
   "id": "0e8bc3d2-f355-4b47-b00b-ed78ca82d231",
   "metadata": {},
   "source": [
    "#### Final values = first prediction+learning rate* 1st residual +2nd residual+ and so on"
   ]
  },
  {
   "cell_type": "code",
   "execution_count": null,
   "id": "7cb8b166-57b2-4423-a347-05c797628186",
   "metadata": {},
   "outputs": [],
   "source": []
  },
  {
   "cell_type": "code",
   "execution_count": 4,
   "id": "093830d3-b071-40f8-b2c1-e96db1b78980",
   "metadata": {},
   "outputs": [],
   "source": [
    "source =\"https://raw.githubusercontent.com/olivierla412/Files/main/heart_disease.csv\""
   ]
  },
  {
   "cell_type": "code",
   "execution_count": 5,
   "id": "058b7df0-8d38-4dd0-9414-332ba51469ad",
   "metadata": {},
   "outputs": [
    {
     "data": {
      "text/html": [
       "<div>\n",
       "<style scoped>\n",
       "    .dataframe tbody tr th:only-of-type {\n",
       "        vertical-align: middle;\n",
       "    }\n",
       "\n",
       "    .dataframe tbody tr th {\n",
       "        vertical-align: top;\n",
       "    }\n",
       "\n",
       "    .dataframe thead th {\n",
       "        text-align: right;\n",
       "    }\n",
       "</style>\n",
       "<table border=\"1\" class=\"dataframe\">\n",
       "  <thead>\n",
       "    <tr style=\"text-align: right;\">\n",
       "      <th></th>\n",
       "      <th>Unnamed: 0</th>\n",
       "      <th>age</th>\n",
       "      <th>sex</th>\n",
       "      <th>cp</th>\n",
       "      <th>trestbps</th>\n",
       "      <th>chol</th>\n",
       "      <th>fbs</th>\n",
       "      <th>restecg</th>\n",
       "      <th>thalach</th>\n",
       "      <th>exang</th>\n",
       "      <th>oldpeak</th>\n",
       "      <th>slope</th>\n",
       "      <th>ca</th>\n",
       "      <th>thal</th>\n",
       "      <th>target</th>\n",
       "    </tr>\n",
       "  </thead>\n",
       "  <tbody>\n",
       "    <tr>\n",
       "      <th>0</th>\n",
       "      <td>0</td>\n",
       "      <td>63</td>\n",
       "      <td>1</td>\n",
       "      <td>3</td>\n",
       "      <td>145</td>\n",
       "      <td>233</td>\n",
       "      <td>1</td>\n",
       "      <td>0</td>\n",
       "      <td>150</td>\n",
       "      <td>0</td>\n",
       "      <td>2.3</td>\n",
       "      <td>0</td>\n",
       "      <td>0</td>\n",
       "      <td>1</td>\n",
       "      <td>1</td>\n",
       "    </tr>\n",
       "    <tr>\n",
       "      <th>1</th>\n",
       "      <td>1</td>\n",
       "      <td>37</td>\n",
       "      <td>1</td>\n",
       "      <td>2</td>\n",
       "      <td>130</td>\n",
       "      <td>250</td>\n",
       "      <td>0</td>\n",
       "      <td>1</td>\n",
       "      <td>187</td>\n",
       "      <td>0</td>\n",
       "      <td>3.5</td>\n",
       "      <td>0</td>\n",
       "      <td>0</td>\n",
       "      <td>2</td>\n",
       "      <td>1</td>\n",
       "    </tr>\n",
       "    <tr>\n",
       "      <th>2</th>\n",
       "      <td>2</td>\n",
       "      <td>41</td>\n",
       "      <td>0</td>\n",
       "      <td>1</td>\n",
       "      <td>130</td>\n",
       "      <td>204</td>\n",
       "      <td>0</td>\n",
       "      <td>0</td>\n",
       "      <td>172</td>\n",
       "      <td>0</td>\n",
       "      <td>1.4</td>\n",
       "      <td>2</td>\n",
       "      <td>0</td>\n",
       "      <td>2</td>\n",
       "      <td>1</td>\n",
       "    </tr>\n",
       "    <tr>\n",
       "      <th>3</th>\n",
       "      <td>3</td>\n",
       "      <td>56</td>\n",
       "      <td>1</td>\n",
       "      <td>1</td>\n",
       "      <td>120</td>\n",
       "      <td>236</td>\n",
       "      <td>0</td>\n",
       "      <td>1</td>\n",
       "      <td>178</td>\n",
       "      <td>0</td>\n",
       "      <td>0.8</td>\n",
       "      <td>2</td>\n",
       "      <td>0</td>\n",
       "      <td>2</td>\n",
       "      <td>1</td>\n",
       "    </tr>\n",
       "    <tr>\n",
       "      <th>4</th>\n",
       "      <td>4</td>\n",
       "      <td>57</td>\n",
       "      <td>0</td>\n",
       "      <td>0</td>\n",
       "      <td>120</td>\n",
       "      <td>354</td>\n",
       "      <td>0</td>\n",
       "      <td>1</td>\n",
       "      <td>163</td>\n",
       "      <td>1</td>\n",
       "      <td>0.6</td>\n",
       "      <td>2</td>\n",
       "      <td>0</td>\n",
       "      <td>2</td>\n",
       "      <td>1</td>\n",
       "    </tr>\n",
       "  </tbody>\n",
       "</table>\n",
       "</div>"
      ],
      "text/plain": [
       "   Unnamed: 0  age  sex  cp  trestbps  chol  fbs  restecg  thalach  exang  \\\n",
       "0           0   63    1   3       145   233    1        0      150      0   \n",
       "1           1   37    1   2       130   250    0        1      187      0   \n",
       "2           2   41    0   1       130   204    0        0      172      0   \n",
       "3           3   56    1   1       120   236    0        1      178      0   \n",
       "4           4   57    0   0       120   354    0        1      163      1   \n",
       "\n",
       "   oldpeak  slope  ca  thal  target  \n",
       "0      2.3      0   0     1       1  \n",
       "1      3.5      0   0     2       1  \n",
       "2      1.4      2   0     2       1  \n",
       "3      0.8      2   0     2       1  \n",
       "4      0.6      2   0     2       1  "
      ]
     },
     "execution_count": 5,
     "metadata": {},
     "output_type": "execute_result"
    }
   ],
   "source": [
    "df = pd.read_csv(source)\n",
    "df.head()"
   ]
  },
  {
   "cell_type": "code",
   "execution_count": 6,
   "id": "d8c84f88-c787-4542-85bf-a16c08f1fcd2",
   "metadata": {},
   "outputs": [],
   "source": [
    "## let's delete the unnamed column\n",
    "df.drop('Unnamed: 0',axis=1,inplace=True)"
   ]
  },
  {
   "cell_type": "code",
   "execution_count": 7,
   "id": "70df3b59-fe16-4569-a1d7-bdc854430837",
   "metadata": {},
   "outputs": [],
   "source": [
    "df.drop_duplicates(inplace=True)"
   ]
  },
  {
   "cell_type": "code",
   "execution_count": 8,
   "id": "b50efcd9-79c6-4d66-a7d1-88b3b1727a21",
   "metadata": {},
   "outputs": [
    {
     "data": {
      "text/plain": [
       "(302, 14)"
      ]
     },
     "execution_count": 8,
     "metadata": {},
     "output_type": "execute_result"
    }
   ],
   "source": [
    "df.shape"
   ]
  },
  {
   "cell_type": "code",
   "execution_count": 9,
   "id": "b5f645b5-8852-4f95-ade8-31c937077102",
   "metadata": {},
   "outputs": [
    {
     "data": {
      "text/html": [
       "<div>\n",
       "<style scoped>\n",
       "    .dataframe tbody tr th:only-of-type {\n",
       "        vertical-align: middle;\n",
       "    }\n",
       "\n",
       "    .dataframe tbody tr th {\n",
       "        vertical-align: top;\n",
       "    }\n",
       "\n",
       "    .dataframe thead th {\n",
       "        text-align: right;\n",
       "    }\n",
       "</style>\n",
       "<table border=\"1\" class=\"dataframe\">\n",
       "  <thead>\n",
       "    <tr style=\"text-align: right;\">\n",
       "      <th></th>\n",
       "      <th>age</th>\n",
       "      <th>sex</th>\n",
       "      <th>cp</th>\n",
       "      <th>trestbps</th>\n",
       "      <th>chol</th>\n",
       "      <th>fbs</th>\n",
       "      <th>restecg</th>\n",
       "      <th>thalach</th>\n",
       "      <th>exang</th>\n",
       "      <th>oldpeak</th>\n",
       "      <th>slope</th>\n",
       "      <th>ca</th>\n",
       "      <th>thal</th>\n",
       "      <th>target</th>\n",
       "    </tr>\n",
       "  </thead>\n",
       "  <tbody>\n",
       "    <tr>\n",
       "      <th>0</th>\n",
       "      <td>63</td>\n",
       "      <td>1</td>\n",
       "      <td>3</td>\n",
       "      <td>145</td>\n",
       "      <td>233</td>\n",
       "      <td>1</td>\n",
       "      <td>0</td>\n",
       "      <td>150</td>\n",
       "      <td>0</td>\n",
       "      <td>2.3</td>\n",
       "      <td>0</td>\n",
       "      <td>0</td>\n",
       "      <td>1</td>\n",
       "      <td>1</td>\n",
       "    </tr>\n",
       "    <tr>\n",
       "      <th>1</th>\n",
       "      <td>37</td>\n",
       "      <td>1</td>\n",
       "      <td>2</td>\n",
       "      <td>130</td>\n",
       "      <td>250</td>\n",
       "      <td>0</td>\n",
       "      <td>1</td>\n",
       "      <td>187</td>\n",
       "      <td>0</td>\n",
       "      <td>3.5</td>\n",
       "      <td>0</td>\n",
       "      <td>0</td>\n",
       "      <td>2</td>\n",
       "      <td>1</td>\n",
       "    </tr>\n",
       "    <tr>\n",
       "      <th>2</th>\n",
       "      <td>41</td>\n",
       "      <td>0</td>\n",
       "      <td>1</td>\n",
       "      <td>130</td>\n",
       "      <td>204</td>\n",
       "      <td>0</td>\n",
       "      <td>0</td>\n",
       "      <td>172</td>\n",
       "      <td>0</td>\n",
       "      <td>1.4</td>\n",
       "      <td>2</td>\n",
       "      <td>0</td>\n",
       "      <td>2</td>\n",
       "      <td>1</td>\n",
       "    </tr>\n",
       "    <tr>\n",
       "      <th>3</th>\n",
       "      <td>56</td>\n",
       "      <td>1</td>\n",
       "      <td>1</td>\n",
       "      <td>120</td>\n",
       "      <td>236</td>\n",
       "      <td>0</td>\n",
       "      <td>1</td>\n",
       "      <td>178</td>\n",
       "      <td>0</td>\n",
       "      <td>0.8</td>\n",
       "      <td>2</td>\n",
       "      <td>0</td>\n",
       "      <td>2</td>\n",
       "      <td>1</td>\n",
       "    </tr>\n",
       "    <tr>\n",
       "      <th>4</th>\n",
       "      <td>57</td>\n",
       "      <td>0</td>\n",
       "      <td>0</td>\n",
       "      <td>120</td>\n",
       "      <td>354</td>\n",
       "      <td>0</td>\n",
       "      <td>1</td>\n",
       "      <td>163</td>\n",
       "      <td>1</td>\n",
       "      <td>0.6</td>\n",
       "      <td>2</td>\n",
       "      <td>0</td>\n",
       "      <td>2</td>\n",
       "      <td>1</td>\n",
       "    </tr>\n",
       "  </tbody>\n",
       "</table>\n",
       "</div>"
      ],
      "text/plain": [
       "   age  sex  cp  trestbps  chol  fbs  restecg  thalach  exang  oldpeak  slope  \\\n",
       "0   63    1   3       145   233    1        0      150      0      2.3      0   \n",
       "1   37    1   2       130   250    0        1      187      0      3.5      0   \n",
       "2   41    0   1       130   204    0        0      172      0      1.4      2   \n",
       "3   56    1   1       120   236    0        1      178      0      0.8      2   \n",
       "4   57    0   0       120   354    0        1      163      1      0.6      2   \n",
       "\n",
       "   ca  thal  target  \n",
       "0   0     1       1  \n",
       "1   0     2       1  \n",
       "2   0     2       1  \n",
       "3   0     2       1  \n",
       "4   0     2       1  "
      ]
     },
     "execution_count": 9,
     "metadata": {},
     "output_type": "execute_result"
    }
   ],
   "source": [
    "df.head()"
   ]
  },
  {
   "cell_type": "code",
   "execution_count": 10,
   "id": "740b75fe-3e56-4dc0-9ae6-5c31dd27837d",
   "metadata": {},
   "outputs": [
    {
     "data": {
      "text/plain": [
       "age         0\n",
       "sex         0\n",
       "cp          0\n",
       "trestbps    0\n",
       "chol        0\n",
       "fbs         0\n",
       "restecg     0\n",
       "thalach     0\n",
       "exang       0\n",
       "oldpeak     0\n",
       "slope       0\n",
       "ca          0\n",
       "thal        0\n",
       "target      0\n",
       "dtype: int64"
      ]
     },
     "execution_count": 10,
     "metadata": {},
     "output_type": "execute_result"
    }
   ],
   "source": [
    "df.isna().sum()"
   ]
  },
  {
   "cell_type": "code",
   "execution_count": 11,
   "id": "bac47232-df1d-4caa-9811-644c95bf8898",
   "metadata": {},
   "outputs": [
    {
     "data": {
      "text/plain": [
       "array([1, 0])"
      ]
     },
     "execution_count": 11,
     "metadata": {},
     "output_type": "execute_result"
    }
   ],
   "source": [
    "## let's check how many categories are in the target column\n",
    "\n",
    "df['target'].unique()"
   ]
  },
  {
   "cell_type": "code",
   "execution_count": 12,
   "id": "beb6c1d9-3a4c-4c38-9376-aaa43c3c109c",
   "metadata": {},
   "outputs": [
    {
     "data": {
      "text/plain": [
       "1    164\n",
       "0    138\n",
       "Name: target, dtype: int64"
      ]
     },
     "execution_count": 12,
     "metadata": {},
     "output_type": "execute_result"
    }
   ],
   "source": [
    "### let's see the count values of each categorical.\n",
    "\n",
    "df['target'].value_counts()\n",
    "\n",
    "## to avoid unbalance problems."
   ]
  },
  {
   "cell_type": "code",
   "execution_count": 13,
   "id": "10420604-dc18-439e-82ef-4eff29e7c91a",
   "metadata": {},
   "outputs": [
    {
     "data": {
      "text/html": [
       "<div>\n",
       "<style scoped>\n",
       "    .dataframe tbody tr th:only-of-type {\n",
       "        vertical-align: middle;\n",
       "    }\n",
       "\n",
       "    .dataframe tbody tr th {\n",
       "        vertical-align: top;\n",
       "    }\n",
       "\n",
       "    .dataframe thead th {\n",
       "        text-align: right;\n",
       "    }\n",
       "</style>\n",
       "<table border=\"1\" class=\"dataframe\">\n",
       "  <thead>\n",
       "    <tr style=\"text-align: right;\">\n",
       "      <th></th>\n",
       "      <th>age</th>\n",
       "      <th>sex</th>\n",
       "      <th>cp</th>\n",
       "      <th>trestbps</th>\n",
       "      <th>chol</th>\n",
       "      <th>fbs</th>\n",
       "      <th>restecg</th>\n",
       "      <th>thalach</th>\n",
       "      <th>exang</th>\n",
       "      <th>oldpeak</th>\n",
       "      <th>slope</th>\n",
       "      <th>ca</th>\n",
       "      <th>thal</th>\n",
       "      <th>target</th>\n",
       "    </tr>\n",
       "  </thead>\n",
       "  <tbody>\n",
       "    <tr>\n",
       "      <th>count</th>\n",
       "      <td>302.00000</td>\n",
       "      <td>302.000000</td>\n",
       "      <td>302.000000</td>\n",
       "      <td>302.000000</td>\n",
       "      <td>302.000000</td>\n",
       "      <td>302.000000</td>\n",
       "      <td>302.000000</td>\n",
       "      <td>302.000000</td>\n",
       "      <td>302.000000</td>\n",
       "      <td>302.000000</td>\n",
       "      <td>302.000000</td>\n",
       "      <td>302.000000</td>\n",
       "      <td>302.000000</td>\n",
       "      <td>302.000000</td>\n",
       "    </tr>\n",
       "    <tr>\n",
       "      <th>mean</th>\n",
       "      <td>54.42053</td>\n",
       "      <td>0.682119</td>\n",
       "      <td>0.963576</td>\n",
       "      <td>131.602649</td>\n",
       "      <td>246.500000</td>\n",
       "      <td>0.149007</td>\n",
       "      <td>0.526490</td>\n",
       "      <td>149.569536</td>\n",
       "      <td>0.327815</td>\n",
       "      <td>1.043046</td>\n",
       "      <td>1.397351</td>\n",
       "      <td>0.718543</td>\n",
       "      <td>2.314570</td>\n",
       "      <td>0.543046</td>\n",
       "    </tr>\n",
       "    <tr>\n",
       "      <th>std</th>\n",
       "      <td>9.04797</td>\n",
       "      <td>0.466426</td>\n",
       "      <td>1.032044</td>\n",
       "      <td>17.563394</td>\n",
       "      <td>51.753489</td>\n",
       "      <td>0.356686</td>\n",
       "      <td>0.526027</td>\n",
       "      <td>22.903527</td>\n",
       "      <td>0.470196</td>\n",
       "      <td>1.161452</td>\n",
       "      <td>0.616274</td>\n",
       "      <td>1.006748</td>\n",
       "      <td>0.613026</td>\n",
       "      <td>0.498970</td>\n",
       "    </tr>\n",
       "    <tr>\n",
       "      <th>min</th>\n",
       "      <td>29.00000</td>\n",
       "      <td>0.000000</td>\n",
       "      <td>0.000000</td>\n",
       "      <td>94.000000</td>\n",
       "      <td>126.000000</td>\n",
       "      <td>0.000000</td>\n",
       "      <td>0.000000</td>\n",
       "      <td>71.000000</td>\n",
       "      <td>0.000000</td>\n",
       "      <td>0.000000</td>\n",
       "      <td>0.000000</td>\n",
       "      <td>0.000000</td>\n",
       "      <td>0.000000</td>\n",
       "      <td>0.000000</td>\n",
       "    </tr>\n",
       "    <tr>\n",
       "      <th>25%</th>\n",
       "      <td>48.00000</td>\n",
       "      <td>0.000000</td>\n",
       "      <td>0.000000</td>\n",
       "      <td>120.000000</td>\n",
       "      <td>211.000000</td>\n",
       "      <td>0.000000</td>\n",
       "      <td>0.000000</td>\n",
       "      <td>133.250000</td>\n",
       "      <td>0.000000</td>\n",
       "      <td>0.000000</td>\n",
       "      <td>1.000000</td>\n",
       "      <td>0.000000</td>\n",
       "      <td>2.000000</td>\n",
       "      <td>0.000000</td>\n",
       "    </tr>\n",
       "    <tr>\n",
       "      <th>50%</th>\n",
       "      <td>55.50000</td>\n",
       "      <td>1.000000</td>\n",
       "      <td>1.000000</td>\n",
       "      <td>130.000000</td>\n",
       "      <td>240.500000</td>\n",
       "      <td>0.000000</td>\n",
       "      <td>1.000000</td>\n",
       "      <td>152.500000</td>\n",
       "      <td>0.000000</td>\n",
       "      <td>0.800000</td>\n",
       "      <td>1.000000</td>\n",
       "      <td>0.000000</td>\n",
       "      <td>2.000000</td>\n",
       "      <td>1.000000</td>\n",
       "    </tr>\n",
       "    <tr>\n",
       "      <th>75%</th>\n",
       "      <td>61.00000</td>\n",
       "      <td>1.000000</td>\n",
       "      <td>2.000000</td>\n",
       "      <td>140.000000</td>\n",
       "      <td>274.750000</td>\n",
       "      <td>0.000000</td>\n",
       "      <td>1.000000</td>\n",
       "      <td>166.000000</td>\n",
       "      <td>1.000000</td>\n",
       "      <td>1.600000</td>\n",
       "      <td>2.000000</td>\n",
       "      <td>1.000000</td>\n",
       "      <td>3.000000</td>\n",
       "      <td>1.000000</td>\n",
       "    </tr>\n",
       "    <tr>\n",
       "      <th>max</th>\n",
       "      <td>77.00000</td>\n",
       "      <td>1.000000</td>\n",
       "      <td>3.000000</td>\n",
       "      <td>200.000000</td>\n",
       "      <td>564.000000</td>\n",
       "      <td>1.000000</td>\n",
       "      <td>2.000000</td>\n",
       "      <td>202.000000</td>\n",
       "      <td>1.000000</td>\n",
       "      <td>6.200000</td>\n",
       "      <td>2.000000</td>\n",
       "      <td>4.000000</td>\n",
       "      <td>3.000000</td>\n",
       "      <td>1.000000</td>\n",
       "    </tr>\n",
       "  </tbody>\n",
       "</table>\n",
       "</div>"
      ],
      "text/plain": [
       "             age         sex          cp    trestbps        chol         fbs  \\\n",
       "count  302.00000  302.000000  302.000000  302.000000  302.000000  302.000000   \n",
       "mean    54.42053    0.682119    0.963576  131.602649  246.500000    0.149007   \n",
       "std      9.04797    0.466426    1.032044   17.563394   51.753489    0.356686   \n",
       "min     29.00000    0.000000    0.000000   94.000000  126.000000    0.000000   \n",
       "25%     48.00000    0.000000    0.000000  120.000000  211.000000    0.000000   \n",
       "50%     55.50000    1.000000    1.000000  130.000000  240.500000    0.000000   \n",
       "75%     61.00000    1.000000    2.000000  140.000000  274.750000    0.000000   \n",
       "max     77.00000    1.000000    3.000000  200.000000  564.000000    1.000000   \n",
       "\n",
       "          restecg     thalach       exang     oldpeak       slope          ca  \\\n",
       "count  302.000000  302.000000  302.000000  302.000000  302.000000  302.000000   \n",
       "mean     0.526490  149.569536    0.327815    1.043046    1.397351    0.718543   \n",
       "std      0.526027   22.903527    0.470196    1.161452    0.616274    1.006748   \n",
       "min      0.000000   71.000000    0.000000    0.000000    0.000000    0.000000   \n",
       "25%      0.000000  133.250000    0.000000    0.000000    1.000000    0.000000   \n",
       "50%      1.000000  152.500000    0.000000    0.800000    1.000000    0.000000   \n",
       "75%      1.000000  166.000000    1.000000    1.600000    2.000000    1.000000   \n",
       "max      2.000000  202.000000    1.000000    6.200000    2.000000    4.000000   \n",
       "\n",
       "             thal      target  \n",
       "count  302.000000  302.000000  \n",
       "mean     2.314570    0.543046  \n",
       "std      0.613026    0.498970  \n",
       "min      0.000000    0.000000  \n",
       "25%      2.000000    0.000000  \n",
       "50%      2.000000    1.000000  \n",
       "75%      3.000000    1.000000  \n",
       "max      3.000000    1.000000  "
      ]
     },
     "execution_count": 13,
     "metadata": {},
     "output_type": "execute_result"
    }
   ],
   "source": [
    "df.describe()"
   ]
  },
  {
   "cell_type": "markdown",
   "id": "7695cc06-bfce-4c69-a489-18d3f0a3102c",
   "metadata": {},
   "source": [
    "#### Just find the correlation between features and label(target) using __corrwith()__ method"
   ]
  },
  {
   "cell_type": "code",
   "execution_count": 14,
   "id": "aac27381-bfd1-4f14-8172-b325894085c8",
   "metadata": {},
   "outputs": [
    {
     "data": {
      "text/plain": [
       "age        -0.221476\n",
       "sex        -0.283609\n",
       "cp          0.432080\n",
       "trestbps   -0.146269\n",
       "chol       -0.081437\n",
       "fbs        -0.026826\n",
       "restecg     0.134874\n",
       "thalach     0.419955\n",
       "exang      -0.435601\n",
       "oldpeak    -0.429146\n",
       "slope       0.343940\n",
       "ca         -0.408992\n",
       "thal       -0.343101\n",
       "dtype: float64"
      ]
     },
     "execution_count": 14,
     "metadata": {},
     "output_type": "execute_result"
    }
   ],
   "source": [
    "## Just find the correlation between features and label(target) using corrwith\n",
    "df.drop('target', axis=1).corrwith(df.target)"
   ]
  },
  {
   "cell_type": "code",
   "execution_count": 15,
   "id": "a334c345-9533-4846-93d7-39507c912cfb",
   "metadata": {},
   "outputs": [],
   "source": [
    "var = df.drop('target', axis=1)"
   ]
  },
  {
   "cell_type": "code",
   "execution_count": 16,
   "id": "8fb591f4-2d8b-427c-bdf7-4730c6a057b1",
   "metadata": {},
   "outputs": [
    {
     "data": {
      "text/plain": [
       "age        -0.221476\n",
       "sex        -0.283609\n",
       "cp          0.432080\n",
       "trestbps   -0.146269\n",
       "chol       -0.081437\n",
       "fbs        -0.026826\n",
       "restecg     0.134874\n",
       "thalach     0.419955\n",
       "exang      -0.435601\n",
       "oldpeak    -0.429146\n",
       "slope       0.343940\n",
       "ca         -0.408992\n",
       "thal       -0.343101\n",
       "dtype: float64"
      ]
     },
     "execution_count": 16,
     "metadata": {},
     "output_type": "execute_result"
    }
   ],
   "source": [
    "var.corrwith(df.target)"
   ]
  },
  {
   "cell_type": "code",
   "execution_count": 17,
   "id": "dfb27ca3-a9a6-43a1-bd69-936c3d333999",
   "metadata": {},
   "outputs": [
    {
     "data": {
      "image/png": "[encoded data removed]",
      "text/plain": [
       "<Figure size 720x504 with 1 Axes>"
      ]
     },
     "metadata": {
      "needs_background": "light"
     },
     "output_type": "display_data"
    }
   ],
   "source": [
    "var.corrwith(df.target).plot(kind ='bar',grid = True,figsize =(10, 7),\n",
    "                            title ='Correlation with Target',rot= 45)\n",
    "plt.tight_layout()"
   ]
  },
  {
   "cell_type": "markdown",
   "id": "409c8d1d-89f7-4102-bb2e-8c7a425a6ca8",
   "metadata": {},
   "source": [
    "#### Let's play around feature selection and see if we can build better Model"
   ]
  },
  {
   "cell_type": "markdown",
   "id": "2ac083d3-dc47-4ebc-9569-2f26cf0dd9e8",
   "metadata": {},
   "source": [
    "#### __Model building using SelectPercentile features__"
   ]
  },
  {
   "cell_type": "code",
   "execution_count": 18,
   "id": "48b57142-4cb6-474e-8c39-60178b7a11fa",
   "metadata": {},
   "outputs": [],
   "source": [
    "from sklearn.feature_selection import SelectPercentile\n",
    "from sklearn.feature_selection import chi2"
   ]
  },
  {
   "cell_type": "markdown",
   "id": "7e22498f-9b76-4b63-81d9-4e3b5ffef445",
   "metadata": {},
   "source": [
    "#### When we apply chi2, we get P-values for all features. Based on P-values,\n",
    "#### it will select top 80% of features\n",
    "#### Example- If P-value < 0.05, it will reject the null hypothesis.\n",
    "#### Default null hypothesis is , there is no relation b/w feature and target."
   ]
  },
  {
   "cell_type": "markdown",
   "id": "eb7a9602-e965-4167-b58c-53042de4e94f",
   "metadata": {},
   "source": [
    "### __Instantiate SelectPercentile and fit (features, label)__"
   ]
  },
  {
   "cell_type": "code",
   "execution_count": 19,
   "id": "ea031e97-4c52-4134-ba30-db2d081c7d08",
   "metadata": {},
   "outputs": [],
   "source": [
    "#Instantiate SelectPercentile and fit (features, label)\n",
    "x = df.drop('target',axis=1)\n",
    "y= df.target\n",
    "\n"
   ]
  },
  {
   "cell_type": "code",
   "execution_count": 22,
   "id": "72ab2446-de3c-4354-8eac-a8598bab765f",
   "metadata": {},
   "outputs": [],
   "source": [
    "Spercentile = SelectPercentile(score_func=chi2, percentile=80)\n",
    "Spercentile =  Spercentile.fit(x,y)\n",
    "## for the score function we can use ANOVA too, but this gives us \n",
    "## second method."
   ]
  },
  {
   "cell_type": "code",
   "execution_count": 25,
   "id": "ec370ca7-81f6-48a9-aecb-1a4566609849",
   "metadata": {},
   "outputs": [],
   "source": [
    "## seperate the features to check P-values of each\n",
    "\n",
    "cols = Spercentile.get_support(indices=True)\n",
    "features = x.columns[cols]"
   ]
  },
  {
   "cell_type": "code",
   "execution_count": 26,
   "id": "ddb408e2-29d9-4c51-a01f-fae9ce0132c0",
   "metadata": {},
   "outputs": [],
   "source": [
    "df_score = pd.DataFrame({'features':x.columns,\n",
    "                         'Chi2Score':Spercentile.scores_,\n",
    "                        'P_values':Spercentile.pvalues_})\n",
    "\n",
    "\n"
   ]
  },
  {
   "cell_type": "code",
   "execution_count": 31,
   "id": "5d3cd901-58e7-4cf9-94d2-cc38d6a5c361",
   "metadata": {},
   "outputs": [],
   "source": [
    "# np.printoptions(suppress = True, linewidth = 100,precision =2)"
   ]
  },
  {
   "cell_type": "code",
   "execution_count": 30,
   "id": "23a77dc4-4ebe-4829-b8a4-714e8081507f",
   "metadata": {},
   "outputs": [
    {
     "data": {
      "text/html": [
       "<div>\n",
       "<style scoped>\n",
       "    .dataframe tbody tr th:only-of-type {\n",
       "        vertical-align: middle;\n",
       "    }\n",
       "\n",
       "    .dataframe tbody tr th {\n",
       "        vertical-align: top;\n",
       "    }\n",
       "\n",
       "    .dataframe thead th {\n",
       "        text-align: right;\n",
       "    }\n",
       "</style>\n",
       "<table border=\"1\" class=\"dataframe\">\n",
       "  <thead>\n",
       "    <tr style=\"text-align: right;\">\n",
       "      <th></th>\n",
       "      <th>features</th>\n",
       "      <th>Chi2Score</th>\n",
       "      <th>P_values</th>\n",
       "    </tr>\n",
       "  </thead>\n",
       "  <tbody>\n",
       "    <tr>\n",
       "      <th>7</th>\n",
       "      <td>thalach</td>\n",
       "      <td>186.180286</td>\n",
       "      <td>2.168381e-42</td>\n",
       "    </tr>\n",
       "    <tr>\n",
       "      <th>9</th>\n",
       "      <td>oldpeak</td>\n",
       "      <td>71.692782</td>\n",
       "      <td>2.514507e-17</td>\n",
       "    </tr>\n",
       "    <tr>\n",
       "      <th>11</th>\n",
       "      <td>ca</td>\n",
       "      <td>71.020719</td>\n",
       "      <td>3.534932e-17</td>\n",
       "    </tr>\n",
       "    <tr>\n",
       "      <th>2</th>\n",
       "      <td>cp</td>\n",
       "      <td>62.116086</td>\n",
       "      <td>3.237956e-15</td>\n",
       "    </tr>\n",
       "    <tr>\n",
       "      <th>8</th>\n",
       "      <td>exang</td>\n",
       "      <td>38.518849</td>\n",
       "      <td>5.422743e-10</td>\n",
       "    </tr>\n",
       "    <tr>\n",
       "      <th>0</th>\n",
       "      <td>age</td>\n",
       "      <td>22.210517</td>\n",
       "      <td>2.443317e-06</td>\n",
       "    </tr>\n",
       "    <tr>\n",
       "      <th>4</th>\n",
       "      <td>chol</td>\n",
       "      <td>21.690747</td>\n",
       "      <td>3.203327e-06</td>\n",
       "    </tr>\n",
       "    <tr>\n",
       "      <th>3</th>\n",
       "      <td>trestbps</td>\n",
       "      <td>15.094591</td>\n",
       "      <td>1.022559e-04</td>\n",
       "    </tr>\n",
       "    <tr>\n",
       "      <th>10</th>\n",
       "      <td>slope</td>\n",
       "      <td>9.677715</td>\n",
       "      <td>1.865164e-03</td>\n",
       "    </tr>\n",
       "    <tr>\n",
       "      <th>1</th>\n",
       "      <td>sex</td>\n",
       "      <td>7.721690</td>\n",
       "      <td>5.456131e-03</td>\n",
       "    </tr>\n",
       "    <tr>\n",
       "      <th>12</th>\n",
       "      <td>thal</td>\n",
       "      <td>5.753030</td>\n",
       "      <td>1.646024e-02</td>\n",
       "    </tr>\n",
       "    <tr>\n",
       "      <th>6</th>\n",
       "      <td>restecg</td>\n",
       "      <td>2.877743</td>\n",
       "      <td>8.981182e-02</td>\n",
       "    </tr>\n",
       "    <tr>\n",
       "      <th>5</th>\n",
       "      <td>fbs</td>\n",
       "      <td>0.184946</td>\n",
       "      <td>6.671571e-01</td>\n",
       "    </tr>\n",
       "  </tbody>\n",
       "</table>\n",
       "</div>"
      ],
      "text/plain": [
       "    features   Chi2Score      P_values\n",
       "7    thalach  186.180286  2.168381e-42\n",
       "9    oldpeak   71.692782  2.514507e-17\n",
       "11        ca   71.020719  3.534932e-17\n",
       "2         cp   62.116086  3.237956e-15\n",
       "8      exang   38.518849  5.422743e-10\n",
       "0        age   22.210517  2.443317e-06\n",
       "4       chol   21.690747  3.203327e-06\n",
       "3   trestbps   15.094591  1.022559e-04\n",
       "10     slope    9.677715  1.865164e-03\n",
       "1        sex    7.721690  5.456131e-03\n",
       "12      thal    5.753030  1.646024e-02\n",
       "6    restecg    2.877743  8.981182e-02\n",
       "5        fbs    0.184946  6.671571e-01"
      ]
     },
     "execution_count": 30,
     "metadata": {},
     "output_type": "execute_result"
    }
   ],
   "source": [
    "df_score.sort_values(by='Chi2Score',ascending=False)\n",
    "\n",
    "### ascending=False is to put the too low P-values first.\n",
    "\n",
    "## those colums have the best contribution on predicting the target."
   ]
  },
  {
   "cell_type": "markdown",
   "id": "90000984-bc2c-4410-adc9-3d6b28516f64",
   "metadata": {},
   "source": [
    "### Let's print the top 80%"
   ]
  },
  {
   "cell_type": "code",
   "execution_count": 33,
   "id": "76ee08ae-f399-4954-aa7d-a2c3b3708b1a",
   "metadata": {},
   "outputs": [
    {
     "name": "stdout",
     "output_type": "stream",
     "text": [
      "[ 0  1  2  3  4  7  8  9 10 11]\n"
     ]
    }
   ],
   "source": [
    "print(cols)\n"
   ]
  },
  {
   "cell_type": "code",
   "execution_count": 34,
   "id": "3afd605b-7261-4135-81f7-3ddee8e6175b",
   "metadata": {},
   "outputs": [
    {
     "name": "stdout",
     "output_type": "stream",
     "text": [
      "Index(['age', 'sex', 'cp', 'trestbps', 'chol', 'thalach', 'exang', 'oldpeak',\n",
      "       'slope', 'ca'],\n",
      "      dtype='object')\n"
     ]
    }
   ],
   "source": [
    "print(features)"
   ]
  },
  {
   "cell_type": "code",
   "execution_count": null,
   "id": "96535d87-4728-4d53-aa82-5cd67fc23549",
   "metadata": {},
   "outputs": [],
   "source": []
  },
  {
   "cell_type": "code",
   "execution_count": 35,
   "id": "030563bf-5291-4243-bb86-6947dd097436",
   "metadata": {},
   "outputs": [],
   "source": [
    "## create subset of selected features\n",
    "X = df[features]\n",
    "Y = df.target"
   ]
  },
  {
   "cell_type": "code",
   "execution_count": null,
   "id": "772a767d-184a-4e54-96c4-020feb5d9179",
   "metadata": {},
   "outputs": [],
   "source": []
  },
  {
   "cell_type": "code",
   "execution_count": 38,
   "id": "99fa9253-99d4-4e90-b5a2-060ec332cf4d",
   "metadata": {},
   "outputs": [],
   "source": [
    "# import the libraries\n",
    "\n",
    "from sklearn.model_selection import train_test_split\n",
    "from sklearn.preprocessing import StandardScaler\n"
   ]
  },
  {
   "cell_type": "code",
   "execution_count": 47,
   "id": "2911431e-5f8b-44ef-a5c8-1e6d0b92f29a",
   "metadata": {},
   "outputs": [],
   "source": [
    "scaler = StandardScaler()\n",
    "x_scaler = scaler.fit_transform(X)\n",
    "x_train,x_test,y_train,y_test = train_test_split(x_scaler,Y,\n",
    "                                                 train_size=0.3,\n",
    "                                                 random_state=42)\n"
   ]
  },
  {
   "cell_type": "markdown",
   "id": "b7d44901-7aa2-4661-a93a-49111c8207c9",
   "metadata": {},
   "source": [
    "### __GrandientBoostingClassifier__"
   ]
  },
  {
   "cell_type": "code",
   "execution_count": 48,
   "id": "d7095928-9691-4be5-a63c-59a0d33d1c6e",
   "metadata": {},
   "outputs": [],
   "source": [
    "from sklearn.ensemble import GradientBoostingClassifier\n",
    "from sklearn.metrics import accuracy_score, confusion_matrix,classification_report\n"
   ]
  },
  {
   "cell_type": "code",
   "execution_count": 49,
   "id": "2b9d2a06-fedb-4213-a535-9aaa8ea516b4",
   "metadata": {},
   "outputs": [],
   "source": [
    "gbdt_clf = GradientBoostingClassifier()\n",
    "gbdt_clf.fit(x_train,y_train)\n",
    "pred1 = gbdt_clf.predict(x_train)\n"
   ]
  },
  {
   "cell_type": "code",
   "execution_count": 50,
   "id": "98b627b9-c68e-4c6a-9198-928a69d04b00",
   "metadata": {},
   "outputs": [
    {
     "name": "stdout",
     "output_type": "stream",
     "text": [
      "\n",
      "=============Train Result==============\n",
      "Accuracy Score:100.00%\n",
      "_____________________________________________\n",
      "CLASSIFICATION REPORT:\n",
      "              0     1  accuracy  macro avg  weighted avg\n",
      "precision   1.0   1.0       1.0        1.0           1.0\n",
      "recall      1.0   1.0       1.0        1.0           1.0\n",
      "f1-score    1.0   1.0       1.0        1.0           1.0\n",
      "support    40.0  50.0       1.0       90.0          90.0\n",
      "_____________________________________________\n",
      "Confusion Matrix:\n",
      "[[40  0]\n",
      " [ 0 50]]\n",
      "\n",
      "\n",
      "=============Test Result==============\n",
      "Accuracy Score:80.19%\n",
      "_____________________________________________\n",
      "CLASSIFICATION REPORT:\n",
      "                   0           1  accuracy   macro avg  weighted avg\n",
      "precision   0.769231    0.833333  0.801887    0.801282      0.803701\n",
      "recall      0.816327    0.789474  0.801887    0.802900      0.801887\n",
      "f1-score    0.792079    0.810811  0.801887    0.801445      0.802152\n",
      "support    98.000000  114.000000  0.801887  212.000000    212.000000\n",
      "_____________________________________________\n",
      "Confusion Matrix:\n",
      "[[80 18]\n",
      " [24 90]]\n",
      "\n"
     ]
    }
   ],
   "source": [
    "gbdt_clf_report = pd.DataFrame(classification_report(y_train,pred1,output_dict=True))\n",
    "\n",
    "print(\"\\n=============Train Result==============\")\n",
    "\n",
    "print(f\"Accuracy Score:{accuracy_score(y_train,pred1)*100:.2f}%\")\n",
    "print(\"_____________________________________________\")\n",
    "print(f\"CLASSIFICATION REPORT:\\n{gbdt_clf_report}\")\n",
    "print(\"_____________________________________________\")\n",
    "print(f\"Confusion Matrix:\\n{confusion_matrix(y_train,pred1)}\\n\")\n",
    "\n",
    "\n",
    "# ********************* Test Score ****************************\n",
    "\n",
    "pred2 = gbdt_clf.predict(x_test)\n",
    "clf_report = pd.DataFrame(classification_report(y_test,pred2,output_dict=True))\n",
    "print(\"\\n=============Test Result==============\")\n",
    "\n",
    "print(f\"Accuracy Score:{accuracy_score(y_test,pred2)*100:.2f}%\")\n",
    "print(\"_____________________________________________\")\n",
    "print(f\"CLASSIFICATION REPORT:\\n{clf_report}\")\n",
    "print(\"_____________________________________________\")\n",
    "print(f\"Confusion Matrix:\\n{confusion_matrix(y_test,pred2)}\\n\")\n",
    "\n"
   ]
  },
  {
   "cell_type": "code",
   "execution_count": null,
   "id": "aeca762e-dcbf-4c71-b619-79c4f95c9d59",
   "metadata": {},
   "outputs": [],
   "source": []
  },
  {
   "cell_type": "markdown",
   "id": "79e3feb8-6329-4212-a9bc-2b5eb35eae5c",
   "metadata": {},
   "source": [
    "#### Let's try if we can improve the performance of our model using Hyperparameter Tuning"
   ]
  },
  {
   "cell_type": "markdown",
   "id": "97b07e5c-1621-4dab-81f3-6f4b1cd0bdde",
   "metadata": {},
   "source": [
    "## __Hyperparameter Tuning__"
   ]
  },
  {
   "cell_type": "code",
   "execution_count": 51,
   "id": "b81b214d-51a5-480a-97b7-9a6dcf342a0a",
   "metadata": {},
   "outputs": [],
   "source": [
    "from sklearn.model_selection import GridSearchCV\n"
   ]
  },
  {
   "cell_type": "code",
   "execution_count": 60,
   "id": "8cf77462-4638-4f17-92c1-a1e7c662f19d",
   "metadata": {},
   "outputs": [],
   "source": [
    "grid_param = {\n",
    "    'max_depth':range(4,12,2),\n",
    "    'learning_rate':np.arange(0.1,1,1),\n",
    "    'min_samples_split':range(4,8,2)\n",
    "}"
   ]
  },
  {
   "cell_type": "code",
   "execution_count": 61,
   "id": "11c18003-7d98-4c01-9312-838b6d7fc654",
   "metadata": {},
   "outputs": [
    {
     "data": {
      "text/plain": [
       "GridSearchCV(estimator=GradientBoostingClassifier(learning_rate=0.01,\n",
       "                                                  max_depth=8,\n",
       "                                                  min_samples_split=6),\n",
       "             param_grid={'learning_rate': array([0.1]),\n",
       "                         'max_depth': range(4, 12, 2),\n",
       "                         'min_samples_split': range(4, 8, 2)})"
      ]
     },
     "execution_count": 61,
     "metadata": {},
     "output_type": "execute_result"
    }
   ],
   "source": [
    "grid = GridSearchCV(gbdt_clf,param_grid=grid_param)\n",
    "grid.fit(x_train, y_train)"
   ]
  },
  {
   "cell_type": "code",
   "execution_count": 62,
   "id": "f73cd03f-839b-4b91-9a96-011c6e5d28dd",
   "metadata": {},
   "outputs": [
    {
     "data": {
      "text/plain": [
       "{'learning_rate': 0.1, 'max_depth': 10, 'min_samples_split': 6}"
      ]
     },
     "execution_count": 62,
     "metadata": {},
     "output_type": "execute_result"
    }
   ],
   "source": [
    "grid.best_params_"
   ]
  },
  {
   "cell_type": "code",
   "execution_count": null,
   "id": "04978a11-4f39-4959-8492-52a814e06950",
   "metadata": {},
   "outputs": [],
   "source": []
  },
  {
   "cell_type": "code",
   "execution_count": 63,
   "id": "96ea8e64-14f1-4827-8c36-eb0d43fb35fe",
   "metadata": {},
   "outputs": [
    {
     "name": "stdout",
     "output_type": "stream",
     "text": [
      "\n",
      "=============Train Result==============\n",
      "Accuracy Score:100.00%\n",
      "_____________________________________________\n",
      "CLASSIFICATION REPORT:\n",
      "              0     1  accuracy  macro avg  weighted avg\n",
      "precision   1.0   1.0       1.0        1.0           1.0\n",
      "recall      1.0   1.0       1.0        1.0           1.0\n",
      "f1-score    1.0   1.0       1.0        1.0           1.0\n",
      "support    40.0  50.0       1.0       90.0          90.0\n",
      "_____________________________________________\n",
      "Confusion Matrix:\n",
      "[[40  0]\n",
      " [ 0 50]]\n",
      "\n",
      "\n",
      "=============Test Result==============\n",
      "Accuracy Score:75.94%\n",
      "_____________________________________________\n",
      "CLASSIFICATION REPORT:\n",
      "                   0           1  accuracy   macro avg  weighted avg\n",
      "precision   0.737374    0.778761  0.759434    0.758067      0.759629\n",
      "recall      0.744898    0.771930  0.759434    0.758414      0.759434\n",
      "f1-score    0.741117    0.775330  0.759434    0.758224      0.759515\n",
      "support    98.000000  114.000000  0.759434  212.000000    212.000000\n",
      "_____________________________________________\n",
      "Confusion Matrix:\n",
      "[[73 25]\n",
      " [26 88]]\n",
      "\n"
     ]
    }
   ],
   "source": [
    "gbdt_clf = GradientBoostingClassifier(max_depth=10,min_samples_split=6,\n",
    "   \n",
    "                                      learning_rate=0.1)\n",
    "\n",
    "gbdt_clf.fit(x_train,y_train)\n",
    "pred1 = gbdt_clf.predict(x_train)\n",
    "gbdt_clf_report = pd.DataFrame(classification_report(\n",
    "    y_train,pred1,output_dict=True))\n",
    "\n",
    "\n",
    "print(\"\\n=============Train Result==============\")\n",
    "\n",
    "print(f\"Accuracy Score:{accuracy_score(y_train,pred1)*100:.2f}%\")\n",
    "print(\"_____________________________________________\")\n",
    "print(f\"CLASSIFICATION REPORT:\\n{gbdt_clf_report}\")\n",
    "print(\"_____________________________________________\")\n",
    "print(f\"Confusion Matrix:\\n{confusion_matrix(y_train,pred1)}\\n\")\n",
    "\n",
    "\n",
    "# ********************* Test Score ****************************\n",
    "\n",
    "pred2 = gbdt_clf.predict(x_test)\n",
    "clf_report = pd.DataFrame(classification_report(y_test,pred2,output_dict=True))\n",
    "print(\"\\n=============Test Result==============\")\n",
    "\n",
    "print(f\"Accuracy Score:{accuracy_score(y_test,pred2)*100:.2f}%\")\n",
    "print(\"_____________________________________________\")\n",
    "print(f\"CLASSIFICATION REPORT:\\n{clf_report}\")\n",
    "print(\"_____________________________________________\")\n",
    "print(f\"Confusion Matrix:\\n{confusion_matrix(y_test,pred2)}\\n\")\n",
    "\n",
    "\n"
   ]
  },
  {
   "cell_type": "code",
   "execution_count": 1,
   "id": "2cd183f2-82b3-4aa5-a59f-07f9762b0dcd",
   "metadata": {},
   "outputs": [
    {
     "data": {
      "text/plain": [
       "'/Users/olivierla412/projects/DataTrained_live_classes/ML_live_classes/Ensemble/Boosting'"
      ]
     },
     "execution_count": 1,
     "metadata": {},
     "output_type": "execute_result"
    }
   ],
   "source": [
    "pwd"
   ]
  },
  {
   "cell_type": "code",
   "execution_count": null,
   "id": "c081e3a5-44d3-419f-ac93-cec34b7d7669",
   "metadata": {},
   "outputs": [],
   "source": []
  }
 ],
 "metadata": {
  "kernelspec": {
   "display_name": "Python 3",
   "language": "python",
   "name": "python3"
  },
  "language_info": {
   "codemirror_mode": {
    "name": "ipython",
    "version": 3
   },
   "file_extension": ".py",
   "mimetype": "text/x-python",
   "name": "python",
   "nbconvert_exporter": "python",
   "pygments_lexer": "ipython3",
   "version": "3.8.2"
  }
 },
 "nbformat": 4,
 "nbformat_minor": 5
}
