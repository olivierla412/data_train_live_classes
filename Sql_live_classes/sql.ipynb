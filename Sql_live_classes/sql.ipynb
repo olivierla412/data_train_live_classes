{
 "cells": [
  {
   "cell_type": "code",
   "execution_count": 15,
   "metadata": {},
   "outputs": [],
   "source": [
    "import os\n",
    "import mysql.connector\n",
    "import pandas as pd\n",
    "import numpy as np\n",
    "import matplotlib.pyplot as plt\n",
    "import seaborn as sns\n",
    "%matplotlib inline"
   ]
  },
  {
   "cell_type": "code",
   "execution_count": 2,
   "metadata": {},
   "outputs": [],
   "source": [
    "my_db = mysql.connector.connect(\n",
    "host = 'localhost',\n",
    "user = 'root',\n",
    "password = 'Assie@225',\n",
    "db = 'girrafe' \n",
    ")"
   ]
  },
  {
   "cell_type": "code",
   "execution_count": 3,
   "metadata": {},
   "outputs": [
    {
     "data": {
      "text/plain": [
       "<mysql.connector.connection_cext.CMySQLConnection at 0x7ff9ef01ef40>"
      ]
     },
     "execution_count": 3,
     "metadata": {},
     "output_type": "execute_result"
    }
   ],
   "source": [
    "my_db"
   ]
  },
  {
   "cell_type": "code",
   "execution_count": 4,
   "metadata": {},
   "outputs": [],
   "source": [
    "data_tables = pd.read_sql_query('SHOW TABLES FROM girrafe',my_db)"
   ]
  },
  {
   "cell_type": "code",
   "execution_count": 5,
   "metadata": {},
   "outputs": [
    {
     "data": {
      "text/html": [
       "<div>\n",
       "<style scoped>\n",
       "    .dataframe tbody tr th:only-of-type {\n",
       "        vertical-align: middle;\n",
       "    }\n",
       "\n",
       "    .dataframe tbody tr th {\n",
       "        vertical-align: top;\n",
       "    }\n",
       "\n",
       "    .dataframe thead th {\n",
       "        text-align: right;\n",
       "    }\n",
       "</style>\n",
       "<table border=\"1\" class=\"dataframe\">\n",
       "  <thead>\n",
       "    <tr style=\"text-align: right;\">\n",
       "      <th></th>\n",
       "      <th>Tables_in_girrafe</th>\n",
       "    </tr>\n",
       "  </thead>\n",
       "  <tbody>\n",
       "    <tr>\n",
       "      <th>0</th>\n",
       "      <td>branch</td>\n",
       "    </tr>\n",
       "    <tr>\n",
       "      <th>1</th>\n",
       "      <td>branch_supplier</td>\n",
       "    </tr>\n",
       "    <tr>\n",
       "      <th>2</th>\n",
       "      <td>client</td>\n",
       "    </tr>\n",
       "    <tr>\n",
       "      <th>3</th>\n",
       "      <td>Employee</td>\n",
       "    </tr>\n",
       "    <tr>\n",
       "      <th>4</th>\n",
       "      <td>trigger_test</td>\n",
       "    </tr>\n",
       "    <tr>\n",
       "      <th>5</th>\n",
       "      <td>work_with</td>\n",
       "    </tr>\n",
       "  </tbody>\n",
       "</table>\n",
       "</div>"
      ],
      "text/plain": [
       "  Tables_in_girrafe\n",
       "0            branch\n",
       "1   branch_supplier\n",
       "2            client\n",
       "3          Employee\n",
       "4      trigger_test\n",
       "5         work_with"
      ]
     },
     "execution_count": 5,
     "metadata": {},
     "output_type": "execute_result"
    }
   ],
   "source": [
    "data_tables"
   ]
  },
  {
   "cell_type": "code",
   "execution_count": null,
   "metadata": {},
   "outputs": [],
   "source": []
  },
  {
   "cell_type": "code",
   "execution_count": 6,
   "metadata": {},
   "outputs": [],
   "source": [
    "serie_tables = data_tables['Tables_in_girrafe'] "
   ]
  },
  {
   "cell_type": "code",
   "execution_count": 7,
   "metadata": {},
   "outputs": [
    {
     "name": "stdout",
     "output_type": "stream",
     "text": [
      "branch\n",
      "            Field            Type Null  Key Default Extra\n",
      "0       branch_id          b'int'   NO  PRI    None      \n",
      "1     branch_name  b'varchar(40)'  YES         None      \n",
      "2          mgr_id          b'int'  YES  MUL    None      \n",
      "3  mgr_start_date         b'date'  YES         None       \n",
      "\n",
      "branch_supplier\n",
      "           Field            Type Null  Key Default Extra\n",
      "0      branch_id          b'int'   NO  PRI    None      \n",
      "1  supplier_name  b'varchar(40)'   NO  PRI    None      \n",
      "2    supply_type  b'varchar(40)'  YES         None       \n",
      "\n",
      "client\n",
      "         Field            Type Null  Key Default Extra\n",
      "0    client_id          b'int'   NO  PRI    None      \n",
      "1  client_name  b'varchar(40)'  YES         None      \n",
      "2    branch_id          b'int'  YES  MUL    None       \n",
      "\n",
      "Employee\n",
      "        Field            Type Null  Key Default Extra\n",
      "0      emp_id          b'int'   NO  PRI    None      \n",
      "1  first_name  b'varchar(40)'  YES         None      \n",
      "2   last_name  b'varchar(40)'  YES         None      \n",
      "3  birth_date         b'date'  YES         None      \n",
      "4         sex   b'varchar(1)'  YES         None      \n",
      "5      salary          b'int'  YES         None      \n",
      "6    super_id          b'int'  YES  MUL    None      \n",
      "7   branch_id          b'int'  YES  MUL    None       \n",
      "\n",
      "trigger_test\n",
      "     Field             Type Null Key Default Extra\n",
      "0  message  b'varchar(100)'  YES        None       \n",
      "\n",
      "work_with\n",
      "         Field    Type Null  Key Default Extra\n",
      "0       emp_id  b'int'   NO  PRI    None      \n",
      "1    client_id  b'int'   NO  PRI    None      \n",
      "2  total_sales  b'int'  YES         None       \n",
      "\n"
     ]
    }
   ],
   "source": [
    "for table in serie_tables:\n",
    "    output = pd.read_sql_query('DESCRIBE {}'.format(table), my_db)\n",
    "    print(table)\n",
    "    print(output,'\\n')\n",
    "    "
   ]
  },
  {
   "cell_type": "code",
   "execution_count": 8,
   "metadata": {},
   "outputs": [],
   "source": [
    "db = mysql.connector.connect(\n",
    "host = 'localhost',\n",
    "user = 'root',\n",
    "password = 'Assie@225'\n",
    ")"
   ]
  },
  {
   "cell_type": "code",
   "execution_count": 9,
   "metadata": {},
   "outputs": [
    {
     "data": {
      "text/plain": [
       "<mysql.connector.connection_cext.CMySQLConnection at 0x7ff9f2544670>"
      ]
     },
     "execution_count": 9,
     "metadata": {},
     "output_type": "execute_result"
    }
   ],
   "source": [
    "db"
   ]
  },
  {
   "cell_type": "markdown",
   "metadata": {},
   "source": [
    "# Check Databases\n",
    "\n",
    "# Step1"
   ]
  },
  {
   "cell_type": "code",
   "execution_count": 10,
   "metadata": {},
   "outputs": [],
   "source": [
    "\n",
    "# Create a pointer called cursor\n",
    "\n",
    "my_cursor = db.cursor()"
   ]
  },
  {
   "cell_type": "code",
   "execution_count": 11,
   "metadata": {},
   "outputs": [],
   "source": [
    "my_cursor.execute('SHOW DATABASES')"
   ]
  },
  {
   "cell_type": "code",
   "execution_count": 12,
   "metadata": {},
   "outputs": [
    {
     "name": "stdout",
     "output_type": "stream",
     "text": [
      "('database1',)\n",
      "('girrafe',)\n",
      "('information_schema',)\n",
      "('mysql',)\n",
      "('performance_schema',)\n",
      "('sys',)\n"
     ]
    }
   ],
   "source": [
    "for x in my_cursor:\n",
    "    print(x)"
   ]
  },
  {
   "cell_type": "markdown",
   "metadata": {},
   "source": [
    "# Step2\n",
    "### how to create a __DATABASE__?"
   ]
  },
  {
   "cell_type": "code",
   "execution_count": 13,
   "metadata": {},
   "outputs": [],
   "source": [
    "## After the connection\n",
    "\n",
    "my_cursor = db.cursor()"
   ]
  },
  {
   "cell_type": "code",
   "execution_count": null,
   "metadata": {},
   "outputs": [],
   "source": [
    "my_cursor.execute('CREATE DATABASE database1')"
   ]
  },
  {
   "cell_type": "code",
   "execution_count": null,
   "metadata": {},
   "outputs": [],
   "source": [
    "my_cursor.execute('SHOW DATABASES')"
   ]
  },
  {
   "cell_type": "code",
   "execution_count": null,
   "metadata": {},
   "outputs": [],
   "source": [
    "for x in my_cursor:\n",
    "    print(x)"
   ]
  },
  {
   "cell_type": "markdown",
   "metadata": {},
   "source": [
    "# Step3 \n",
    "\n",
    "### How to create a __TABLE__ ?"
   ]
  },
  {
   "cell_type": "code",
   "execution_count": 16,
   "metadata": {},
   "outputs": [],
   "source": [
    "# How to create table. Mention the database where you want create table inside\n",
    "\n",
    "db = mysql.connector.connect(\n",
    "host = 'localhost',\n",
    "user = 'root',\n",
    "password = 'Assie@225',\n",
    "database = 'database1'    \n",
    ")"
   ]
  },
  {
   "cell_type": "code",
   "execution_count": 17,
   "metadata": {},
   "outputs": [],
   "source": [
    "my_cursor = db.cursor() "
   ]
  },
  {
   "cell_type": "code",
   "execution_count": null,
   "metadata": {},
   "outputs": [],
   "source": [
    "my_cursor.execute(\n",
    "    'CREATE TABLE marks(gender VARCHAR(6), student_id INT(10),marks INT(3))')"
   ]
  },
  {
   "cell_type": "code",
   "execution_count": 18,
   "metadata": {},
   "outputs": [],
   "source": [
    "my_cursor.execute('SHOW TABLES')"
   ]
  },
  {
   "cell_type": "code",
   "execution_count": 19,
   "metadata": {},
   "outputs": [
    {
     "name": "stdout",
     "output_type": "stream",
     "text": [
      "('marks',)\n"
     ]
    }
   ],
   "source": [
    "for x in my_cursor:\n",
    "    print(x)"
   ]
  },
  {
   "cell_type": "markdown",
   "metadata": {},
   "source": [
    "# Step4\n",
    "\n",
    "\n",
    "### How to insert records into the table __(1)__\n",
    "\n",
    "#### __Single__ record insertion.\n"
   ]
  },
  {
   "cell_type": "code",
   "execution_count": null,
   "metadata": {},
   "outputs": [],
   "source": [
    " sql = \"INSERT INTO marks (gender,student_id,marks) VALUES('female',200,67)\""
   ]
  },
  {
   "cell_type": "code",
   "execution_count": null,
   "metadata": {},
   "outputs": [],
   "source": [
    "my_cursor.execute(sql)\n",
    "db.commit()"
   ]
  },
  {
   "cell_type": "code",
   "execution_count": null,
   "metadata": {},
   "outputs": [],
   "source": [
    "print(my_cursor.rowcount,'record inserted')"
   ]
  },
  {
   "cell_type": "markdown",
   "metadata": {},
   "source": [
    "### __Multiple__ record insertion __(2)__"
   ]
  },
  {
   "cell_type": "code",
   "execution_count": null,
   "metadata": {},
   "outputs": [],
   "source": [
    " sql = \"INSERT INTO marks (gender,student_id,marks) VALUES('female',201,70),('male',202,65),('female',203,77),('female',204,66)\""
   ]
  },
  {
   "cell_type": "code",
   "execution_count": null,
   "metadata": {},
   "outputs": [],
   "source": [
    "my_cursor.execute(sql)\n",
    "db.commit()"
   ]
  },
  {
   "cell_type": "code",
   "execution_count": null,
   "metadata": {},
   "outputs": [],
   "source": [
    "print(my_cursor.rowcount,'record inserted')"
   ]
  },
  {
   "cell_type": "code",
   "execution_count": null,
   "metadata": {},
   "outputs": [],
   "source": [
    "ls\n"
   ]
  },
  {
   "cell_type": "code",
   "execution_count": null,
   "metadata": {},
   "outputs": [],
   "source": [
    "today_data = pd.read_csv('sql_data.csv')"
   ]
  },
  {
   "cell_type": "code",
   "execution_count": null,
   "metadata": {},
   "outputs": [],
   "source": [
    "today_data.head()"
   ]
  },
  {
   "cell_type": "markdown",
   "metadata": {},
   "source": [
    "### __Multiple__ record insertion __(2.1)__\n",
    "\n",
    "### Another to insert multiple records\n",
    "## Using __executemany(a, b)__ take two arguments"
   ]
  },
  {
   "cell_type": "code",
   "execution_count": null,
   "metadata": {},
   "outputs": [],
   "source": [
    "sql = \"INSERT INTO marks (gender,student_id,marks) VALUES(%s, %s, %s)\"\n",
    "## number of columns must be equal to number %s  "
   ]
  },
  {
   "cell_type": "code",
   "execution_count": null,
   "metadata": {},
   "outputs": [],
   "source": [
    "value = (('male',205,55),('male',206,59),('male',207,80))"
   ]
  },
  {
   "cell_type": "code",
   "execution_count": null,
   "metadata": {},
   "outputs": [],
   "source": [
    "my_cursor.executemany(sql, value)\n",
    "db.commit()"
   ]
  },
  {
   "cell_type": "code",
   "execution_count": null,
   "metadata": {},
   "outputs": [],
   "source": [
    "print(my_cursor.rowcount, 'row inserted')"
   ]
  },
  {
   "cell_type": "code",
   "execution_count": 21,
   "metadata": {},
   "outputs": [],
   "source": [
    "my_cursor.execute('SELECT * FROM marks')"
   ]
  },
  {
   "cell_type": "code",
   "execution_count": 22,
   "metadata": {},
   "outputs": [],
   "source": [
    "my_result = my_cursor.fetchall()"
   ]
  },
  {
   "cell_type": "code",
   "execution_count": 23,
   "metadata": {},
   "outputs": [
    {
     "name": "stdout",
     "output_type": "stream",
     "text": [
      "('male', 100, 50)\n",
      "('female', 200, 67)\n",
      "('female', 201, 70)\n",
      "('male', 202, 65)\n",
      "('female', 203, 77)\n",
      "('female', 204, 66)\n",
      "('male', 205, 55)\n",
      "('male', 206, 59)\n",
      "('male', 207, 80)\n"
     ]
    }
   ],
   "source": [
    "for x in my_result:\n",
    "    print(x)"
   ]
  },
  {
   "cell_type": "code",
   "execution_count": 24,
   "metadata": {},
   "outputs": [],
   "source": [
    "sql1 = \"SELECT * FROM marks ORDER BY marks ASC\""
   ]
  },
  {
   "cell_type": "code",
   "execution_count": 25,
   "metadata": {},
   "outputs": [],
   "source": [
    "my_cursor.execute(sql1)"
   ]
  },
  {
   "cell_type": "code",
   "execution_count": 42,
   "metadata": {},
   "outputs": [],
   "source": [
    "resultt = my_cursor.fetchall()"
   ]
  },
  {
   "cell_type": "code",
   "execution_count": 44,
   "metadata": {},
   "outputs": [],
   "source": [
    "for xx in resultt :\n",
    "    print(xx)"
   ]
  },
  {
   "cell_type": "code",
   "execution_count": 31,
   "metadata": {},
   "outputs": [],
   "source": [
    "command = \"UPDATE marks SET marks = 100 WHERE student_id = 100\""
   ]
  },
  {
   "cell_type": "code",
   "execution_count": 32,
   "metadata": {},
   "outputs": [],
   "source": [
    "my_cursor.execute(command)\n",
    "db.commit()"
   ]
  },
  {
   "cell_type": "code",
   "execution_count": 45,
   "metadata": {},
   "outputs": [
    {
     "name": "stdout",
     "output_type": "stream",
     "text": [
      "1 rows affected\n"
     ]
    }
   ],
   "source": [
    "print(my_cursor.rowcount,'rows affected')"
   ]
  },
  {
   "cell_type": "code",
   "execution_count": 46,
   "metadata": {},
   "outputs": [],
   "source": [
    "resultt = my_cursor.fetchall()"
   ]
  },
  {
   "cell_type": "code",
   "execution_count": 47,
   "metadata": {},
   "outputs": [],
   "source": [
    "for x in resultt :\n",
    "    print(x)"
   ]
  },
  {
   "cell_type": "code",
   "execution_count": 52,
   "metadata": {},
   "outputs": [],
   "source": [
    "db = mysql.connector.connect(\n",
    "host = 'localhost',\n",
    "user = 'root',\n",
    "password = 'Assie@225',\n",
    "    \n",
    ")"
   ]
  },
  {
   "cell_type": "code",
   "execution_count": 53,
   "metadata": {},
   "outputs": [],
   "source": [
    "my_cursor = db.cursor()"
   ]
  },
  {
   "cell_type": "code",
   "execution_count": 50,
   "metadata": {},
   "outputs": [],
   "source": [
    "sql = 'DROP database database1'"
   ]
  },
  {
   "cell_type": "code",
   "execution_count": 51,
   "metadata": {},
   "outputs": [],
   "source": [
    "drop = my_cursor.execute(sql)"
   ]
  },
  {
   "cell_type": "code",
   "execution_count": 54,
   "metadata": {},
   "outputs": [],
   "source": [
    "my_cursor.execute('SHOW databases')"
   ]
  },
  {
   "cell_type": "code",
   "execution_count": 55,
   "metadata": {},
   "outputs": [
    {
     "name": "stdout",
     "output_type": "stream",
     "text": [
      "('girrafe',)\n",
      "('information_schema',)\n",
      "('mysql',)\n",
      "('performance_schema',)\n",
      "('sys',)\n"
     ]
    }
   ],
   "source": [
    "for x in my_cursor :\n",
    "    print(x)\n",
    "    "
   ]
  },
  {
   "cell_type": "markdown",
   "metadata": {},
   "source": [
    "# Referential  integrity in __sql__\n",
    "### __primary key__ and __foreign key__\n",
    "\n",
    "### the relation is  between __parent_table__ and __chil_table__"
   ]
  },
  {
   "cell_type": "code",
   "execution_count": 56,
   "metadata": {},
   "outputs": [],
   "source": [
    "my_cursor.execute('CREATE DATABASE database1')"
   ]
  },
  {
   "cell_type": "code",
   "execution_count": 62,
   "metadata": {},
   "outputs": [],
   "source": [
    "db = mysql.connector.connect(\n",
    "host = 'localhost',\n",
    "user = 'root',\n",
    "password = 'Assie@225',\n",
    "database = 'girrafe'    \n",
    ")"
   ]
  },
  {
   "cell_type": "code",
   "execution_count": 63,
   "metadata": {},
   "outputs": [],
   "source": [
    "my_cursor = db.cursor()"
   ]
  },
  {
   "cell_type": "code",
   "execution_count": 59,
   "metadata": {},
   "outputs": [],
   "source": [
    "my_cursor.execute(\n",
    "    'CREATE TABLE marks(gender VARCHAR(6), student_id INT(10),marks INT(3))')"
   ]
  },
  {
   "cell_type": "code",
   "execution_count": 64,
   "metadata": {},
   "outputs": [],
   "source": [
    "my_cursor.execute('SHOW TABLES')"
   ]
  },
  {
   "cell_type": "code",
   "execution_count": 65,
   "metadata": {},
   "outputs": [
    {
     "name": "stdout",
     "output_type": "stream",
     "text": [
      "('branch',)\n",
      "('branch_supplier',)\n",
      "('client',)\n",
      "('Employee',)\n",
      "('trigger_test',)\n",
      "('work_with',)\n"
     ]
    }
   ],
   "source": [
    "for x in my_cursor :\n",
    "    print(x)"
   ]
  },
  {
   "cell_type": "code",
   "execution_count": 66,
   "metadata": {},
   "outputs": [],
   "source": [
    "my_cursor.execute(\"SELECT *FROM Employee\")"
   ]
  },
  {
   "cell_type": "code",
   "execution_count": 67,
   "metadata": {},
   "outputs": [
    {
     "name": "stdout",
     "output_type": "stream",
     "text": [
      "(100, 'David', 'wallace', datetime.date(1967, 11, 17), 'M', 250000, None, 1)\n",
      "(101, 'Jan', 'Levison', datetime.date(1961, 5, 11), 'F', 110000, 100, 1)\n",
      "(103, 'Angela', 'Martin', datetime.date(1971, 6, 25), 'F', 63000, None, 2)\n",
      "(104, 'Kelly', 'Kapoor', datetime.date(1980, 2, 5), 'F', 55000, None, 2)\n",
      "(105, 'Stanley', 'Hudson', datetime.date(1958, 2, 19), 'M', 69000, None, 2)\n",
      "(106, 'Josh', 'Porter', datetime.date(1969, 9, 5), 'M', 78000, 100, 3)\n",
      "(107, 'Andy', 'Bernard', datetime.date(1973, 7, 22), 'M', 65000, 106, 3)\n",
      "(108, 'Jim', 'Halpert', datetime.date(1978, 10, 1), 'M', 71000, 106, 3)\n",
      "(109, 'Oscar', 'Martinez', datetime.date(1968, 2, 19), 'M', 69000, 106, 3)\n",
      "(110, 'Oliver', 'Assie', datetime.date(1997, 11, 18), 'M', 250000, 106, 3)\n",
      "(111, 'Jackson', 'Brou', datetime.date(1995, 11, 11), 'M', 250000, 106, 2)\n",
      "(112, 'Yao', 'One love', datetime.date(1986, 11, 11), 'M', 255000, 106, 3)\n",
      "(113, 'Aya', 'One love', datetime.date(1994, 11, 11), 'F', 255000, 106, 3)\n",
      "(114, 'Sanogo', 'One love', datetime.date(1999, 5, 11), 'F', 255000, 106, 2)\n"
     ]
    }
   ],
   "source": [
    "for x in my_cursor :\n",
    "    print(x)"
   ]
  },
  {
   "cell_type": "code",
   "execution_count": 68,
   "metadata": {},
   "outputs": [],
   "source": [
    "my_cursor.execute(\"SELECT *FROM branch\")"
   ]
  },
  {
   "cell_type": "code",
   "execution_count": 69,
   "metadata": {},
   "outputs": [
    {
     "name": "stdout",
     "output_type": "stream",
     "text": [
      "(1, 'Coporate', 100, datetime.date(2006, 2, 9))\n",
      "(2, 'Scanton', None, datetime.date(1992, 4, 6))\n",
      "(3, 'Stamford', 106, datetime.date(1998, 2, 13))\n",
      "(4, 'Buffalo', None, None)\n"
     ]
    }
   ],
   "source": [
    "for x in my_cursor :\n",
    "    print(x)"
   ]
  },
  {
   "cell_type": "code",
   "execution_count": 70,
   "metadata": {},
   "outputs": [],
   "source": [
    "sql = \"SELECT branch.mgr_id, branch_name,Employee.emp_id, first_name From branch INNER JOIN Employee ON branch.mgr_id = Employee.emp_id\""
   ]
  },
  {
   "cell_type": "code",
   "execution_count": 71,
   "metadata": {},
   "outputs": [],
   "source": [
    "my_cursor.execute(sql)"
   ]
  },
  {
   "cell_type": "code",
   "execution_count": 72,
   "metadata": {},
   "outputs": [],
   "source": [
    "results = my_cursor.fetchall() "
   ]
  },
  {
   "cell_type": "code",
   "execution_count": 73,
   "metadata": {},
   "outputs": [
    {
     "name": "stdout",
     "output_type": "stream",
     "text": [
      "(100, 'Coporate', 100, 'David')\n",
      "(106, 'Stamford', 106, 'Josh')\n"
     ]
    }
   ],
   "source": [
    "for x in results:\n",
    "    print(x)"
   ]
  },
  {
   "cell_type": "code",
   "execution_count": null,
   "metadata": {},
   "outputs": [],
   "source": []
  }
 ],
 "metadata": {
  "kernelspec": {
   "display_name": "Python 3",
   "language": "python",
   "name": "python3"
  },
  "language_info": {
   "codemirror_mode": {
    "name": "ipython",
    "version": 3
   },
   "file_extension": ".py",
   "mimetype": "text/x-python",
   "name": "python",
   "nbconvert_exporter": "python",
   "pygments_lexer": "ipython3",
   "version": "3.8.5"
  }
 },
 "nbformat": 4,
 "nbformat_minor": 4
}
