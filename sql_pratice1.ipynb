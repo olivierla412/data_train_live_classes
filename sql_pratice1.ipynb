{
 "cells": [
  {
   "cell_type": "markdown",
   "metadata": {},
   "source": [
    "# How to do the connection with your __SQL__ ?"
   ]
  },
  {
   "cell_type": "code",
   "execution_count": 1,
   "metadata": {},
   "outputs": [],
   "source": [
    "import mysql.connector as conn"
   ]
  },
  {
   "cell_type": "code",
   "execution_count": 8,
   "metadata": {},
   "outputs": [],
   "source": [
    "db = conn.connect(\n",
    "host = 'localhost',\n",
    "user = 'root',\n",
    "password = 'Assie@225'\n",
    ")"
   ]
  },
  {
   "cell_type": "code",
   "execution_count": 3,
   "metadata": {},
   "outputs": [],
   "source": [
    "my_cursor = db.cursor()"
   ]
  },
  {
   "cell_type": "code",
   "execution_count": 4,
   "metadata": {},
   "outputs": [],
   "source": [
    "my_cursor.execute(\"CREATE DATABASE sales\")"
   ]
  },
  {
   "cell_type": "code",
   "execution_count": 5,
   "metadata": {},
   "outputs": [],
   "source": [
    "my_cursor.execute('SHOW DATABASES')"
   ]
  },
  {
   "cell_type": "code",
   "execution_count": 6,
   "metadata": {},
   "outputs": [
    {
     "name": "stdout",
     "output_type": "stream",
     "text": [
      "('database1',)\n",
      "('girrafe',)\n",
      "('information_schema',)\n",
      "('mysql',)\n",
      "('performance_schema',)\n",
      "('sales',)\n",
      "('sys',)\n"
     ]
    }
   ],
   "source": [
    "for x in my_cursor:\n",
    "    print(x)"
   ]
  },
  {
   "cell_type": "code",
   "execution_count": 7,
   "metadata": {},
   "outputs": [],
   "source": [
    "db.commit()"
   ]
  },
  {
   "cell_type": "markdown",
   "metadata": {},
   "source": [
    "## How to connect to any of your __databases__ ?"
   ]
  },
  {
   "cell_type": "code",
   "execution_count": 42,
   "metadata": {},
   "outputs": [],
   "source": [
    "db = conn.connect(\n",
    "host ='localhost',\n",
    "user = 'root',\n",
    "password = 'Assie@225',\n",
    "database ='girrafe'    \n",
    ")"
   ]
  },
  {
   "cell_type": "code",
   "execution_count": 11,
   "metadata": {},
   "outputs": [],
   "source": [
    "new_cusor = db.cursor()"
   ]
  },
  {
   "cell_type": "code",
   "execution_count": 36,
   "metadata": {},
   "outputs": [],
   "source": [
    "new_cusor.execute('SELECT *FROM Employee')"
   ]
  },
  {
   "cell_type": "code",
   "execution_count": 37,
   "metadata": {},
   "outputs": [
    {
     "name": "stdout",
     "output_type": "stream",
     "text": [
      "(100, 'David', 'wallace', datetime.date(1967, 11, 17), 'M', 250000, None, 1)\n",
      "(101, 'Jan', 'Levison', datetime.date(1961, 5, 11), 'F', 110000, 100, 1)\n",
      "(103, 'Angela', 'Martin', datetime.date(1971, 6, 25), 'F', 63000, None, 2)\n",
      "(104, 'Kelly', 'Kapoor', datetime.date(1980, 2, 5), 'F', 55000, None, 2)\n",
      "(105, 'Stanley', 'Hudson', datetime.date(1958, 2, 19), 'M', 69000, None, 2)\n",
      "(106, 'Josh', 'Porter', datetime.date(1969, 9, 5), 'M', 78000, 100, 3)\n",
      "(107, 'Andy', 'Bernard', datetime.date(1973, 7, 22), 'M', 65000, 106, 3)\n",
      "(108, 'Jim', 'Halpert', datetime.date(1978, 10, 1), 'M', 71000, 106, 3)\n",
      "(109, 'Oscar', 'Martinez', datetime.date(1968, 2, 19), 'M', 69000, 106, 3)\n",
      "(110, 'Oliver', 'Assie', datetime.date(1997, 11, 18), 'M', 250000, 106, 3)\n",
      "(111, 'Jackson', 'Brou', datetime.date(1995, 11, 11), 'M', 250000, 106, 2)\n",
      "(112, 'Yao', 'One love', datetime.date(1986, 11, 11), 'M', 255000, 106, 3)\n",
      "(113, 'Aya', 'One love', datetime.date(1994, 11, 11), 'F', 255000, 106, 3)\n",
      "(114, 'Sanogo', 'One love', datetime.date(1999, 5, 11), 'F', 255000, 106, 2)\n"
     ]
    }
   ],
   "source": [
    "for x in new_cusor :\n",
    "    print(x)"
   ]
  },
  {
   "cell_type": "markdown",
   "metadata": {},
   "source": [
    "# How to import data from __MySQL__ ?"
   ]
  },
  {
   "cell_type": "code",
   "execution_count": 45,
   "metadata": {},
   "outputs": [],
   "source": [
    "import pandas as pd\n",
    "import numpy as np \n",
    "import mysql.connector as conn\n"
   ]
  },
  {
   "cell_type": "code",
   "execution_count": 46,
   "metadata": {},
   "outputs": [],
   "source": [
    "\n",
    "db = conn.connect(\n",
    "host ='localhost',\n",
    "user = 'root',\n",
    "password = 'Assie@225',\n",
    "database ='girrafe'    \n",
    ")"
   ]
  },
  {
   "cell_type": "code",
   "execution_count": 43,
   "metadata": {},
   "outputs": [],
   "source": [
    "data = pd.read_sql_query('SELECT *FROM Employee',db)"
   ]
  },
  {
   "cell_type": "code",
   "execution_count": 44,
   "metadata": {},
   "outputs": [
    {
     "data": {
      "text/html": [
       "<div>\n",
       "<style scoped>\n",
       "    .dataframe tbody tr th:only-of-type {\n",
       "        vertical-align: middle;\n",
       "    }\n",
       "\n",
       "    .dataframe tbody tr th {\n",
       "        vertical-align: top;\n",
       "    }\n",
       "\n",
       "    .dataframe thead th {\n",
       "        text-align: right;\n",
       "    }\n",
       "</style>\n",
       "<table border=\"1\" class=\"dataframe\">\n",
       "  <thead>\n",
       "    <tr style=\"text-align: right;\">\n",
       "      <th></th>\n",
       "      <th>emp_id</th>\n",
       "      <th>first_name</th>\n",
       "      <th>last_name</th>\n",
       "      <th>birth_date</th>\n",
       "      <th>sex</th>\n",
       "      <th>salary</th>\n",
       "      <th>super_id</th>\n",
       "      <th>branch_id</th>\n",
       "    </tr>\n",
       "  </thead>\n",
       "  <tbody>\n",
       "    <tr>\n",
       "      <th>0</th>\n",
       "      <td>100</td>\n",
       "      <td>David</td>\n",
       "      <td>wallace</td>\n",
       "      <td>1967-11-17</td>\n",
       "      <td>M</td>\n",
       "      <td>250000</td>\n",
       "      <td>NaN</td>\n",
       "      <td>1</td>\n",
       "    </tr>\n",
       "    <tr>\n",
       "      <th>1</th>\n",
       "      <td>101</td>\n",
       "      <td>Jan</td>\n",
       "      <td>Levison</td>\n",
       "      <td>1961-05-11</td>\n",
       "      <td>F</td>\n",
       "      <td>110000</td>\n",
       "      <td>100.0</td>\n",
       "      <td>1</td>\n",
       "    </tr>\n",
       "    <tr>\n",
       "      <th>2</th>\n",
       "      <td>103</td>\n",
       "      <td>Angela</td>\n",
       "      <td>Martin</td>\n",
       "      <td>1971-06-25</td>\n",
       "      <td>F</td>\n",
       "      <td>63000</td>\n",
       "      <td>NaN</td>\n",
       "      <td>2</td>\n",
       "    </tr>\n",
       "    <tr>\n",
       "      <th>3</th>\n",
       "      <td>104</td>\n",
       "      <td>Kelly</td>\n",
       "      <td>Kapoor</td>\n",
       "      <td>1980-02-05</td>\n",
       "      <td>F</td>\n",
       "      <td>55000</td>\n",
       "      <td>NaN</td>\n",
       "      <td>2</td>\n",
       "    </tr>\n",
       "    <tr>\n",
       "      <th>4</th>\n",
       "      <td>105</td>\n",
       "      <td>Stanley</td>\n",
       "      <td>Hudson</td>\n",
       "      <td>1958-02-19</td>\n",
       "      <td>M</td>\n",
       "      <td>69000</td>\n",
       "      <td>NaN</td>\n",
       "      <td>2</td>\n",
       "    </tr>\n",
       "    <tr>\n",
       "      <th>5</th>\n",
       "      <td>106</td>\n",
       "      <td>Josh</td>\n",
       "      <td>Porter</td>\n",
       "      <td>1969-09-05</td>\n",
       "      <td>M</td>\n",
       "      <td>78000</td>\n",
       "      <td>100.0</td>\n",
       "      <td>3</td>\n",
       "    </tr>\n",
       "    <tr>\n",
       "      <th>6</th>\n",
       "      <td>107</td>\n",
       "      <td>Andy</td>\n",
       "      <td>Bernard</td>\n",
       "      <td>1973-07-22</td>\n",
       "      <td>M</td>\n",
       "      <td>65000</td>\n",
       "      <td>106.0</td>\n",
       "      <td>3</td>\n",
       "    </tr>\n",
       "    <tr>\n",
       "      <th>7</th>\n",
       "      <td>108</td>\n",
       "      <td>Jim</td>\n",
       "      <td>Halpert</td>\n",
       "      <td>1978-10-01</td>\n",
       "      <td>M</td>\n",
       "      <td>71000</td>\n",
       "      <td>106.0</td>\n",
       "      <td>3</td>\n",
       "    </tr>\n",
       "    <tr>\n",
       "      <th>8</th>\n",
       "      <td>109</td>\n",
       "      <td>Oscar</td>\n",
       "      <td>Martinez</td>\n",
       "      <td>1968-02-19</td>\n",
       "      <td>M</td>\n",
       "      <td>69000</td>\n",
       "      <td>106.0</td>\n",
       "      <td>3</td>\n",
       "    </tr>\n",
       "    <tr>\n",
       "      <th>9</th>\n",
       "      <td>110</td>\n",
       "      <td>Oliver</td>\n",
       "      <td>Assie</td>\n",
       "      <td>1997-11-18</td>\n",
       "      <td>M</td>\n",
       "      <td>250000</td>\n",
       "      <td>106.0</td>\n",
       "      <td>3</td>\n",
       "    </tr>\n",
       "    <tr>\n",
       "      <th>10</th>\n",
       "      <td>111</td>\n",
       "      <td>Jackson</td>\n",
       "      <td>Brou</td>\n",
       "      <td>1995-11-11</td>\n",
       "      <td>M</td>\n",
       "      <td>250000</td>\n",
       "      <td>106.0</td>\n",
       "      <td>2</td>\n",
       "    </tr>\n",
       "    <tr>\n",
       "      <th>11</th>\n",
       "      <td>112</td>\n",
       "      <td>Yao</td>\n",
       "      <td>One love</td>\n",
       "      <td>1986-11-11</td>\n",
       "      <td>M</td>\n",
       "      <td>255000</td>\n",
       "      <td>106.0</td>\n",
       "      <td>3</td>\n",
       "    </tr>\n",
       "    <tr>\n",
       "      <th>12</th>\n",
       "      <td>113</td>\n",
       "      <td>Aya</td>\n",
       "      <td>One love</td>\n",
       "      <td>1994-11-11</td>\n",
       "      <td>F</td>\n",
       "      <td>255000</td>\n",
       "      <td>106.0</td>\n",
       "      <td>3</td>\n",
       "    </tr>\n",
       "    <tr>\n",
       "      <th>13</th>\n",
       "      <td>114</td>\n",
       "      <td>Sanogo</td>\n",
       "      <td>One love</td>\n",
       "      <td>1999-05-11</td>\n",
       "      <td>F</td>\n",
       "      <td>255000</td>\n",
       "      <td>106.0</td>\n",
       "      <td>2</td>\n",
       "    </tr>\n",
       "  </tbody>\n",
       "</table>\n",
       "</div>"
      ],
      "text/plain": [
       "    emp_id first_name last_name  birth_date sex  salary  super_id  branch_id\n",
       "0      100      David   wallace  1967-11-17   M  250000       NaN          1\n",
       "1      101        Jan   Levison  1961-05-11   F  110000     100.0          1\n",
       "2      103     Angela    Martin  1971-06-25   F   63000       NaN          2\n",
       "3      104      Kelly    Kapoor  1980-02-05   F   55000       NaN          2\n",
       "4      105    Stanley    Hudson  1958-02-19   M   69000       NaN          2\n",
       "5      106       Josh    Porter  1969-09-05   M   78000     100.0          3\n",
       "6      107       Andy   Bernard  1973-07-22   M   65000     106.0          3\n",
       "7      108        Jim   Halpert  1978-10-01   M   71000     106.0          3\n",
       "8      109      Oscar  Martinez  1968-02-19   M   69000     106.0          3\n",
       "9      110     Oliver     Assie  1997-11-18   M  250000     106.0          3\n",
       "10     111    Jackson      Brou  1995-11-11   M  250000     106.0          2\n",
       "11     112        Yao  One love  1986-11-11   M  255000     106.0          3\n",
       "12     113        Aya  One love  1994-11-11   F  255000     106.0          3\n",
       "13     114     Sanogo  One love  1999-05-11   F  255000     106.0          2"
      ]
     },
     "execution_count": 44,
     "metadata": {},
     "output_type": "execute_result"
    }
   ],
   "source": [
    "data"
   ]
  },
  {
   "cell_type": "code",
   "execution_count": 47,
   "metadata": {},
   "outputs": [],
   "source": [
    "names = data[['first_name','last_name']]"
   ]
  },
  {
   "cell_type": "code",
   "execution_count": 51,
   "metadata": {},
   "outputs": [
    {
     "data": {
      "text/plain": [
       "first_name      Sanogo\n",
       "last_name     One love\n",
       "Name: 13, dtype: object"
      ]
     },
     "execution_count": 51,
     "metadata": {},
     "output_type": "execute_result"
    }
   ],
   "source": [
    "names.loc[13]"
   ]
  },
  {
   "cell_type": "markdown",
   "metadata": {},
   "source": [
    "# How to see the __database infos__, tables and the diferents __constraints__ ???"
   ]
  },
  {
   "cell_type": "code",
   "execution_count": 52,
   "metadata": {},
   "outputs": [],
   "source": [
    "info = pd.read_sql_query('SHOW TABLES FROM girrafe',db)"
   ]
  },
  {
   "cell_type": "code",
   "execution_count": 53,
   "metadata": {},
   "outputs": [
    {
     "data": {
      "text/html": [
       "<div>\n",
       "<style scoped>\n",
       "    .dataframe tbody tr th:only-of-type {\n",
       "        vertical-align: middle;\n",
       "    }\n",
       "\n",
       "    .dataframe tbody tr th {\n",
       "        vertical-align: top;\n",
       "    }\n",
       "\n",
       "    .dataframe thead th {\n",
       "        text-align: right;\n",
       "    }\n",
       "</style>\n",
       "<table border=\"1\" class=\"dataframe\">\n",
       "  <thead>\n",
       "    <tr style=\"text-align: right;\">\n",
       "      <th></th>\n",
       "      <th>Tables_in_girrafe</th>\n",
       "    </tr>\n",
       "  </thead>\n",
       "  <tbody>\n",
       "    <tr>\n",
       "      <th>0</th>\n",
       "      <td>branch</td>\n",
       "    </tr>\n",
       "    <tr>\n",
       "      <th>1</th>\n",
       "      <td>branch_supplier</td>\n",
       "    </tr>\n",
       "    <tr>\n",
       "      <th>2</th>\n",
       "      <td>client</td>\n",
       "    </tr>\n",
       "    <tr>\n",
       "      <th>3</th>\n",
       "      <td>Employee</td>\n",
       "    </tr>\n",
       "    <tr>\n",
       "      <th>4</th>\n",
       "      <td>purchase</td>\n",
       "    </tr>\n",
       "    <tr>\n",
       "      <th>5</th>\n",
       "      <td>trigger_test</td>\n",
       "    </tr>\n",
       "    <tr>\n",
       "      <th>6</th>\n",
       "      <td>work_with</td>\n",
       "    </tr>\n",
       "  </tbody>\n",
       "</table>\n",
       "</div>"
      ],
      "text/plain": [
       "  Tables_in_girrafe\n",
       "0            branch\n",
       "1   branch_supplier\n",
       "2            client\n",
       "3          Employee\n",
       "4          purchase\n",
       "5      trigger_test\n",
       "6         work_with"
      ]
     },
     "execution_count": 53,
     "metadata": {},
     "output_type": "execute_result"
    }
   ],
   "source": [
    "info"
   ]
  },
  {
   "cell_type": "code",
   "execution_count": 54,
   "metadata": {},
   "outputs": [],
   "source": [
    "tables = info['Tables_in_girrafe']"
   ]
  },
  {
   "cell_type": "code",
   "execution_count": 59,
   "metadata": {},
   "outputs": [
    {
     "name": "stdout",
     "output_type": "stream",
     "text": [
      "branch\n",
      "            Field            Type Null  Key Default Extra\n",
      "0       branch_id          b'int'   NO  PRI    None      \n",
      "1     branch_name  b'varchar(40)'  YES         None      \n",
      "2          mgr_id          b'int'  YES  MUL    None      \n",
      "3  mgr_start_date         b'date'  YES         None       _______________ \n",
      "\n",
      "branch_supplier\n",
      "           Field            Type Null  Key Default Extra\n",
      "0      branch_id          b'int'   NO  PRI    None      \n",
      "1  supplier_name  b'varchar(40)'   NO  PRI    None      \n",
      "2    supply_type  b'varchar(40)'  YES         None       _______________ \n",
      "\n",
      "client\n",
      "         Field            Type Null  Key Default Extra\n",
      "0    client_id          b'int'   NO  PRI    None      \n",
      "1  client_name  b'varchar(40)'  YES         None      \n",
      "2    branch_id          b'int'  YES  MUL    None       _______________ \n",
      "\n",
      "Employee\n",
      "        Field            Type Null  Key Default Extra\n",
      "0      emp_id          b'int'   NO  PRI    None      \n",
      "1  first_name  b'varchar(40)'  YES         None      \n",
      "2   last_name  b'varchar(40)'  YES         None      \n",
      "3  birth_date         b'date'  YES         None      \n",
      "4         sex   b'varchar(1)'  YES         None      \n",
      "5      salary          b'int'  YES         None      \n",
      "6    super_id          b'int'  YES  MUL    None      \n",
      "7   branch_id          b'int'  YES  MUL    None       _______________ \n",
      "\n",
      "purchase\n",
      "              Field     Type Null Key Default Extra\n",
      "0                id   b'int'  YES        None      \n",
      "1  date_of_purchase  b'date'  YES        None       _______________ \n",
      "\n",
      "trigger_test\n",
      "     Field             Type Null Key Default Extra\n",
      "0  message  b'varchar(100)'  YES        None       _______________ \n",
      "\n",
      "work_with\n",
      "         Field    Type Null  Key Default Extra\n",
      "0       emp_id  b'int'   NO  PRI    None      \n",
      "1    client_id  b'int'   NO  PRI    None      \n",
      "2  total_sales  b'int'  YES         None       _______________ \n",
      "\n"
     ]
    }
   ],
   "source": [
    "for table_name in tables:\n",
    "    output = pd.read_sql_query('DESC {}'.format(table_name),db)\n",
    "    print(table_name)\n",
    "    print(output,'_'*15,'\\n')\n",
    "    \n",
    "    "
   ]
  },
  {
   "cell_type": "markdown",
   "metadata": {},
   "source": [
    "## Checking of employees Database"
   ]
  },
  {
   "cell_type": "code",
   "execution_count": 60,
   "metadata": {},
   "outputs": [],
   "source": [
    "import pandas as pd\n",
    "import numpy as np \n",
    "import mysql.connector as conn\n"
   ]
  },
  {
   "cell_type": "code",
   "execution_count": 61,
   "metadata": {},
   "outputs": [],
   "source": [
    "db = conn.connect(\n",
    "host ='localhost',\n",
    "user = 'root',    \n",
    "password = 'Assie@225',\n",
    "database = 'employees'    \n",
    ")"
   ]
  },
  {
   "cell_type": "code",
   "execution_count": 62,
   "metadata": {},
   "outputs": [],
   "source": [
    "my_cursor = db.cursor()"
   ]
  },
  {
   "cell_type": "code",
   "execution_count": 63,
   "metadata": {},
   "outputs": [],
   "source": [
    "my_cursor.execute('SHOW TABLES')"
   ]
  },
  {
   "cell_type": "code",
   "execution_count": 64,
   "metadata": {},
   "outputs": [
    {
     "name": "stdout",
     "output_type": "stream",
     "text": [
      "('current_dept_emp',)\n",
      "('departments',)\n",
      "('dept_emp',)\n",
      "('dept_emp_latest_date',)\n",
      "('dept_manager',)\n",
      "('employees',)\n",
      "('salaries',)\n",
      "('titles',)\n"
     ]
    }
   ],
   "source": [
    "for x in my_cursor:\n",
    "    print(x)"
   ]
  },
  {
   "cell_type": "markdown",
   "metadata": {},
   "source": [
    "### To see the  table __employees__ from __employees database__"
   ]
  },
  {
   "cell_type": "code",
   "execution_count": 69,
   "metadata": {},
   "outputs": [],
   "source": [
    "\n",
    "\n",
    "df = pd.read_sql_query('SELECT *FROM employees',db)"
   ]
  },
  {
   "cell_type": "code",
   "execution_count": 70,
   "metadata": {},
   "outputs": [
    {
     "data": {
      "text/html": [
       "<div>\n",
       "<style scoped>\n",
       "    .dataframe tbody tr th:only-of-type {\n",
       "        vertical-align: middle;\n",
       "    }\n",
       "\n",
       "    .dataframe tbody tr th {\n",
       "        vertical-align: top;\n",
       "    }\n",
       "\n",
       "    .dataframe thead th {\n",
       "        text-align: right;\n",
       "    }\n",
       "</style>\n",
       "<table border=\"1\" class=\"dataframe\">\n",
       "  <thead>\n",
       "    <tr style=\"text-align: right;\">\n",
       "      <th></th>\n",
       "      <th>emp_no</th>\n",
       "      <th>birth_date</th>\n",
       "      <th>first_name</th>\n",
       "      <th>last_name</th>\n",
       "      <th>gender</th>\n",
       "      <th>hire_date</th>\n",
       "    </tr>\n",
       "  </thead>\n",
       "  <tbody>\n",
       "    <tr>\n",
       "      <th>0</th>\n",
       "      <td>10001</td>\n",
       "      <td>1953-09-02</td>\n",
       "      <td>Georgi</td>\n",
       "      <td>Facello</td>\n",
       "      <td>M</td>\n",
       "      <td>1986-06-26</td>\n",
       "    </tr>\n",
       "    <tr>\n",
       "      <th>1</th>\n",
       "      <td>10002</td>\n",
       "      <td>1964-06-02</td>\n",
       "      <td>Bezalel</td>\n",
       "      <td>Simmel</td>\n",
       "      <td>F</td>\n",
       "      <td>1985-11-21</td>\n",
       "    </tr>\n",
       "    <tr>\n",
       "      <th>2</th>\n",
       "      <td>10003</td>\n",
       "      <td>1959-12-03</td>\n",
       "      <td>Parto</td>\n",
       "      <td>Bamford</td>\n",
       "      <td>M</td>\n",
       "      <td>1986-08-28</td>\n",
       "    </tr>\n",
       "    <tr>\n",
       "      <th>3</th>\n",
       "      <td>10004</td>\n",
       "      <td>1954-05-01</td>\n",
       "      <td>Chirstian</td>\n",
       "      <td>Koblick</td>\n",
       "      <td>M</td>\n",
       "      <td>1986-12-01</td>\n",
       "    </tr>\n",
       "    <tr>\n",
       "      <th>4</th>\n",
       "      <td>10005</td>\n",
       "      <td>1955-01-21</td>\n",
       "      <td>Kyoichi</td>\n",
       "      <td>Maliniak</td>\n",
       "      <td>M</td>\n",
       "      <td>1989-09-12</td>\n",
       "    </tr>\n",
       "    <tr>\n",
       "      <th>...</th>\n",
       "      <td>...</td>\n",
       "      <td>...</td>\n",
       "      <td>...</td>\n",
       "      <td>...</td>\n",
       "      <td>...</td>\n",
       "      <td>...</td>\n",
       "    </tr>\n",
       "    <tr>\n",
       "      <th>300019</th>\n",
       "      <td>499995</td>\n",
       "      <td>1958-09-24</td>\n",
       "      <td>Dekang</td>\n",
       "      <td>Lichtner</td>\n",
       "      <td>F</td>\n",
       "      <td>1993-01-12</td>\n",
       "    </tr>\n",
       "    <tr>\n",
       "      <th>300020</th>\n",
       "      <td>499996</td>\n",
       "      <td>1953-03-07</td>\n",
       "      <td>Zito</td>\n",
       "      <td>Baaz</td>\n",
       "      <td>M</td>\n",
       "      <td>1990-09-27</td>\n",
       "    </tr>\n",
       "    <tr>\n",
       "      <th>300021</th>\n",
       "      <td>499997</td>\n",
       "      <td>1961-08-03</td>\n",
       "      <td>Berhard</td>\n",
       "      <td>Lenart</td>\n",
       "      <td>M</td>\n",
       "      <td>1986-04-21</td>\n",
       "    </tr>\n",
       "    <tr>\n",
       "      <th>300022</th>\n",
       "      <td>499998</td>\n",
       "      <td>1956-09-05</td>\n",
       "      <td>Patricia</td>\n",
       "      <td>Breugel</td>\n",
       "      <td>M</td>\n",
       "      <td>1993-10-13</td>\n",
       "    </tr>\n",
       "    <tr>\n",
       "      <th>300023</th>\n",
       "      <td>499999</td>\n",
       "      <td>1958-05-01</td>\n",
       "      <td>Sachin</td>\n",
       "      <td>Tsukuda</td>\n",
       "      <td>M</td>\n",
       "      <td>1997-11-30</td>\n",
       "    </tr>\n",
       "  </tbody>\n",
       "</table>\n",
       "<p>300024 rows × 6 columns</p>\n",
       "</div>"
      ],
      "text/plain": [
       "        emp_no  birth_date first_name last_name gender   hire_date\n",
       "0        10001  1953-09-02     Georgi   Facello      M  1986-06-26\n",
       "1        10002  1964-06-02    Bezalel    Simmel      F  1985-11-21\n",
       "2        10003  1959-12-03      Parto   Bamford      M  1986-08-28\n",
       "3        10004  1954-05-01  Chirstian   Koblick      M  1986-12-01\n",
       "4        10005  1955-01-21    Kyoichi  Maliniak      M  1989-09-12\n",
       "...        ...         ...        ...       ...    ...         ...\n",
       "300019  499995  1958-09-24     Dekang  Lichtner      F  1993-01-12\n",
       "300020  499996  1953-03-07       Zito      Baaz      M  1990-09-27\n",
       "300021  499997  1961-08-03    Berhard    Lenart      M  1986-04-21\n",
       "300022  499998  1956-09-05   Patricia   Breugel      M  1993-10-13\n",
       "300023  499999  1958-05-01     Sachin   Tsukuda      M  1997-11-30\n",
       "\n",
       "[300024 rows x 6 columns]"
      ]
     },
     "execution_count": 70,
     "metadata": {},
     "output_type": "execute_result"
    }
   ],
   "source": [
    "df"
   ]
  },
  {
   "cell_type": "code",
   "execution_count": 71,
   "metadata": {},
   "outputs": [],
   "source": [
    "employees_names = df[['first_name','last_name']]"
   ]
  },
  {
   "cell_type": "code",
   "execution_count": 72,
   "metadata": {},
   "outputs": [
    {
     "data": {
      "text/html": [
       "<div>\n",
       "<style scoped>\n",
       "    .dataframe tbody tr th:only-of-type {\n",
       "        vertical-align: middle;\n",
       "    }\n",
       "\n",
       "    .dataframe tbody tr th {\n",
       "        vertical-align: top;\n",
       "    }\n",
       "\n",
       "    .dataframe thead th {\n",
       "        text-align: right;\n",
       "    }\n",
       "</style>\n",
       "<table border=\"1\" class=\"dataframe\">\n",
       "  <thead>\n",
       "    <tr style=\"text-align: right;\">\n",
       "      <th></th>\n",
       "      <th>first_name</th>\n",
       "      <th>last_name</th>\n",
       "    </tr>\n",
       "  </thead>\n",
       "  <tbody>\n",
       "    <tr>\n",
       "      <th>0</th>\n",
       "      <td>Georgi</td>\n",
       "      <td>Facello</td>\n",
       "    </tr>\n",
       "    <tr>\n",
       "      <th>1</th>\n",
       "      <td>Bezalel</td>\n",
       "      <td>Simmel</td>\n",
       "    </tr>\n",
       "    <tr>\n",
       "      <th>2</th>\n",
       "      <td>Parto</td>\n",
       "      <td>Bamford</td>\n",
       "    </tr>\n",
       "    <tr>\n",
       "      <th>3</th>\n",
       "      <td>Chirstian</td>\n",
       "      <td>Koblick</td>\n",
       "    </tr>\n",
       "    <tr>\n",
       "      <th>4</th>\n",
       "      <td>Kyoichi</td>\n",
       "      <td>Maliniak</td>\n",
       "    </tr>\n",
       "    <tr>\n",
       "      <th>...</th>\n",
       "      <td>...</td>\n",
       "      <td>...</td>\n",
       "    </tr>\n",
       "    <tr>\n",
       "      <th>300019</th>\n",
       "      <td>Dekang</td>\n",
       "      <td>Lichtner</td>\n",
       "    </tr>\n",
       "    <tr>\n",
       "      <th>300020</th>\n",
       "      <td>Zito</td>\n",
       "      <td>Baaz</td>\n",
       "    </tr>\n",
       "    <tr>\n",
       "      <th>300021</th>\n",
       "      <td>Berhard</td>\n",
       "      <td>Lenart</td>\n",
       "    </tr>\n",
       "    <tr>\n",
       "      <th>300022</th>\n",
       "      <td>Patricia</td>\n",
       "      <td>Breugel</td>\n",
       "    </tr>\n",
       "    <tr>\n",
       "      <th>300023</th>\n",
       "      <td>Sachin</td>\n",
       "      <td>Tsukuda</td>\n",
       "    </tr>\n",
       "  </tbody>\n",
       "</table>\n",
       "<p>300024 rows × 2 columns</p>\n",
       "</div>"
      ],
      "text/plain": [
       "       first_name last_name\n",
       "0          Georgi   Facello\n",
       "1         Bezalel    Simmel\n",
       "2           Parto   Bamford\n",
       "3       Chirstian   Koblick\n",
       "4         Kyoichi  Maliniak\n",
       "...           ...       ...\n",
       "300019     Dekang  Lichtner\n",
       "300020       Zito      Baaz\n",
       "300021    Berhard    Lenart\n",
       "300022   Patricia   Breugel\n",
       "300023     Sachin   Tsukuda\n",
       "\n",
       "[300024 rows x 2 columns]"
      ]
     },
     "execution_count": 72,
     "metadata": {},
     "output_type": "execute_result"
    }
   ],
   "source": [
    "employees_names"
   ]
  },
  {
   "cell_type": "code",
   "execution_count": 74,
   "metadata": {},
   "outputs": [],
   "source": [
    "## employees_names.to_csv('employees_names.csv')"
   ]
  },
  {
   "cell_type": "markdown",
   "metadata": {},
   "source": [
    "## How to check the database structure"
   ]
  },
  {
   "cell_type": "markdown",
   "metadata": {},
   "source": [
    "## To see all the  __tables__  from employees database and more __details__ about their __structures__"
   ]
  },
  {
   "cell_type": "code",
   "execution_count": 76,
   "metadata": {},
   "outputs": [],
   "source": [
    "info1 = pd.read_sql_query('SHOW TABLES FROM employees',db)"
   ]
  },
  {
   "cell_type": "code",
   "execution_count": 77,
   "metadata": {},
   "outputs": [
    {
     "data": {
      "text/html": [
       "<div>\n",
       "<style scoped>\n",
       "    .dataframe tbody tr th:only-of-type {\n",
       "        vertical-align: middle;\n",
       "    }\n",
       "\n",
       "    .dataframe tbody tr th {\n",
       "        vertical-align: top;\n",
       "    }\n",
       "\n",
       "    .dataframe thead th {\n",
       "        text-align: right;\n",
       "    }\n",
       "</style>\n",
       "<table border=\"1\" class=\"dataframe\">\n",
       "  <thead>\n",
       "    <tr style=\"text-align: right;\">\n",
       "      <th></th>\n",
       "      <th>Tables_in_employees</th>\n",
       "    </tr>\n",
       "  </thead>\n",
       "  <tbody>\n",
       "    <tr>\n",
       "      <th>0</th>\n",
       "      <td>current_dept_emp</td>\n",
       "    </tr>\n",
       "    <tr>\n",
       "      <th>1</th>\n",
       "      <td>departments</td>\n",
       "    </tr>\n",
       "    <tr>\n",
       "      <th>2</th>\n",
       "      <td>dept_emp</td>\n",
       "    </tr>\n",
       "    <tr>\n",
       "      <th>3</th>\n",
       "      <td>dept_emp_latest_date</td>\n",
       "    </tr>\n",
       "    <tr>\n",
       "      <th>4</th>\n",
       "      <td>dept_manager</td>\n",
       "    </tr>\n",
       "    <tr>\n",
       "      <th>5</th>\n",
       "      <td>employees</td>\n",
       "    </tr>\n",
       "    <tr>\n",
       "      <th>6</th>\n",
       "      <td>salaries</td>\n",
       "    </tr>\n",
       "    <tr>\n",
       "      <th>7</th>\n",
       "      <td>titles</td>\n",
       "    </tr>\n",
       "  </tbody>\n",
       "</table>\n",
       "</div>"
      ],
      "text/plain": [
       "    Tables_in_employees\n",
       "0      current_dept_emp\n",
       "1           departments\n",
       "2              dept_emp\n",
       "3  dept_emp_latest_date\n",
       "4          dept_manager\n",
       "5             employees\n",
       "6              salaries\n",
       "7                titles"
      ]
     },
     "execution_count": 77,
     "metadata": {},
     "output_type": "execute_result"
    }
   ],
   "source": [
    "info1"
   ]
  },
  {
   "cell_type": "code",
   "execution_count": 78,
   "metadata": {},
   "outputs": [],
   "source": [
    "tables = info1['Tables_in_employees']"
   ]
  },
  {
   "cell_type": "code",
   "execution_count": 79,
   "metadata": {},
   "outputs": [
    {
     "name": "stdout",
     "output_type": "stream",
     "text": [
      "current_dept_emp\n",
      "       Field        Type Null Key Default Extra\n",
      "0     emp_no      b'int'   NO        None      \n",
      "1    dept_no  b'char(4)'   NO        None      \n",
      "2  from_date     b'date'  YES        None      \n",
      "3    to_date     b'date'  YES        None       \n",
      "\n",
      "departments\n",
      "       Field            Type Null  Key Default Extra\n",
      "0    dept_no      b'char(4)'   NO  PRI    None      \n",
      "1  dept_name  b'varchar(40)'   NO  UNI    None       \n",
      "\n",
      "dept_emp\n",
      "       Field        Type Null  Key Default Extra\n",
      "0     emp_no      b'int'   NO  PRI    None      \n",
      "1    dept_no  b'char(4)'   NO  PRI    None      \n",
      "2  from_date     b'date'   NO         None      \n",
      "3    to_date     b'date'   NO         None       \n",
      "\n",
      "dept_emp_latest_date\n",
      "       Field     Type Null Key Default Extra\n",
      "0     emp_no   b'int'   NO        None      \n",
      "1  from_date  b'date'  YES        None      \n",
      "2    to_date  b'date'  YES        None       \n",
      "\n",
      "dept_manager\n",
      "       Field        Type Null  Key Default Extra\n",
      "0     emp_no      b'int'   NO  PRI    None      \n",
      "1    dept_no  b'char(4)'   NO  PRI    None      \n",
      "2  from_date     b'date'   NO         None      \n",
      "3    to_date     b'date'   NO         None       \n",
      "\n",
      "employees\n",
      "        Field              Type Null  Key Default Extra\n",
      "0      emp_no            b'int'   NO  PRI    None      \n",
      "1  birth_date           b'date'   NO         None      \n",
      "2  first_name    b'varchar(14)'   NO         None      \n",
      "3   last_name    b'varchar(16)'   NO         None      \n",
      "4      gender  b\"enum('M','F')\"   NO         None      \n",
      "5   hire_date           b'date'   NO         None       \n",
      "\n",
      "salaries\n",
      "       Field     Type Null  Key Default Extra\n",
      "0     emp_no   b'int'   NO  PRI    None      \n",
      "1     salary   b'int'   NO         None      \n",
      "2  from_date  b'date'   NO  PRI    None      \n",
      "3    to_date  b'date'   NO         None       \n",
      "\n",
      "titles\n",
      "       Field            Type Null  Key Default Extra\n",
      "0     emp_no          b'int'   NO  PRI    None      \n",
      "1      title  b'varchar(50)'   NO  PRI    None      \n",
      "2  from_date         b'date'   NO  PRI    None      \n",
      "3    to_date         b'date'  YES         None       \n",
      "\n"
     ]
    }
   ],
   "source": [
    "for table in tables:\n",
    "    output = pd.read_sql_query('DESC {}'.format(table),db)\n",
    "    print(table)\n",
    "    print(output,'\\n')"
   ]
  },
  {
   "cell_type": "code",
   "execution_count": 80,
   "metadata": {},
   "outputs": [
    {
     "data": {
      "text/plain": [
       "'/Users/olivierla412/projects/DataTrained_live_classes'"
      ]
     },
     "execution_count": 80,
     "metadata": {},
     "output_type": "execute_result"
    }
   ],
   "source": [
    "pwd"
   ]
  },
  {
   "cell_type": "code",
   "execution_count": null,
   "metadata": {},
   "outputs": [],
   "source": []
  }
 ],
 "metadata": {
  "kernelspec": {
   "display_name": "Python 3",
   "language": "python",
   "name": "python3"
  },
  "language_info": {
   "codemirror_mode": {
    "name": "ipython",
    "version": 3
   },
   "file_extension": ".py",
   "mimetype": "text/x-python",
   "name": "python",
   "nbconvert_exporter": "python",
   "pygments_lexer": "ipython3",
   "version": "3.8.5"
  }
 },
 "nbformat": 4,
 "nbformat_minor": 4
}
